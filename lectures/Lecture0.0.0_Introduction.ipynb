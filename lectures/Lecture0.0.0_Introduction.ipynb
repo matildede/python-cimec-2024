{
 "cells": [
  {
   "cell_type": "markdown",
   "id": "3ca811a3",
   "metadata": {
    "slideshow": {
     "slide_type": "slide"
    }
   },
   "source": [
    "# Python for (open) Neuroscience\n",
    "\n",
    "_Lecture 0.0.0 - Introduction to Python_\n",
    "\n",
    "Luigi Petrucco\n",
    "\n",
    "\n",
    "[![Open In Colab](https://colab.research.google.com/assets/colab-badge.svg)](https://colab.research.google.com/github/vigji/python-cimec-2024/blob/main/lectures/Lecture0.0.0_Introduction.ipynb)"
   ]
  },
  {
   "cell_type": "markdown",
   "id": "3cfa89e7-b2c6-4e1c-9bfc-fd88c9345c89",
   "metadata": {
    "slideshow": {
     "slide_type": "slide"
    }
   },
   "source": [
    "## Lecture outline\n",
    "\n",
    " - Course organization business\n",
    " - General introduction to Python\n",
    " - Introduction to Python syntax\n",
    " - Variables and types"
   ]
  },
  {
   "cell_type": "markdown",
   "id": "d33a7319",
   "metadata": {
    "slideshow": {
     "slide_type": "subslide"
    }
   },
   "source": [
    "## Teaching Assistants\n",
    "\n",
    "Colleagues and course _alumni_ will help me with the course!"
   ]
  },
  {
   "cell_type": "markdown",
   "id": "48d7cc3d",
   "metadata": {
    "slideshow": {
     "slide_type": "subslide"
    }
   },
   "source": [
    "My gratitude in advance to:\n",
    "- Jean-Charles Mariani _aka_ JC\n",
    "- Luca Betteto\n",
    "- Matteo De Matola\n",
    "- Silvia Gini\n",
    "- Martina Mancano\n",
    "- Matilde Perrino"
   ]
  },
  {
   "cell_type": "markdown",
   "id": "7f2385ea",
   "metadata": {
    "slideshow": {
     "slide_type": "subslide"
    }
   },
   "source": [
    "### Time and location\n",
    "\n",
    "**Time**: \n",
    " - Always current time unless someone would like to shift\n",
    " - Let me know if you have PhD school-related issues!"
   ]
  },
  {
   "cell_type": "markdown",
   "id": "7ebd7e83",
   "metadata": {
    "slideshow": {
     "slide_type": "subslide"
    }
   },
   "source": [
    "**Location:**\n",
    "- This hall for all the frontal lectures\n",
    "- Manifattura for the \"office hours\" at the end of each module"
   ]
  },
  {
   "cell_type": "markdown",
   "id": "ad9d1b9e",
   "metadata": {
    "slideshow": {
     "slide_type": "subslide"
    }
   },
   "source": [
    "### Material and platforms\n",
    "\n",
    "- Material (lectures, exercises...) will always be accessible at https://github.com/vigji/python-cimec-2024\n",
    "\n",
    "- Lectures material and assignments will be in the form of Jupyter Notebooks"
   ]
  },
  {
   "cell_type": "markdown",
   "id": "5874733e",
   "metadata": {
    "slideshow": {
     "slide_type": "subslide"
    }
   },
   "source": [
    "**Platforms:**\n",
    "- **Google Colab** for the first part (online, no installation required)\n",
    "- **Local Python installation** for the second part (you'll get instructions)"
   ]
  },
  {
   "cell_type": "markdown",
   "id": "385e7154",
   "metadata": {
    "slideshow": {
     "slide_type": "subslide"
    }
   },
   "source": [
    "**Required accounts:**\n",
    "- **Google** account for Google Colab\n",
    "- **GitHub** account for exercises \n",
    "\n",
    "...a chat? Whatsapp group?"
   ]
  },
  {
   "cell_type": "markdown",
   "id": "2401af6e",
   "metadata": {
    "slideshow": {
     "slide_type": "subslide"
    }
   },
   "source": [
    "### Course organization\n",
    "\n",
    "- The course will be organized in four modules. \n",
    "- Each module: 4-5 x lectures (2h) and 1 x office hours (2h)\n",
    "- Each lecture: frontal lecture + hands-on (peer) coding"
   ]
  },
  {
   "cell_type": "markdown",
   "id": "00bef00f",
   "metadata": {
    "slideshow": {
     "slide_type": "subslide"
    }
   },
   "source": [
    "### Syllabus"
   ]
  },
  {
   "cell_type": "markdown",
   "id": "09c00aaf",
   "metadata": {},
   "source": [
    "Full syllabus at https://github.com/vigji/python-cimec-2024\n",
    "\n",
    "- module 0: the fundamentals\n",
    "- module 1: the scientific stack\n",
    "- module 2: Python for neuroscientific data\n",
    "- module 3: optional lectures on different topics based on interest"
   ]
  },
  {
   "cell_type": "code",
   "execution_count": null,
   "id": "6ab84204",
   "metadata": {
    "slideshow": {
     "slide_type": "subslide"
    },
    "tags": []
   },
   "outputs": [],
   "source": [
    "from matplotlib import pyplot as plt\n",
    "import pandas as pd\n",
    "\n",
    "df = pd.read_csv(\"files/questionnaire2024.csv\")  # read file\n",
    "\n",
    "choices = df[\"I would really like to learn how to...(max 3 answers)\"]\n",
    "answers_counts = pd.Series(\";\".join(choices).split(\";\")).value_counts()  \n",
    "plt.figure()\n",
    "answers_counts.plot(legend=False, kind=\"barh\", figsize=(25, 16), fontsize=50)\n",
    "plt.show()"
   ]
  },
  {
   "cell_type": "markdown",
   "id": "b3f17973",
   "metadata": {
    "slideshow": {
     "slide_type": "subslide"
    }
   },
   "source": [
    "**Assignments**:\n",
    "- Short assignments at the end of each module (coding exercises)\n",
    "- Final assignment: real-world project using Python for your work"
   ]
  },
  {
   "cell_type": "markdown",
   "id": "ed2055f2",
   "metadata": {
    "slideshow": {
     "slide_type": "slide"
    }
   },
   "source": [
    "### Goals of the course"
   ]
  },
  {
   "cell_type": "markdown",
   "id": "3fd10467",
   "metadata": {
    "slideshow": {
     "slide_type": "fragment"
    }
   },
   "source": [
    "Learn the basics of Python - lingo and conceptual framework more than memorizing syntax!"
   ]
  },
  {
   "cell_type": "markdown",
   "id": "168b642e",
   "metadata": {
    "slideshow": {
     "slide_type": "fragment"
    }
   },
   "source": [
    "You won't know everything but you'll now how to keep learning"
   ]
  },
  {
   "cell_type": "markdown",
   "id": "8d6cafee",
   "metadata": {
    "slideshow": {
     "slide_type": "fragment"
    }
   },
   "source": [
    "Ideally, develop a bit of taste for coding!"
   ]
  },
  {
   "cell_type": "markdown",
   "id": "751bc535",
   "metadata": {
    "slideshow": {
     "slide_type": "subslide"
    }
   },
   "source": [
    "### From zero to hero"
   ]
  },
  {
   "cell_type": "markdown",
   "id": "7a544831",
   "metadata": {
    "slideshow": {
     "slide_type": "fragment"
    }
   },
   "source": [
    "My aim to to get you to a point where you can start moving your analysis to Python"
   ]
  },
  {
   "cell_type": "markdown",
   "id": "7bdf05ae",
   "metadata": {
    "slideshow": {
     "slide_type": "slide"
    }
   },
   "source": [
    "### Feedback"
   ]
  },
  {
   "cell_type": "markdown",
   "id": "c8102a86",
   "metadata": {
    "slideshow": {
     "slide_type": "fragment"
    }
   },
   "source": [
    "- Bored faces will be monitored in real time"
   ]
  },
  {
   "cell_type": "markdown",
   "id": "1690ad67",
   "metadata": {
    "slideshow": {
     "slide_type": "fragment"
    }
   },
   "source": [
    "- There will be a brief mid-course anonymous questionnaire"
   ]
  },
  {
   "cell_type": "markdown",
   "id": "86b37dc1",
   "metadata": {
    "slideshow": {
     "slide_type": "fragment"
    }
   },
   "source": [
    "- But feedbacks and suggestions are welcome any time!"
   ]
  },
  {
   "cell_type": "markdown",
   "id": "84cc4173",
   "metadata": {
    "slideshow": {
     "slide_type": "slide"
    }
   },
   "source": [
    "### Students starting levels"
   ]
  },
  {
   "cell_type": "code",
   "execution_count": null,
   "id": "3a018de5",
   "metadata": {},
   "outputs": [],
   "source": [
    "n_students = len(df)\n",
    "n_neophytes = sum(df[\"Experience with Python:\"] == \"I do not know anything about Python\")\n",
    "answers_counts = pd.Series(dict(n_experienced=n_students-n_neophytes, n_neophytes=n_neophytes))\n",
    "\n",
    "plt.figure()\n",
    "answers_counts.plot(legend=False, kind=\"barh\", figsize=(10, 2), fontsize=20)\n",
    "plt.show()"
   ]
  },
  {
   "cell_type": "markdown",
   "id": "e3f7b2d6",
   "metadata": {
    "slideshow": {
     "slide_type": "slide"
    }
   },
   "source": [
    "We will try to go slowly - if you don't understand something, it's likely my fault  🦥"
   ]
  },
  {
   "cell_type": "markdown",
   "id": "5d62c0d9",
   "metadata": {
    "slideshow": {
     "slide_type": "fragment"
    }
   },
   "source": [
    "Please help me and ask!"
   ]
  },
  {
   "cell_type": "markdown",
   "id": "acaa449c",
   "metadata": {
    "slideshow": {
     "slide_type": "slide"
    }
   },
   "source": [
    "And now, without further ado..\n"
   ]
  },
  {
   "cell_type": "markdown",
   "id": "b843c90a",
   "metadata": {
    "slideshow": {
     "slide_type": "fragment"
    }
   },
   "source": [
    "...What is Python?"
   ]
  },
  {
   "cell_type": "markdown",
   "id": "2f490e6e",
   "metadata": {
    "slideshow": {
     "slide_type": "slide"
    }
   },
   "source": [
    "### Python"
   ]
  },
  {
   "cell_type": "markdown",
   "id": "66f9b668",
   "metadata": {
    "slideshow": {
     "slide_type": "fragment"
    }
   },
   "source": [
    "<span style=\"color:indianred\">General purpose</span>, <span style=\"color:indianred\">high level</span> programming language  "
   ]
  },
  {
   "cell_type": "markdown",
   "id": "faad84c7",
   "metadata": {
    "slideshow": {
     "slide_type": "fragment"
    }
   },
   "source": [
    "Created in the early '90s by Guido van Rossum"
   ]
  },
  {
   "cell_type": "markdown",
   "id": "9e72589c",
   "metadata": {
    "slideshow": {
     "slide_type": "fragment"
    }
   },
   "source": [
    "Open-source + wide adoption --> massive number of open-source libraries"
   ]
  },
  {
   "cell_type": "markdown",
   "id": "d447595d",
   "metadata": {
    "cell_style": "split",
    "slideshow": {
     "slide_type": "slide"
    }
   },
   "source": [
    "Named after the Monty Python's Flying Circus British TV show (not the animal)"
   ]
  },
  {
   "cell_type": "markdown",
   "id": "6e5d34fc",
   "metadata": {
    "cell_style": "split"
   },
   "source": [
    "![Monty Python meme](https://media.giphy.com/media/TVupcr33Jpg7C/giphy.gif)"
   ]
  },
  {
   "cell_type": "markdown",
   "id": "41f08dd0",
   "metadata": {
    "slideshow": {
     "slide_type": "subslide"
    }
   },
   "source": [
    "### General purpose language\n",
    "\n",
    "- wide range of applications (science, web, desktop applications, games, business...)\n",
    "- support object-oriented programming, but also functional programming (arcane words that will soon make sense)\n",
    "- used literally anywhere: Google, NASA, Meta, Reddit, Netflix, JP Morgan, Pixar..."
   ]
  },
  {
   "cell_type": "markdown",
   "id": "02e0faf2",
   "metadata": {
    "slideshow": {
     "slide_type": "subslide"
    }
   },
   "source": [
    "### High level language\n",
    "\n",
    "- Python (like MATLAB or R) is an <span style=\"color:indianred\">interpreted language</span>\n",
    "- Opposed to e.g. C, which is a <span style=\"color:indianred\">compiled language</span>"
   ]
  },
  {
   "cell_type": "markdown",
   "id": "f35cbef8",
   "metadata": {
    "slideshow": {
     "slide_type": "subslide"
    }
   },
   "source": [
    "**Compiled language**: all the instructions of the program are translated in assembly code (the computer language) before usage\n",
    " - slow to compile, but fast to run\n",
    " - generally, less user-friendly and harder to debug\n",
    " - code has to be compiled on every different machine"
   ]
  },
  {
   "cell_type": "markdown",
   "id": "565fb5cd",
   "metadata": {
    "slideshow": {
     "slide_type": "subslide"
    }
   },
   "source": [
    "**Interpreted language**: each line of code is sent to an <span style=\"color:indianred\">interpreter</span> that send instructions to the processor (using compiled code) and gives the response back\n",
    " - much slower than compiled code\n",
    " - user friendly and easier to interact with\n",
    " - code works across platforms"
   ]
  },
  {
   "cell_type": "markdown",
   "id": "db139813",
   "metadata": {
    "slideshow": {
     "slide_type": "subslide"
    }
   },
   "source": [
    "### Massive number of packages"
   ]
  },
  {
   "cell_type": "markdown",
   "id": "50c7353e",
   "metadata": {},
   "source": [
    " - very large (and quite geek) community\n",
    " - literally tens of thousands of packages to do pretty much anything..."
   ]
  },
  {
   "cell_type": "markdown",
   "id": "7de1ee3a",
   "metadata": {
    "slideshow": {
     "slide_type": "subslide"
    }
   },
   "source": [
    "...included plotting geek comics:"
   ]
  },
  {
   "cell_type": "code",
   "execution_count": null,
   "id": "f1fb662c",
   "metadata": {
    "slideshow": {
     "slide_type": "fragment"
    }
   },
   "outputs": [],
   "source": [
    "# Show geek comics:\n",
    "import xkcd\n",
    "from imageio.v2 import imread\n",
    "from matplotlib import pyplot as plt\n",
    "\n",
    "link = xkcd.Comic(353).getImageLink()  # get image link from number\n",
    "plt.figure(figsize=(4, 4))  # plot image\n",
    "plt.imshow(imread(link), cmap=\"gray\")\n",
    "plt.show()"
   ]
  },
  {
   "cell_type": "markdown",
   "id": "f91e8d85",
   "metadata": {
    "slideshow": {
     "slide_type": "subslide"
    }
   },
   "source": [
    "### Comparison with R and MATLAB"
   ]
  },
  {
   "cell_type": "markdown",
   "id": "9a445581-a68b-472b-b7ad-cffac1da3247",
   "metadata": {
    "cell_style": "center",
    "slideshow": {
     "slide_type": "fragment"
    }
   },
   "source": [
    "**MATLAB**:\n",
    " - heavily engineering-oriented in the original design\n",
    " - much more focused on efficient numerical computation than statistics (eg, no smart data structures)\n",
    " - less versioning problems, but also never evolving\n",
    " - **not open-source**!"
   ]
  },
  {
   "cell_type": "markdown",
   "id": "dd99afb0",
   "metadata": {
    "slideshow": {
     "slide_type": "subslide"
    }
   },
   "source": [
    "**R**:\n",
    " - have not really tried, so can't speak too much\n",
    " - overall, more focused on statistics: very good libraries for statistical models, Bayesian analyses, bioinformatics...\n",
    " - more restricted in scope than Python"
   ]
  },
  {
   "cell_type": "markdown",
   "id": "2d3b9b57",
   "metadata": {
    "slideshow": {
     "slide_type": "subslide"
    }
   },
   "source": [
    "### Python: a _lingua franca_"
   ]
  },
  {
   "cell_type": "markdown",
   "id": "2c7c35aa",
   "metadata": {
    "slideshow": {
     "slide_type": "fragment"
    }
   },
   "source": [
    "As of 2023 Python can be considered the English of programming languages"
   ]
  },
  {
   "cell_type": "markdown",
   "id": "e8f301e2",
   "metadata": {
    "slideshow": {
     "slide_type": "fragment"
    }
   },
   "source": [
    "You can get pretty much everywhere around computers just talking Python!"
   ]
  },
  {
   "cell_type": "markdown",
   "id": "14e2f2d1",
   "metadata": {
    "slideshow": {
     "slide_type": "subslide"
    }
   },
   "source": [
    "### An additional Python strength: APIs"
   ]
  },
  {
   "cell_type": "markdown",
   "id": "3af06722",
   "metadata": {
    "slideshow": {
     "slide_type": "fragment"
    }
   },
   "source": [
    "Many, many tools and websites offer Python <span style=\"color:indianred\">APIs</span> (Application Programming Interfaces). With APIs we can:\n",
    " - download data from servers\n",
    " - publish content online\n",
    " - interact with other software / databases in our lab\n",
    " - build programs that do things in the world (read frames from cameras/sensors, control hardware, etc.)"
   ]
  },
  {
   "cell_type": "markdown",
   "id": "c7ee36f1",
   "metadata": {
    "slideshow": {
     "slide_type": "subslide"
    }
   },
   "source": [
    "A small example:"
   ]
  },
  {
   "cell_type": "code",
   "execution_count": null,
   "id": "55aa21ea",
   "metadata": {},
   "outputs": [],
   "source": [
    "import wikipedia\n",
    "\n",
    "wikipedia.summary(\"Rovereto\", sentences=1)"
   ]
  },
  {
   "cell_type": "markdown",
   "id": "3e9ea431",
   "metadata": {
    "slideshow": {
     "slide_type": "subslide"
    }
   },
   "source": [
    "`⚠️ Wildly speculative ⚠️`"
   ]
  },
  {
   "cell_type": "markdown",
   "id": "1e662c63",
   "metadata": {
    "slideshow": {
     "slide_type": "-"
    }
   },
   "source": [
    "With the advent of language models and code generators, this could become increasingly important in the future!"
   ]
  },
  {
   "cell_type": "markdown",
   "id": "e9d9ef53",
   "metadata": {
    "slideshow": {
     "slide_type": "subslide"
    }
   },
   "source": [
    "Eg, great integration of OpenAI models such as GPT within Python:"
   ]
  },
  {
   "cell_type": "code",
   "execution_count": null,
   "id": "ef585358",
   "metadata": {},
   "outputs": [],
   "source": [
    "import openai\n",
    "\n",
    "openai.api_key_path = \"/Users/vigji/openai.txt\"  # works only with OpenAI credentials\n",
    "\n",
    "messages = [\n",
    "    {\n",
    "        \"role\": \"user\",\n",
    "        \"content\": \"Send a small limerick to a class starting a Python course\",\n",
    "    }\n",
    "]\n",
    "\n",
    "response = openai.ChatCompletion.create(\n",
    "    model=\"gpt-3.5-turbo\", max_tokens=40, temperature=1.2, messages=messages\n",
    ")[\"choices\"][0][\"message\"][\"content\"]\n",
    "print(response)"
   ]
  },
  {
   "cell_type": "markdown",
   "id": "da46f405",
   "metadata": {
    "slideshow": {
     "slide_type": "subslide"
    }
   },
   "source": [
    "### The phylosophy of Python"
   ]
  },
  {
   "cell_type": "markdown",
   "id": "b03f5217",
   "metadata": {
    "slideshow": {
     "slide_type": "fragment"
    }
   },
   "source": [
    "Around the Python community there are many (weird people) computer scientists and an interesting aesthetics. There is a  <span style=\"color:indianred\">pythonic</span> way of approaching problems."
   ]
  },
  {
   "cell_type": "markdown",
   "id": "f6b8b78b",
   "metadata": {
    "slideshow": {
     "slide_type": "fragment"
    }
   },
   "source": [
    "Difficoult to express rationally and takes time to be learned - but gives an additional layer or reward!"
   ]
  },
  {
   "cell_type": "markdown",
   "id": "c27d1990",
   "metadata": {
    "slideshow": {
     "slide_type": "subslide"
    }
   },
   "source": [
    "### The Zen of Python"
   ]
  },
  {
   "cell_type": "code",
   "execution_count": null,
   "id": "69f7301a",
   "metadata": {
    "slideshow": {
     "slide_type": "fragment"
    }
   },
   "outputs": [],
   "source": [
    "import this"
   ]
  },
  {
   "cell_type": "code",
   "execution_count": null,
   "id": "42a3d759",
   "metadata": {
    "slideshow": {
     "slide_type": "subslide"
    }
   },
   "outputs": [],
   "source": []
  }
 ],
 "metadata": {
  "celltoolbar": "Slideshow",
  "kernelspec": {
   "display_name": "course-env",
   "language": "python",
   "name": "course-env"
  },
  "language_info": {
   "codemirror_mode": {
    "name": "ipython",
    "version": 3
   },
   "file_extension": ".py",
   "mimetype": "text/x-python",
   "name": "python",
   "nbconvert_exporter": "python",
   "pygments_lexer": "ipython3",
   "version": "3.10.13"
  }
 },
 "nbformat": 4,
 "nbformat_minor": 5
}
