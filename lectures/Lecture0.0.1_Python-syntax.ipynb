{
 "cells": [
  {
   "cell_type": "markdown",
   "id": "3ca811a3",
   "metadata": {
    "slideshow": {
     "slide_type": "slide"
    }
   },
   "source": [
    "# Python for (open) Neuroscience\n",
    "\n",
    "_Lecture 0.0_: Introduction to Python (comments, variables, types)\n",
    "\n",
    "Luigi Petrucco\n",
    "\n",
    "Jean-Charles Mariani"
   ]
  },
  {
   "cell_type": "markdown",
   "id": "080ed674",
   "metadata": {
    "slideshow": {
     "slide_type": "slide"
    }
   },
   "source": [
    "## Introduction to Python syntax"
   ]
  },
  {
   "cell_type": "markdown",
   "id": "91449a81",
   "metadata": {
    "slideshow": {
     "slide_type": "subslide"
    }
   },
   "source": [
    "A Python program constists of written instructions given to a <span style=\"color:indianred\">Python interpreter</span> "
   ]
  },
  {
   "cell_type": "code",
   "execution_count": 1,
   "id": "0582e20d",
   "metadata": {
    "slideshow": {
     "slide_type": "-"
    }
   },
   "outputs": [
    {
     "name": "stdout",
     "output_type": "stream",
     "text": [
      "Hello World\n"
     ]
    }
   ],
   "source": [
    "print(\"Hello World\")"
   ]
  },
  {
   "cell_type": "markdown",
   "id": "8db9d05e",
   "metadata": {
    "slideshow": {
     "slide_type": "fragment"
    }
   },
   "source": [
    "Those lines could be written on a text file with extension `.py` (more on this later), or written in cells of a notebook."
   ]
  },
  {
   "cell_type": "markdown",
   "id": "da4331f7",
   "metadata": {
    "slideshow": {
     "slide_type": "fragment"
    }
   },
   "source": [
    "Comments that have no effect on the program can be introduced"
   ]
  },
  {
   "cell_type": "code",
   "execution_count": null,
   "id": "3a2932ac",
   "metadata": {
    "slideshow": {
     "slide_type": "-"
    }
   },
   "outputs": [],
   "source": [
    "# We're about to print Hello World:\n",
    "print(\"Hello World\")"
   ]
  },
  {
   "cell_type": "markdown",
   "id": "56bc3f42",
   "metadata": {
    "slideshow": {
     "slide_type": "slide"
    }
   },
   "source": [
    "### Python code layout"
   ]
  },
  {
   "cell_type": "markdown",
   "id": "e1f87b6b",
   "metadata": {
    "slideshow": {
     "slide_type": "fragment"
    }
   },
   "source": [
    "New line separates instructions sent to Python, called <span style=\"color:indianred\">statements</span>"
   ]
  },
  {
   "cell_type": "code",
   "execution_count": null,
   "id": "5779c700",
   "metadata": {
    "slideshow": {
     "slide_type": "-"
    }
   },
   "outputs": [],
   "source": [
    "print(\"We are adding numbers\")  # a statement\n",
    "a_sum = 1 + 2  # another statement\n",
    "print(a_sum)  # another statement"
   ]
  },
  {
   "cell_type": "markdown",
   "id": "2cec2728",
   "metadata": {
    "slideshow": {
     "slide_type": "fragment"
    }
   },
   "source": [
    "Indentation counts to segregate logical blocks"
   ]
  },
  {
   "cell_type": "code",
   "execution_count": null,
   "id": "8e0bbb38",
   "metadata": {},
   "outputs": [],
   "source": [
    "for i in range(3):\n",
    "    print(i)  # everything that is indented at this level happend inside the loop\n",
    "print(\"Hello world!\")"
   ]
  },
  {
   "cell_type": "markdown",
   "id": "265c72ac",
   "metadata": {
    "slideshow": {
     "slide_type": "slide"
    }
   },
   "source": [
    "### Understand code layout and execution order is key!"
   ]
  },
  {
   "cell_type": "markdown",
   "id": "b1c00b41",
   "metadata": {},
   "source": [
    "- Get used to pay attention to indendation blocks!!\n",
    "- Always think about the execution flow of your program"
   ]
  },
  {
   "cell_type": "markdown",
   "id": "bcd935fc",
   "metadata": {
    "slideshow": {
     "slide_type": "slide"
    }
   },
   "source": [
    "## Variables"
   ]
  },
  {
   "cell_type": "markdown",
   "id": "d6662d46",
   "metadata": {
    "slideshow": {
     "slide_type": "fragment"
    }
   },
   "source": [
    "We assign values to variables when we want to remember them, or refer to them elsewhere in our program. "
   ]
  },
  {
   "cell_type": "markdown",
   "id": "e38a226a",
   "metadata": {
    "slideshow": {
     "slide_type": "fragment"
    }
   },
   "source": [
    "We define variables by using a single `=` sign. This tells Python that we want it to use a specific name to refer to a particular thing."
   ]
  },
  {
   "cell_type": "code",
   "execution_count": null,
   "id": "488b5e54",
   "metadata": {
    "slideshow": {
     "slide_type": "fragment"
    }
   },
   "outputs": [],
   "source": [
    "an_int = 1\n",
    "\n",
    "print(an_int)"
   ]
  },
  {
   "cell_type": "markdown",
   "id": "6acf4727",
   "metadata": {
    "slideshow": {
     "slide_type": "subslide"
    }
   },
   "source": [
    "Variables:\n",
    "\n",
    "- cannot contain spaces\n",
    "- cannot start with a number\n",
    "- cannot contain `$`, `@`, `#`, `\\`, \n",
    "- could contain unicode characters, but ASCII are recommended\n",
    "- cannot be named as  <span style=\"color:indianred\">reserved keywords</span>:"
   ]
  },
  {
   "cell_type": "code",
   "execution_count": null,
   "id": "3b44be10",
   "metadata": {
    "slideshow": {
     "slide_type": "fragment"
    }
   },
   "outputs": [],
   "source": [
    "help(\"keywords\")"
   ]
  },
  {
   "cell_type": "markdown",
   "id": "368bfaa1",
   "metadata": {
    "slideshow": {
     "slide_type": "slide"
    }
   },
   "source": [
    "## Types"
   ]
  },
  {
   "cell_type": "markdown",
   "id": "496366d7",
   "metadata": {},
   "source": [
    "Variables can have different types. The most basic are `str`, `int`, `float`, `bool`:"
   ]
  },
  {
   "cell_type": "code",
   "execution_count": null,
   "id": "15b769b2",
   "metadata": {},
   "outputs": [],
   "source": [
    "print(\"True\", type(\"True\"))\n",
    "print(1, type(1))\n",
    "print(1.0, type(1.0))\n",
    "print(True, type(True))"
   ]
  },
  {
   "cell_type": "markdown",
   "id": "274be00e",
   "metadata": {
    "slideshow": {
     "slide_type": "subslide"
    }
   },
   "source": [
    "**Note**: `print()`, `type()` are  <span style=\"color:indianred\">functions</span> that we call by passing them arguments inside the parenteses:\n",
    "\n",
    "```\n",
    "function_name(argument)\n",
    "```\n",
    "\n",
    "We will see more about functions in the next lecture!\n",
    "\n",
    "---\n",
    "\n",
    "**Warning**: `type` or `print` are special terms that we should be cautious about when assigning variables. If you call a variable `type`, Python will overwrite it with whatever you say, and this function won't work anymore!"
   ]
  },
  {
   "cell_type": "code",
   "execution_count": null,
   "id": "1c015759",
   "metadata": {},
   "outputs": [],
   "source": [
    "# Don't do something like\n",
    "\n",
    "type = 1  # wrong!!!"
   ]
  },
  {
   "cell_type": "markdown",
   "id": "a791ea6e",
   "metadata": {
    "slideshow": {
     "slide_type": "subslide"
    }
   },
   "source": [
    "### `int` "
   ]
  },
  {
   "cell_type": "markdown",
   "id": "10d15ace",
   "metadata": {
    "slideshow": {
     "slide_type": "fragment"
    }
   },
   "source": [
    "Describe integer numbers, positive or negative"
   ]
  },
  {
   "cell_type": "code",
   "execution_count": null,
   "id": "24365b83",
   "metadata": {},
   "outputs": [],
   "source": [
    "an_integer = 1"
   ]
  },
  {
   "cell_type": "markdown",
   "id": "78cd0d48",
   "metadata": {},
   "source": [
    "Aritmetical operators are quite intuitive:\n",
    " - `+`, `-`, `*`, `/`; \n",
    " - `**` power, `//` integer division, `%` module"
   ]
  },
  {
   "cell_type": "code",
   "execution_count": null,
   "id": "9ecb562f",
   "metadata": {},
   "outputs": [],
   "source": [
    "a = 3\n",
    "a % 2"
   ]
  },
  {
   "cell_type": "markdown",
   "id": "9929923e",
   "metadata": {
    "slideshow": {
     "slide_type": "subslide"
    }
   },
   "source": [
    "### `float`"
   ]
  },
  {
   "cell_type": "markdown",
   "id": "32fc5f0d",
   "metadata": {
    "slideshow": {
     "slide_type": "fragment"
    }
   },
   "source": [
    "The result of the division is `float`, not `int`!"
   ]
  },
  {
   "cell_type": "code",
   "execution_count": null,
   "id": "b8eca93a",
   "metadata": {},
   "outputs": [],
   "source": [
    "type(2 / 1)"
   ]
  },
  {
   "cell_type": "markdown",
   "id": "1ddd4c2f",
   "metadata": {},
   "source": [
    "Floats describe rational numbers"
   ]
  },
  {
   "cell_type": "code",
   "execution_count": null,
   "id": "ee15154f",
   "metadata": {
    "slideshow": {
     "slide_type": "fragment"
    }
   },
   "outputs": [],
   "source": [
    "a = 2.33  # a float\n",
    "b = 1.0  # a float even if there is no decimals - the point is enough"
   ]
  },
  {
   "cell_type": "markdown",
   "id": "5b77e727",
   "metadata": {},
   "source": [
    "Floats have a fixed length in bytes: always 8 used for encoding the number. As a result, limited precision!"
   ]
  },
  {
   "cell_type": "code",
   "execution_count": null,
   "id": "bda36230",
   "metadata": {},
   "outputs": [],
   "source": [
    "a = 3.0**600\n",
    "a == 3**600"
   ]
  },
  {
   "cell_type": "code",
   "execution_count": null,
   "id": "20110f9c",
   "metadata": {},
   "outputs": [],
   "source": [
    "3**600"
   ]
  },
  {
   "cell_type": "markdown",
   "id": "ca807290",
   "metadata": {
    "slideshow": {
     "slide_type": "subslide"
    }
   },
   "source": [
    "### `bool`"
   ]
  },
  {
   "cell_type": "markdown",
   "id": "c209664c",
   "metadata": {
    "slideshow": {
     "slide_type": "fragment"
    }
   },
   "source": [
    "Describe logical (truth) values"
   ]
  },
  {
   "cell_type": "code",
   "execution_count": null,
   "id": "27e16e89",
   "metadata": {},
   "outputs": [],
   "source": [
    "a = True\n",
    "b = False"
   ]
  },
  {
   "cell_type": "markdown",
   "id": "9ec2c1ae",
   "metadata": {
    "slideshow": {
     "slide_type": "fragment"
    }
   },
   "source": [
    " - Result from comparisons:\n",
    "     - `>`  `<`: bigger, smaller (excluding extremes)\n",
    "     - `>=`  `<=`: bigger, smaller (including extremes)\n",
    "     - `==`: equal\n",
    "     - `!=`: different"
   ]
  },
  {
   "cell_type": "code",
   "execution_count": null,
   "id": "af74b984",
   "metadata": {},
   "outputs": [],
   "source": [
    "a_result = 4 >= 3\n",
    "another_result = 5 < 8\n",
    "a_result and another_result"
   ]
  },
  {
   "cell_type": "markdown",
   "id": "749aac1f",
   "metadata": {
    "slideshow": {
     "slide_type": "subslide"
    }
   },
   "source": [
    "### `str`"
   ]
  },
  {
   "cell_type": "markdown",
   "id": "49279b6d",
   "metadata": {
    "slideshow": {
     "slide_type": "fragment"
    }
   },
   "source": [
    "A variable type to represent text (of any length!);\n",
    "\n",
    "Delimited by either `\"` or `'` (try to be consistent)"
   ]
  },
  {
   "cell_type": "code",
   "execution_count": null,
   "id": "38cebaef",
   "metadata": {},
   "outputs": [],
   "source": [
    "type(\"s\")"
   ]
  },
  {
   "cell_type": "markdown",
   "id": "4024b0bd",
   "metadata": {
    "slideshow": {
     "slide_type": "fragment"
    }
   },
   "source": [
    " - some operators can be used on strings: \n",
    "   - `+` (with another string)\n",
    "   - `*` (with an `int`)"
   ]
  },
  {
   "cell_type": "code",
   "execution_count": null,
   "id": "4080b5ba",
   "metadata": {},
   "outputs": [],
   "source": [
    "print(\"a\" * 10)\n",
    "print(\"ab\" + \"biocco\")"
   ]
  },
  {
   "cell_type": "markdown",
   "id": "1640e9b8",
   "metadata": {
    "slideshow": {
     "slide_type": "subslide"
    }
   },
   "source": [
    "### Special string methods"
   ]
  },
  {
   "cell_type": "markdown",
   "id": "88718c96",
   "metadata": {
    "slideshow": {
     "slide_type": "fragment"
    }
   },
   "source": [
    "Strings have special  <span style=\"color:indianred\">methods</span> to do operations on them (we'll see what methods are later). "
   ]
  },
  {
   "cell_type": "code",
   "execution_count": null,
   "id": "4ac40e41",
   "metadata": {
    "slideshow": {
     "slide_type": "fragment"
    }
   },
   "outputs": [],
   "source": [
    "# split the list:\n",
    "a_string = \"Some text with many features: {} <- what are those brackets?\"\n",
    "a_string.split()"
   ]
  },
  {
   "cell_type": "code",
   "execution_count": null,
   "id": "70027d80",
   "metadata": {
    "slideshow": {
     "slide_type": "fragment"
    }
   },
   "outputs": [],
   "source": [
    "# Uppercase/lowercase\n",
    "print(a_string.upper())\n",
    "print(a_string.lower())"
   ]
  },
  {
   "cell_type": "code",
   "execution_count": null,
   "id": "23a97e51",
   "metadata": {
    "slideshow": {
     "slide_type": "fragment"
    }
   },
   "outputs": [],
   "source": [
    "a_string.find(\"text\")"
   ]
  },
  {
   "cell_type": "markdown",
   "id": "212f083f",
   "metadata": {
    "slideshow": {
     "slide_type": "subslide"
    }
   },
   "source": [
    "Strings can incorporate variables:"
   ]
  },
  {
   "cell_type": "code",
   "execution_count": null,
   "id": "42c2ef64",
   "metadata": {},
   "outputs": [],
   "source": [
    "print(a_string)\n",
    "print(a_string.format(1234))\n",
    "print(a_string.format(\"some text\"))"
   ]
  },
  {
   "cell_type": "markdown",
   "id": "c58c6609",
   "metadata": {
    "slideshow": {
     "slide_type": "fragment"
    }
   },
   "source": [
    "An alternative syntax, often preferred for shortness, is `f\"{a_variable}\"`:"
   ]
  },
  {
   "cell_type": "code",
   "execution_count": null,
   "id": "e912269d",
   "metadata": {},
   "outputs": [],
   "source": [
    "a = 2\n",
    "f\"The 'a' variable's value is: {2}\""
   ]
  },
  {
   "cell_type": "markdown",
   "id": "a23f31cf",
   "metadata": {
    "slideshow": {
     "slide_type": "subslide"
    }
   },
   "source": [
    "### Indexing"
   ]
  },
  {
   "cell_type": "markdown",
   "id": "0c7a4803",
   "metadata": {
    "slideshow": {
     "slide_type": "fragment"
    }
   },
   "source": [
    "Strings can be indexed using integer numbers to get single characters. \n",
    "\n",
    "**Remember**: Python starts indexing from 0!"
   ]
  },
  {
   "cell_type": "code",
   "execution_count": null,
   "id": "3516ae5a",
   "metadata": {},
   "outputs": [],
   "source": [
    "a_long_string = \"Some long string of any kind\"\n",
    "a_long_string[0]"
   ]
  },
  {
   "cell_type": "markdown",
   "id": "34f95767",
   "metadata": {
    "slideshow": {
     "slide_type": "subslide"
    }
   },
   "source": [
    "We can also index longer parts using the colons syntax:\n",
    " \n",
    "   `start_index : end_index : step`"
   ]
  },
  {
   "cell_type": "code",
   "execution_count": null,
   "id": "447a0334",
   "metadata": {},
   "outputs": [],
   "source": [
    "a_long_string[1:10:1]"
   ]
  },
  {
   "cell_type": "markdown",
   "id": "2e621368",
   "metadata": {
    "slideshow": {
     "slide_type": "subslide"
    }
   },
   "source": [
    "### What is a variable?"
   ]
  },
  {
   "cell_type": "markdown",
   "id": "eec52713",
   "metadata": {
    "slideshow": {
     "slide_type": "fragment"
    }
   },
   "source": [
    "Representation inside the program of a location in memory - any variable requires the <span style=\"color:indianred\">allocation</span> of some  <span style=\"color:indianred\">computer memory</span>"
   ]
  },
  {
   "cell_type": "markdown",
   "id": "d57a6f5b",
   "metadata": {},
   "source": [
    "In memory variables are encoded as binary numbers and stored as one or more bytes (which are sequences of bits)"
   ]
  },
  {
   "cell_type": "markdown",
   "id": "0fccd382",
   "metadata": {
    "slideshow": {
     "slide_type": "fragment"
    }
   },
   "source": [
    "![sometxt](./files/memory.svg)"
   ]
  },
  {
   "cell_type": "markdown",
   "id": "9bef660b",
   "metadata": {
    "slideshow": {
     "slide_type": "subslide"
    }
   },
   "source": [
    "### Encoding variables"
   ]
  },
  {
   "cell_type": "markdown",
   "id": "53cb950e",
   "metadata": {
    "slideshow": {
     "slide_type": "fragment"
    }
   },
   "source": [
    "Numbers are stored with binary representations:"
   ]
  },
  {
   "cell_type": "markdown",
   "id": "574cf0df",
   "metadata": {
    "slideshow": {
     "slide_type": "fragment"
    }
   },
   "source": [
    " - 1 byte -> 255 different numbers representable ($2^8$)\n",
    " - for bigger numbers, or decimal places, we'll need more bytes!"
   ]
  },
  {
   "cell_type": "markdown",
   "id": "fcfcb18a",
   "metadata": {
    "slideshow": {
     "slide_type": "fragment"
    }
   },
   "source": [
    "Characters are stored as ASCII (or Unicode) numbers:\n",
    " - ASCII encoding: 1 byte (but only 125 possible characters including various spaces); very '60\n",
    " - Unicode encoding UTF-8: up to 4 bytes depending on word; ASCII compatible; Emojii! so modern 🍍"
   ]
  },
  {
   "cell_type": "markdown",
   "id": "86dce10a",
   "metadata": {
    "slideshow": {
     "slide_type": "subslide"
    }
   },
   "source": [
    "Python 3.0 uses UTF-8 for text:"
   ]
  },
  {
   "cell_type": "code",
   "execution_count": null,
   "id": "46a820fd",
   "metadata": {
    "slideshow": {
     "slide_type": "-"
    }
   },
   "outputs": [],
   "source": [
    "print(\n",
    "    \"In 2015, Oxford Dictionaries named the Face with Tears of Joy emoji (😂) the word of the year\"\n",
    ")"
   ]
  },
  {
   "cell_type": "markdown",
   "id": "9bba3132",
   "metadata": {
    "slideshow": {
     "slide_type": "fragment"
    }
   },
   "source": [
    "But you cannot use emoji as variable names (one of the major Python drawbacks):"
   ]
  },
  {
   "cell_type": "code",
   "execution_count": null,
   "id": "4c96318a",
   "metadata": {},
   "outputs": [],
   "source": [
    "😂 = 12.5"
   ]
  },
  {
   "cell_type": "markdown",
   "id": "10ed1aa1",
   "metadata": {
    "slideshow": {
     "slide_type": "subslide"
    }
   },
   "source": [
    "### Look memory location of a variable"
   ]
  },
  {
   "cell_type": "markdown",
   "id": "cabe491f",
   "metadata": {
    "slideshow": {
     "slide_type": "fragment"
    }
   },
   "source": [
    "In Python, we can check out the location in memory of a variable with another function, `id` (we'll probably not use this much):"
   ]
  },
  {
   "cell_type": "code",
   "execution_count": null,
   "id": "5a220615",
   "metadata": {},
   "outputs": [],
   "source": [
    "a_variable = 2\n",
    "another_variable = a_variable\n",
    "\n",
    "print(id(a_variable), id(another_variable))\n",
    "\n",
    "a_variable = 5  # we redefine the variable\n",
    "print(id(a_variable), id(another_variable))"
   ]
  },
  {
   "cell_type": "markdown",
   "id": "6bde32a2",
   "metadata": {
    "slideshow": {
     "slide_type": "subslide"
    }
   },
   "source": [
    "### Size in memory of a variable"
   ]
  },
  {
   "cell_type": "markdown",
   "id": "5a642172",
   "metadata": {
    "slideshow": {
     "slide_type": "fragment"
    }
   },
   "source": [
    "To know the size in memory of a variable, we can 1) calculate it from the variable properties, or 2) use the `sys.getsizeof()` function. For this we will need to first write `import sys` (we will talk more about this import in the next lecture)"
   ]
  },
  {
   "cell_type": "code",
   "execution_count": null,
   "id": "a6104dcc",
   "metadata": {},
   "outputs": [],
   "source": [
    "import sys\n",
    "\n",
    "b = 0\n",
    "sys.getsizeof(b)  # size in bytes!"
   ]
  },
  {
   "cell_type": "markdown",
   "id": "5a1b6728",
   "metadata": {
    "slideshow": {
     "slide_type": "fragment"
    }
   },
   "source": [
    "Python integers always have at least 24 bytes (depending on the pc). Only some of the bytes are used for the number encoding, the rest is \"overhead\" that comes from Python variables being complex objects"
   ]
  },
  {
   "cell_type": "markdown",
   "id": "fefb49e9",
   "metadata": {
    "slideshow": {
     "slide_type": "subslide"
    }
   },
   "source": [
    "Python integers take variable amounts of memory depending on how big they are! (that's why they have no bounds)"
   ]
  },
  {
   "cell_type": "code",
   "execution_count": null,
   "id": "1e861448",
   "metadata": {},
   "outputs": [],
   "source": [
    "a = 0\n",
    "print(sys.getsizeof(a))\n",
    "\n",
    "a = 10**64\n",
    "print(sys.getsizeof(a))"
   ]
  },
  {
   "cell_type": "markdown",
   "id": "52614a4a",
   "metadata": {
    "slideshow": {
     "slide_type": "slide"
    }
   },
   "source": [
    "(First practical)"
   ]
  },
  {
   "cell_type": "code",
   "execution_count": null,
   "id": "34846b59",
   "metadata": {},
   "outputs": [],
   "source": []
  }
 ],
 "metadata": {
  "celltoolbar": "Slideshow",
  "kernelspec": {
   "display_name": "course-env",
   "language": "python",
   "name": "course-env"
  },
  "language_info": {
   "codemirror_mode": {
    "name": "ipython",
    "version": 3
   },
   "file_extension": ".py",
   "mimetype": "text/x-python",
   "name": "python",
   "nbconvert_exporter": "python",
   "pygments_lexer": "ipython3",
   "version": "3.10.13"
  }
 },
 "nbformat": 4,
 "nbformat_minor": 5
}
