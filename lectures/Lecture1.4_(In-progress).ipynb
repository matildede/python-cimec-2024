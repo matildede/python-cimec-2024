{
 "cells": [
  {
   "cell_type": "markdown",
   "id": "892bc6da",
   "metadata": {
    "slideshow": {
     "slide_type": "slide"
    }
   },
   "source": [
    "# Python for (open) Neuroscience\n",
    "\n",
    "_Lecture 1.4_ - In progress\n",
    "\n",
    "Luigi Petrucco\n",
    "\n",
    "[![Open In Colab](https://colab.research.google.com/assets/colab-badge.svg)](https://colab.research.google.com/github/vigji/python-cimec-2024/blob/main/lectures/Lecture1.3_(In-progress).ipynb)"
   ]
  },
  {
   "cell_type": "markdown",
   "id": "455bb140",
   "metadata": {},
   "source": [
    "## Aggregate statistics"
   ]
  },
  {
   "cell_type": "markdown",
   "id": "6e7d4eda",
   "metadata": {},
   "source": [
    "It can be useful to aggregate statistics based on the values of a column."
   ]
  },
  {
   "cell_type": "markdown",
   "id": "a9a587ed",
   "metadata": {},
   "source": [
    "Imagine we want to quickly compute the mean of the values across trials for each subject.\n",
    "\n"
   ]
  },
  {
   "cell_type": "markdown",
   "id": "058ff74a",
   "metadata": {},
   "source": [
    "### `.groupby()`"
   ]
  },
  {
   "cell_type": "markdown",
   "id": "d124808d",
   "metadata": {},
   "source": [
    "We have a handy syntax to average within each category with `.groupby()`.\n",
    "\n",
    "The sintax is :\n",
    "```python\n",
    "df.groupby(\"name_of_the_category_column\").operation()\n",
    "```"
   ]
  },
  {
   "cell_type": "markdown",
   "id": "fb7dba9b",
   "metadata": {},
   "source": [
    "Now, we want to compute average for every subject:"
   ]
  },
  {
   "cell_type": "code",
   "execution_count": null,
   "id": "5296bbda",
   "metadata": {},
   "outputs": [],
   "source": [
    "trials_df.head(5)"
   ]
  },
  {
   "cell_type": "code",
   "execution_count": null,
   "id": "8591cf08",
   "metadata": {},
   "outputs": [],
   "source": [
    "# In this case, the operation is `mean()`.\n",
    "# Note how the result will have the variable we group by as index:\n",
    "\n",
    "subj_means_df = trials_df.groupby(\"subject\").mean()\n",
    "subj_means_df"
   ]
  },
  {
   "cell_type": "markdown",
   "id": "21579a47",
   "metadata": {},
   "source": [
    "By the way, this is a reason why methods are better than functions in this case: they can be chained with a clearer syntax!"
   ]
  },
  {
   "cell_type": "markdown",
   "id": "82f8456c",
   "metadata": {},
   "source": [
    "# Index broadcasting in `pandas`"
   ]
  },
  {
   "cell_type": "markdown",
   "id": "1d2c5910",
   "metadata": {},
   "source": [
    "Let's subtract from each subject the mean for each variable."
   ]
  },
  {
   "cell_type": "code",
   "execution_count": null,
   "id": "3e7b964d",
   "metadata": {},
   "outputs": [],
   "source": [
    "trials_df.head(3)"
   ]
  },
  {
   "cell_type": "code",
   "execution_count": null,
   "id": "aacda54f",
   "metadata": {},
   "outputs": [],
   "source": [
    "subj_means_df.head(3)"
   ]
  },
  {
   "cell_type": "markdown",
   "id": "b77ecb0f",
   "metadata": {},
   "source": [
    "The shapes obviously don't match:"
   ]
  },
  {
   "cell_type": "code",
   "execution_count": null,
   "id": "7906abe4",
   "metadata": {},
   "outputs": [],
   "source": [
    "print(trials_df.shape)\n",
    "print(subj_means_df.shape)"
   ]
  },
  {
   "cell_type": "code",
   "execution_count": null,
   "id": "2547f767",
   "metadata": {},
   "outputs": [],
   "source": [
    "trials_df - subj_means_df  # this is obviously funny:"
   ]
  },
  {
   "cell_type": "markdown",
   "id": "350cbd41",
   "metadata": {},
   "source": [
    "But pandas will broadcast values using indices if we make them consistent!"
   ]
  },
  {
   "cell_type": "code",
   "execution_count": null,
   "id": "69fba181",
   "metadata": {},
   "outputs": [],
   "source": [
    "subj_means_df"
   ]
  },
  {
   "cell_type": "code",
   "execution_count": null,
   "id": "2f698ef9",
   "metadata": {},
   "outputs": [],
   "source": [
    "trials_df.set_index(\"subject\") - subj_means_df\n",
    " #trials_df.head()"
   ]
  },
  {
   "cell_type": "markdown",
   "id": "6cc991e9",
   "metadata": {},
   "source": [
    "So now we can write:"
   ]
  },
  {
   "cell_type": "code",
   "execution_count": null,
   "id": "f19d711e",
   "metadata": {},
   "outputs": [],
   "source": [
    "normalized = trials_df - subj_means_df\n",
    "normalized.head()"
   ]
  },
  {
   "cell_type": "markdown",
   "id": "48e0479c",
   "metadata": {},
   "source": [
    "This broadcasting is super powerful! Give us very expressive and concise syntax to work with aggregated data without using loops."
   ]
  },
  {
   "cell_type": "markdown",
   "id": "e6f83cb9",
   "metadata": {},
   "source": [
    "## Multi-indexing"
   ]
  },
  {
   "cell_type": "markdown",
   "id": "d7ee103e",
   "metadata": {},
   "source": [
    "Sometimes, we might want to average keeping segregations over multiple categories:"
   ]
  },
  {
   "cell_type": "code",
   "execution_count": null,
   "id": "23a7631a",
   "metadata": {},
   "outputs": [],
   "source": [
    "# Create again our trials_df (not relevant how here):\n",
    "trials_df = pd.DataFrame([dict(subject=i, trial_type=j % 2, **all_subjects_data[i][j])\n",
    "                             for i in all_subjects_data.keys()\n",
    "                             for j in range(n_repetitions)])\n",
    "\n",
    "trials_df"
   ]
  },
  {
   "cell_type": "code",
   "execution_count": null,
   "id": "51db3773",
   "metadata": {},
   "outputs": [],
   "source": [
    "trial_subj_avg = trials_df.groupby([\"subject\", \"trial_type\"]).mean()\n",
    "trial_subj_avg"
   ]
  },
  {
   "cell_type": "code",
   "execution_count": null,
   "id": "f239401e",
   "metadata": {},
   "outputs": [],
   "source": [
    "trials_df.set_index([\"subject\", \"trial_type\"]) - trial_subj_avg"
   ]
  },
  {
   "cell_type": "markdown",
   "id": "486a58d6",
   "metadata": {},
   "source": [
    "(Practicals 1.3.1)"
   ]
  },
  {
   "cell_type": "markdown",
   "id": "4a83dc66",
   "metadata": {},
   "source": [
    "## (bonus) Rolling functions with `.rolling()`"
   ]
  },
  {
   "cell_type": "markdown",
   "id": "f0113fee",
   "metadata": {},
   "source": [
    "Imagine we have a time series of data, and we want to compute the mean over a window of time (e.g., for smoothing)."
   ]
  },
  {
   "cell_type": "code",
   "execution_count": null,
   "id": "f7dacf7b",
   "metadata": {},
   "outputs": [],
   "source": [
    "# Let's create a time series:\n",
    "time_series = pd.Series(np.random.rand(100))"
   ]
  },
  {
   "cell_type": "code",
   "execution_count": null,
   "id": "0168f7e8",
   "metadata": {},
   "outputs": [],
   "source": [
    "# This will compute the mean in a rolling window - ie, smoothing it!\n",
    "rolling_wnd_size = 10\n",
    "smoothed = time_series.rolling(rolling_wnd_size, center=True).mean()"
   ]
  },
  {
   "cell_type": "code",
   "execution_count": null,
   "id": "2f62c490",
   "metadata": {},
   "outputs": [],
   "source": [
    "time_series.plot()\n",
    "smoothed.plot()"
   ]
  },
  {
   "cell_type": "markdown",
   "id": "b4f8f837",
   "metadata": {},
   "source": [
    "When done with averaging, same results as other smoothing tools"
   ]
  },
  {
   "cell_type": "markdown",
   "id": "c72dc763",
   "metadata": {},
   "source": [
    "But now we can use arbitrary functions! (standard deviation, significance tests, etc)"
   ]
  },
  {
   "cell_type": "markdown",
   "id": "629c086c",
   "metadata": {},
   "source": [
    "(Practicals 1.3.2)"
   ]
  },
  {
   "cell_type": "code",
   "execution_count": null,
   "id": "3ec7eed6",
   "metadata": {},
   "outputs": [],
   "source": []
  },
  {
   "cell_type": "markdown",
   "id": "828707df",
   "metadata": {},
   "source": [
    "## Aggregate statistics"
   ]
  },
  {
   "cell_type": "markdown",
   "id": "6500d729",
   "metadata": {},
   "source": [
    "It can be useful to aggregate statistics based on the values of a column."
   ]
  },
  {
   "cell_type": "markdown",
   "id": "9adbd06a",
   "metadata": {},
   "source": [
    "Imagine we want to quickly compute the mean of the values across trials for each subject.\n",
    "\n"
   ]
  },
  {
   "cell_type": "markdown",
   "id": "67b02107",
   "metadata": {},
   "source": [
    "### `.groupby()`"
   ]
  },
  {
   "cell_type": "markdown",
   "id": "83bdbe78",
   "metadata": {},
   "source": [
    "We have a handy syntax to average within each category with `.groupby()`.\n",
    "\n",
    "The sintax is :\n",
    "```python\n",
    "df.groupby(\"name_of_the_category_column\").operation()\n",
    "```"
   ]
  },
  {
   "cell_type": "markdown",
   "id": "cedbe1fe",
   "metadata": {},
   "source": [
    "Now, we want to compute average for every subject:"
   ]
  },
  {
   "cell_type": "code",
   "execution_count": null,
   "id": "29ed1425",
   "metadata": {},
   "outputs": [],
   "source": [
    "trials_df.head(5)"
   ]
  },
  {
   "cell_type": "code",
   "execution_count": null,
   "id": "8340266e",
   "metadata": {},
   "outputs": [],
   "source": [
    "# In this case, the operation is `mean()`.\n",
    "# Note how the result will have the variable we group by as index:\n",
    "\n",
    "subj_means_df = trials_df.groupby(\"subject\").mean()\n",
    "subj_means_df"
   ]
  },
  {
   "cell_type": "markdown",
   "id": "956db351",
   "metadata": {},
   "source": [
    "By the way, this is a reason why methods are better than functions in this case: they can be chained with a clearer syntax!"
   ]
  },
  {
   "cell_type": "markdown",
   "id": "30c55c5c",
   "metadata": {},
   "source": [
    "# Index broadcasting in `pandas`"
   ]
  },
  {
   "cell_type": "markdown",
   "id": "2bc2186c",
   "metadata": {},
   "source": [
    "Let's subtract from each subject the mean for each variable."
   ]
  },
  {
   "cell_type": "code",
   "execution_count": null,
   "id": "2f752c0b",
   "metadata": {},
   "outputs": [],
   "source": [
    "trials_df.head(3)"
   ]
  },
  {
   "cell_type": "code",
   "execution_count": null,
   "id": "13b1b5f7",
   "metadata": {},
   "outputs": [],
   "source": [
    "subj_means_df.head(3)"
   ]
  },
  {
   "cell_type": "markdown",
   "id": "3def3632",
   "metadata": {},
   "source": [
    "The shapes obviously don't match:"
   ]
  },
  {
   "cell_type": "code",
   "execution_count": null,
   "id": "547d95f2",
   "metadata": {},
   "outputs": [],
   "source": [
    "print(trials_df.shape)\n",
    "print(subj_means_df.shape)"
   ]
  },
  {
   "cell_type": "code",
   "execution_count": null,
   "id": "7cd4f4a5",
   "metadata": {},
   "outputs": [],
   "source": [
    "trials_df - subj_means_df  # this is obviously funny:"
   ]
  },
  {
   "cell_type": "markdown",
   "id": "59f6478d",
   "metadata": {},
   "source": [
    "But pandas will broadcast values using indices if we make them consistent!"
   ]
  },
  {
   "cell_type": "code",
   "execution_count": null,
   "id": "04186dbe",
   "metadata": {},
   "outputs": [],
   "source": [
    "subj_means_df"
   ]
  },
  {
   "cell_type": "code",
   "execution_count": null,
   "id": "20511589",
   "metadata": {},
   "outputs": [],
   "source": [
    "trials_df.set_index(\"subject\") - subj_means_df\n",
    " #trials_df.head()"
   ]
  },
  {
   "cell_type": "markdown",
   "id": "4cf5379f",
   "metadata": {},
   "source": [
    "So now we can write:"
   ]
  },
  {
   "cell_type": "code",
   "execution_count": null,
   "id": "8d74339b",
   "metadata": {},
   "outputs": [],
   "source": [
    "normalized = trials_df - subj_means_df\n",
    "normalized.head()"
   ]
  },
  {
   "cell_type": "markdown",
   "id": "b846eccc",
   "metadata": {},
   "source": [
    "This broadcasting is super powerful! Give us very expressive and concise syntax to work with aggregated data without using loops."
   ]
  },
  {
   "cell_type": "markdown",
   "id": "fa218915",
   "metadata": {},
   "source": [
    "## Multi-indexing"
   ]
  },
  {
   "cell_type": "markdown",
   "id": "ba779737",
   "metadata": {},
   "source": [
    "Sometimes, we might want to average keeping segregations over multiple categories:"
   ]
  },
  {
   "cell_type": "code",
   "execution_count": null,
   "id": "4f5aea2c",
   "metadata": {},
   "outputs": [],
   "source": [
    "# Create again our trials_df (not relevant how here):\n",
    "trials_df = pd.DataFrame([dict(subject=i, trial_type=j % 2, **all_subjects_data[i][j])\n",
    "                             for i in all_subjects_data.keys()\n",
    "                             for j in range(n_repetitions)])\n",
    "\n",
    "trials_df"
   ]
  },
  {
   "cell_type": "code",
   "execution_count": null,
   "id": "316838da",
   "metadata": {},
   "outputs": [],
   "source": [
    "trial_subj_avg = trials_df.groupby([\"subject\", \"trial_type\"]).mean()\n",
    "trial_subj_avg"
   ]
  },
  {
   "cell_type": "code",
   "execution_count": null,
   "id": "6013f48c",
   "metadata": {},
   "outputs": [],
   "source": [
    "trials_df.set_index([\"subject\", \"trial_type\"]) - trial_subj_avg"
   ]
  },
  {
   "cell_type": "markdown",
   "id": "e17a8b90",
   "metadata": {},
   "source": [
    "(Practicals 1.3.1)"
   ]
  },
  {
   "cell_type": "markdown",
   "id": "89201ef6",
   "metadata": {},
   "source": [
    "## (bonus) Rolling functions with `.rolling()`"
   ]
  },
  {
   "cell_type": "markdown",
   "id": "a84fdd47",
   "metadata": {},
   "source": [
    "Imagine we have a time series of data, and we want to compute the mean over a window of time (e.g., for smoothing)."
   ]
  },
  {
   "cell_type": "code",
   "execution_count": null,
   "id": "d90d74fe",
   "metadata": {},
   "outputs": [],
   "source": [
    "# Let's create a time series:\n",
    "time_series = pd.Series(np.random.rand(100))"
   ]
  },
  {
   "cell_type": "code",
   "execution_count": null,
   "id": "23ae7493",
   "metadata": {},
   "outputs": [],
   "source": [
    "# This will compute the mean in a rolling window - ie, smoothing it!\n",
    "rolling_wnd_size = 10\n",
    "smoothed = time_series.rolling(rolling_wnd_size, center=True).mean()"
   ]
  },
  {
   "cell_type": "code",
   "execution_count": null,
   "id": "9718a31c",
   "metadata": {},
   "outputs": [],
   "source": [
    "time_series.plot()\n",
    "smoothed.plot()"
   ]
  },
  {
   "cell_type": "markdown",
   "id": "446ac0f1",
   "metadata": {},
   "source": [
    "When done with averaging, same results as other smoothing tools"
   ]
  },
  {
   "cell_type": "markdown",
   "id": "04ce565a",
   "metadata": {},
   "source": [
    "But now we can use arbitrary functions! (standard deviation, significance tests, etc)"
   ]
  },
  {
   "cell_type": "markdown",
   "id": "5c407e6d",
   "metadata": {},
   "source": [
    "(Practicals 1.3.2)"
   ]
  },
  {
   "cell_type": "code",
   "execution_count": null,
   "id": "b4253208",
   "metadata": {},
   "outputs": [],
   "source": []
  }
 ],
 "metadata": {
  "celltoolbar": "Slideshow",
  "kernelspec": {
   "display_name": "course-env",
   "language": "python",
   "name": "course-env"
  },
  "language_info": {
   "codemirror_mode": {
    "name": "ipython",
    "version": 3
   },
   "file_extension": ".py",
   "mimetype": "text/x-python",
   "name": "python",
   "nbconvert_exporter": "python",
   "pygments_lexer": "ipython3",
   "version": "3.10.13"
  }
 },
 "nbformat": 4,
 "nbformat_minor": 5
}
