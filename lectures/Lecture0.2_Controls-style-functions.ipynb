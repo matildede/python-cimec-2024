{
 "cells": [
  {
   "cell_type": "markdown",
   "id": "3ca811a3",
   "metadata": {},
   "source": [
    "# Python for (open) Neuroscience\n",
    "\n",
    "_Lecture 0.2_ - Flow control\n",
    "\n",
    "Luigi Petrucco\n",
    "\n",
    "Jean-Charles Mariani"
   ]
  },
  {
   "cell_type": "markdown",
   "id": "49d0bd96",
   "metadata": {},
   "source": [
    "## Lecture outline"
   ]
  },
  {
   "cell_type": "markdown",
   "id": "5361032c",
   "metadata": {},
   "source": [
    "## Some more operations with data containers"
   ]
  },
  {
   "cell_type": "markdown",
   "id": "ed25ccdd",
   "metadata": {},
   "source": [
    "Sum values"
   ]
  },
  {
   "cell_type": "markdown",
   "id": "446f2df4",
   "metadata": {},
   "source": [
    "Check if something is in a list"
   ]
  },
  {
   "cell_type": "markdown",
   "id": "9793fe35",
   "metadata": {
    "slideshow": {
     "slide_type": "slide"
    }
   },
   "source": [
    "## What can we do with variables?"
   ]
  },
  {
   "cell_type": "markdown",
   "id": "c2f9ba40",
   "metadata": {
    "slideshow": {
     "slide_type": "fragment"
    }
   },
   "source": [
    "operations on variables and the flow of the program are managed with control structures:\n",
    " - `if` / `elif` / `else`\n",
    " - `for`\n",
    " - `while`"
   ]
  },
  {
   "cell_type": "markdown",
   "id": "5a462a1f",
   "metadata": {
    "slideshow": {
     "slide_type": "slide"
    }
   },
   "source": [
    "### `if` / `elif` / `else`"
   ]
  },
  {
   "cell_type": "markdown",
   "id": "86e5e978",
   "metadata": {},
   "source": [
    "With a `if` statement we can make the execution of some lines of code optional:"
   ]
  },
  {
   "cell_type": "code",
   "execution_count": null,
   "id": "5a225215",
   "metadata": {},
   "outputs": [],
   "source": [
    "a = 1\n",
    "if a == 10:\n",
    "    print(\"equal 10\")\n",
    "elif a == 5:  # optional\n",
    "    print(\"equal 5\")\n",
    "else:  # optional\n",
    "    print(\"neither 5 nor 10\")"
   ]
  },
  {
   "cell_type": "markdown",
   "id": "b093bb99",
   "metadata": {
    "slideshow": {
     "slide_type": "subslide"
    }
   },
   "source": [
    "We can combine multiple conditions:"
   ]
  },
  {
   "cell_type": "code",
   "execution_count": null,
   "id": "051255bb",
   "metadata": {},
   "outputs": [],
   "source": [
    "a = 2\n",
    "b = 8\n",
    "\n",
    "if a > 1 and b < 10:\n",
    "    print(a, b)"
   ]
  },
  {
   "cell_type": "markdown",
   "id": "3562e97a",
   "metadata": {},
   "source": [
    "(Practical 0.1.4)"
   ]
  },
  {
   "cell_type": "markdown",
   "id": "02536d0d",
   "metadata": {
    "slideshow": {
     "slide_type": "slide"
    }
   },
   "source": [
    "### `for`"
   ]
  },
  {
   "cell_type": "markdown",
   "id": "ecf329a2",
   "metadata": {
    "slideshow": {
     "slide_type": "fragment"
    }
   },
   "source": [
    "With a `for` loop we can easily repeat many times the same code lines:"
   ]
  },
  {
   "cell_type": "code",
   "execution_count": null,
   "id": "2593c6d4",
   "metadata": {},
   "outputs": [],
   "source": [
    "for i in range(3):\n",
    "    print(i)"
   ]
  },
  {
   "cell_type": "markdown",
   "id": "8b0d0c8e",
   "metadata": {
    "slideshow": {
     "slide_type": "fragment"
    }
   },
   "source": [
    "With `for` loops we can easily go through lists:"
   ]
  },
  {
   "cell_type": "code",
   "execution_count": null,
   "id": "1422301d",
   "metadata": {},
   "outputs": [],
   "source": [
    "a_list = [\"a\", \"simple\", \"list\"]\n",
    "\n",
    "for word in a_list:\n",
    "    print(word)"
   ]
  },
  {
   "cell_type": "markdown",
   "id": "7f689932",
   "metadata": {
    "slideshow": {
     "slide_type": "subslide"
    }
   },
   "source": [
    "We can loop over lists while having also indexes with `enumerate`:"
   ]
  },
  {
   "cell_type": "code",
   "execution_count": null,
   "id": "31165b5a",
   "metadata": {},
   "outputs": [],
   "source": [
    "for idx, word in enumerate(a_list):\n",
    "    print(idx, word)"
   ]
  },
  {
   "cell_type": "markdown",
   "id": "fbae133c",
   "metadata": {
    "slideshow": {
     "slide_type": "fragment"
    }
   },
   "source": [
    "Finally, we can iterate through multiple things at the same time with `zip`:\n"
   ]
  },
  {
   "cell_type": "code",
   "execution_count": null,
   "id": "23e5990b",
   "metadata": {},
   "outputs": [],
   "source": [
    "a_list_of_words = [\"a\", \"simple\", \"list\"]\n",
    "another_list_of_numbers = [10, 30, 42]\n",
    "\n",
    "for word, number in zip(a_list_of_words, another_list_of_numbers):\n",
    "    print(f\"element from list 1:{word}   element from list 2: {number}\")"
   ]
  },
  {
   "cell_type": "markdown",
   "id": "f15b1d1a",
   "metadata": {
    "slideshow": {
     "slide_type": "subslide"
    }
   },
   "source": [
    "We can use `for` loops to go over anything that is <span style=\"color:indianred\">iterable</span>: lists, tuples, but also dictionaries using the correct methods:"
   ]
  },
  {
   "cell_type": "code",
   "execution_count": null,
   "id": "6a02ae6f",
   "metadata": {
    "slideshow": {
     "slide_type": "-"
    }
   },
   "outputs": [],
   "source": [
    "a_dict = dict(sam=3, lisa=1, joe=0)\n",
    "\n",
    "# loop over keys:\n",
    "for key in a_dict.keys():\n",
    "    print(key)"
   ]
  },
  {
   "cell_type": "code",
   "execution_count": null,
   "id": "973c75f9",
   "metadata": {
    "slideshow": {
     "slide_type": "fragment"
    }
   },
   "outputs": [],
   "source": [
    "# loop over values:\n",
    "for val in a_dict.values():\n",
    "    print(val)"
   ]
  },
  {
   "cell_type": "code",
   "execution_count": null,
   "id": "e028730a",
   "metadata": {
    "slideshow": {
     "slide_type": "fragment"
    }
   },
   "outputs": [],
   "source": [
    "# loop over keys and values:\n",
    "for key, val in a_dict.items():\n",
    "    print(key, val)"
   ]
  },
  {
   "cell_type": "markdown",
   "id": "f82d7b3e",
   "metadata": {
    "slideshow": {
     "slide_type": "subslide"
    }
   },
   "source": [
    "### `for` loops meet `list`s: list comprehension"
   ]
  },
  {
   "cell_type": "markdown",
   "id": "698863e6",
   "metadata": {
    "slideshow": {
     "slide_type": "fragment"
    }
   },
   "source": [
    "Many times, the syntax for generating a list can be tediously long:"
   ]
  },
  {
   "cell_type": "code",
   "execution_count": null,
   "id": "f9f45f25",
   "metadata": {},
   "outputs": [],
   "source": [
    "word_list = [\n",
    "    \"many\",\n",
    "    \"times\",\n",
    "    \"the\",\n",
    "    \"syntax\",\n",
    "    \"for\",\n",
    "    \"generating\",\n",
    "    \"a\",\n",
    "    \"list\",\n",
    "    \"can\",\n",
    "    \"be\",\n",
    "    \"tediously\",\n",
    "    \"long\",\n",
    "]\n",
    "\n",
    "first_letters = []\n",
    "for word in word_list:\n",
    "    first_letters.append(word[0])"
   ]
  },
  {
   "cell_type": "markdown",
   "id": "78400cbb",
   "metadata": {
    "slideshow": {
     "slide_type": "subslide"
    }
   },
   "source": [
    "Instead, we can use <span style=\"color:indianred\">list comprehensions</span>:"
   ]
  },
  {
   "cell_type": "code",
   "execution_count": null,
   "id": "a4a69259",
   "metadata": {},
   "outputs": [],
   "source": [
    "sentence = [word[0] for word in word_list]"
   ]
  },
  {
   "cell_type": "markdown",
   "id": "04bb0b13",
   "metadata": {
    "slideshow": {
     "slide_type": "subslide"
    }
   },
   "source": [
    "`🐍  Very Pythonic  🐍`\n",
    "\n",
    "Not just nicer sintax! List comprehensions are also more efficient!"
   ]
  },
  {
   "cell_type": "markdown",
   "id": "5eda2e12",
   "metadata": {
    "slideshow": {
     "slide_type": "subslide"
    }
   },
   "source": [
    "We can even incorporate conditions in list comprehensions:"
   ]
  },
  {
   "cell_type": "code",
   "execution_count": null,
   "id": "0814e29e",
   "metadata": {},
   "outputs": [],
   "source": [
    "first_letters = [word[0] for word in word_list if len(word) > 3]"
   ]
  },
  {
   "cell_type": "markdown",
   "id": "e7833ba6",
   "metadata": {
    "slideshow": {
     "slide_type": "fragment"
    }
   },
   "source": [
    "...but remember!\n",
    "\n",
    "\n",
    "    🪷 The Zen of Python 🪷\n",
    "        \n",
    "        Readability counts.\n"
   ]
  },
  {
   "cell_type": "markdown",
   "id": "082eb749",
   "metadata": {
    "slideshow": {
     "slide_type": "subslide"
    }
   },
   "source": [
    "So avoid nesting too many conditions inside a list comprehension!"
   ]
  },
  {
   "cell_type": "code",
   "execution_count": null,
   "id": "3054f029",
   "metadata": {},
   "outputs": [],
   "source": [
    "fruits = [\n",
    "    {\"name\": \"apple\", \"state\": \"ripe\", \"weight\": 10},\n",
    "    {\"name\": \"cherry\", \"state\": \"ripe\", \"weight\": 10},\n",
    "    {\"name\": \"grape\", \"state\": \"unripe\", \"weight\": 20}\n",
    "]\n",
    "\n",
    "# Select if ripe and > 50 weight or if ripe and apple:\n",
    "selected_fruits = [\n",
    "    fruit[\"name\"] for fruit in fruits\n",
    "    if (fruit[\"state\"] == \"ripe\" and fruit[\"weight\"] > 50) or (fruit[\"name\"] == \"apple\" and fruit[\"state\"] == \"ripe\")\n",
    "]\n",
    "selected_fruits"
   ]
  },
  {
   "cell_type": "code",
   "execution_count": null,
   "id": "61576e1a",
   "metadata": {
    "slideshow": {
     "slide_type": "subslide"
    }
   },
   "outputs": [],
   "source": [
    "# In this case, it is better something like this: \n",
    "\n",
    "selected_fruits = []\n",
    "for fruit in fruits:\n",
    "    if fruit[\"state\"] == \"ripe\":\n",
    "        if fruit[\"name\"] == \"apple\":\n",
    "            selected_fruits.append(fruit[\"name\"])\n",
    "        elif fruit[\"weight\"] > 50:\n",
    "            selected_fruits.append(fruit[\"name\"])"
   ]
  },
  {
   "cell_type": "markdown",
   "id": "1779cdfc",
   "metadata": {
    "slideshow": {
     "slide_type": "subslide"
    }
   },
   "source": [
    "### `for` loop meets `dict`: dictionary comprehension"
   ]
  },
  {
   "cell_type": "markdown",
   "id": "d7b7a307",
   "metadata": {},
   "source": [
    "We can use a similar trick to define dictionaries; the syntax will be:\n",
    "```python\n",
    "{key: val for something in something_iterable}\n",
    "```"
   ]
  },
  {
   "cell_type": "code",
   "execution_count": null,
   "id": "9b6316f8",
   "metadata": {},
   "outputs": [],
   "source": [
    "letters_count_dict = {word: len(word) for word in word_list}\n",
    "print(letters_count_dict)"
   ]
  },
  {
   "cell_type": "markdown",
   "id": "2c54583a",
   "metadata": {
    "slideshow": {
     "slide_type": "slide"
    }
   },
   "source": [
    "(Practical 0.1.5)"
   ]
  },
  {
   "cell_type": "markdown",
   "id": "74229e85",
   "metadata": {
    "slideshow": {
     "slide_type": "subslide"
    }
   },
   "source": [
    "### `for` loop meets `dict`: dictionary comprehension"
   ]
  },
  {
   "cell_type": "markdown",
   "id": "155f16c6",
   "metadata": {},
   "source": [
    "We can use a similar trick to define dictionaries; the syntax will be:\n",
    "```python\n",
    "{key: val for something in something_iterable}\n",
    "```"
   ]
  },
  {
   "cell_type": "code",
   "execution_count": null,
   "id": "664ea882",
   "metadata": {},
   "outputs": [],
   "source": [
    "letters_count_dict = {word: len(word) for word in word_list}\n",
    "print(letters_count_dict)"
   ]
  },
  {
   "cell_type": "markdown",
   "id": "d65016a5",
   "metadata": {
    "slideshow": {
     "slide_type": "slide"
    }
   },
   "source": [
    "(Practical 0.1.5)"
   ]
  },
  {
   "cell_type": "code",
   "execution_count": null,
   "id": "3ef2955c",
   "metadata": {},
   "outputs": [],
   "source": []
  },
  {
   "cell_type": "code",
   "execution_count": null,
   "id": "73670391",
   "metadata": {},
   "outputs": [],
   "source": []
  },
  {
   "cell_type": "code",
   "execution_count": null,
   "id": "a263a86a",
   "metadata": {},
   "outputs": [],
   "source": []
  },
  {
   "cell_type": "code",
   "execution_count": null,
   "id": "f4b55f57",
   "metadata": {},
   "outputs": [],
   "source": []
  },
  {
   "cell_type": "markdown",
   "id": "9029d54f",
   "metadata": {},
   "source": [
    "### Some useful IDE tricks"
   ]
  },
  {
   "cell_type": "markdown",
   "id": "fdcd83d8",
   "metadata": {},
   "source": [
    "If you want to have a look at what variables you have already defined in your notebook, you can use `whos` - but in a separate cell!"
   ]
  },
  {
   "cell_type": "code",
   "execution_count": null,
   "id": "cb4a8c1e",
   "metadata": {},
   "outputs": [],
   "source": [
    "a_var = 10\n",
    "a_list = [1, 2, 3]"
   ]
  },
  {
   "cell_type": "code",
   "execution_count": null,
   "id": "f51577b4",
   "metadata": {},
   "outputs": [],
   "source": [
    "whos"
   ]
  },
  {
   "cell_type": "markdown",
   "id": "31e9f71a",
   "metadata": {},
   "source": [
    "If you want to time the execution speed of code in a cell, you can use `%%timeit` **at the beginning of the cell**"
   ]
  },
  {
   "cell_type": "code",
   "execution_count": null,
   "id": "a506df59",
   "metadata": {},
   "outputs": [],
   "source": [
    "%%timeit\n",
    "a_long_list = [i**2 for i in range(10000)]"
   ]
  },
  {
   "cell_type": "markdown",
   "id": "10675d84",
   "metadata": {},
   "source": [
    "### Another use for the `in` keyword"
   ]
  },
  {
   "cell_type": "markdown",
   "id": "1d1794ae",
   "metadata": {},
   "source": [
    "We can use `in` to check if something is in a list:"
   ]
  },
  {
   "cell_type": "code",
   "execution_count": null,
   "id": "54db8d37",
   "metadata": {},
   "outputs": [],
   "source": [
    "regions = {\"Forebrain\", \"Midbrain\", \"Hindbrain\"}\n",
    "\n",
    "\"Forebrain\" in regions"
   ]
  },
  {
   "cell_type": "markdown",
   "id": "e6b40271",
   "metadata": {},
   "source": [
    "It works also for dictionaries, implicitly looking for matching keywards:"
   ]
  },
  {
   "cell_type": "code",
   "execution_count": null,
   "id": "1a429477",
   "metadata": {},
   "outputs": [],
   "source": [
    "regions_ids = {\"Forebrain\": 0, \"Midbrain\": 1, \"Hindbrain\": 2}\n",
    "\n",
    "val in regions_ids.values()"
   ]
  },
  {
   "cell_type": "markdown",
   "id": "e2bd0238",
   "metadata": {},
   "source": [
    "## Some notes on style and good practices"
   ]
  },
  {
   "cell_type": "markdown",
   "id": "d9b53ace",
   "metadata": {},
   "source": [
    "It is important to stick to some conventions when writing code!"
   ]
  },
  {
   "cell_type": "markdown",
   "id": "a984f4ba",
   "metadata": {},
   "source": [
    "Python guidelines are expressed in Python Enhancement Proposal 8 PEP8: https://peps.python.org/pep-0008/"
   ]
  },
  {
   "cell_type": "code",
   "execution_count": null,
   "id": "67db7078",
   "metadata": {},
   "outputs": [],
   "source": [
    "# Some examples:\n",
    "a_val = 10  # space around the equal in assignments\n",
    "another_val = a_val * 10  # space around math operators\n",
    "\n",
    "for l in range(a_val):  # no space before the colons in a for\n",
    "    print(l)"
   ]
  },
  {
   "cell_type": "markdown",
   "id": "b0af02a5",
   "metadata": {},
   "source": [
    "...But do not waste time on typesetting, we will do it automatically!"
   ]
  },
  {
   "cell_type": "markdown",
   "id": "46336bd3",
   "metadata": {},
   "source": [
    "All variables and functions should be `lowercase_with_underscores`:"
   ]
  },
  {
   "cell_type": "code",
   "execution_count": null,
   "id": "2aa352af",
   "metadata": {},
   "outputs": [],
   "source": [
    "a_value = 10"
   ]
  },
  {
   "cell_type": "markdown",
   "id": "17c874f9",
   "metadata": {},
   "source": [
    "Try to use long, informative variable names (also, pronounceable):"
   ]
  },
  {
   "cell_type": "code",
   "execution_count": null,
   "id": "6ee36b57",
   "metadata": {},
   "outputs": [],
   "source": [
    "un = \"Pippo\"\n",
    "\n",
    "username = \"Pippo\""
   ]
  },
  {
   "cell_type": "markdown",
   "id": "d3be8b2d",
   "metadata": {},
   "source": [
    "Maybe less common but strongly adviced: define constants with `UPPERCASE_WITH_UNDERSCORES`: "
   ]
  },
  {
   "cell_type": "code",
   "execution_count": null,
   "id": "55796f7e",
   "metadata": {},
   "outputs": [],
   "source": [
    "SCORE_THRESHOLD = 4\n",
    "a_list_of_scores = [1, 2, 3, 4, 5]\n",
    "\n",
    "filtered_vals = [v for v in a_list_of_scores if v > SCORE_THRESHOLD]"
   ]
  },
  {
   "cell_type": "markdown",
   "id": "3a25e0ce",
   "metadata": {},
   "source": [
    "Try to avoid redundancy and duplications!"
   ]
  },
  {
   "cell_type": "code",
   "execution_count": null,
   "id": "1f3e02b5",
   "metadata": {},
   "outputs": [],
   "source": [
    "# wrong:\n",
    "values_to_scale = [1, 2, 3]\n",
    "\n",
    "values_to_scale[0] = values_to_scale[0] * 3\n",
    "values_to_scale[1] = values_to_scale[1] * 3\n",
    "values_to_scale[2] = values_to_scale[2] * 3\n",
    "\n",
    "# good:\n",
    "GAIN = 3\n",
    "values_to_scale = [v * GAIN for v in values_to_scale]"
   ]
  },
  {
   "cell_type": "markdown",
   "id": "6d839ec2",
   "metadata": {},
   "source": [
    "Code organization: <span style=\"color:indianred\">avoid magic numbers</span>!"
   ]
  },
  {
   "cell_type": "code",
   "execution_count": null,
   "id": "cf0ee78b",
   "metadata": {},
   "outputs": [],
   "source": [
    "# wrong:\n",
    "\n",
    "for i in range(3):\n",
    "    print(values_to_scale[i])"
   ]
  },
  {
   "cell_type": "code",
   "execution_count": null,
   "id": "54f826bc",
   "metadata": {},
   "outputs": [],
   "source": [
    "# good:\n",
    "for val in values_to_scale:\n",
    "    print(values_to_scale[i])"
   ]
  },
  {
   "cell_type": "markdown",
   "id": "ab930d02",
   "metadata": {},
   "source": [
    " "
   ]
  },
  {
   "cell_type": "code",
   "execution_count": null,
   "id": "2c96573d",
   "metadata": {},
   "outputs": [],
   "source": [
    "# wrong:\n",
    "diameter = 5 * 2 * 3.14\n",
    "area = (5**2) * 3.14"
   ]
  },
  {
   "cell_type": "code",
   "execution_count": null,
   "id": "bd52c953",
   "metadata": {},
   "outputs": [],
   "source": [
    "# good:\n",
    "PI = 3.14\n",
    "radius = 5\n",
    "diameter = radius * 2 * PI\n",
    "area = (radius**2) * PI"
   ]
  },
  {
   "cell_type": "markdown",
   "id": "22fa14e5",
   "metadata": {},
   "source": [
    "**Important!** code duplications and magic numbers are the n.1 source of bugs when you are tinkering with an analysis!"
   ]
  },
  {
   "cell_type": "markdown",
   "id": "7368230b",
   "metadata": {},
   "source": [
    "Use good naming to avoid mental mapping!"
   ]
  },
  {
   "cell_type": "code",
   "execution_count": null,
   "id": "2ad281d3",
   "metadata": {},
   "outputs": [],
   "source": [
    "# Bad:\n",
    "town_names = (\"Trento\", \"Mattarello\", \"Rovereto\")\n",
    "\n",
    "for town in town_names:\n",
    "    # something long happening here\n",
    "\n",
    "    # Wait, what's `item` again?\n",
    "    print(town)"
   ]
  },
  {
   "cell_type": "code",
   "execution_count": null,
   "id": "d1ff2cc7",
   "metadata": {},
   "outputs": [],
   "source": [
    "# Good:"
   ]
  },
  {
   "cell_type": "markdown",
   "id": "c8c7a242",
   "metadata": {},
   "source": [
    "Try to keep your logic as simple as possible!"
   ]
  },
  {
   "cell_type": "code",
   "execution_count": null,
   "id": "8839cca4",
   "metadata": {},
   "outputs": [],
   "source": [
    "# Not great:\n",
    "town_name = \"Trento\"\n",
    "\n",
    "if town_name == \"Trento\":\n",
    "    zip_code = 38122\n",
    "elif town_name == \"Mattarello\":\n",
    "    zip_code = 38100\n",
    "elif town_name == \"Rovereto\":\n",
    "    zip_code = 38068\n",
    "else:\n",
    "    print(\"Zip code not available\")\n",
    "print(zip_code)"
   ]
  },
  {
   "cell_type": "code",
   "execution_count": null,
   "id": "0eda463f",
   "metadata": {},
   "outputs": [],
   "source": [
    "# Good:\n",
    "zip_codes_dict = {\"Trento\": 38122, \"Mattarello\": 38100, \"Rovereto\": 38068}\n",
    "\n",
    "if town_name in zip_codes_dict:\n",
    "    zip_code = zip_codes_dict[town_name]"
   ]
  },
  {
   "cell_type": "markdown",
   "id": "d76f8f8d",
   "metadata": {},
   "source": [
    "(practicals 0.2.0)"
   ]
  },
  {
   "cell_type": "markdown",
   "id": "e45cc61f",
   "metadata": {},
   "source": [
    "### `while`"
   ]
  },
  {
   "cell_type": "markdown",
   "id": "6fba628a",
   "metadata": {},
   "source": [
    "With `while` we can keep repeating code until one condition is met instead of a fixed number of times, (like we do  when we use `for`):"
   ]
  },
  {
   "cell_type": "code",
   "execution_count": null,
   "id": "6e0291e8",
   "metadata": {},
   "outputs": [],
   "source": [
    "# loop until a number is less then 5\n",
    "\n",
    "val = 0\n",
    "\n",
    "while val < 5:\n",
    "    val = val + 1\n",
    "    print(val)\n",
    "print(\"Final val: \", val)"
   ]
  },
  {
   "cell_type": "code",
   "execution_count": null,
   "id": "127153bc",
   "metadata": {},
   "outputs": [],
   "source": [
    "# a better example with random. Loop until coin flip is 1\n",
    "import random\n",
    "\n",
    "coin_flip = 0\n",
    "while coin_flip == 0:\n",
    "    # coin_flip = random.randint(0, 1)\n",
    "    print(coin_flip)"
   ]
  },
  {
   "cell_type": "markdown",
   "id": "24a83835",
   "metadata": {},
   "source": [
    "#### `break`"
   ]
  },
  {
   "cell_type": "markdown",
   "id": "88f854e6",
   "metadata": {},
   "source": [
    "We can `break` out of a loop:"
   ]
  },
  {
   "cell_type": "code",
   "execution_count": null,
   "id": "879e8d2c",
   "metadata": {},
   "outputs": [],
   "source": [
    "i = 0\n",
    "\n",
    "while True:\n",
    "    if i == 8:\n",
    "        break\n",
    "    print(i)\n",
    "    i = i + 1"
   ]
  },
  {
   "cell_type": "markdown",
   "id": "f24e995e",
   "metadata": {},
   "source": [
    "#### `continue`"
   ]
  },
  {
   "cell_type": "markdown",
   "id": "e7c25356",
   "metadata": {},
   "source": [
    "we can `continue` to next iteration:"
   ]
  },
  {
   "cell_type": "code",
   "execution_count": null,
   "id": "1ab71477",
   "metadata": {},
   "outputs": [],
   "source": [
    "for i in range(4):\n",
    "    if i == 2:\n",
    "        continue\n",
    "    print(i)"
   ]
  },
  {
   "cell_type": "markdown",
   "id": "807d4b16",
   "metadata": {},
   "source": [
    "(Practicals 0.2.1)"
   ]
  }
 ],
 "metadata": {
  "celltoolbar": "Slideshow",
  "kernelspec": {
   "display_name": "course-env",
   "language": "python",
   "name": "course-env"
  },
  "language_info": {
   "codemirror_mode": {
    "name": "ipython",
    "version": 3
   },
   "file_extension": ".py",
   "mimetype": "text/x-python",
   "name": "python",
   "nbconvert_exporter": "python",
   "pygments_lexer": "ipython3",
   "version": "3.10.13"
  }
 },
 "nbformat": 4,
 "nbformat_minor": 5
}
