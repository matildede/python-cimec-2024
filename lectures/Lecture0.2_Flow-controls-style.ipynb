{
 "cells": [
  {
   "cell_type": "markdown",
   "id": "3ca811a3",
   "metadata": {},
   "source": [
    "# Python for (open) Neuroscience\n",
    "\n",
    "_Lecture 0.2_ - Flow control\n",
    "\n",
    "Luigi Petrucco\n",
    "\n",
    "[![Open In Colab](https://colab.research.google.com/assets/colab-badge.svg)](https://colab.research.google.com/github/vigji/python-cimec-2024/blob/main/lectures/Lecture0.2_Controls-style-functions.ipynb)"
   ]
  },
  {
   "cell_type": "markdown",
   "id": "49d0bd96",
   "metadata": {
    "slideshow": {
     "slide_type": "subslide"
    }
   },
   "source": [
    "## Lecture outline"
   ]
  },
  {
   "cell_type": "markdown",
   "id": "fdb7ad25",
   "metadata": {
    "slideshow": {
     "slide_type": "-"
    }
   },
   "source": [
    "- Leftovers on data containers\n",
    "- What coding is really about: flow control\n",
    "- Some comments on style and structure\n"
   ]
  },
  {
   "cell_type": "markdown",
   "id": "5361032c",
   "metadata": {
    "slideshow": {
     "slide_type": "subslide"
    }
   },
   "source": [
    "## Some more operations with data containers"
   ]
  },
  {
   "cell_type": "markdown",
   "id": "ed25ccdd",
   "metadata": {
    "slideshow": {
     "slide_type": "subslide"
    }
   },
   "source": [
    "### Sum\n",
    "\n",
    "`sum()` works on `list`s, `tuple`s, `set`s with values that can be added"
   ]
  },
  {
   "cell_type": "code",
   "execution_count": 13,
   "id": "5dcdd443",
   "metadata": {
    "slideshow": {
     "slide_type": "subslide"
    }
   },
   "outputs": [
    {
     "data": {
      "text/plain": [
       "6"
      ]
     },
     "execution_count": 13,
     "metadata": {},
     "output_type": "execute_result"
    }
   ],
   "source": [
    "a_list = [1,2,3]\n",
    "sum(a_list)"
   ]
  },
  {
   "cell_type": "code",
   "execution_count": 14,
   "id": "d9899ea0",
   "metadata": {},
   "outputs": [
    {
     "data": {
      "text/plain": [
       "2"
      ]
     },
     "execution_count": 14,
     "metadata": {},
     "output_type": "execute_result"
    }
   ],
   "source": [
    "a_tuple = (True, False, True)\n",
    "sum(a_tuple)"
   ]
  },
  {
   "cell_type": "markdown",
   "id": "eccae8bb",
   "metadata": {
    "slideshow": {
     "slide_type": "subslide"
    }
   },
   "source": [
    "## Check values with `in`"
   ]
  },
  {
   "cell_type": "markdown",
   "id": "5042ff01",
   "metadata": {},
   "source": [
    "To check if something is in a data container we can use `in`:"
   ]
  },
  {
   "cell_type": "code",
   "execution_count": 1,
   "id": "784bd337",
   "metadata": {
    "slideshow": {
     "slide_type": "subslide"
    }
   },
   "outputs": [
    {
     "data": {
      "text/plain": [
       "True"
      ]
     },
     "execution_count": 1,
     "metadata": {},
     "output_type": "execute_result"
    }
   ],
   "source": [
    "a_list = [1,2,3]\n",
    "\n",
    "1 in a_list"
   ]
  },
  {
   "cell_type": "code",
   "execution_count": 2,
   "id": "501255e0",
   "metadata": {},
   "outputs": [
    {
     "data": {
      "text/plain": [
       "True"
      ]
     },
     "execution_count": 2,
     "metadata": {},
     "output_type": "execute_result"
    }
   ],
   "source": [
    "regions = {\"Forebrain\", \"Midbrain\", \"Hindbrain\"}\n",
    "\n",
    "\"Forebrain\" in regions"
   ]
  },
  {
   "cell_type": "markdown",
   "id": "86a3a688",
   "metadata": {
    "slideshow": {
     "slide_type": "subslide"
    }
   },
   "source": [
    "For dictionaries, we have to check separately `keys()` and `values()`"
   ]
  },
  {
   "cell_type": "code",
   "execution_count": 3,
   "id": "2f3372db",
   "metadata": {},
   "outputs": [
    {
     "data": {
      "text/plain": [
       "False"
      ]
     },
     "execution_count": 3,
     "metadata": {},
     "output_type": "execute_result"
    }
   ],
   "source": [
    "a_dict = {\"key_0\": 1, \n",
    "          \"key_1\": 2}\n",
    "0 in a_dict.values()"
   ]
  },
  {
   "cell_type": "code",
   "execution_count": 4,
   "id": "5f2d24be",
   "metadata": {},
   "outputs": [
    {
     "data": {
      "text/plain": [
       "True"
      ]
     },
     "execution_count": 4,
     "metadata": {},
     "output_type": "execute_result"
    }
   ],
   "source": [
    "\"key_0\" in a_dict.keys()"
   ]
  },
  {
   "cell_type": "markdown",
   "id": "9793fe35",
   "metadata": {
    "slideshow": {
     "slide_type": "slide"
    }
   },
   "source": [
    "## What can we do with variables?"
   ]
  },
  {
   "cell_type": "markdown",
   "id": "c2f9ba40",
   "metadata": {
    "slideshow": {
     "slide_type": "fragment"
    }
   },
   "source": [
    "operations on variables and the flow of the program are managed with control structures:\n",
    " - `if` / `elif` / `else`\n",
    " - `for`\n",
    " - `while`"
   ]
  },
  {
   "cell_type": "markdown",
   "id": "5a462a1f",
   "metadata": {
    "slideshow": {
     "slide_type": "slide"
    }
   },
   "source": [
    "### `if` / `elif` / `else`"
   ]
  },
  {
   "cell_type": "markdown",
   "id": "86e5e978",
   "metadata": {},
   "source": [
    "With a `if` statement we can make the execution of some lines of code optional:"
   ]
  },
  {
   "cell_type": "code",
   "execution_count": 19,
   "id": "5a225215",
   "metadata": {},
   "outputs": [],
   "source": [
    "a = 1\n",
    "if a == 10:\n",
    "    print(\"equal 10\")"
   ]
  },
  {
   "cell_type": "markdown",
   "id": "b093bb99",
   "metadata": {
    "slideshow": {
     "slide_type": "subslide"
    }
   },
   "source": [
    "We can combine multiple conditions:"
   ]
  },
  {
   "cell_type": "code",
   "execution_count": 20,
   "id": "051255bb",
   "metadata": {},
   "outputs": [
    {
     "name": "stdout",
     "output_type": "stream",
     "text": [
      "2 8\n"
     ]
    }
   ],
   "source": [
    "a = 2\n",
    "b = 8\n",
    "\n",
    "if a > 1 and b < 10:\n",
    "    print(a, b)"
   ]
  },
  {
   "cell_type": "markdown",
   "id": "397b8631",
   "metadata": {
    "slideshow": {
     "slide_type": "subslide"
    }
   },
   "source": [
    "We can specify an alternative execution with `else`; this is optional"
   ]
  },
  {
   "cell_type": "code",
   "execution_count": null,
   "id": "96ee6604",
   "metadata": {},
   "outputs": [],
   "source": [
    "a = 1\n",
    "if a > 10:\n",
    "    print(\"greater than 10\")\n",
    "else:\n",
    "    print(\"smaller than 10\")"
   ]
  },
  {
   "cell_type": "markdown",
   "id": "01606c8c",
   "metadata": {
    "slideshow": {
     "slide_type": "subslide"
    }
   },
   "source": [
    "We can specify multiple alternative executions with `elif`:"
   ]
  },
  {
   "cell_type": "code",
   "execution_count": 21,
   "id": "b121c670",
   "metadata": {},
   "outputs": [
    {
     "name": "stdout",
     "output_type": "stream",
     "text": [
      "smaller than 5\n"
     ]
    }
   ],
   "source": [
    "a = 1\n",
    "if a < 5:\n",
    "    print(\"smaller than 5\")\n",
    "elif a == 5:\n",
    "    print(\"equal 5\")\n",
    "else:\n",
    "    print(\"greater than 5\")"
   ]
  },
  {
   "cell_type": "markdown",
   "id": "02536d0d",
   "metadata": {
    "slideshow": {
     "slide_type": "slide"
    }
   },
   "source": [
    "### `for`"
   ]
  },
  {
   "cell_type": "markdown",
   "id": "ecf329a2",
   "metadata": {
    "slideshow": {
     "slide_type": "fragment"
    }
   },
   "source": [
    "With a `for` loop we can repeat many times the same code lines:"
   ]
  },
  {
   "cell_type": "code",
   "execution_count": 1,
   "id": "2593c6d4",
   "metadata": {},
   "outputs": [
    {
     "name": "stdout",
     "output_type": "stream",
     "text": [
      "0\n",
      "1\n",
      "2\n"
     ]
    }
   ],
   "source": [
    "for i in range(3):\n",
    "    print(i)"
   ]
  },
  {
   "cell_type": "markdown",
   "id": "8b0d0c8e",
   "metadata": {
    "slideshow": {
     "slide_type": "subslide"
    }
   },
   "source": [
    "With `for` loops we can easily go through lists:"
   ]
  },
  {
   "cell_type": "code",
   "execution_count": 3,
   "id": "1422301d",
   "metadata": {},
   "outputs": [
    {
     "name": "stdout",
     "output_type": "stream",
     "text": [
      "Another loop entry\n",
      "a\n",
      "Another loop entry\n",
      "simple\n",
      "Another loop entry\n",
      "list\n"
     ]
    }
   ],
   "source": [
    "a_list = [\"a\", \"simple\", \"list\"]\n",
    "\n",
    "for word in a_list:\n",
    "    print(\"Another loop entry\")\n",
    "    print(word)"
   ]
  },
  {
   "cell_type": "markdown",
   "id": "7f689932",
   "metadata": {
    "slideshow": {
     "slide_type": "subslide"
    }
   },
   "source": [
    "We can loop over lists while having also indexes with `enumerate`:"
   ]
  },
  {
   "cell_type": "code",
   "execution_count": null,
   "id": "31165b5a",
   "metadata": {},
   "outputs": [],
   "source": [
    "for idx, word in enumerate(a_list):\n",
    "    print(idx, word)"
   ]
  },
  {
   "cell_type": "markdown",
   "id": "fbae133c",
   "metadata": {
    "slideshow": {
     "slide_type": "subslide"
    }
   },
   "source": [
    "Finally, we can iterate through multiple things at the same time with `zip`:\n"
   ]
  },
  {
   "cell_type": "code",
   "execution_count": null,
   "id": "23e5990b",
   "metadata": {},
   "outputs": [],
   "source": [
    "a_list_of_words = [\"a\", \"simple\", \"list\"]\n",
    "another_list_of_numbers = [10, 30, 42]\n",
    "\n",
    "for word, number in zip(a_list_of_words, another_list_of_numbers):\n",
    "    print(f\"element from list 1:{word}   element from list 2: {number}\")"
   ]
  },
  {
   "cell_type": "markdown",
   "id": "f15b1d1a",
   "metadata": {
    "slideshow": {
     "slide_type": "subslide"
    }
   },
   "source": [
    "We can use `for` loops to go over anything that is <span style=\"color:indianred\">iterable</span>: eg lists, tuples"
   ]
  },
  {
   "cell_type": "markdown",
   "id": "0b9fa803",
   "metadata": {
    "slideshow": {
     "slide_type": "subslide"
    }
   },
   "source": [
    "but also dictionaries, if we use the correct methods to specify how we want to loop:"
   ]
  },
  {
   "cell_type": "code",
   "execution_count": null,
   "id": "6a02ae6f",
   "metadata": {
    "slideshow": {
     "slide_type": "-"
    }
   },
   "outputs": [],
   "source": [
    "a_dict = dict(sam=3, lisa=1, joe=0)\n",
    "\n",
    "# loop over keys:\n",
    "for key in a_dict.keys():\n",
    "    print(key)"
   ]
  },
  {
   "cell_type": "code",
   "execution_count": null,
   "id": "973c75f9",
   "metadata": {
    "slideshow": {
     "slide_type": "subslide"
    }
   },
   "outputs": [],
   "source": [
    "# loop over values:\n",
    "for val in a_dict.values():\n",
    "    print(val)"
   ]
  },
  {
   "cell_type": "code",
   "execution_count": null,
   "id": "e028730a",
   "metadata": {
    "slideshow": {
     "slide_type": "subslide"
    }
   },
   "outputs": [],
   "source": [
    "# loop over keys and values:\n",
    "for key, val in a_dict.items():\n",
    "    print(key, val)"
   ]
  },
  {
   "cell_type": "markdown",
   "id": "f82d7b3e",
   "metadata": {
    "slideshow": {
     "slide_type": "subslide"
    }
   },
   "source": [
    "### `for` loops meet `list`s: list comprehension"
   ]
  },
  {
   "cell_type": "markdown",
   "id": "698863e6",
   "metadata": {
    "slideshow": {
     "slide_type": "fragment"
    }
   },
   "source": [
    "Many times, the syntax for generating a list can be tediously long:"
   ]
  },
  {
   "cell_type": "code",
   "execution_count": 6,
   "id": "f9f45f25",
   "metadata": {
    "slideshow": {
     "slide_type": "subslide"
    }
   },
   "outputs": [
    {
     "data": {
      "text/plain": [
       "['M', 't', 't', 's', 'f', 'g', 'a', 'l', 'c', 'b', 't', 'l']"
      ]
     },
     "execution_count": 6,
     "metadata": {},
     "output_type": "execute_result"
    }
   ],
   "source": [
    "word_list = \"Many times, the syntax for generating a list can be tediously long\".split()\n",
    "\n",
    "first_letters = []\n",
    "for word in word_list:\n",
    "    first_letters.append(word[0])\n",
    "first_letters"
   ]
  },
  {
   "cell_type": "markdown",
   "id": "78400cbb",
   "metadata": {
    "slideshow": {
     "slide_type": "subslide"
    }
   },
   "source": [
    "Instead, we can use <span style=\"color:indianred\">list comprehensions</span>:"
   ]
  },
  {
   "cell_type": "code",
   "execution_count": null,
   "id": "a4a69259",
   "metadata": {},
   "outputs": [],
   "source": [
    "first_letters = [word[0] for word in word_list]"
   ]
  },
  {
   "cell_type": "markdown",
   "id": "04bb0b13",
   "metadata": {
    "slideshow": {
     "slide_type": "subslide"
    }
   },
   "source": [
    "`🐍  Very Pythonic  🐍`\n",
    "\n",
    "Not just nicer sintax! List comprehensions are also more efficient!"
   ]
  },
  {
   "cell_type": "markdown",
   "id": "5eda2e12",
   "metadata": {
    "slideshow": {
     "slide_type": "subslide"
    }
   },
   "source": [
    "We can even incorporate conditions in list comprehensions:"
   ]
  },
  {
   "cell_type": "code",
   "execution_count": null,
   "id": "0814e29e",
   "metadata": {},
   "outputs": [],
   "source": [
    "first_letters = [word[0] for word in word_list if len(word) > 3]"
   ]
  },
  {
   "cell_type": "markdown",
   "id": "e7833ba6",
   "metadata": {
    "slideshow": {
     "slide_type": "fragment"
    }
   },
   "source": [
    "...but remember!\n",
    "\n",
    "\n",
    "    🪷 The Zen of Python 🪷\n",
    "        \n",
    "        Readability counts.\n"
   ]
  },
  {
   "cell_type": "markdown",
   "id": "082eb749",
   "metadata": {
    "slideshow": {
     "slide_type": "subslide"
    }
   },
   "source": [
    "So avoid nesting too many conditions inside a list comprehension!"
   ]
  },
  {
   "cell_type": "code",
   "execution_count": 1,
   "id": "3054f029",
   "metadata": {},
   "outputs": [
    {
     "data": {
      "text/plain": [
       "['apple']"
      ]
     },
     "execution_count": 1,
     "metadata": {},
     "output_type": "execute_result"
    }
   ],
   "source": [
    "fruits = [\n",
    "    {\"name\": \"apple\", \"state\": \"ripe\", \"weight\": 10},\n",
    "    {\"name\": \"cherry\", \"state\": \"ripe\", \"weight\": 10},\n",
    "    {\"name\": \"grape\", \"state\": \"unripe\", \"weight\": 20}\n",
    "]\n",
    "\n",
    "# Select if ripe and > 50 weight or if ripe and apple:\n",
    "selected_fruits = [\n",
    "    fruit[\"name\"] for fruit in fruits\n",
    "    if (fruit[\"state\"] == \"ripe\" and fruit[\"weight\"] > 50) \n",
    "        or (fruit[\"name\"] == \"apple\" and fruit[\"state\"] == \"ripe\")\n",
    "    ]\n",
    "selected_fruits"
   ]
  },
  {
   "cell_type": "code",
   "execution_count": 2,
   "id": "61576e1a",
   "metadata": {
    "slideshow": {
     "slide_type": "subslide"
    }
   },
   "outputs": [],
   "source": [
    "# In this case, it is better something like this: \n",
    "\n",
    "selected_fruits = []\n",
    "for fruit in fruits:\n",
    "    if fruit[\"state\"] == \"ripe\":\n",
    "        if fruit[\"name\"] == \"apple\":\n",
    "            selected_fruits.append(fruit[\"name\"])\n",
    "        elif fruit[\"weight\"] > 50:\n",
    "            selected_fruits.append(fruit[\"name\"])"
   ]
  },
  {
   "cell_type": "markdown",
   "id": "1779cdfc",
   "metadata": {
    "slideshow": {
     "slide_type": "subslide"
    }
   },
   "source": [
    "### `for` loop meets `dict`: dictionary comprehension"
   ]
  },
  {
   "cell_type": "markdown",
   "id": "d7b7a307",
   "metadata": {},
   "source": [
    "We can use a similar trick to define dictionaries; the syntax will be:\n",
    "```python\n",
    "{key: val for something in something_iterable}\n",
    "```"
   ]
  },
  {
   "cell_type": "code",
   "execution_count": null,
   "id": "9b6316f8",
   "metadata": {},
   "outputs": [],
   "source": [
    "letters_count_dict = {word: len(word) for word in word_list}\n",
    "print(letters_count_dict)"
   ]
  },
  {
   "cell_type": "markdown",
   "id": "2c54583a",
   "metadata": {
    "slideshow": {
     "slide_type": "slide"
    }
   },
   "source": [
    "(Practical 0.2.0-1)"
   ]
  },
  {
   "cell_type": "markdown",
   "id": "75c7c120",
   "metadata": {
    "slideshow": {
     "slide_type": "subslide"
    }
   },
   "source": [
    "## Some notes on style and good practices"
   ]
  },
  {
   "cell_type": "markdown",
   "id": "de0c9988",
   "metadata": {},
   "source": [
    "It is important to stick to some conventions when writing code!"
   ]
  },
  {
   "cell_type": "markdown",
   "id": "0a46fd5d",
   "metadata": {
    "slideshow": {
     "slide_type": "subslide"
    }
   },
   "source": [
    "Python guidelines are expressed in Python Enhancement Proposal 8 PEP8: https://peps.python.org/pep-0008/"
   ]
  },
  {
   "cell_type": "code",
   "execution_count": null,
   "id": "d7d57735",
   "metadata": {
    "slideshow": {
     "slide_type": "subslide"
    }
   },
   "outputs": [],
   "source": [
    "# Some examples:\n",
    "a_val = 10  # space around the equal in assignments\n",
    "another_val = a_val * 10  # space around math operators\n",
    "\n",
    "for l in range(a_val):  # no space before the colons in a for\n",
    "    print(l)"
   ]
  },
  {
   "cell_type": "markdown",
   "id": "c7d46d5f",
   "metadata": {},
   "source": [
    "...(but do not waste time on typesetting, we can do it automatically)"
   ]
  },
  {
   "cell_type": "markdown",
   "id": "f100c685",
   "metadata": {
    "slideshow": {
     "slide_type": "subslide"
    }
   },
   "source": [
    "All variables and functions should be `lowercase_with_underscores`:"
   ]
  },
  {
   "cell_type": "code",
   "execution_count": null,
   "id": "4ad10520",
   "metadata": {},
   "outputs": [],
   "source": [
    "a_value = 10"
   ]
  },
  {
   "cell_type": "markdown",
   "id": "ad26c6f1",
   "metadata": {
    "slideshow": {
     "slide_type": "subslide"
    }
   },
   "source": [
    "Try to use long, informative variable names (also, pronounceable):"
   ]
  },
  {
   "cell_type": "code",
   "execution_count": null,
   "id": "01ff26c8",
   "metadata": {},
   "outputs": [],
   "source": [
    "un = \"Pippo\"\n",
    "\n",
    "username = \"Pippo\""
   ]
  },
  {
   "cell_type": "markdown",
   "id": "3ba14073",
   "metadata": {
    "slideshow": {
     "slide_type": "subslide"
    }
   },
   "source": [
    "Less common but strongly adviced: define widely used constants as `UPPERCASE_WITH_UNDERSCORES`: "
   ]
  },
  {
   "cell_type": "code",
   "execution_count": 3,
   "id": "3ce95079",
   "metadata": {},
   "outputs": [],
   "source": [
    "SCORE_THRESHOLD = 4  # this is an arbitrary threshold in my analysis\n",
    "\n",
    "a_list_of_scores = [1, 2, 3, 4, 5]  # this is data and might change\n",
    "\n",
    "filtered_vals = [v for v in a_list_of_scores if v > SCORE_THRESHOLD]"
   ]
  },
  {
   "cell_type": "markdown",
   "id": "e0477f4e",
   "metadata": {
    "slideshow": {
     "slide_type": "subslide"
    }
   },
   "source": [
    "Try to avoid redundancy and duplications!"
   ]
  },
  {
   "cell_type": "code",
   "execution_count": null,
   "id": "95c5dfd9",
   "metadata": {},
   "outputs": [],
   "source": [
    "# wrong:\n",
    "values_to_scale = [1, 2, 3]\n",
    "\n",
    "values_to_scale[0] = values_to_scale[0] * 3\n",
    "values_to_scale[1] = values_to_scale[1] * 3\n",
    "values_to_scale[2] = values_to_scale[2] * 3\n",
    "\n",
    "# good:\n",
    "GAIN = 3\n",
    "values_to_scale = [v * GAIN for v in values_to_scale]"
   ]
  },
  {
   "cell_type": "markdown",
   "id": "4050a6e7",
   "metadata": {
    "slideshow": {
     "slide_type": "subslide"
    }
   },
   "source": [
    "Code organization: <span style=\"color:indianred\">avoid magic numbers</span>!"
   ]
  },
  {
   "cell_type": "code",
   "execution_count": null,
   "id": "62fef510",
   "metadata": {},
   "outputs": [],
   "source": [
    "# wrong:\n",
    "\n",
    "for i in range(3):\n",
    "    print(values_to_scale[i])"
   ]
  },
  {
   "cell_type": "code",
   "execution_count": null,
   "id": "fdbd38f6",
   "metadata": {},
   "outputs": [],
   "source": [
    "# good:\n",
    "for val in values_to_scale:\n",
    "    print(values_to_scale[i])"
   ]
  },
  {
   "cell_type": "markdown",
   "id": "b0cfea62",
   "metadata": {
    "slideshow": {
     "slide_type": "subslide"
    }
   },
   "source": [
    " "
   ]
  },
  {
   "cell_type": "code",
   "execution_count": null,
   "id": "762d0286",
   "metadata": {},
   "outputs": [],
   "source": [
    "# wrong:\n",
    "diameter = 5 * 2 * 3.14\n",
    "area = (5**2) * 3.14"
   ]
  },
  {
   "cell_type": "code",
   "execution_count": 8,
   "id": "cb120940",
   "metadata": {},
   "outputs": [],
   "source": [
    "# good:\n",
    "PI = 3.141592  # constant that we use for geometry\n",
    "radius = 5\n",
    "\n",
    "diameter = radius * 2 * PI\n",
    "area = (radius**2) * PI"
   ]
  },
  {
   "cell_type": "markdown",
   "id": "696d5ceb",
   "metadata": {
    "slideshow": {
     "slide_type": "subslide"
    }
   },
   "source": [
    "**Important!** code duplications and magic numbers are the n.1 source of bugs when you are tinkering with an analysis!"
   ]
  },
  {
   "cell_type": "markdown",
   "id": "2a4dc949",
   "metadata": {
    "slideshow": {
     "slide_type": "subslide"
    }
   },
   "source": [
    "Use good naming in loops to avoid mental mapping!"
   ]
  },
  {
   "cell_type": "code",
   "execution_count": null,
   "id": "44953489",
   "metadata": {},
   "outputs": [],
   "source": [
    "# Bad:\n",
    "town_names = (\"Trento\", \"Mattarello\", \"Rovereto\")\n",
    "\n",
    "for item in town_names:\n",
    "    # something long happening here:\n",
    "    ...\n",
    "    ...\n",
    "    ...\n",
    "    item ...  # ...wait, what's `item` again?\n",
    "    "
   ]
  },
  {
   "cell_type": "code",
   "execution_count": null,
   "id": "318ccafb",
   "metadata": {
    "slideshow": {
     "slide_type": "subslide"
    }
   },
   "outputs": [],
   "source": [
    "# Good:\n",
    "town_names = (\"Trento\", \"Mattarello\", \"Rovereto\")\n",
    "\n",
    "for town_name in town_names:\n",
    "    # The town_name variable name is more informative\n",
    "    ..."
   ]
  },
  {
   "cell_type": "markdown",
   "id": "cd9d1438",
   "metadata": {
    "slideshow": {
     "slide_type": "subslide"
    }
   },
   "source": [
    "Try to keep your logic as simple as possible!"
   ]
  },
  {
   "cell_type": "code",
   "execution_count": null,
   "id": "15905560",
   "metadata": {},
   "outputs": [],
   "source": [
    "# Not great:\n",
    "town_name = \"Trento\"\n",
    "\n",
    "if town_name == \"Trento\":\n",
    "    zip_code = 38122\n",
    "elif town_name == \"Mattarello\":\n",
    "    zip_code = 38100\n",
    "elif town_name == \"Rovereto\":\n",
    "    zip_code = 38068\n",
    "else:\n",
    "    print(\"Zip code not available\")\n",
    "print(zip_code)"
   ]
  },
  {
   "cell_type": "code",
   "execution_count": null,
   "id": "2882668b",
   "metadata": {
    "slideshow": {
     "slide_type": "subslide"
    }
   },
   "outputs": [],
   "source": [
    "# Good:\n",
    "zip_codes_dict = {\"Trento\": 38122, \"Mattarello\": 38100, \"Rovereto\": 38068}\n",
    "\n",
    "if town_name in zip_codes_dict:\n",
    "    zip_code = zip_codes_dict[town_name]"
   ]
  },
  {
   "cell_type": "markdown",
   "id": "67120cb3",
   "metadata": {
    "slideshow": {
     "slide_type": "subslide"
    }
   },
   "source": [
    "### `while`"
   ]
  },
  {
   "cell_type": "markdown",
   "id": "b358df84",
   "metadata": {},
   "source": [
    "With `while` we can keep repeating code until one condition is met instead of a fixed number of times, (like we do  when we use `for`)"
   ]
  },
  {
   "cell_type": "code",
   "execution_count": 24,
   "id": "b759daf8",
   "metadata": {
    "slideshow": {
     "slide_type": "subslide"
    }
   },
   "outputs": [
    {
     "name": "stdout",
     "output_type": "stream",
     "text": [
      "Value of i:  0\n",
      "Value of i:  1\n",
      "Value of i:  2\n",
      "Value of i:  3\n",
      "Value of i:  4\n",
      "Value of i:  5\n",
      "Value of i:  6\n",
      "Value of i:  7\n",
      "Value of i:  8\n",
      "Value of i:  9\n"
     ]
    }
   ],
   "source": [
    "# Very simple example that would normally be a for loop:\n",
    "\n",
    "i = 0\n",
    "while i < 10:\n",
    "    print(\"Value of i: \", i)\n",
    "    i += 1"
   ]
  },
  {
   "cell_type": "code",
   "execution_count": 22,
   "id": "65109c7d",
   "metadata": {
    "slideshow": {
     "slide_type": "subslide"
    }
   },
   "outputs": [
    {
     "name": "stdout",
     "output_type": "stream",
     "text": [
      "Flip:  0\n",
      "Flip:  1\n"
     ]
    }
   ],
   "source": [
    "# a better example with random. Loop until coin flip is 1\n",
    "import random\n",
    "\n",
    "coin_flip = 0\n",
    "while coin_flip == 0:\n",
    "    coin_flip = random.randint(0, 1)\n",
    "    print(\"Flip: \", coin_flip)"
   ]
  },
  {
   "cell_type": "markdown",
   "id": "e3fbba40",
   "metadata": {
    "slideshow": {
     "slide_type": "subslide"
    }
   },
   "source": [
    "#### `break`"
   ]
  },
  {
   "cell_type": "markdown",
   "id": "58f64232",
   "metadata": {},
   "source": [
    "We can `break` out of a loop:"
   ]
  },
  {
   "cell_type": "code",
   "execution_count": null,
   "id": "1ae5a83f",
   "metadata": {},
   "outputs": [],
   "source": [
    "i = 0\n",
    "\n",
    "while True:\n",
    "    if i == 8:\n",
    "        break\n",
    "    print(i)\n",
    "    i = i + 1"
   ]
  },
  {
   "cell_type": "markdown",
   "id": "f3e81e9c",
   "metadata": {
    "slideshow": {
     "slide_type": "subslide"
    }
   },
   "source": [
    "#### `continue`"
   ]
  },
  {
   "cell_type": "markdown",
   "id": "1049b6c9",
   "metadata": {},
   "source": [
    "we can `continue` to next iteration:"
   ]
  },
  {
   "cell_type": "code",
   "execution_count": 25,
   "id": "b245fce6",
   "metadata": {},
   "outputs": [
    {
     "name": "stdout",
     "output_type": "stream",
     "text": [
      "0\n",
      "1\n",
      "3\n"
     ]
    }
   ],
   "source": [
    "for i in range(4):\n",
    "    if i == 2:\n",
    "        continue\n",
    "    print(i)"
   ]
  },
  {
   "cell_type": "markdown",
   "id": "bb3ed09e",
   "metadata": {},
   "source": [
    "(Practicals 0.2.2)"
   ]
  },
  {
   "cell_type": "markdown",
   "id": "df5207db",
   "metadata": {
    "slideshow": {
     "slide_type": "subslide"
    }
   },
   "source": [
    "## [optional] A special variable type I forgot: `None`"
   ]
  },
  {
   "cell_type": "markdown",
   "id": "acc5bae7",
   "metadata": {},
   "source": [
    "If a variable is `None` no value is assigned to it!"
   ]
  },
  {
   "cell_type": "code",
   "execution_count": null,
   "id": "aeefaab6",
   "metadata": {},
   "outputs": [],
   "source": [
    "a = None\n",
    "print(a)"
   ]
  },
  {
   "cell_type": "markdown",
   "id": "7423325f",
   "metadata": {
    "slideshow": {
     "slide_type": "subslide"
    }
   },
   "source": [
    "`None` is different from `0`, `False`, or empty string `\"\"`"
   ]
  },
  {
   "cell_type": "code",
   "execution_count": 22,
   "id": "a13ab702",
   "metadata": {},
   "outputs": [
    {
     "data": {
      "text/plain": [
       "False"
      ]
     },
     "execution_count": 22,
     "metadata": {},
     "output_type": "execute_result"
    }
   ],
   "source": [
    "a = None\n",
    "a == 0"
   ]
  },
  {
   "cell_type": "code",
   "execution_count": 23,
   "id": "9cf5c4bb",
   "metadata": {},
   "outputs": [
    {
     "data": {
      "text/plain": [
       "False"
      ]
     },
     "execution_count": 23,
     "metadata": {},
     "output_type": "execute_result"
    }
   ],
   "source": [
    "a == False"
   ]
  },
  {
   "cell_type": "markdown",
   "id": "767a7a3d",
   "metadata": {
    "slideshow": {
     "slide_type": "subslide"
    }
   },
   "source": [
    "## Check if `None`"
   ]
  },
  {
   "cell_type": "markdown",
   "id": "58318943",
   "metadata": {
    "slideshow": {
     "slide_type": "subslide"
    }
   },
   "source": [
    "The correct comparison to check if something is `None` is `is`, not `==`"
   ]
  },
  {
   "cell_type": "code",
   "execution_count": 5,
   "id": "5e4c6345",
   "metadata": {
    "slideshow": {
     "slide_type": "subslide"
    }
   },
   "outputs": [
    {
     "data": {
      "text/plain": [
       "True"
      ]
     },
     "execution_count": 5,
     "metadata": {},
     "output_type": "execute_result"
    }
   ],
   "source": [
    "x = None\n",
    "x == None  # this will (mostly) work, but it is not the way to go - we'll see why"
   ]
  },
  {
   "cell_type": "markdown",
   "id": "f8b6d6ac",
   "metadata": {
    "slideshow": {
     "slide_type": "subslide"
    }
   },
   "source": [
    "The correct comparison for None is `is`:"
   ]
  },
  {
   "cell_type": "code",
   "execution_count": 6,
   "id": "f6bb4f7f",
   "metadata": {},
   "outputs": [
    {
     "data": {
      "text/plain": [
       "True"
      ]
     },
     "execution_count": 6,
     "metadata": {},
     "output_type": "execute_result"
    }
   ],
   "source": [
    "x is None  # way to go"
   ]
  },
  {
   "cell_type": "code",
   "execution_count": 7,
   "id": "8ba5da21",
   "metadata": {},
   "outputs": [
    {
     "data": {
      "text/plain": [
       "False"
      ]
     },
     "execution_count": 7,
     "metadata": {},
     "output_type": "execute_result"
    }
   ],
   "source": [
    "x is not None  # also way to go"
   ]
  },
  {
   "cell_type": "markdown",
   "id": "7c1ea660",
   "metadata": {
    "slideshow": {
     "slide_type": "subslide"
    }
   },
   "source": [
    "## The `is` comparator"
   ]
  },
  {
   "cell_type": "markdown",
   "id": "2c5050b0",
   "metadata": {},
   "source": [
    "`is` normally checks if two things are **really, really the same** - that is, if they refer to the same object in memory:"
   ]
  },
  {
   "cell_type": "code",
   "execution_count": 31,
   "id": "8c095e17",
   "metadata": {
    "slideshow": {
     "slide_type": "subslide"
    }
   },
   "outputs": [
    {
     "data": {
      "text/plain": [
       "True"
      ]
     },
     "execution_count": 31,
     "metadata": {},
     "output_type": "execute_result"
    }
   ],
   "source": [
    "a_list = [1,2,3]\n",
    "identical_list = [1,2,3]\n",
    "\n",
    "a_list == identical_list"
   ]
  },
  {
   "cell_type": "code",
   "execution_count": 32,
   "id": "2085115c",
   "metadata": {},
   "outputs": [
    {
     "data": {
      "text/plain": [
       "False"
      ]
     },
     "execution_count": 32,
     "metadata": {},
     "output_type": "execute_result"
    }
   ],
   "source": [
    "a_list is identical_list"
   ]
  },
  {
   "cell_type": "code",
   "execution_count": 33,
   "id": "b2bba8c2",
   "metadata": {},
   "outputs": [
    {
     "data": {
      "text/plain": [
       "True"
      ]
     },
     "execution_count": 33,
     "metadata": {},
     "output_type": "execute_result"
    }
   ],
   "source": [
    "memory_alias_list = a_list  # in this way we are pointing in the same memory place\n",
    "\n",
    "memory_alias_list is a_list"
   ]
  }
 ],
 "metadata": {
  "celltoolbar": "Slideshow",
  "kernelspec": {
   "display_name": "Python 3 (ipykernel)",
   "language": "python",
   "name": "python3"
  },
  "language_info": {
   "codemirror_mode": {
    "name": "ipython",
    "version": 3
   },
   "file_extension": ".py",
   "mimetype": "text/x-python",
   "name": "python",
   "nbconvert_exporter": "python",
   "pygments_lexer": "ipython3",
   "version": "3.11.6"
  }
 },
 "nbformat": 4,
 "nbformat_minor": 5
}
