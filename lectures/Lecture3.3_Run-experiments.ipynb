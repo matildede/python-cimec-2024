{
 "cells": [
  {
   "cell_type": "markdown",
   "id": "2a6d21bd",
   "metadata": {
    "slideshow": {
     "slide_type": "slide"
    }
   },
   "source": [
    "# Python for (open) Neuroscience\n",
    "\n",
    "_Lecture 3.3_ - Running experiments\n",
    "\n",
    "Luigi Petrucco\n",
    "\n",
    "Jean-Charles Mariani\n",
    "\n",
    "[![Open In Colab](https://colab.research.google.com/assets/colab-badge.svg)](https://colab.research.google.com/github/vigji/python-cimec/blob/main/lectures/Lecture3.3_Run-experiments.ipynb)"
   ]
  },
  {
   "cell_type": "code",
   "execution_count": null,
   "id": "7907cd0d",
   "metadata": {},
   "outputs": [],
   "source": []
  },
  {
   "cell_type": "markdown",
   "id": "63fc246f",
   "metadata": {
    "slideshow": {
     "slide_type": "slide"
    }
   },
   "source": [
    "## Outline\n",
    "\n",
    " - The basics:\n",
    "     - live applications\n",
    "     - timing\n",
    "     - APIs\n",
    " - Interacting with hardware:\n",
    "     - cameras\n",
    "     - Arduino\n",
    " - Generating stimuli and experimental sequences:\n",
    "     - `psychopy`"
   ]
  },
  {
   "cell_type": "markdown",
   "id": "4680ed68",
   "metadata": {
    "slideshow": {
     "slide_type": "subslide"
    }
   },
   "source": [
    "## The basics: live applications"
   ]
  },
  {
   "cell_type": "markdown",
   "id": "f9948f70",
   "metadata": {
    "slideshow": {
     "slide_type": "fragment"
    }
   },
   "source": [
    "When we are analysing data, we have a script that just runs once (ideally, as fast as possible)."
   ]
  },
  {
   "cell_type": "markdown",
   "id": "de808a7a",
   "metadata": {
    "slideshow": {
     "slide_type": "fragment"
    }
   },
   "source": [
    "For both acquiring data and control stimuli, we need a live application: something that keeps running until we shut it down or the experiment is finished"
   ]
  },
  {
   "cell_type": "markdown",
   "id": "4c3ac5ad",
   "metadata": {
    "slideshow": {
     "slide_type": "subslide"
    }
   },
   "source": [
    "### The event loop"
   ]
  },
  {
   "cell_type": "markdown",
   "id": "fc3307bd",
   "metadata": {
    "slideshow": {
     "slide_type": "fragment"
    }
   },
   "source": [
    "To keep the program running, often we define an <span style=\"color:indianred\">event loop</span>! Something that might look like:"
   ]
  },
  {
   "cell_type": "code",
   "execution_count": 10,
   "id": "6dd7e811",
   "metadata": {
    "slideshow": {
     "slide_type": "fragment"
    }
   },
   "outputs": [
    {
     "ename": "KeyboardInterrupt",
     "evalue": "",
     "output_type": "error",
     "traceback": [
      "\u001b[0;31m---------------------------------------------------------------------------\u001b[0m",
      "\u001b[0;31mKeyboardInterrupt\u001b[0m                         Traceback (most recent call last)",
      "Cell \u001b[0;32mIn[10], line 2\u001b[0m\n\u001b[1;32m      1\u001b[0m \u001b[38;5;28;01mwhile\u001b[39;00m \u001b[38;5;28;01mTrue\u001b[39;00m:  \u001b[38;5;66;03m# a minimal event loop that keeps a program online\u001b[39;00m\n\u001b[0;32m----> 2\u001b[0m     \u001b[38;5;28;01mpass\u001b[39;00m\n",
      "\u001b[0;31mKeyboardInterrupt\u001b[0m: "
     ]
    }
   ],
   "source": [
    "while True:  # a minimal event loop that keeps a program online\n",
    "    pass"
   ]
  },
  {
   "cell_type": "markdown",
   "id": "08951187",
   "metadata": {
    "slideshow": {
     "slide_type": "subslide"
    }
   },
   "source": [
    "### `time` in Python"
   ]
  },
  {
   "cell_type": "markdown",
   "id": "0e79980d",
   "metadata": {
    "slideshow": {
     "slide_type": "fragment"
    }
   },
   "source": [
    "To control more precisely what happens in event loops we need tools to check timing of the application."
   ]
  },
  {
   "cell_type": "markdown",
   "id": "50b3e5ea",
   "metadata": {
    "slideshow": {
     "slide_type": "subslide"
    }
   },
   "source": [
    "The `time` module (from the standard library) offers such tools!"
   ]
  },
  {
   "cell_type": "code",
   "execution_count": 4,
   "id": "ba9b930c",
   "metadata": {
    "slideshow": {
     "slide_type": "fragment"
    }
   },
   "outputs": [
    {
     "data": {
      "text/plain": [
       "1687357057.231839"
      ]
     },
     "execution_count": 4,
     "metadata": {},
     "output_type": "execute_result"
    }
   ],
   "source": [
    "import time\n",
    "time.time()  # returns a float, seconds since January 1, 1970, 00:00:00 (\"Unix epoch\")"
   ]
  },
  {
   "cell_type": "code",
   "execution_count": 11,
   "id": "8aed1138",
   "metadata": {
    "slideshow": {
     "slide_type": "subslide"
    }
   },
   "outputs": [
    {
     "name": "stdout",
     "output_type": "stream",
     "text": [
      "Program starts\n",
      "Program ends\n"
     ]
    }
   ],
   "source": [
    "TOTAL_TIME = 3\n",
    "\n",
    "print(\"Program starts\")\n",
    "start_time = time.time()  \n",
    "while time.time() - start_time < TOTAL_TIME:\n",
    "    pass\n",
    "\n",
    "print(\"Program ends\")"
   ]
  },
  {
   "cell_type": "markdown",
   "id": "2ae1ec16",
   "metadata": {
    "slideshow": {
     "slide_type": "subslide"
    }
   },
   "source": [
    "Now we control time, but there's an undefined amount of iterations in our program:"
   ]
  },
  {
   "cell_type": "code",
   "execution_count": 12,
   "id": "85c2e4e6",
   "metadata": {
    "slideshow": {
     "slide_type": "fragment"
    }
   },
   "outputs": [
    {
     "name": "stdout",
     "output_type": "stream",
     "text": [
      "Program ends, after 8250226 iterations (avg. 121.20878613400576 ns/iteration)\n",
      "Program ends, after 8925430 iterations (avg. 112.03940739668482 ns/iteration)\n",
      "Program ends, after 8921309 iterations (avg. 112.09116149982458 ns/iteration)\n",
      "Program ends, after 8705861 iterations (avg. 114.86513340091997 ns/iteration)\n",
      "Program ends, after 8990586 iterations (avg. 111.22744265752614 ns/iteration)\n"
     ]
    }
   ],
   "source": [
    "TOTAL_TIME = 1\n",
    "N_REPS_TEST = 5\n",
    "\n",
    "for _ in range(N_REPS_TEST):\n",
    "    counter = 0\n",
    "    start_time = time.time() \n",
    "    \n",
    "    while time.time() - start_time < TOTAL_TIME:\n",
    "        counter += 1\n",
    "\n",
    "    print(f\"Program ends, after {counter} iterations (avg. {TOTAL_TIME*10**9/(counter+1)} ns/iteration)\")"
   ]
  },
  {
   "cell_type": "markdown",
   "id": "90867731",
   "metadata": {
    "slideshow": {
     "slide_type": "subslide"
    }
   },
   "source": [
    "The execution speed can fluctuate a lot. It depends on both the Python code we write and the availability of cpu resources!"
   ]
  },
  {
   "cell_type": "markdown",
   "id": "90f1d295",
   "metadata": {
    "slideshow": {
     "slide_type": "subslide"
    }
   },
   "source": [
    "We can control more precisely the loop event timing using `sleep` to pause the program in a controlled fashon:"
   ]
  },
  {
   "cell_type": "code",
   "execution_count": 14,
   "id": "e2388748",
   "metadata": {
    "slideshow": {
     "slide_type": "fragment"
    }
   },
   "outputs": [
    {
     "name": "stdout",
     "output_type": "stream",
     "text": [
      "Program ends, after 791 iterations             (avg. 1.2626262626262625 ms/iteration)\n",
      "Program ends, after 789 iterations             (avg. 1.2658227848101267 ms/iteration)\n",
      "Program ends, after 787 iterations             (avg. 1.2690355329949239 ms/iteration)\n",
      "Program ends, after 789 iterations             (avg. 1.2658227848101267 ms/iteration)\n",
      "Program ends, after 788 iterations             (avg. 1.267427122940431 ms/iteration)\n"
     ]
    }
   ],
   "source": [
    "PAUSE_S = 0.001\n",
    "\n",
    "for _ in range(N_REPS_TEST):\n",
    "    counter = 0\n",
    "    start_time = time.time() \n",
    "    \n",
    "    while time.time() - start_time < TOTAL_TIME:\n",
    "        time.sleep(PAUSE_S)\n",
    "        counter += 1\n",
    "\n",
    "    print(f\"Program ends, after {counter} iterations \\\n",
    "            (avg. {TOTAL_TIME*10**3/(counter+1)} ms/iteration)\")"
   ]
  },
  {
   "cell_type": "markdown",
   "id": "1c16ed15",
   "metadata": {
    "slideshow": {
     "slide_type": "subslide"
    }
   },
   "source": [
    "Small time intervals with `sleep` are not crazy good! \n",
    " - OS dependent - should always be tested\n",
    " - reliable down to tens of ms, below more fluctuations expected\n",
    " - If you need sub-ms accuracy in your application maybe Python is not the way to go!"
   ]
  },
  {
   "cell_type": "markdown",
   "id": "04046ce8",
   "metadata": {
    "slideshow": {
     "slide_type": "subslide"
    }
   },
   "source": [
    "There are some hardcore tricks that can be used to control more tightly access to the cpu, resulting in better timing. \n",
    "\n",
    "E.g., `psychopy` `wait()` function implements them!"
   ]
  },
  {
   "cell_type": "code",
   "execution_count": 15,
   "id": "2e82ff48",
   "metadata": {
    "slideshow": {
     "slide_type": "subslide"
    }
   },
   "outputs": [
    {
     "name": "stdout",
     "output_type": "stream",
     "text": [
      "Program ends, after 990 iterations (avg. 1.0090817356205852 ms/iteration)\n",
      "Program ends, after 989 iterations (avg. 1.0101010101010102 ms/iteration)\n",
      "Program ends, after 988 iterations (avg. 1.0111223458038423 ms/iteration)\n",
      "Program ends, after 989 iterations (avg. 1.0101010101010102 ms/iteration)\n",
      "Program ends, after 990 iterations (avg. 1.0090817356205852 ms/iteration)\n"
     ]
    }
   ],
   "source": [
    "from psychopy.core import wait, getTime\n",
    "\n",
    "PAUSE_S = 0.001\n",
    "\n",
    "for _ in range(N_REPS_TEST):\n",
    "    counter = 0\n",
    "    start_time = getTime()\n",
    "    while getTime() - start_time < TOTAL_TIME:\n",
    "        wait(PAUSE_S)\n",
    "        counter += 1\n",
    "\n",
    "    print(f\"Program ends, after {counter} iterations (avg. {TOTAL_TIME*10**3/(counter+1)} ms/iteration)\")"
   ]
  },
  {
   "cell_type": "markdown",
   "id": "6eb5725e",
   "metadata": {
    "slideshow": {
     "slide_type": "subslide"
    }
   },
   "source": [
    "## Measure time"
   ]
  },
  {
   "cell_type": "markdown",
   "id": "034988c9",
   "metadata": {
    "slideshow": {
     "slide_type": "-"
    }
   },
   "source": [
    "We can also use `time()` to measure elapsed time (e.g., a reaction time):"
   ]
  },
  {
   "cell_type": "code",
   "execution_count": 16,
   "id": "8c24596c",
   "metadata": {},
   "outputs": [
    {
     "name": "stdout",
     "output_type": "stream",
     "text": [
      "Press enter! \n",
      "Reaction time: 1.3266379833221436 s\n"
     ]
    }
   ],
   "source": [
    "time.sleep(1)  # pause 1 second before starting the task\n",
    "start = time.time()\n",
    "_ = input(\"Press enter!\")  # a new function to pass inputs to a script! \n",
    "end = time.time()\n",
    "print(f\"Reaction time: {end - start} s\") "
   ]
  },
  {
   "cell_type": "markdown",
   "id": "db8c7d7a",
   "metadata": {
    "slideshow": {
     "slide_type": "subslide"
    }
   },
   "source": [
    "### The single thread issue"
   ]
  },
  {
   "cell_type": "markdown",
   "id": "3ca6458c",
   "metadata": {
    "slideshow": {
     "slide_type": "fragment"
    }
   },
   "source": [
    "Note that in Python we give instructions one by one to the interpreter. This can be a problem for handling multiple event streams!"
   ]
  },
  {
   "cell_type": "markdown",
   "id": "4ff94ee9",
   "metadata": {
    "slideshow": {
     "slide_type": "subslide"
    }
   },
   "source": [
    "Imagine you are showing a stimulus changing constantly and you want to acquire an input from the user. You want to simultaneously run the code lines that wait for the user input, and the code lines that wait for the input.\n",
    "\n",
    "In general, you have two options:"
   ]
  },
  {
   "cell_type": "markdown",
   "id": "2d990d9a",
   "metadata": {
    "slideshow": {
     "slide_type": "fragment"
    }
   },
   "source": [
    " 1. Handle the concurrency with timeouts"
   ]
  },
  {
   "cell_type": "markdown",
   "id": "6b2f4604",
   "metadata": {
    "slideshow": {
     "slide_type": "fragment"
    }
   },
   "source": [
    " 2. Start using multi-threading (to have different tasks running in parallel)"
   ]
  },
  {
   "cell_type": "markdown",
   "id": "c5f9fc8f",
   "metadata": {
    "slideshow": {
     "slide_type": "subslide"
    }
   },
   "source": [
    "### Timeouts"
   ]
  },
  {
   "cell_type": "code",
   "execution_count": null,
   "id": "f6088bf4",
   "metadata": {
    "slideshow": {
     "slide_type": "fragment"
    }
   },
   "outputs": [],
   "source": [
    "# Pseudocode for concurrency with timeouts:\n",
    "\n",
    "while timer() < experiment_duration:\n",
    "    user_input = read_input(timeout=0.005)\n",
    "    update_stimulus()"
   ]
  },
  {
   "cell_type": "markdown",
   "id": "664aea65",
   "metadata": {},
   "source": [
    "Stimuli on a screen are usually refreshed every approx. 16 ms, so there's plenty of time to do other things between frames!"
   ]
  },
  {
   "cell_type": "markdown",
   "id": "7dd6fc96",
   "metadata": {
    "slideshow": {
     "slide_type": "subslide"
    }
   },
   "source": [
    "### Multi-threading"
   ]
  },
  {
   "cell_type": "code",
   "execution_count": null,
   "id": "f654ff7f",
   "metadata": {
    "slideshow": {
     "slide_type": "fragment"
    }
   },
   "outputs": [],
   "source": [
    "# Pseudocode for multi-threading - in reality is more painful!\n",
    "class UserReader: # Class to read user input\n",
    "    pass\n",
    "\n",
    "class StimulusUpdater: # Class to update stimulus\n",
    "    pass\n",
    "    \n",
    "reader, updater = UserReader(), StimulusUpdater()\n",
    "\n",
    "reader.start()\n",
    "updater.start()\n",
    "...\n",
    "reader.stop()\n",
    "updater.stop()"
   ]
  },
  {
   "cell_type": "markdown",
   "id": "addfc512",
   "metadata": {
    "slideshow": {
     "slide_type": "subslide"
    }
   },
   "source": [
    "## APIs"
   ]
  },
  {
   "cell_type": "markdown",
   "id": "2bf43146",
   "metadata": {
    "slideshow": {
     "slide_type": "fragment"
    }
   },
   "source": [
    "Many pieces of hardware come with their Python <span style=\"color:indianred\">Application Programming Interface (API)</span>."
   ]
  },
  {
   "cell_type": "markdown",
   "id": "a4601b10",
   "metadata": {
    "slideshow": {
     "slide_type": "fragment"
    }
   },
   "source": [
    "The API of a piece of harwardare is a package that we `pip install` and we can use to control the hardware."
   ]
  },
  {
   "cell_type": "markdown",
   "id": "31be84a6",
   "metadata": {
    "slideshow": {
     "slide_type": "fragment"
    }
   },
   "source": [
    "Usually object-oriented! The hardware object is represented very neatly with a virtual object."
   ]
  },
  {
   "cell_type": "markdown",
   "id": "55694c9a",
   "metadata": {
    "slideshow": {
     "slide_type": "subslide"
    }
   },
   "source": [
    "## Acquiring data"
   ]
  },
  {
   "cell_type": "markdown",
   "id": "4cc6fa95",
   "metadata": {
    "slideshow": {
     "slide_type": "subslide"
    }
   },
   "source": [
    "### Cameras (and their APIs)"
   ]
  },
  {
   "cell_type": "markdown",
   "id": "70bbb406",
   "metadata": {},
   "source": [
    "Cameras APIs give us classes and methods to:\n",
    "- Initialize Camera objects\n",
    "- grab frames from cameras\n",
    "- change camera parameters\n",
    "- shut down cameras"
   ]
  },
  {
   "cell_type": "markdown",
   "id": "f9f35cad",
   "metadata": {
    "slideshow": {
     "slide_type": "subslide"
    }
   },
   "source": [
    "Let's have a look at a very common one: `opencv`"
   ]
  },
  {
   "cell_type": "code",
   "execution_count": 17,
   "id": "10df4974",
   "metadata": {},
   "outputs": [],
   "source": [
    "# pip install python-opencv to use cv2:\n",
    "import cv2\n",
    "from matplotlib import pyplot as plt\n",
    " \n",
    "# Instantiate a video capture object (camera):\n",
    "vid = cv2.VideoCapture(0)"
   ]
  },
  {
   "cell_type": "code",
   "execution_count": 18,
   "id": "b1165c92",
   "metadata": {},
   "outputs": [
    {
     "data": {
      "text/plain": [
       "cv2.VideoCapture"
      ]
     },
     "execution_count": 18,
     "metadata": {},
     "output_type": "execute_result"
    }
   ],
   "source": [
    "type(vid)"
   ]
  },
  {
   "cell_type": "markdown",
   "id": "fab8989e",
   "metadata": {
    "slideshow": {
     "slide_type": "subslide"
    }
   },
   "source": [
    "To grab frames, `.read()` method"
   ]
  },
  {
   "cell_type": "code",
   "execution_count": 20,
   "id": "a1b53c20",
   "metadata": {
    "slideshow": {
     "slide_type": "fragment"
    }
   },
   "outputs": [],
   "source": [
    "_, frame = vid.read()  # read method to capture frame"
   ]
  },
  {
   "cell_type": "code",
   "execution_count": 23,
   "id": "725d5c59",
   "metadata": {
    "slideshow": {
     "slide_type": "-"
    }
   },
   "outputs": [
    {
     "data": {
      "text/plain": [
       "(1080, 1920, 3)"
      ]
     },
     "execution_count": 23,
     "metadata": {},
     "output_type": "execute_result"
    }
   ],
   "source": [
    "frame.shape"
   ]
  },
  {
   "cell_type": "code",
   "execution_count": 25,
   "id": "c66b73cd",
   "metadata": {
    "slideshow": {
     "slide_type": "subslide"
    }
   },
   "outputs": [
    {
     "data": {
      "text/plain": [
       "<matplotlib.image.AxesImage at 0x14481dcd0>"
      ]
     },
     "execution_count": 25,
     "metadata": {},
     "output_type": "execute_result"
    },
    {
     "data": {
      "image/png": "[encoded data removed]",
      "text/plain": [
       "<Figure size 300x300 with 1 Axes>"
      ]
     },
     "metadata": {},
     "output_type": "display_data"
    }
   ],
   "source": [
    "plt.figure(figsize=(3, 3))\n",
    "plt.imshow(frame[:, :, [2,1,0]])  # Frame is BGR instead of RGB, swap colors to plot"
   ]
  },
  {
   "cell_type": "markdown",
   "id": "4d70d6b7",
   "metadata": {
    "slideshow": {
     "slide_type": "subslide"
    }
   },
   "source": [
    "After we're done with a piece of hardware, it is always good to shut it off:"
   ]
  },
  {
   "cell_type": "code",
   "execution_count": 26,
   "id": "ff428b60",
   "metadata": {},
   "outputs": [],
   "source": [
    "vid.release()  # close the camera reader and free to camera"
   ]
  },
  {
   "cell_type": "markdown",
   "id": "6dd8c5ac",
   "metadata": {
    "slideshow": {
     "slide_type": "subslide"
    }
   },
   "source": [
    "Cameras from any vendor offer APIs, and a great majority have Python APIs!"
   ]
  },
  {
   "cell_type": "markdown",
   "id": "9b0f058c",
   "metadata": {
    "slideshow": {
     "slide_type": "slide"
    }
   },
   "source": [
    "(Practical 3.3.0)"
   ]
  },
  {
   "cell_type": "markdown",
   "id": "cd7f60a3",
   "metadata": {
    "slideshow": {
     "slide_type": "slide"
    }
   },
   "source": [
    "## Something on electronics"
   ]
  },
  {
   "cell_type": "markdown",
   "id": "5f405bc7",
   "metadata": {},
   "source": [
    "We read data and control hardware mostly using:\n",
    " - digital signals\n",
    " - analog signals"
   ]
  },
  {
   "cell_type": "markdown",
   "id": "6a0ddb50",
   "metadata": {
    "slideshow": {
     "slide_type": "subslide"
    }
   },
   "source": [
    "### Analog signals"
   ]
  },
  {
   "cell_type": "markdown",
   "id": "264ef07e",
   "metadata": {},
   "source": [
    "A continuous voltage in a range (usually 0-5 V or 0-10 V) maps some continuous variable.\n",
    "\n",
    "Analog signals are acquired and generated by specialized hardware - your computer can't talk analog with any kind of device!\n",
    "\n",
    "That's part of the reason why we use Arduinos, NI boards, digitizers, etc."
   ]
  },
  {
   "cell_type": "markdown",
   "id": "66169300",
   "metadata": {
    "slideshow": {
     "slide_type": "subslide"
    }
   },
   "source": [
    "Many recording devices produce analog signals (e.g., microphones), but then such signals have to be digitized. This requires chunking in time and approximation in the resolution."
   ]
  },
  {
   "cell_type": "markdown",
   "id": "7283f8ab",
   "metadata": {
    "slideshow": {
     "slide_type": "subslide"
    }
   },
   "source": [
    "### Digital signals"
   ]
  },
  {
   "cell_type": "markdown",
   "id": "0a0e63e4",
   "metadata": {},
   "source": [
    "Discrete signals - ON or OFF (usually 0/3.3 V or 0/5 V, depending on the device)\n",
    "\n",
    "Much more robust to noise! Those are the signals that digital devices such as the computer use\n",
    "\n",
    "As fast as analog signals, but with very small bandwidth (two states, ON/OFF)"
   ]
  },
  {
   "cell_type": "markdown",
   "id": "b19328cb",
   "metadata": {
    "slideshow": {
     "slide_type": "subslide"
    }
   },
   "source": [
    "### Serial communication"
   ]
  },
  {
   "cell_type": "markdown",
   "id": "94815e56",
   "metadata": {
    "cell_style": "split"
   },
   "source": [
    "Digital signals can be used to transmit bits of information through time!\n",
    "\n",
    "- This requires the sender and the receiver to agree on a clock (baud rate)\n",
    "- Reasonable bandwidth and resistent to noise\n"
   ]
  },
  {
   "cell_type": "markdown",
   "id": "8213a8b4",
   "metadata": {
    "cell_style": "split"
   },
   "source": [
    "![Arduino](./files/serialcomm.png)"
   ]
  },
  {
   "cell_type": "markdown",
   "id": "b06657ba",
   "metadata": {
    "slideshow": {
     "slide_type": "subslide"
    }
   },
   "source": [
    "\n",
    "All devices we connect to the computer are <span style=\"color:indianred\">serial devices</span> (USB: Universal Serial Bus)"
   ]
  },
  {
   "cell_type": "markdown",
   "id": "33e8689b",
   "metadata": {
    "slideshow": {
     "slide_type": "subslide"
    }
   },
   "source": [
    "### Communication with serial devices"
   ]
  },
  {
   "cell_type": "markdown",
   "id": "38a707bf",
   "metadata": {},
   "source": [
    "The python `Serial` library gives us a way to speak with digital devices"
   ]
  },
  {
   "cell_type": "code",
   "execution_count": null,
   "id": "d1c6b0bb",
   "metadata": {
    "slideshow": {
     "slide_type": "subslide"
    }
   },
   "outputs": [],
   "source": [
    "import serial\n",
    "\n",
    "port = serial.Serial('COM3', baudrate=9600) # Configure the serial port creating an object\n",
    "\n",
    "# Send data to the device:\n",
    "command = b'dosomething\\n'\n",
    "port.write(command)\n",
    "\n",
    "# Read response from the device:\n",
    "response = port.readline()\n",
    "\n",
    "port.close()  # Always shut down communication with a device"
   ]
  },
  {
   "cell_type": "markdown",
   "id": "51abd71f",
   "metadata": {
    "slideshow": {
     "slide_type": "subslide"
    }
   },
   "source": [
    "# Arduino"
   ]
  },
  {
   "cell_type": "markdown",
   "id": "fc46dd86",
   "metadata": {
    "cell_style": "split"
   },
   "source": [
    "- Open-source microcontroller\n",
    "- Digital/analogic input and output channels\n",
    "- We can use it just as an interface to deal with those signals...\n",
    "- ...or as a controller if we need very precise timing"
   ]
  },
  {
   "cell_type": "markdown",
   "id": "34f16aa7",
   "metadata": {
    "cell_style": "split"
   },
   "source": [
    "![Arduino](./files/arduino.png)"
   ]
  },
  {
   "cell_type": "markdown",
   "id": "d180395b",
   "metadata": {
    "slideshow": {
     "slide_type": "subslide"
    }
   },
   "source": [
    "### Interfacing hardware"
   ]
  },
  {
   "cell_type": "markdown",
   "id": "29a565ed",
   "metadata": {},
   "source": [
    "Arduino is a great interface for hardware..."
   ]
  },
  {
   "cell_type": "markdown",
   "id": "29380de8",
   "metadata": {
    "slideshow": {
     "slide_type": "subslide"
    }
   },
   "source": [
    "...reading sensors of any kind:\n",
    "- light (eg photodiode)\n",
    "- temperature\n",
    "- pressure\n",
    "- conductance\n",
    "- ..."
   ]
  },
  {
   "cell_type": "markdown",
   "id": "0f7034df",
   "metadata": {
    "slideshow": {
     "slide_type": "subslide"
    }
   },
   "source": [
    "...and controlling hardware:\n",
    "- LEDs\n",
    "- motors / actuators\n",
    "- valves\n",
    "- resistances \n",
    "- buzzers (sounds)\n",
    "- ..."
   ]
  },
  {
   "cell_type": "markdown",
   "id": "ac2a1e34",
   "metadata": {
    "slideshow": {
     "slide_type": "slide"
    }
   },
   "source": [
    "### Arduino code"
   ]
  },
  {
   "cell_type": "markdown",
   "id": "4caa98d5",
   "metadata": {
    "slideshow": {
     "slide_type": "fragment"
    }
   },
   "source": [
    "The arduino processor is constantly executing some C code that we load on the board. "
   ]
  },
  {
   "cell_type": "markdown",
   "id": "590b907c",
   "metadata": {
    "slideshow": {
     "slide_type": "subslide"
    }
   },
   "source": [
    "Arduino has its own event loop!"
   ]
  },
  {
   "cell_type": "code",
   "execution_count": null,
   "id": "376987e1",
   "metadata": {
    "slideshow": {
     "slide_type": "-"
    }
   },
   "outputs": [],
   "source": [
    "###>> The code here is C/Arduino code, not Python!\n",
    "void setup() {\n",
    "  pinMode(13, INPUT);               // configure pin 13 to be an input\n",
    "  Serial.begin(9600);               // configure baud rate to match the computer's\n",
    "}\n",
    "\n",
    "void loop() {                       // The code inside here runs continuously\n",
    "  int value = analogRead(pin);      // read the state of the port (0/1)\n",
    "  Serial.println(value);            // print value on the serial port\n",
    "  delay(100);                       // wait 100 ms\n",
    "}\n",
    "###>>"
   ]
  },
  {
   "cell_type": "markdown",
   "id": "d1e5df8d",
   "metadata": {
    "slideshow": {
     "slide_type": "subslide"
    }
   },
   "source": [
    "## Firmata library"
   ]
  },
  {
   "cell_type": "markdown",
   "id": "f68008c7",
   "metadata": {
    "slideshow": {
     "slide_type": "fragment"
    }
   },
   "source": [
    "If we do not care about controlling things from the Arduino, we can load on the Arduino some default code called Firmata. In this way, we can directly write and read the Arduino pins from Python with the `pyfirmata` library:"
   ]
  },
  {
   "cell_type": "code",
   "execution_count": null,
   "id": "ee206727",
   "metadata": {
    "slideshow": {
     "slide_type": "subslide"
    }
   },
   "outputs": [],
   "source": [
    "from pyfirmata import Arduino, util\n",
    "\n",
    "board = Arduino('COM3')  # create the board object\n",
    "\n",
    "# Configure the pin:\n",
    "pin = board.get_pin('d:2:i')  # a pin object representing the second pin in input mode\n",
    "\n",
    "# Read and print the pin state\n",
    "print(\"Pin state:\", pin.read())\n",
    "\n",
    "board.exit()  # Close the connection"
   ]
  },
  {
   "cell_type": "markdown",
   "id": "78fb135d",
   "metadata": {
    "slideshow": {
     "slide_type": "subslide"
    }
   },
   "source": [
    "### Other boards\n",
    "\n",
    "There are many other boards we can use for handling digital and analog signals, eg:\n",
    "- National Instruments boards\n",
    "- Labjack boards\n",
    "\n",
    "They come with higher prices and higher performances compared to Arduino!"
   ]
  },
  {
   "cell_type": "markdown",
   "id": "ec7bf315",
   "metadata": {
    "slideshow": {
     "slide_type": "subslide"
    }
   },
   "source": [
    "- Raspberry py\n",
    "\n",
    "Basically a minicomputer - runs Python!"
   ]
  },
  {
   "cell_type": "markdown",
   "id": "a5cae944",
   "metadata": {
    "slideshow": {
     "slide_type": "slide"
    }
   },
   "source": [
    "## Controlling stimuli"
   ]
  },
  {
   "cell_type": "markdown",
   "id": "a0368fa2",
   "metadata": {},
   "source": [
    "Many times we need to control stimuli to present to the experimental subject:"
   ]
  },
  {
   "cell_type": "markdown",
   "id": "7b52c58e",
   "metadata": {
    "slideshow": {
     "slide_type": "fragment"
    }
   },
   "source": [
    "- visual\n",
    "- auditory\n",
    "- mechanical\n",
    "- ..."
   ]
  },
  {
   "cell_type": "markdown",
   "id": "f171d7b9",
   "metadata": {
    "slideshow": {
     "slide_type": "subslide"
    }
   },
   "source": [
    "### The `psychopy` library"
   ]
  },
  {
   "cell_type": "markdown",
   "id": "09e28fd8",
   "metadata": {},
   "source": [
    "(not a super expert...)"
   ]
  },
  {
   "cell_type": "markdown",
   "id": "d89e18a0",
   "metadata": {
    "slideshow": {
     "slide_type": "fragment"
    }
   },
   "source": [
    "For many kind of stimuli, exp. visual and auditory, we can use the `psychopy` library!\n",
    "\n",
    "(It also comes with a GUI - we won't be covering the GUI here though! It is quite ugly...)"
   ]
  },
  {
   "cell_type": "markdown",
   "id": "2c3315a1",
   "metadata": {
    "slideshow": {
     "slide_type": "subslide"
    }
   },
   "source": [
    "In `psychopy` there's many modules!\n",
    " - any sort of visual stimulus\n",
    " - sound card control for sound stimuli\n",
    " - timers and clocks\n",
    " - logs, for data saving\n",
    " - inputs from mouse and keyboard\n",
    " - input from cameras\n",
    " - input from external hardware (EEG, eye tracking...)\n",
    " - ..."
   ]
  },
  {
   "cell_type": "markdown",
   "id": "a444e717",
   "metadata": {
    "slideshow": {
     "slide_type": "subslide"
    }
   },
   "source": [
    "### Running `psychopy` scripts"
   ]
  },
  {
   "cell_type": "markdown",
   "id": "84a7aa63",
   "metadata": {
    "slideshow": {
     "slide_type": "subslide"
    }
   },
   "source": [
    "`psychopy` experiments are encoded in scripts that import code from the `psychopy` library."
   ]
  },
  {
   "cell_type": "markdown",
   "id": "8d67d706",
   "metadata": {
    "slideshow": {
     "slide_type": "subslide"
    }
   },
   "source": [
    "Note that the `psychopy` GUI generates .py scripts and runs its own Python (yes, yet another Python on your computer...)"
   ]
  },
  {
   "cell_type": "markdown",
   "id": "bf9e394b",
   "metadata": {
    "slideshow": {
     "slide_type": "subslide"
    }
   },
   "source": [
    "(Showcase `psychopy` scripts)"
   ]
  },
  {
   "cell_type": "markdown",
   "id": "048f1d80",
   "metadata": {
    "slideshow": {
     "slide_type": "subslide"
    }
   },
   "source": [
    "## Data saving"
   ]
  },
  {
   "cell_type": "markdown",
   "id": "a5778235",
   "metadata": {},
   "source": [
    "Keep track of as many data as possible using code!\n",
    "- You can enforce the required inputs\n",
    "- You're guaranteed consistent formatting\n",
    "\n",
    "The less you require to be added manually by the experimenter, the better! (e.g., never ask for date/hour...)"
   ]
  },
  {
   "cell_type": "markdown",
   "id": "b5435db4",
   "metadata": {
    "slideshow": {
     "slide_type": "subslide"
    }
   },
   "source": [
    "### Formats"
   ]
  },
  {
   "cell_type": "markdown",
   "id": "4e1430fb",
   "metadata": {
    "slideshow": {
     "slide_type": "fragment"
    }
   },
   "source": [
    "`.json` files are light, compatible, textual files for (hierarchical) metadata dictionaries"
   ]
  },
  {
   "cell_type": "markdown",
   "id": "c07ff2a8",
   "metadata": {
    "slideshow": {
     "slide_type": "fragment"
    }
   },
   "source": [
    "`.csv` files can be great for tabular data that can be accomodated in a `pandas` dataframe!"
   ]
  },
  {
   "cell_type": "markdown",
   "id": "2463e4ee",
   "metadata": {
    "slideshow": {
     "slide_type": "fragment"
    }
   },
   "source": [
    "For large data (e.g., frames or data with high sampling freq.), numpy binary files `.npy` using the `np.save(data_ndarray)` function."
   ]
  },
  {
   "cell_type": "markdown",
   "id": "e4fe2831",
   "metadata": {
    "slideshow": {
     "slide_type": "slide"
    }
   },
   "source": [
    "## Wrapup: running experiments in Python"
   ]
  },
  {
   "cell_type": "markdown",
   "id": "3fd5001d",
   "metadata": {
    "slideshow": {
     "slide_type": "subslide"
    }
   },
   "source": [
    "**Pros**\n",
    "\n",
    "- Jack-of-all-trades: we need to remember only one language for experiments, preprocessing, stats, etc.\n",
    "- We can save and load data with the same libraries\n",
    "- Thousands of available libraries\n",
    "- Thousands of available APIs"
   ]
  },
  {
   "cell_type": "markdown",
   "id": "471edc56",
   "metadata": {
    "slideshow": {
     "slide_type": "subslide"
    }
   },
   "source": [
    "**Cons**\n",
    "\n",
    "- Execution time becomes unreliable at the ms/sub-ms scale (unless we use specialized hardware)\n",
    "- Concurrency issues"
   ]
  },
  {
   "cell_type": "markdown",
   "id": "675d83f8",
   "metadata": {
    "slideshow": {
     "slide_type": "slide"
    }
   },
   "source": [
    "(Practical 3.3.1)"
   ]
  }
 ],
 "metadata": {
  "celltoolbar": "Slideshow",
  "kernelspec": {
   "display_name": "Python [conda env:course_env]",
   "language": "python",
   "name": "conda-env-course_env-py"
  },
  "language_info": {
   "codemirror_mode": {
    "name": "ipython",
    "version": 3
   },
   "file_extension": ".py",
   "mimetype": "text/x-python",
   "name": "python",
   "nbconvert_exporter": "python",
   "pygments_lexer": "ipython3",
   "version": "3.9.16"
  }
 },
 "nbformat": 4,
 "nbformat_minor": 5
}
