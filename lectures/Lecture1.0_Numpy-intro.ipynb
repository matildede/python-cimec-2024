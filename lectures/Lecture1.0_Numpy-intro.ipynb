{
 "cells": [
  {
   "cell_type": "markdown",
   "id": "3ca811a3",
   "metadata": {
    "slideshow": {
     "slide_type": "slide"
    }
   },
   "source": [
    "# Python for (open) Neuroscience\n",
    "\n",
    "_Lecture 1.0_ - Introduction to `numpy`\n",
    "\n",
    "Luigi Petrucco\n",
    "\n",
    "Jean-Charles Mariani\n",
    "\n",
    "[![Open In Colab](https://colab.research.google.com/assets/colab-badge.svg)](https://colab.research.google.com/github/vigji/python-cimec/blob/main/lectures/Lecture1.0_Numpy-intro.ipynb)"
   ]
  },
  {
   "cell_type": "markdown",
   "id": "3bb937a0",
   "metadata": {
    "slideshow": {
     "slide_type": "subslide"
    }
   },
   "source": [
    "## A note on searching info"
   ]
  },
  {
   "cell_type": "markdown",
   "id": "fd6b2618",
   "metadata": {
    "slideshow": {
     "slide_type": "fragment"
    }
   },
   "source": [
    "Google every doubt that you have! [stackoverflow](https://stackoverflow.com) is a great source of information"
   ]
  },
  {
   "cell_type": "markdown",
   "id": "d70f9f87",
   "metadata": {
    "slideshow": {
     "slide_type": "fragment"
    }
   },
   "source": [
    "For simple doubts and introductory explanations on `numpy` ChatGPT can be an excellent source! "
   ]
  },
  {
   "cell_type": "markdown",
   "id": "675a5de0",
   "metadata": {
    "slideshow": {
     "slide_type": "subslide"
    }
   },
   "source": [
    "## Working with libraries (/packages/modules)"
   ]
  },
  {
   "cell_type": "markdown",
   "id": "bbb8cdbc",
   "metadata": {},
   "source": [
    "We can import external libraries using `import`:"
   ]
  },
  {
   "cell_type": "code",
   "execution_count": 1,
   "id": "a4765f8f",
   "metadata": {},
   "outputs": [
    {
     "data": {
      "text/plain": [
       "<function numpy.array>"
      ]
     },
     "execution_count": 1,
     "metadata": {},
     "output_type": "execute_result"
    }
   ],
   "source": [
    "import numpy\n",
    "numpy.array"
   ]
  },
  {
   "cell_type": "markdown",
   "id": "b48e2ada",
   "metadata": {
    "slideshow": {
     "slide_type": "subslide"
    }
   },
   "source": [
    "We can give aliases to the library we import for the sake of brevity:"
   ]
  },
  {
   "cell_type": "code",
   "execution_count": 2,
   "id": "672eb10a",
   "metadata": {},
   "outputs": [
    {
     "data": {
      "text/plain": [
       "<function numpy.array>"
      ]
     },
     "execution_count": 2,
     "metadata": {},
     "output_type": "execute_result"
    }
   ],
   "source": [
    "import numpy as np\n",
    "np.array"
   ]
  },
  {
   "cell_type": "markdown",
   "id": "86a06e74",
   "metadata": {
    "slideshow": {
     "slide_type": "subslide"
    }
   },
   "source": [
    "We can also import specific functions (or classes) from a library with this syntax:"
   ]
  },
  {
   "cell_type": "code",
   "execution_count": 3,
   "id": "374999a1",
   "metadata": {},
   "outputs": [
    {
     "data": {
      "text/plain": [
       "<function numpy.array>"
      ]
     },
     "execution_count": 3,
     "metadata": {},
     "output_type": "execute_result"
    }
   ],
   "source": [
    "from numpy import array\n",
    "array"
   ]
  },
  {
   "cell_type": "markdown",
   "id": "7220db85",
   "metadata": {
    "slideshow": {
     "slide_type": "slide"
    }
   },
   "source": [
    "## The `numpy` library"
   ]
  },
  {
   "cell_type": "markdown",
   "id": "cfd35672",
   "metadata": {
    "slideshow": {
     "slide_type": "fragment"
    }
   },
   "source": [
    "High performance number crunching with Python "
   ]
  },
  {
   "cell_type": "markdown",
   "id": "e201c381",
   "metadata": {
    "slideshow": {
     "slide_type": "fragment"
    }
   },
   "source": [
    "C-compiled libraries make it very efficient"
   ]
  },
  {
   "cell_type": "code",
   "execution_count": 6,
   "id": "11b430f1",
   "metadata": {},
   "outputs": [],
   "source": [
    "N_ELEMENTS = 1000000"
   ]
  },
  {
   "cell_type": "code",
   "execution_count": 7,
   "id": "b6f173b1",
   "metadata": {
    "slideshow": {
     "slide_type": "subslide"
    }
   },
   "outputs": [
    {
     "name": "stdout",
     "output_type": "stream",
     "text": [
      "47.4 ms ± 345 µs per loop (mean ± std. dev. of 7 runs, 10 loops each)\n"
     ]
    }
   ],
   "source": [
    "%%timeit\n",
    "a_list = list(range(N_ELEMENTS))\n",
    "mean = sum(a_list) / len(a_list)  # mean\n",
    "\n",
    "mean_subtracted = [element - mean for element in a_list]  # subtract mean"
   ]
  },
  {
   "cell_type": "code",
   "execution_count": 9,
   "id": "c3d50f29",
   "metadata": {},
   "outputs": [],
   "source": [
    "import numpy as np"
   ]
  },
  {
   "cell_type": "code",
   "execution_count": 10,
   "id": "703f66f8",
   "metadata": {},
   "outputs": [
    {
     "name": "stdout",
     "output_type": "stream",
     "text": [
      "1.86 ms ± 30.2 µs per loop (mean ± std. dev. of 7 runs, 1,000 loops each)\n"
     ]
    }
   ],
   "source": [
    "\n",
    "%%timeit\n",
    "an_array = np.arange(N_ELEMENTS)\n",
    "mean = np.mean(an_array)  # mean\n",
    "\n",
    "mean_subtracted = an_array - mean  # subtract mean"
   ]
  },
  {
   "cell_type": "markdown",
   "id": "2ac5b7eb",
   "metadata": {
    "slideshow": {
     "slide_type": "subslide"
    }
   },
   "source": [
    "### A small note on credit & citations"
   ]
  },
  {
   "cell_type": "markdown",
   "id": "153fd9c3",
   "metadata": {},
   "source": [
    "Many forget to do so, but remember: there's scientists behind many open-source tools, and citations are the way we can reward them in academic currency!"
   ]
  },
  {
   "cell_type": "markdown",
   "id": "a244d341",
   "metadata": {
    "slideshow": {
     "slide_type": "fragment"
    }
   },
   "source": [
    "    Harris, C.R., Millman, K.J., van der Walt, S.J. et al. Array programming with NumPy. Nature 585, 357–362 (2020). DOI: 10.1038/s41586-020-2649-2"
   ]
  },
  {
   "cell_type": "markdown",
   "id": "d040df72",
   "metadata": {
    "slideshow": {
     "slide_type": "subslide"
    }
   },
   "source": [
    "Let's import the library!"
   ]
  },
  {
   "cell_type": "code",
   "execution_count": 11,
   "id": "f08a99d7",
   "metadata": {},
   "outputs": [],
   "source": [
    "import numpy as np"
   ]
  },
  {
   "cell_type": "markdown",
   "id": "e7ef3f90",
   "metadata": {
    "slideshow": {
     "slide_type": "slide"
    }
   },
   "source": [
    "## `np.ndarray`"
   ]
  },
  {
   "cell_type": "markdown",
   "id": "d1e4f825",
   "metadata": {},
   "source": [
    "Data type representing N-dimensional arrays"
   ]
  },
  {
   "cell_type": "markdown",
   "id": "36b9d61c",
   "metadata": {
    "slideshow": {
     "slide_type": "fragment"
    }
   },
   "source": [
    "Workhorse of scientific computing!"
   ]
  },
  {
   "cell_type": "markdown",
   "id": "c9f8c53b",
   "metadata": {
    "slideshow": {
     "slide_type": "subslide"
    }
   },
   "source": [
    "A note on language: when we say `array` we do not imply any number of dimensions:\n",
    "- <span style=\"color:indianred\">vectors</span> will be 1D arrays\n",
    "- <span style=\"color:indianred\">matrices</span> will be 2D arrays\n",
    "- for an array with n_dims>2, I will use <span style=\"color:indianred\">n-dimensional matrix</span>, or <span style=\"color:indianred\">stack</span> (if we talk about imaging data/other kind of stacked data); some people might call it <span style=\"color:indianred\">tensor</span>"
   ]
  },
  {
   "cell_type": "markdown",
   "id": "fd7d3f21",
   "metadata": {
    "slideshow": {
     "slide_type": "subslide"
    }
   },
   "source": [
    "Related note: there is a `np.matrix` class in `numpy`, but you **should not** use it; it has not been adopted much and  it might be removed soon!"
   ]
  },
  {
   "cell_type": "markdown",
   "id": "0f8d645d",
   "metadata": {
    "slideshow": {
     "slide_type": "subslide"
    }
   },
   "source": [
    "`np.ndarray` is a powerful data storing structure:"
   ]
  },
  {
   "cell_type": "markdown",
   "id": "f8266d94",
   "metadata": {
    "slideshow": {
     "slide_type": "fragment"
    }
   },
   "source": [
    "- it addresses memory allocation efficiency issues"
   ]
  },
  {
   "cell_type": "markdown",
   "id": "d8e97eb1",
   "metadata": {
    "slideshow": {
     "slide_type": "fragment"
    }
   },
   "source": [
    "- it gives powerful indexing functionalities"
   ]
  },
  {
   "cell_type": "markdown",
   "id": "cf785c08",
   "metadata": {
    "slideshow": {
     "slide_type": "fragment"
    }
   },
   "source": [
    "- implements vectors/matrices algebric operations"
   ]
  },
  {
   "cell_type": "markdown",
   "id": "dde2a7b1",
   "metadata": {
    "slideshow": {
     "slide_type": "slide"
    }
   },
   "source": [
    "## creating arrays"
   ]
  },
  {
   "cell_type": "markdown",
   "id": "5b0ce913",
   "metadata": {
    "slideshow": {
     "slide_type": "subslide"
    }
   },
   "source": [
    "### Initialize empty arrays"
   ]
  },
  {
   "cell_type": "markdown",
   "id": "c42d5a3b",
   "metadata": {},
   "source": [
    "We can create a simple array of zeros using the `np.zeros` function, and passing it:\n"
   ]
  },
  {
   "cell_type": "markdown",
   "id": "79052049",
   "metadata": {
    "slideshow": {
     "slide_type": "fragment"
    }
   },
   "source": [
    "A single integer n to create a 1D vector of length n:"
   ]
  },
  {
   "cell_type": "code",
   "execution_count": 12,
   "id": "e7474a19",
   "metadata": {},
   "outputs": [
    {
     "data": {
      "text/plain": [
       "array([0., 0., 0.])"
      ]
     },
     "execution_count": 12,
     "metadata": {},
     "output_type": "execute_result"
    }
   ],
   "source": [
    "np.zeros(3)  # we pass a single integer for a 1D array"
   ]
  },
  {
   "cell_type": "markdown",
   "id": "2fc0222e",
   "metadata": {
    "slideshow": {
     "slide_type": "subslide"
    }
   },
   "source": [
    "A tuple of numbers indicating the size for every dimension for more dimensions"
   ]
  },
  {
   "cell_type": "code",
   "execution_count": 13,
   "id": "9e751a5d",
   "metadata": {},
   "outputs": [
    {
     "data": {
      "text/plain": [
       "array([[0., 0.],\n",
       "       [0., 0.],\n",
       "       [0., 0.]])"
      ]
     },
     "execution_count": 13,
     "metadata": {},
     "output_type": "execute_result"
    }
   ],
   "source": [
    "np.zeros((3,2))  # we pass the tuple (3, 2) to have a 3 x 2 matrix"
   ]
  },
  {
   "cell_type": "markdown",
   "id": "ac46b4f8",
   "metadata": {
    "slideshow": {
     "slide_type": "subslide"
    }
   },
   "source": [
    "The `np.ones` function works in the same way but creates a matrix of ones:"
   ]
  },
  {
   "cell_type": "code",
   "execution_count": 14,
   "id": "5be13ba2",
   "metadata": {},
   "outputs": [
    {
     "data": {
      "text/plain": [
       "array([[1., 1.],\n",
       "       [1., 1.],\n",
       "       [1., 1.]])"
      ]
     },
     "execution_count": 14,
     "metadata": {},
     "output_type": "execute_result"
    }
   ],
   "source": [
    "np.ones((3,2))"
   ]
  },
  {
   "cell_type": "markdown",
   "id": "c69bdd24",
   "metadata": {
    "slideshow": {
     "slide_type": "subslide"
    }
   },
   "source": [
    "We can inizialize a matrix with arbitrary values using `np.full`:"
   ]
  },
  {
   "cell_type": "code",
   "execution_count": 16,
   "id": "4091bf3e",
   "metadata": {},
   "outputs": [
    {
     "data": {
      "text/plain": [
       "array([[20, 20, 20],\n",
       "       [20, 20, 20]])"
      ]
     },
     "execution_count": 16,
     "metadata": {},
     "output_type": "execute_result"
    }
   ],
   "source": [
    "np.full((2,3), 20)"
   ]
  },
  {
   "cell_type": "markdown",
   "id": "766593fa",
   "metadata": {
    "slideshow": {
     "slide_type": "subslide"
    }
   },
   "source": [
    "In numpy arrays, **all elements must be of the same type**! (This is important to make arrays efficient)"
   ]
  },
  {
   "cell_type": "markdown",
   "id": "b95059c3",
   "metadata": {
    "slideshow": {
     "slide_type": "fragment"
    }
   },
   "source": [
    "By default, `np.nparray`s will be initialized with `float` values:"
   ]
  },
  {
   "cell_type": "code",
   "execution_count": 17,
   "id": "0173cb56",
   "metadata": {},
   "outputs": [
    {
     "data": {
      "text/plain": [
       "array([[1., 1., 1.],\n",
       "       [1., 1., 1.]])"
      ]
     },
     "execution_count": 17,
     "metadata": {},
     "output_type": "execute_result"
    }
   ],
   "source": [
    "np.ones((2,3))"
   ]
  },
  {
   "cell_type": "markdown",
   "id": "0271d145",
   "metadata": {
    "slideshow": {
     "slide_type": "subslide"
    }
   },
   "source": [
    "To specify the data type of our array, we can pass the `dtype` argument (for data type). For example, we can make it `int`:"
   ]
  },
  {
   "cell_type": "code",
   "execution_count": 18,
   "id": "17d960a7",
   "metadata": {},
   "outputs": [
    {
     "data": {
      "text/plain": [
       "array([[1, 1, 1],\n",
       "       [1, 1, 1]])"
      ]
     },
     "execution_count": 18,
     "metadata": {},
     "output_type": "execute_result"
    }
   ],
   "source": [
    "np.ones((2,3), dtype=int)"
   ]
  },
  {
   "cell_type": "markdown",
   "id": "c25bf585",
   "metadata": {
    "slideshow": {
     "slide_type": "subslide"
    }
   },
   "source": [
    "To change the data type of an existing array, we can use the `.asdtype(new_type)` method:"
   ]
  },
  {
   "cell_type": "code",
   "execution_count": 26,
   "id": "0235128a",
   "metadata": {},
   "outputs": [
    {
     "data": {
      "text/plain": [
       "array([[1, 1, 1],\n",
       "       [1, 1, 1]])"
      ]
     },
     "execution_count": 26,
     "metadata": {},
     "output_type": "execute_result"
    }
   ],
   "source": [
    "my_arr = np.full((2,3), 1)\n",
    "my_arr.astype(int)"
   ]
  },
  {
   "cell_type": "markdown",
   "id": "657f9b5f",
   "metadata": {
    "slideshow": {
     "slide_type": "subslide"
    }
   },
   "source": [
    "We can also use some special data type from numpy, for memory saving purposes:\n",
    " - `np.uint8` (numbers from 0 to 255)\n",
    " - `np.int8` (numbers from -128 to 127)\n",
    " - `np.uint16` (numbers from 0 to 65535)\n",
    " - `np.int16` (numbers from -32768 to 32767)\n",
    " \n",
    "The number (8 or 16) represents the number of **bits** used for every entry in the array!"
   ]
  },
  {
   "cell_type": "code",
   "execution_count": 30,
   "id": "e0b5ce04",
   "metadata": {
    "slideshow": {
     "slide_type": "subslide"
    }
   },
   "outputs": [
    {
     "data": {
      "text/plain": [
       "480120"
      ]
     },
     "execution_count": 30,
     "metadata": {},
     "output_type": "execute_result"
    }
   ],
   "source": [
    "import sys\n",
    "a_python_int_array = np.ones((200, 300), dtype=int)\n",
    "\n",
    "sys.getsizeof(a_python_int_array)  # we ask for the size of the array in memory"
   ]
  },
  {
   "cell_type": "code",
   "execution_count": 29,
   "id": "d565f5cb",
   "metadata": {},
   "outputs": [
    {
     "data": {
      "text/plain": [
       "60120"
      ]
     },
     "execution_count": 29,
     "metadata": {},
     "output_type": "execute_result"
    }
   ],
   "source": [
    "a_uint8_array = np.ones((200, 300), dtype=np.uint8)\n",
    "\n",
    "sys.getsizeof(a_uint8_array)  # the np.uint8 type is much more efficient!"
   ]
  },
  {
   "cell_type": "markdown",
   "id": "ba90b04d",
   "metadata": {
    "slideshow": {
     "slide_type": "subslide"
    }
   },
   "source": [
    "We can also make arrays of text! in this case, the dtype will be `'<U[n]'` (U for Unicode, and n will be the number of characters in the longest entry in the matrix):"
   ]
  },
  {
   "cell_type": "code",
   "execution_count": 149,
   "id": "b096ccab",
   "metadata": {},
   "outputs": [
    {
     "data": {
      "text/plain": [
       "array([['some text', 'some text', 'some text', ..., 'some text',\n",
       "        'some text', 'some text'],\n",
       "       ['some text', 'some text', 'some text', ..., 'some text',\n",
       "        'some text', 'some text'],\n",
       "       ['some text', 'some text', 'some text', ..., 'some text',\n",
       "        'some text', 'some text'],\n",
       "       ...,\n",
       "       ['some text', 'some text', 'some text', ..., 'some text',\n",
       "        'some text', 'some text'],\n",
       "       ['some text', 'some text', 'some text', ..., 'some text',\n",
       "        'some text', 'some text'],\n",
       "       ['some text', 'some text', 'some text', ..., 'some text',\n",
       "        'some text', 'some text']], dtype='<U9')"
      ]
     },
     "execution_count": 149,
     "metadata": {},
     "output_type": "execute_result"
    }
   ],
   "source": [
    "txt = np.full((300,2000), \"some text\")\n",
    "\n",
    "txt  # look at the dtype! the number will be the number of characters:"
   ]
  },
  {
   "cell_type": "markdown",
   "id": "1a5cff36",
   "metadata": {
    "slideshow": {
     "slide_type": "subslide"
    }
   },
   "source": [
    "### Useful attributes of `np.ndarray` objects"
   ]
  },
  {
   "cell_type": "markdown",
   "id": "25249f55",
   "metadata": {},
   "source": [
    "Being objects, `np.ndarray`s have attributes that can be useful to check out their properties."
   ]
  },
  {
   "cell_type": "markdown",
   "id": "0cb5ff62",
   "metadata": {
    "slideshow": {
     "slide_type": "subslide"
    }
   },
   "source": [
    "### `.shape`"
   ]
  },
  {
   "cell_type": "markdown",
   "id": "6ba3fca0",
   "metadata": {
    "slideshow": {
     "slide_type": "fragment"
    }
   },
   "source": [
    "The `.shape` attribute gives us the shape (the number of elements along each dimension of the array):"
   ]
  },
  {
   "cell_type": "code",
   "execution_count": 37,
   "id": "3e344e12",
   "metadata": {},
   "outputs": [
    {
     "data": {
      "text/plain": [
       "(4, 3)"
      ]
     },
     "execution_count": 37,
     "metadata": {},
     "output_type": "execute_result"
    }
   ],
   "source": [
    "my_array = np.zeros((4,3))\n",
    "\n",
    "my_array.shape"
   ]
  },
  {
   "cell_type": "markdown",
   "id": "d911ff8c",
   "metadata": {
    "slideshow": {
     "slide_type": "subslide"
    }
   },
   "source": [
    "### `.dtype`"
   ]
  },
  {
   "cell_type": "markdown",
   "id": "6f2d686e",
   "metadata": {
    "slideshow": {
     "slide_type": "fragment"
    }
   },
   "source": [
    "The `.dtype` attribute gives the type of the elements in the array:"
   ]
  },
  {
   "cell_type": "code",
   "execution_count": 40,
   "id": "b9d2a6ef",
   "metadata": {},
   "outputs": [
    {
     "data": {
      "text/plain": [
       "dtype('<U8')"
      ]
     },
     "execution_count": 40,
     "metadata": {},
     "output_type": "execute_result"
    }
   ],
   "source": [
    "my_array = np.full((4,3,5), \"a string\")\n",
    "my_array.dtype"
   ]
  },
  {
   "cell_type": "markdown",
   "id": "2146f10c",
   "metadata": {
    "slideshow": {
     "slide_type": "subslide"
    }
   },
   "source": [
    "### `.size`"
   ]
  },
  {
   "cell_type": "markdown",
   "id": "bb82739b",
   "metadata": {
    "slideshow": {
     "slide_type": "fragment"
    }
   },
   "source": [
    "Do not confuse `.shape` with `.size`! `.size` gives the numbers of elements in the whole matrix:"
   ]
  },
  {
   "cell_type": "code",
   "execution_count": 41,
   "id": "556efcc0",
   "metadata": {},
   "outputs": [
    {
     "data": {
      "text/plain": [
       "12"
      ]
     },
     "execution_count": 41,
     "metadata": {},
     "output_type": "execute_result"
    }
   ],
   "source": [
    "my_array = np.full((4,3), 3)\n",
    "my_array.size"
   ]
  },
  {
   "cell_type": "markdown",
   "id": "58bfd10b",
   "metadata": {
    "slideshow": {
     "slide_type": "subslide"
    }
   },
   "source": [
    "### Convert lists to arrays"
   ]
  },
  {
   "cell_type": "markdown",
   "id": "6ff12d12",
   "metadata": {
    "slideshow": {
     "slide_type": "fragment"
    }
   },
   "source": [
    "One way of creating an array is to convert an existing list into an array with the `np.array()` function:"
   ]
  },
  {
   "cell_type": "code",
   "execution_count": 45,
   "id": "1c810d05",
   "metadata": {},
   "outputs": [
    {
     "data": {
      "text/plain": [
       "(4,)"
      ]
     },
     "execution_count": 45,
     "metadata": {},
     "output_type": "execute_result"
    }
   ],
   "source": [
    "my_list = [1,2,3,4]\n",
    "np.array(my_list).shape"
   ]
  },
  {
   "cell_type": "markdown",
   "id": "d1096bea",
   "metadata": {
    "slideshow": {
     "slide_type": "subslide"
    }
   },
   "source": [
    "Converting lists of lists will add more dimensions:"
   ]
  },
  {
   "cell_type": "code",
   "execution_count": 147,
   "id": "c9c71f62",
   "metadata": {},
   "outputs": [
    {
     "data": {
      "text/plain": [
       "array([[1, 2, 3, 4],\n",
       "       [2, 3, 4, 5]])"
      ]
     },
     "execution_count": 147,
     "metadata": {},
     "output_type": "execute_result"
    }
   ],
   "source": [
    "my_list = [[1,2,3,4], [2,3,4,5]]\n",
    "np.array(my_list)"
   ]
  },
  {
   "cell_type": "code",
   "execution_count": 148,
   "id": "2834c53e",
   "metadata": {},
   "outputs": [
    {
     "name": "stderr",
     "output_type": "stream",
     "text": [
      "/var/folders/wp/q156lfy924zg6bqc48v9j2800000gn/T/ipykernel_75548/2500491937.py:6: VisibleDeprecationWarning: Creating an ndarray from ragged nested sequences (which is a list-or-tuple of lists-or-tuples-or ndarrays with different lengths or shapes) is deprecated. If you meant to do this, you must specify 'dtype=object' when creating the ndarray.\n",
      "  np.array(my_list)\n"
     ]
    },
    {
     "data": {
      "text/plain": [
       "array([list([1, 2, 3, 4]), list([2, 3, 4, 5]), list([1, 2])], dtype=object)"
      ]
     },
     "execution_count": 148,
     "metadata": {},
     "output_type": "execute_result"
    }
   ],
   "source": [
    "# Beware! if we initialize the np.ndarray with lists of different lengths, we will create\n",
    "# an array of lists - with a funny dtype (object), and one dimensional.\n",
    "# You generally want to avoid it! Luckily, we get a warning:\n",
    "\n",
    "my_list = [[1,2,3,4], [2,3,4,5], [1,2]]\n",
    "np.array(my_list)"
   ]
  },
  {
   "cell_type": "markdown",
   "id": "b8bfbbed",
   "metadata": {
    "slideshow": {
     "slide_type": "subslide"
    }
   },
   "source": [
    "### Ordered sequences"
   ]
  },
  {
   "cell_type": "markdown",
   "id": "ed7b8c11",
   "metadata": {
    "slideshow": {
     "slide_type": "fragment"
    }
   },
   "source": [
    "We can create ordered sequences of numbers using `np.arange()`:"
   ]
  },
  {
   "cell_type": "code",
   "execution_count": 51,
   "id": "588557e6",
   "metadata": {},
   "outputs": [
    {
     "data": {
      "text/plain": [
       "array([0, 1, 2, 3, 4, 5, 6, 7, 8, 9])"
      ]
     },
     "execution_count": 51,
     "metadata": {},
     "output_type": "execute_result"
    }
   ],
   "source": [
    "np.arange(10)  # numbers from 0 to 9"
   ]
  },
  {
   "cell_type": "markdown",
   "id": "7623410a",
   "metadata": {
    "slideshow": {
     "slide_type": "fragment"
    }
   },
   "source": [
    "We can optionally specify start, end, and step of the sequence (start and steps are optional):"
   ]
  },
  {
   "cell_type": "code",
   "execution_count": 53,
   "id": "4c769391",
   "metadata": {},
   "outputs": [
    {
     "data": {
      "text/plain": [
       "array([1, 3, 5, 7, 9])"
      ]
     },
     "execution_count": 53,
     "metadata": {},
     "output_type": "execute_result"
    }
   ],
   "source": [
    "np.arange(1, 10, 2)  # numbers from 1 to 10 in steps of 2:"
   ]
  },
  {
   "cell_type": "markdown",
   "id": "a6c21540",
   "metadata": {
    "slideshow": {
     "slide_type": "subslide"
    }
   },
   "source": [
    "Alternatively, we can use `np.linspace()` to generate `num` equally spaced numbers in a specified range:"
   ]
  },
  {
   "cell_type": "code",
   "execution_count": 54,
   "id": "a059c273",
   "metadata": {},
   "outputs": [
    {
     "data": {
      "text/plain": [
       "array([0, 5])"
      ]
     },
     "execution_count": 54,
     "metadata": {},
     "output_type": "execute_result"
    }
   ],
   "source": [
    "np.arange(0, 10, 5)"
   ]
  },
  {
   "cell_type": "code",
   "execution_count": 55,
   "id": "0be75f75",
   "metadata": {},
   "outputs": [
    {
     "data": {
      "text/plain": [
       "array([ 0. ,  2.5,  5. ,  7.5, 10. ])"
      ]
     },
     "execution_count": 55,
     "metadata": {},
     "output_type": "execute_result"
    }
   ],
   "source": [
    "np.linspace(0, 10, num=5)"
   ]
  },
  {
   "cell_type": "markdown",
   "id": "6c43ec0f",
   "metadata": {
    "slideshow": {
     "slide_type": "subslide"
    }
   },
   "source": [
    "### Random arrays"
   ]
  },
  {
   "cell_type": "markdown",
   "id": "9d385427",
   "metadata": {},
   "source": [
    "We can use the `np.random` module to create random arrays. For example:"
   ]
  },
  {
   "cell_type": "code",
   "execution_count": 57,
   "id": "8fcadd6b",
   "metadata": {},
   "outputs": [],
   "source": [
    "?np.ones"
   ]
  },
  {
   "cell_type": "code",
   "execution_count": 59,
   "id": "872b2819",
   "metadata": {},
   "outputs": [
    {
     "data": {
      "text/plain": [
       "array([[1., 1.],\n",
       "       [1., 1.],\n",
       "       [1., 1.]])"
      ]
     },
     "execution_count": 59,
     "metadata": {},
     "output_type": "execute_result"
    }
   ],
   "source": [
    "np.ones((3, 2))"
   ]
  },
  {
   "cell_type": "code",
   "execution_count": 56,
   "id": "71bdfe61",
   "metadata": {},
   "outputs": [
    {
     "data": {
      "text/plain": [
       "array([[1, 0],\n",
       "       [0, 1],\n",
       "       [0, 0]])"
      ]
     },
     "execution_count": 56,
     "metadata": {},
     "output_type": "execute_result"
    }
   ],
   "source": [
    "np.random.randint(0, 2, (3,2))  # we pass min, max, and desired shape of the random array"
   ]
  },
  {
   "cell_type": "markdown",
   "id": "f682a745",
   "metadata": {
    "slideshow": {
     "slide_type": "slide"
    }
   },
   "source": [
    "(Practicals 1.0.0)"
   ]
  },
  {
   "cell_type": "markdown",
   "id": "8d4d13ee",
   "metadata": {
    "slideshow": {
     "slide_type": "slide"
    }
   },
   "source": [
    "## Visualize arrays and matrices"
   ]
  },
  {
   "cell_type": "markdown",
   "id": "109f2de7",
   "metadata": {
    "slideshow": {
     "slide_type": "fragment"
    }
   },
   "source": [
    "We can visualize arrays and matrices using the `matplotlib.pyplot` library."
   ]
  },
  {
   "cell_type": "code",
   "execution_count": 61,
   "id": "7fc90ed0",
   "metadata": {},
   "outputs": [],
   "source": [
    "from matplotlib import pyplot as plt  # code you'll write many times in Python..."
   ]
  },
  {
   "cell_type": "markdown",
   "id": "f002725a",
   "metadata": {
    "slideshow": {
     "slide_type": "subslide"
    }
   },
   "source": [
    "We can plot 1D arrays (or lists!) using `plt.plot()`:"
   ]
  },
  {
   "cell_type": "code",
   "execution_count": 63,
   "id": "c69f516d",
   "metadata": {},
   "outputs": [
    {
     "data": {
      "text/plain": [
       "[<matplotlib.lines.Line2D at 0x114d63df0>,\n",
       " <matplotlib.lines.Line2D at 0x114d63e50>]"
      ]
     },
     "execution_count": 63,
     "metadata": {},
     "output_type": "execute_result"
    },
    {
     "data": {
      "image/png": "[encoded data removed]",
      "text/plain": [
       "<Figure size 432x288 with 1 Axes>"
      ]
     },
     "metadata": {
      "needs_background": "light"
     },
     "output_type": "display_data"
    }
   ],
   "source": [
    "random_vect = np.random.randint(0, 100, (3, 2))\n",
    "plt.plot(random_vect)"
   ]
  },
  {
   "cell_type": "markdown",
   "id": "275fc44d",
   "metadata": {
    "slideshow": {
     "slide_type": "subslide"
    }
   },
   "source": [
    "We can visualize 2D matrices with `plt.matshow()`"
   ]
  },
  {
   "cell_type": "code",
   "execution_count": 65,
   "id": "74f5f7ab",
   "metadata": {},
   "outputs": [
    {
     "data": {
      "text/plain": [
       "<matplotlib.colorbar.Colorbar at 0x114e16070>"
      ]
     },
     "execution_count": 65,
     "metadata": {},
     "output_type": "execute_result"
    },
    {
     "data": {
      "image/png": "[encoded data removed]",
      "text/plain": [
       "<Figure size 576x288 with 2 Axes>"
      ]
     },
     "metadata": {
      "needs_background": "light"
     },
     "output_type": "display_data"
    }
   ],
   "source": [
    "random_mat = np.random.randint(0, 255, (100, 200))\n",
    "\n",
    "plt.matshow(random_mat)\n",
    "plt.colorbar()"
   ]
  },
  {
   "cell_type": "markdown",
   "id": "1dd57e10",
   "metadata": {},
   "source": [
    "There's much more to the matplotlib library, we'll discover more things as we go!"
   ]
  },
  {
   "cell_type": "markdown",
   "id": "d75a5b6a",
   "metadata": {
    "slideshow": {
     "slide_type": "subslide"
    }
   },
   "source": [
    "## Indexing arrays"
   ]
  },
  {
   "cell_type": "markdown",
   "id": "0815bbdc",
   "metadata": {},
   "source": [
    "We can index (\"slice\") arrays as we were doing with lists."
   ]
  },
  {
   "cell_type": "markdown",
   "id": "880a37e3",
   "metadata": {
    "slideshow": {
     "slide_type": "fragment"
    }
   },
   "source": [
    "For a 1D array:"
   ]
  },
  {
   "cell_type": "code",
   "execution_count": 68,
   "id": "6f91139e",
   "metadata": {},
   "outputs": [
    {
     "name": "stdout",
     "output_type": "stream",
     "text": [
      "[0 1 2 3 4]\n",
      "[7 8 9]\n",
      "[0 2 4]\n"
     ]
    }
   ],
   "source": [
    "my_vect = np.arange(0, 10)\n",
    "print(my_vect[:5])  # first 5\n",
    "print(my_vect[-3:])  # last 3\n",
    "print(my_vect[:6:2])  # first 6, one every two"
   ]
  },
  {
   "cell_type": "markdown",
   "id": "546a29c3",
   "metadata": {
    "slideshow": {
     "slide_type": "subslide"
    }
   },
   "source": [
    "But! With `np.ndarray`s we have more flexibility than with lists!"
   ]
  },
  {
   "cell_type": "markdown",
   "id": "09b4fd21",
   "metadata": {
    "slideshow": {
     "slide_type": "subslide"
    }
   },
   "source": [
    "### Indexing by index numbers"
   ]
  },
  {
   "cell_type": "markdown",
   "id": "ce824fe8",
   "metadata": {
    "slideshow": {
     "slide_type": "fragment"
    }
   },
   "source": [
    "We can index passing an array (or a list) of the index values that we want to retrieve!"
   ]
  },
  {
   "cell_type": "code",
   "execution_count": 75,
   "id": "b919ba08",
   "metadata": {},
   "outputs": [
    {
     "data": {
      "text/plain": [
       "array([-9.67965322, -4.64530778])"
      ]
     },
     "execution_count": 75,
     "metadata": {},
     "output_type": "execute_result"
    }
   ],
   "source": [
    "my_vect = np.random.normal(0, 10, 4)\n",
    "my_vect[[0, 1]]"
   ]
  },
  {
   "cell_type": "markdown",
   "id": "c2a79972",
   "metadata": {
    "slideshow": {
     "slide_type": "subslide"
    }
   },
   "source": [
    "### Boolean indexing"
   ]
  },
  {
   "cell_type": "markdown",
   "id": "4c68931b",
   "metadata": {
    "slideshow": {
     "slide_type": "fragment"
    }
   },
   "source": [
    "Alternatively, we can use arrays of boolean values (with the same shape of the `np.array`)"
   ]
  },
  {
   "cell_type": "code",
   "execution_count": 94,
   "id": "0ff5256c",
   "metadata": {},
   "outputs": [
    {
     "data": {
      "text/plain": [
       "array([ 9.2361528 , 22.67783598, 14.20087893,  6.5768083 ])"
      ]
     },
     "execution_count": 94,
     "metadata": {},
     "output_type": "execute_result"
    }
   ],
   "source": [
    "my_vect = np.random.normal(0, 10, (10))\n",
    "thr = 5\n",
    "boolean_selector = my_vect > thr\n",
    "\n",
    "\n",
    "my_vect[boolean_selector]  # will select only values above 5"
   ]
  },
  {
   "cell_type": "markdown",
   "id": "ac025c36",
   "metadata": {
    "slideshow": {
     "slide_type": "subslide"
    }
   },
   "source": [
    "### Indexing for multiple dimensions"
   ]
  },
  {
   "cell_type": "markdown",
   "id": "ccbd5b3c",
   "metadata": {
    "slideshow": {
     "slide_type": "fragment"
    }
   },
   "source": [
    "We can index over multiple dimensions specifying **comma-separated** indexes along each dimension:"
   ]
  },
  {
   "cell_type": "code",
   "execution_count": 87,
   "id": "8c388453",
   "metadata": {},
   "outputs": [
    {
     "data": {
      "text/plain": [
       "array([11, 12, 13, 14, 15])"
      ]
     },
     "execution_count": 87,
     "metadata": {},
     "output_type": "execute_result"
    }
   ],
   "source": [
    "my_mat = np.array([[1,   2,  3,  4, 5],\n",
    "                   [6,   7,  8,  9, 10],\n",
    "                   [11, 12, 13, 14, 15]])\n",
    "\n",
    "my_mat[2, :] \n",
    "\n",
    "my_mat[2]  # the same as writing my_mat[2, :], but discouraged!"
   ]
  },
  {
   "cell_type": "markdown",
   "id": "3cb1dadb",
   "metadata": {
    "slideshow": {
     "slide_type": "subslide"
    }
   },
   "source": [
    "We can use boolean selectors for an axis, as long as the dimension matches:"
   ]
  },
  {
   "cell_type": "code",
   "execution_count": 88,
   "id": "5e4c3330",
   "metadata": {},
   "outputs": [
    {
     "data": {
      "text/plain": [
       "(3, 5)"
      ]
     },
     "execution_count": 88,
     "metadata": {},
     "output_type": "execute_result"
    }
   ],
   "source": [
    "my_mat.shape"
   ]
  },
  {
   "cell_type": "code",
   "execution_count": 92,
   "id": "ebfe84fa",
   "metadata": {},
   "outputs": [
    {
     "data": {
      "text/plain": [
       "array([[1, 2, 3, 4, 5]])"
      ]
     },
     "execution_count": 92,
     "metadata": {},
     "output_type": "execute_result"
    }
   ],
   "source": [
    "selector = np.array([True, False, False])\n",
    "my_mat[selector, :]"
   ]
  },
  {
   "cell_type": "markdown",
   "id": "8c2653aa",
   "metadata": {
    "slideshow": {
     "slide_type": "subslide"
    }
   },
   "source": [
    "In this way, we can check for boolean conditions on the matrix:"
   ]
  },
  {
   "cell_type": "code",
   "execution_count": 95,
   "id": "b0d127aa",
   "metadata": {},
   "outputs": [
    {
     "data": {
      "text/plain": [
       "array([ 6,  7,  8,  9, 10, 11, 12, 13, 14, 15])"
      ]
     },
     "execution_count": 95,
     "metadata": {},
     "output_type": "execute_result"
    }
   ],
   "source": [
    "my_mat = np.array([[1,   2,  3,  4, 5],\n",
    "                   [6,   7,  8,  9, 10],\n",
    "                   [11, 12, 13, 14, 15]])\n",
    "\n",
    "my_mat[my_mat > 5]"
   ]
  },
  {
   "cell_type": "markdown",
   "id": "235c14f0",
   "metadata": {},
   "source": [
    "this will change the shape of the output!"
   ]
  },
  {
   "cell_type": "markdown",
   "id": "25ecf9c7",
   "metadata": {
    "slideshow": {
     "slide_type": "subslide"
    }
   },
   "source": [
    "### Mind singleton dimensions!"
   ]
  },
  {
   "cell_type": "markdown",
   "id": "97a686ec",
   "metadata": {
    "slideshow": {
     "slide_type": "fragment"
    }
   },
   "source": [
    "Arrays can have singleton dimensions - _i.e._ dimensions along which there is a single entry:"
   ]
  },
  {
   "cell_type": "code",
   "execution_count": 96,
   "id": "5568dca5",
   "metadata": {},
   "outputs": [
    {
     "name": "stdout",
     "output_type": "stream",
     "text": [
      "[0. 0. 0. 0.]; shape: (4,)\n"
     ]
    }
   ],
   "source": [
    "my_arr = np.zeros(4)  # this is a 1D array\n",
    "\n",
    "print(f\"{my_arr}; shape: {my_arr.shape}\")"
   ]
  },
  {
   "cell_type": "code",
   "execution_count": 99,
   "id": "dffa006c",
   "metadata": {},
   "outputs": [
    {
     "name": "stdout",
     "output_type": "stream",
     "text": [
      "[[0. 0. 0. 0.]]; shape: (1, 4)\n"
     ]
    }
   ],
   "source": [
    "my_arr_1 = np.zeros((1,4))  # this is a 2D array with a singleton dimension!\n",
    "print(f\"{my_arr}; shape: {my_arr.shape}\")"
   ]
  },
  {
   "cell_type": "markdown",
   "id": "43480c19",
   "metadata": {
    "slideshow": {
     "slide_type": "subslide"
    }
   },
   "source": [
    "Sometimes, it can be useful to quickly add a singleton dimension:"
   ]
  },
  {
   "cell_type": "code",
   "execution_count": 103,
   "id": "009690b0",
   "metadata": {},
   "outputs": [
    {
     "name": "stdout",
     "output_type": "stream",
     "text": [
      "[[0.]\n",
      " [0.]\n",
      " [0.]\n",
      " [0.]]; shape: (4, 1)\n"
     ]
    }
   ],
   "source": [
    "my_arr = np.zeros(4)  # 1D array\n",
    "\n",
    "# With this special indexing, we artificially add a singleton dimension on first dim:\n",
    "my_arr = my_arr[:, np.newaxis]  \n",
    "\n",
    "print(f\"{my_arr}; shape: {my_arr.shape}\")"
   ]
  },
  {
   "cell_type": "markdown",
   "id": "c9218f50",
   "metadata": {
    "slideshow": {
     "slide_type": "subslide"
    }
   },
   "source": [
    "An alternative way of achieving the same with a function is `np.expand_dims()`:"
   ]
  },
  {
   "cell_type": "code",
   "execution_count": 104,
   "id": "3956692e",
   "metadata": {},
   "outputs": [
    {
     "name": "stdout",
     "output_type": "stream",
     "text": [
      "[[0. 0. 0. 0.]]; shape: (1, 4)\n"
     ]
    }
   ],
   "source": [
    "import numpy as np\n",
    "my_arr = np.zeros(4)  # 1D array\n",
    "\n",
    "my_arr = np.expand_dims(my_arr, 0)\n",
    "\n",
    "print(f\"{my_arr}; shape: {my_arr.shape}\")"
   ]
  },
  {
   "cell_type": "markdown",
   "id": "23367af6",
   "metadata": {
    "slideshow": {
     "slide_type": "subslide"
    }
   },
   "source": [
    "## array views"
   ]
  },
  {
   "cell_type": "markdown",
   "id": "8f1f1960",
   "metadata": {
    "slideshow": {
     "slide_type": "fragment"
    }
   },
   "source": [
    "Indexing operations return views on the original arrays, NOT COPIES! Changing values in the slice we will also alter the original array!"
   ]
  },
  {
   "cell_type": "code",
   "execution_count": 112,
   "id": "1d84b0fc",
   "metadata": {},
   "outputs": [],
   "source": [
    "my_mat = np.array([[1,   2,  3,  4, 5],\n",
    "                   [6,   7,  8,  9, 10],\n",
    "                   [11, 12, 13, 14, 15]])\n",
    "\n",
    "a_slice = my_mat[2, :]\n",
    "\n",
    "a_slice[0] = 2000  # change the entry unless we use the .copy()\n"
   ]
  },
  {
   "cell_type": "markdown",
   "id": "9e5895f8",
   "metadata": {
    "slideshow": {
     "slide_type": "slide"
    }
   },
   "source": [
    "(Practicals 1.0.1)"
   ]
  },
  {
   "cell_type": "markdown",
   "id": "25af4d78",
   "metadata": {
    "slideshow": {
     "slide_type": "subslide"
    }
   },
   "source": [
    "## Transforming and combining arrays"
   ]
  },
  {
   "cell_type": "markdown",
   "id": "c13fc91a",
   "metadata": {
    "slideshow": {
     "slide_type": "subslide"
    }
   },
   "source": [
    "### `.T`"
   ]
  },
  {
   "cell_type": "markdown",
   "id": "f6eba3f5",
   "metadata": {},
   "source": [
    "We can have a transposed view of a matrix with the `.T` attribute (this will reverse the dimensions order if `n_dims>2`):"
   ]
  },
  {
   "cell_type": "code",
   "execution_count": 116,
   "id": "3f81260f",
   "metadata": {},
   "outputs": [
    {
     "name": "stdout",
     "output_type": "stream",
     "text": [
      "(3, 2) (2, 3)\n"
     ]
    }
   ],
   "source": [
    "m = np.ones((3,2))\n",
    "m_t = m.T\n",
    "\n",
    "print(m.shape, m_t.shape)"
   ]
  },
  {
   "cell_type": "markdown",
   "id": "2abd3f73",
   "metadata": {
    "slideshow": {
     "slide_type": "subslide"
    }
   },
   "source": [
    "### `.flatten()`"
   ]
  },
  {
   "cell_type": "markdown",
   "id": "a8eece46",
   "metadata": {},
   "source": [
    "We can flatten all values of an N-dimensional array into a 1D array with the `.flatten()` syntax. This will make a copy of the array!"
   ]
  },
  {
   "cell_type": "code",
   "execution_count": 119,
   "id": "17f26b2c",
   "metadata": {},
   "outputs": [
    {
     "name": "stdout",
     "output_type": "stream",
     "text": [
      "(3, 2, 3) (18,)\n"
     ]
    },
    {
     "data": {
      "text/plain": [
       "array([1., 1., 1., 1., 1., 1., 1., 1., 1., 1., 1., 1., 1., 1., 1., 1., 1.,\n",
       "       1.])"
      ]
     },
     "execution_count": 119,
     "metadata": {},
     "output_type": "execute_result"
    }
   ],
   "source": [
    "m = np.ones((3,2,3))\n",
    "m_flat = m.flatten()\n",
    "\n",
    "print(m.shape, m_flat.shape)\n",
    "m_flat"
   ]
  },
  {
   "cell_type": "markdown",
   "id": "6f895b43",
   "metadata": {
    "slideshow": {
     "slide_type": "subslide"
    }
   },
   "source": [
    "### `np.concatenate()`"
   ]
  },
  {
   "cell_type": "markdown",
   "id": "cf796918",
   "metadata": {},
   "source": [
    "We can concatenate arrays along any dimension by putting them in a list and pass the list to the `np.concatenate()` function:"
   ]
  },
  {
   "cell_type": "code",
   "execution_count": 120,
   "id": "d000d326",
   "metadata": {},
   "outputs": [
    {
     "data": {
      "text/plain": [
       "array([0., 0., 0., 1., 1., 1.])"
      ]
     },
     "execution_count": 120,
     "metadata": {},
     "output_type": "execute_result"
    }
   ],
   "source": [
    "arr_list = [np.zeros(3), np.ones(3)]\n",
    "\n",
    "np.concatenate(arr_list) "
   ]
  },
  {
   "cell_type": "markdown",
   "id": "2cf30e5c",
   "metadata": {
    "slideshow": {
     "slide_type": "subslide"
    }
   },
   "source": [
    "By default, we concatenate over the first dimension:"
   ]
  },
  {
   "cell_type": "code",
   "execution_count": 122,
   "id": "0ad897fe",
   "metadata": {},
   "outputs": [
    {
     "data": {
      "text/plain": [
       "array([[0., 0.],\n",
       "       [0., 0.],\n",
       "       [0., 0.],\n",
       "       [1., 1.],\n",
       "       [1., 1.],\n",
       "       [1., 1.]])"
      ]
     },
     "execution_count": 122,
     "metadata": {},
     "output_type": "execute_result"
    }
   ],
   "source": [
    "arr_list = [np.zeros((3,2)), np.ones((3,2))]\n",
    "arr_list\n",
    "\n",
    "np.concatenate(arr_list)  # if ndims > 1 by default we concatenate over the first dimension"
   ]
  },
  {
   "cell_type": "markdown",
   "id": "afcf316a",
   "metadata": {
    "slideshow": {
     "slide_type": "subslide"
    }
   },
   "source": [
    "but we can pass an `axis` argument to change the default behavior:"
   ]
  },
  {
   "cell_type": "code",
   "execution_count": 123,
   "id": "0cffde82",
   "metadata": {},
   "outputs": [
    {
     "data": {
      "text/plain": [
       "array([[0., 0., 1., 1.],\n",
       "       [0., 0., 1., 1.],\n",
       "       [0., 0., 1., 1.]])"
      ]
     },
     "execution_count": 123,
     "metadata": {},
     "output_type": "execute_result"
    }
   ],
   "source": [
    "arr_list = [np.zeros((3,2)), np.ones((3,2))]\n",
    "\n",
    "np.concatenate(arr_list, axis=1) "
   ]
  },
  {
   "cell_type": "markdown",
   "id": "ec1b45ef",
   "metadata": {
    "slideshow": {
     "slide_type": "subslide"
    }
   },
   "source": [
    "### `np.stack()`"
   ]
  },
  {
   "cell_type": "markdown",
   "id": "fd09cca0",
   "metadata": {
    "slideshow": {
     "slide_type": "fragment"
    }
   },
   "source": [
    "We can pile up arrays over a new dimension with  `np.stack()`:"
   ]
  },
  {
   "cell_type": "code",
   "execution_count": 127,
   "id": "5c079461",
   "metadata": {},
   "outputs": [
    {
     "data": {
      "text/plain": [
       "(2, 3, 2)"
      ]
     },
     "execution_count": 127,
     "metadata": {},
     "output_type": "execute_result"
    }
   ],
   "source": [
    "arr_list = [np.zeros((3, 2)), np.ones((3, 2))]\n",
    "\n",
    "np.stack(arr_list).shape"
   ]
  },
  {
   "cell_type": "markdown",
   "id": "0ac9540d",
   "metadata": {
    "slideshow": {
     "slide_type": "subslide"
    }
   },
   "source": [
    "## Array operations"
   ]
  },
  {
   "cell_type": "markdown",
   "id": "3347af5c",
   "metadata": {},
   "source": [
    "We obviously want to do some operations with those arrays!"
   ]
  },
  {
   "cell_type": "markdown",
   "id": "9f174807",
   "metadata": {
    "slideshow": {
     "slide_type": "subslide"
    }
   },
   "source": [
    "### Operations with numbers"
   ]
  },
  {
   "cell_type": "markdown",
   "id": "8f022018",
   "metadata": {
    "slideshow": {
     "slide_type": "fragment"
    }
   },
   "source": [
    "Operations with arrays are **by default element-wise**!"
   ]
  },
  {
   "cell_type": "markdown",
   "id": "621cdca1",
   "metadata": {
    "slideshow": {
     "slide_type": "subslide"
    }
   },
   "source": [
    "Sum / subtraction / multiplication / division apply to individual entries of the array:"
   ]
  },
  {
   "cell_type": "code",
   "execution_count": 128,
   "id": "235c1b07",
   "metadata": {},
   "outputs": [
    {
     "data": {
      "text/plain": [
       "array([2., 2., 2.])"
      ]
     },
     "execution_count": 128,
     "metadata": {},
     "output_type": "execute_result"
    }
   ],
   "source": [
    "np.ones(3) + 1"
   ]
  },
  {
   "cell_type": "code",
   "execution_count": 129,
   "id": "47cea6e6",
   "metadata": {
    "slideshow": {
     "slide_type": "fragment"
    }
   },
   "outputs": [
    {
     "data": {
      "text/plain": [
       "array([[100., 100., 100.],\n",
       "       [  1.,   1.,   1.],\n",
       "       [  1.,   1.,   1.],\n",
       "       [  1.,   1.,   1.]])"
      ]
     },
     "execution_count": 129,
     "metadata": {},
     "output_type": "execute_result"
    }
   ],
   "source": [
    "my_arr = np.ones((4,3))\n",
    "my_arr[0, :] *= 100\n",
    "my_arr"
   ]
  },
  {
   "cell_type": "markdown",
   "id": "c8a487de",
   "metadata": {
    "slideshow": {
     "slide_type": "subslide"
    }
   },
   "source": [
    "Exponentiation also works element-wise:"
   ]
  },
  {
   "cell_type": "code",
   "execution_count": 130,
   "id": "3527a015",
   "metadata": {},
   "outputs": [
    {
     "data": {
      "text/plain": [
       "array([ 1,  8, 27])"
      ]
     },
     "execution_count": 130,
     "metadata": {},
     "output_type": "execute_result"
    }
   ],
   "source": [
    "np.array((1,2,3))**3"
   ]
  },
  {
   "cell_type": "markdown",
   "id": "962c5c09",
   "metadata": {
    "slideshow": {
     "slide_type": "subslide"
    }
   },
   "source": [
    "### Operations between arrays"
   ]
  },
  {
   "cell_type": "markdown",
   "id": "fe14e1fc",
   "metadata": {
    "slideshow": {
     "slide_type": "fragment"
    }
   },
   "source": [
    "`numpy` works element-wise also when operating between arrays:"
   ]
  },
  {
   "cell_type": "code",
   "execution_count": 131,
   "id": "41326888",
   "metadata": {},
   "outputs": [
    {
     "data": {
      "text/plain": [
       "array([[0, 0],\n",
       "       [0, 8]])"
      ]
     },
     "execution_count": 131,
     "metadata": {},
     "output_type": "execute_result"
    }
   ],
   "source": [
    "arr_1 = np.array([[1,2],\n",
    "                  [3,4]])\n",
    "\n",
    "arr_2 = np.array([[0,0],\n",
    "                  [0,2]])\n",
    "\n",
    "arr_1 * arr_2"
   ]
  },
  {
   "cell_type": "code",
   "execution_count": 132,
   "id": "bff59d1a",
   "metadata": {
    "slideshow": {
     "slide_type": "fragment"
    }
   },
   "outputs": [
    {
     "data": {
      "text/plain": [
       "array([[ 1,  1],\n",
       "       [ 1, 16]])"
      ]
     },
     "execution_count": 132,
     "metadata": {},
     "output_type": "execute_result"
    }
   ],
   "source": [
    "arr_1 ** arr_2"
   ]
  },
  {
   "cell_type": "markdown",
   "id": "c9335267",
   "metadata": {
    "slideshow": {
     "slide_type": "subslide"
    }
   },
   "source": [
    "Therefore, we normally expect arrays of matching shapes, or we get a `ValueError`!"
   ]
  },
  {
   "cell_type": "code",
   "execution_count": 133,
   "id": "a32540cf",
   "metadata": {},
   "outputs": [
    {
     "ename": "ValueError",
     "evalue": "operands could not be broadcast together with shapes (2,3) (4,5) ",
     "output_type": "error",
     "traceback": [
      "\u001b[0;31m---------------------------------------------------------------------------\u001b[0m",
      "\u001b[0;31mValueError\u001b[0m                                Traceback (most recent call last)",
      "Input \u001b[0;32mIn [133]\u001b[0m, in \u001b[0;36m<cell line: 1>\u001b[0;34m()\u001b[0m\n\u001b[0;32m----> 1\u001b[0m \u001b[43mnp\u001b[49m\u001b[38;5;241;43m.\u001b[39;49m\u001b[43mones\u001b[49m\u001b[43m(\u001b[49m\u001b[43m(\u001b[49m\u001b[38;5;241;43m2\u001b[39;49m\u001b[43m,\u001b[49m\u001b[43m \u001b[49m\u001b[38;5;241;43m3\u001b[39;49m\u001b[43m)\u001b[49m\u001b[43m)\u001b[49m\u001b[43m \u001b[49m\u001b[38;5;241;43m*\u001b[39;49m\u001b[43m \u001b[49m\u001b[43mnp\u001b[49m\u001b[38;5;241;43m.\u001b[39;49m\u001b[43mones\u001b[49m\u001b[43m(\u001b[49m\u001b[43m(\u001b[49m\u001b[38;5;241;43m4\u001b[39;49m\u001b[43m,\u001b[49m\u001b[43m \u001b[49m\u001b[38;5;241;43m5\u001b[39;49m\u001b[43m)\u001b[49m\u001b[43m)\u001b[49m\n",
      "\u001b[0;31mValueError\u001b[0m: operands could not be broadcast together with shapes (2,3) (4,5) "
     ]
    }
   ],
   "source": [
    "np.ones((2, 3)) * np.ones((4, 5))"
   ]
  },
  {
   "cell_type": "markdown",
   "id": "13fd963f",
   "metadata": {
    "slideshow": {
     "slide_type": "subslide"
    }
   },
   "source": [
    "### Broadcasting"
   ]
  },
  {
   "cell_type": "markdown",
   "id": "692edac2",
   "metadata": {},
   "source": [
    "`numpy` has a smart way of dealing with some scenarios of non-matching dimensions, and we should use it!"
   ]
  },
  {
   "cell_type": "markdown",
   "id": "67687757",
   "metadata": {
    "slideshow": {
     "slide_type": "fragment"
    }
   },
   "source": [
    "Can be a bit tricky at the beginning, but it is very important: we can write very efficient and readable code with it!"
   ]
  },
  {
   "cell_type": "code",
   "execution_count": 134,
   "id": "0a63614f",
   "metadata": {
    "slideshow": {
     "slide_type": "subslide"
    }
   },
   "outputs": [
    {
     "data": {
      "text/plain": [
       "(4, 3)"
      ]
     },
     "execution_count": 134,
     "metadata": {},
     "output_type": "execute_result"
    }
   ],
   "source": [
    "# Assume we have a matrix of data:\n",
    "a = np.array([[ 0.0,  0.0,  0.0],\n",
    "               [10.0, 10.0, 10.0],\n",
    "               [20.0, 20.0, 20.0],\n",
    "               [30.0, 30.0, 30.0]])\n",
    "\n",
    "a.shape"
   ]
  },
  {
   "cell_type": "code",
   "execution_count": 142,
   "id": "d26f1a29",
   "metadata": {},
   "outputs": [
    {
     "data": {
      "text/plain": [
       "array([[ 1.,  2.,  3.],\n",
       "       [11., 12., 13.],\n",
       "       [21., 22., 23.],\n",
       "       [31., 32., 33.]])"
      ]
     },
     "execution_count": 142,
     "metadata": {},
     "output_type": "execute_result"
    }
   ],
   "source": [
    "b = np.array([1.0, 2.0, 3.0])  # we want to add an offset from each column\n",
    "b + a"
   ]
  },
  {
   "cell_type": "markdown",
   "id": "4dc85980",
   "metadata": {
    "slideshow": {
     "slide_type": "subslide"
    }
   },
   "source": [
    "### What is happening?"
   ]
  },
  {
   "cell_type": "markdown",
   "id": "04b925c2",
   "metadata": {},
   "source": [
    "Numpy automatically infer missing values to create arrays of matching shape, where it can the operate element-wise!"
   ]
  },
  {
   "cell_type": "markdown",
   "id": "ebe2bb1c",
   "metadata": {},
   "source": [
    "![Alt Text](https://numpy.org/doc/stable/_images/broadcasting_2.png)"
   ]
  },
  {
   "cell_type": "markdown",
   "id": "c03397ad",
   "metadata": {
    "slideshow": {
     "slide_type": "subslide"
    }
   },
   "source": [
    "## How does broadcasting work"
   ]
  },
  {
   "cell_type": "markdown",
   "id": "70f356d3",
   "metadata": {
    "cell_style": "split"
   },
   "source": [
    "When operating on two arrays, NumPy compares their shapes. It starts **with the trailing** (i.e. rightmost) dimension and works its way left. \n",
    "\n",
    "Two dimensions are compatible when:\n",
    "\n",
    " - they are equal, or\n",
    " - one of them is 1."
   ]
  },
  {
   "cell_type": "markdown",
   "id": "17bb7075",
   "metadata": {
    "cell_style": "split",
    "slideshow": {
     "slide_type": "fragment"
    }
   },
   "source": [
    "![Alt Text](https://i0.wp.com/andrewm4894.com/wp-content/uploads/2020/10/Annotation-2020-10-15-133235.jpg?w=486&ssl=1)"
   ]
  },
  {
   "cell_type": "markdown",
   "id": "a5e5dd20",
   "metadata": {
    "slideshow": {
     "slide_type": "subslide"
    }
   },
   "source": [
    "In our case:"
   ]
  },
  {
   "cell_type": "code",
   "execution_count": 143,
   "id": "ea8e1c7a",
   "metadata": {},
   "outputs": [
    {
     "name": "stdout",
     "output_type": "stream",
     "text": [
      "shape a: (4, 3)\n",
      "shape b: (3,)\n"
     ]
    }
   ],
   "source": [
    "print(f\"shape a: {a.shape}\")\n",
    "print(f\"shape b: {b.shape}\")"
   ]
  },
  {
   "cell_type": "markdown",
   "id": "129e59f5",
   "metadata": {
    "slideshow": {
     "slide_type": "fragment"
    }
   },
   "source": [
    "Shape b matches shape a over the last dimension, and is propagated over the rest of the dimensions"
   ]
  },
  {
   "cell_type": "markdown",
   "id": "8449c080",
   "metadata": {
    "slideshow": {
     "slide_type": "subslide"
    }
   },
   "source": [
    "For example, this operation will not work!"
   ]
  },
  {
   "cell_type": "code",
   "execution_count": 146,
   "id": "a4324f0c",
   "metadata": {
    "slideshow": {
     "slide_type": "-"
    }
   },
   "outputs": [],
   "source": [
    "a = np.ones((5,4,3))\n",
    "\n",
    "b = np.ones((4,3))"
   ]
  },
  {
   "cell_type": "markdown",
   "id": "cece27c9",
   "metadata": {
    "slideshow": {
     "slide_type": "slide"
    }
   },
   "source": [
    "Practicals 1.0.2"
   ]
  },
  {
   "cell_type": "code",
   "execution_count": null,
   "id": "71cb9877",
   "metadata": {},
   "outputs": [],
   "source": []
  }
 ],
 "metadata": {
  "celltoolbar": "Slideshow",
  "kernelspec": {
   "display_name": "Python [conda env:course_env]",
   "language": "python",
   "name": "conda-env-course_env-py"
  },
  "language_info": {
   "codemirror_mode": {
    "name": "ipython",
    "version": 3
   },
   "file_extension": ".py",
   "mimetype": "text/x-python",
   "name": "python",
   "nbconvert_exporter": "python",
   "pygments_lexer": "ipython3",
   "version": "3.9.16"
  }
 },
 "nbformat": 4,
 "nbformat_minor": 5
}
