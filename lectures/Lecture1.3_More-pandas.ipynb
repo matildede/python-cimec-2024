{
 "cells": [
  {
   "cell_type": "markdown",
   "id": "3ca811a3",
   "metadata": {},
   "source": [
    "# Python for (open) Neuroscience\n",
    "\n",
    "_Lecture 1.3_ - More on `pandas`\n",
    "\n",
    "Luigi Petrucco\n",
    "\n",
    "[![Open In Colab](https://colab.research.google.com/assets/colab-badge.svg)](https://colab.research.google.com/github/vigji/python-cimec-2024/blob/main/lectures/Lecture1.3_More-pandas.ipynb)"
   ]
  },
  {
   "cell_type": "markdown",
   "id": "7f5d93e8",
   "metadata": {},
   "source": [
    "## Announcements\n"
   ]
  },
  {
   "cell_type": "markdown",
   "id": "6334acf7",
   "metadata": {},
   "source": [
    "## Summary on `pandas`"
   ]
  },
  {
   "cell_type": "code",
   "execution_count": 2,
   "id": "3a22d8a2",
   "metadata": {},
   "outputs": [
    {
     "data": {
      "text/html": [
       "<div>\n",
       "<style scoped>\n",
       "    .dataframe tbody tr th:only-of-type {\n",
       "        vertical-align: middle;\n",
       "    }\n",
       "\n",
       "    .dataframe tbody tr th {\n",
       "        vertical-align: top;\n",
       "    }\n",
       "\n",
       "    .dataframe thead th {\n",
       "        text-align: right;\n",
       "    }\n",
       "</style>\n",
       "<table border=\"1\" class=\"dataframe\">\n",
       "  <thead>\n",
       "    <tr style=\"text-align: right;\">\n",
       "      <th></th>\n",
       "      <th>Radius</th>\n",
       "      <th>Theta</th>\n",
       "      <th>Direction</th>\n",
       "      <th>Timestamp</th>\n",
       "    </tr>\n",
       "  </thead>\n",
       "  <tbody>\n",
       "    <tr>\n",
       "      <th>0</th>\n",
       "      <td>5</td>\n",
       "      <td>3.141500</td>\n",
       "      <td>1</td>\n",
       "      <td>2023-12-17T12:23:48.2339968+01:00</td>\n",
       "    </tr>\n",
       "    <tr>\n",
       "      <th>1</th>\n",
       "      <td>4</td>\n",
       "      <td>2.094395</td>\n",
       "      <td>1</td>\n",
       "      <td>2023-12-17T12:24:09.2596608+01:00</td>\n",
       "    </tr>\n",
       "    <tr>\n",
       "      <th>2</th>\n",
       "      <td>5</td>\n",
       "      <td>3.141500</td>\n",
       "      <td>2</td>\n",
       "      <td>2023-12-17T12:24:16.2907776+01:00</td>\n",
       "    </tr>\n",
       "    <tr>\n",
       "      <th>3</th>\n",
       "      <td>5</td>\n",
       "      <td>3.769911</td>\n",
       "      <td>2</td>\n",
       "      <td>2023-12-17T12:24:29.2541696+01:00</td>\n",
       "    </tr>\n",
       "    <tr>\n",
       "      <th>4</th>\n",
       "      <td>5</td>\n",
       "      <td>3.141500</td>\n",
       "      <td>1</td>\n",
       "      <td>2023-12-17T12:24:36.2617216+01:00</td>\n",
       "    </tr>\n",
       "  </tbody>\n",
       "</table>\n",
       "</div>"
      ],
      "text/plain": [
       "   Radius     Theta  Direction                          Timestamp\n",
       "0       5  3.141500          1  2023-12-17T12:23:48.2339968+01:00\n",
       "1       4  2.094395          1  2023-12-17T12:24:09.2596608+01:00\n",
       "2       5  3.141500          2  2023-12-17T12:24:16.2907776+01:00\n",
       "3       5  3.769911          2  2023-12-17T12:24:29.2541696+01:00\n",
       "4       5  3.141500          1  2023-12-17T12:24:36.2617216+01:00"
      ]
     },
     "execution_count": 2,
     "metadata": {},
     "output_type": "execute_result"
    }
   ],
   "source": [
    "import pandas as pd\n",
    "\n",
    "URL = \"https://raw.githubusercontent.com/vigji/python-cimec-2024/main/lectures/files/stimulus_log.csv\"\n",
    "df = pd.read_csv(URL)\n",
    "\n",
    "df.head()"
   ]
  },
  {
   "cell_type": "markdown",
   "id": "f120afdf",
   "metadata": {
    "slideshow": {
     "slide_type": "subslide"
    }
   },
   "source": [
    "### Create `pd.DataFrames`"
   ]
  },
  {
   "cell_type": "markdown",
   "id": "9376a7f7",
   "metadata": {
    "slideshow": {
     "slide_type": "subslide"
    }
   },
   "source": [
    "### Reading from files\n",
    "\n",
    "Many (most?) times we'll be reading directly from a file (a `.csv`, a `.xlsx`...)"
   ]
  },
  {
   "cell_type": "code",
   "execution_count": 125,
   "id": "76ce09f6",
   "metadata": {},
   "outputs": [
    {
     "data": {
      "text/html": [
       "<div>\n",
       "<style scoped>\n",
       "    .dataframe tbody tr th:only-of-type {\n",
       "        vertical-align: middle;\n",
       "    }\n",
       "\n",
       "    .dataframe tbody tr th {\n",
       "        vertical-align: top;\n",
       "    }\n",
       "\n",
       "    .dataframe thead th {\n",
       "        text-align: right;\n",
       "    }\n",
       "</style>\n",
       "<table border=\"1\" class=\"dataframe\">\n",
       "  <thead>\n",
       "    <tr style=\"text-align: right;\">\n",
       "      <th></th>\n",
       "      <th>Radius</th>\n",
       "      <th>Theta</th>\n",
       "      <th>Direction</th>\n",
       "      <th>Timestamp</th>\n",
       "    </tr>\n",
       "  </thead>\n",
       "  <tbody>\n",
       "    <tr>\n",
       "      <th>0</th>\n",
       "      <td>5</td>\n",
       "      <td>3.141500</td>\n",
       "      <td>1</td>\n",
       "      <td>2023-12-17T12:23:48.2339968+01:00</td>\n",
       "    </tr>\n",
       "    <tr>\n",
       "      <th>1</th>\n",
       "      <td>4</td>\n",
       "      <td>2.094395</td>\n",
       "      <td>1</td>\n",
       "      <td>2023-12-17T12:24:09.2596608+01:00</td>\n",
       "    </tr>\n",
       "    <tr>\n",
       "      <th>2</th>\n",
       "      <td>5</td>\n",
       "      <td>3.141500</td>\n",
       "      <td>2</td>\n",
       "      <td>2023-12-17T12:24:16.2907776+01:00</td>\n",
       "    </tr>\n",
       "    <tr>\n",
       "      <th>3</th>\n",
       "      <td>5</td>\n",
       "      <td>3.769911</td>\n",
       "      <td>2</td>\n",
       "      <td>2023-12-17T12:24:29.2541696+01:00</td>\n",
       "    </tr>\n",
       "    <tr>\n",
       "      <th>4</th>\n",
       "      <td>5</td>\n",
       "      <td>3.141500</td>\n",
       "      <td>1</td>\n",
       "      <td>2023-12-17T12:24:36.2617216+01:00</td>\n",
       "    </tr>\n",
       "  </tbody>\n",
       "</table>\n",
       "</div>"
      ],
      "text/plain": [
       "   Radius     Theta  Direction                          Timestamp\n",
       "0       5  3.141500          1  2023-12-17T12:23:48.2339968+01:00\n",
       "1       4  2.094395          1  2023-12-17T12:24:09.2596608+01:00\n",
       "2       5  3.141500          2  2023-12-17T12:24:16.2907776+01:00\n",
       "3       5  3.769911          2  2023-12-17T12:24:29.2541696+01:00\n",
       "4       5  3.141500          1  2023-12-17T12:24:36.2617216+01:00"
      ]
     },
     "execution_count": 125,
     "metadata": {},
     "output_type": "execute_result"
    }
   ],
   "source": [
    "# For .csv files, we use the read_csv method.\n",
    "# In this notebook we read from the web; if it was a file from your pc, you'd pass the filename\n",
    "# instead of the URL. read_csv takes a bunch of inputs about how your file is formatted\n",
    "\n",
    "URL = \"https://raw.githubusercontent.com/vigji/python-cimec-2024/main/lectures/files/stimulus_log.csv\"\n",
    "df = pd.read_csv(URL)\n",
    "\n",
    "df.head()  # this will show only the first rows!"
   ]
  },
  {
   "cell_type": "markdown",
   "id": "38f439bb",
   "metadata": {},
   "source": [
    "## From dictionary of lists/arrays"
   ]
  },
  {
   "cell_type": "markdown",
   "id": "994ea047",
   "metadata": {},
   "source": [
    "Tipically, we create a dataframe from a dictionary of arrays/lists, where every entry is a column:"
   ]
  },
  {
   "cell_type": "code",
   "execution_count": 80,
   "id": "e33691ae",
   "metadata": {
    "ExecuteTime": {
     "end_time": "2023-05-14T21:59:01.600318Z",
     "start_time": "2023-05-14T21:59:01.597275Z"
    },
    "jupyter": {
     "outputs_hidden": false
    }
   },
   "outputs": [
    {
     "data": {
      "text/html": [
       "<div>\n",
       "<style scoped>\n",
       "    .dataframe tbody tr th:only-of-type {\n",
       "        vertical-align: middle;\n",
       "    }\n",
       "\n",
       "    .dataframe tbody tr th {\n",
       "        vertical-align: top;\n",
       "    }\n",
       "\n",
       "    .dataframe thead th {\n",
       "        text-align: right;\n",
       "    }\n",
       "</style>\n",
       "<table border=\"1\" class=\"dataframe\">\n",
       "  <thead>\n",
       "    <tr style=\"text-align: right;\">\n",
       "      <th></th>\n",
       "      <th>int_col</th>\n",
       "      <th>float_col</th>\n",
       "      <th>a_constant_val</th>\n",
       "      <th>str_col</th>\n",
       "    </tr>\n",
       "  </thead>\n",
       "  <tbody>\n",
       "    <tr>\n",
       "      <th>0</th>\n",
       "      <td>1</td>\n",
       "      <td>4.0</td>\n",
       "      <td>1</td>\n",
       "      <td>a</td>\n",
       "    </tr>\n",
       "    <tr>\n",
       "      <th>1</th>\n",
       "      <td>2</td>\n",
       "      <td>5.0</td>\n",
       "      <td>1</td>\n",
       "      <td>b</td>\n",
       "    </tr>\n",
       "    <tr>\n",
       "      <th>2</th>\n",
       "      <td>3</td>\n",
       "      <td>0.6</td>\n",
       "      <td>1</td>\n",
       "      <td>c</td>\n",
       "    </tr>\n",
       "  </tbody>\n",
       "</table>\n",
       "</div>"
      ],
      "text/plain": [
       "   int_col  float_col  a_constant_val str_col\n",
       "0        1        4.0               1       a\n",
       "1        2        5.0               1       b\n",
       "2        3        0.6               1       c"
      ]
     },
     "execution_count": 80,
     "metadata": {},
     "output_type": "execute_result"
    }
   ],
   "source": [
    "dict_array = dict(int_col=[1, 2, 3], \n",
    "                  float_col=[4., 5., .6],\n",
    "                  a_constant_val=1,\n",
    "                  str_col=[\"a\", \"b\", \"c\"])\n",
    "\n",
    "pd.DataFrame(dict_array)"
   ]
  },
  {
   "cell_type": "markdown",
   "id": "15b6b4b7",
   "metadata": {
    "slideshow": {
     "slide_type": "subslide"
    }
   },
   "source": [
    " or from a list of dictionaries, where every entry is a row:"
   ]
  },
  {
   "cell_type": "code",
   "execution_count": 81,
   "id": "9f3db513",
   "metadata": {
    "ExecuteTime": {
     "end_time": "2023-05-14T21:59:38.769053Z",
     "start_time": "2023-05-14T21:59:38.765802Z"
    },
    "jupyter": {
     "outputs_hidden": false
    }
   },
   "outputs": [
    {
     "data": {
      "text/html": [
       "<div>\n",
       "<style scoped>\n",
       "    .dataframe tbody tr th:only-of-type {\n",
       "        vertical-align: middle;\n",
       "    }\n",
       "\n",
       "    .dataframe tbody tr th {\n",
       "        vertical-align: top;\n",
       "    }\n",
       "\n",
       "    .dataframe thead th {\n",
       "        text-align: right;\n",
       "    }\n",
       "</style>\n",
       "<table border=\"1\" class=\"dataframe\">\n",
       "  <thead>\n",
       "    <tr style=\"text-align: right;\">\n",
       "      <th></th>\n",
       "      <th>int_col</th>\n",
       "      <th>float_col</th>\n",
       "      <th>str_col</th>\n",
       "    </tr>\n",
       "  </thead>\n",
       "  <tbody>\n",
       "    <tr>\n",
       "      <th>0</th>\n",
       "      <td>1</td>\n",
       "      <td>4.0</td>\n",
       "      <td>a</td>\n",
       "    </tr>\n",
       "    <tr>\n",
       "      <th>1</th>\n",
       "      <td>2</td>\n",
       "      <td>5.0</td>\n",
       "      <td>b</td>\n",
       "    </tr>\n",
       "    <tr>\n",
       "      <th>2</th>\n",
       "      <td>3</td>\n",
       "      <td>0.6</td>\n",
       "      <td>c</td>\n",
       "    </tr>\n",
       "  </tbody>\n",
       "</table>\n",
       "</div>"
      ],
      "text/plain": [
       "   int_col  float_col str_col\n",
       "0        1        4.0       a\n",
       "1        2        5.0       b\n",
       "2        3        0.6       c"
      ]
     },
     "execution_count": 81,
     "metadata": {},
     "output_type": "execute_result"
    }
   ],
   "source": [
    "pd.DataFrame([dict(int_col=1, float_col=4., str_col=\"a\"),\n",
    "              dict(int_col=2, float_col=5., str_col=\"b\"),\n",
    "              dict(int_col=3, float_col=.6, str_col=\"c\")])"
   ]
  },
  {
   "cell_type": "markdown",
   "id": "4c0cbb3f",
   "metadata": {
    "slideshow": {
     "slide_type": "subslide"
    }
   },
   "source": [
    "## Increment existing dataframes"
   ]
  },
  {
   "cell_type": "markdown",
   "id": "842bfe7b",
   "metadata": {
    "slideshow": {
     "slide_type": "subslide"
    }
   },
   "source": [
    "### Add new columns"
   ]
  },
  {
   "cell_type": "markdown",
   "id": "1b915a72",
   "metadata": {},
   "source": [
    "We can add new columns to a dataframe:"
   ]
  },
  {
   "cell_type": "code",
   "execution_count": 126,
   "id": "c8bc88d5",
   "metadata": {
    "ExecuteTime": {
     "end_time": "2023-05-15T05:59:15.605460Z",
     "start_time": "2023-05-15T05:59:15.597442Z"
    },
    "jupyter": {
     "outputs_hidden": false
    }
   },
   "outputs": [
    {
     "data": {
      "text/html": [
       "<div>\n",
       "<style scoped>\n",
       "    .dataframe tbody tr th:only-of-type {\n",
       "        vertical-align: middle;\n",
       "    }\n",
       "\n",
       "    .dataframe tbody tr th {\n",
       "        vertical-align: top;\n",
       "    }\n",
       "\n",
       "    .dataframe thead th {\n",
       "        text-align: right;\n",
       "    }\n",
       "</style>\n",
       "<table border=\"1\" class=\"dataframe\">\n",
       "  <thead>\n",
       "    <tr style=\"text-align: right;\">\n",
       "      <th></th>\n",
       "      <th>a</th>\n",
       "      <th>b</th>\n",
       "      <th>c</th>\n",
       "    </tr>\n",
       "  </thead>\n",
       "  <tbody>\n",
       "    <tr>\n",
       "      <th>row1</th>\n",
       "      <td>0.794154</td>\n",
       "      <td>0.340368</td>\n",
       "      <td>0.489196</td>\n",
       "    </tr>\n",
       "    <tr>\n",
       "      <th>row2</th>\n",
       "      <td>0.699751</td>\n",
       "      <td>0.768766</td>\n",
       "      <td>0.752301</td>\n",
       "    </tr>\n",
       "    <tr>\n",
       "      <th>row3</th>\n",
       "      <td>0.343104</td>\n",
       "      <td>0.366393</td>\n",
       "      <td>0.770178</td>\n",
       "    </tr>\n",
       "  </tbody>\n",
       "</table>\n",
       "</div>"
      ],
      "text/plain": [
       "             a         b         c\n",
       "row1  0.794154  0.340368  0.489196\n",
       "row2  0.699751  0.768766  0.752301\n",
       "row3  0.343104  0.366393  0.770178"
      ]
     },
     "execution_count": 126,
     "metadata": {},
     "output_type": "execute_result"
    }
   ],
   "source": [
    "df = pd.DataFrame(np.random.rand(3, 3), columns=[\"a\", \"b\", \"c\"], index=[\"row1\", \"row2\", \"row3\"])\n",
    "df"
   ]
  },
  {
   "cell_type": "markdown",
   "id": "922b3ba8",
   "metadata": {},
   "source": [
    "To add data, we can use any multi-element varable: `list`s, `array`s..."
   ]
  },
  {
   "cell_type": "code",
   "execution_count": 127,
   "id": "1d6fa579",
   "metadata": {
    "ExecuteTime": {
     "end_time": "2023-05-15T05:59:42.539679Z",
     "start_time": "2023-05-15T05:59:42.532833Z"
    },
    "jupyter": {
     "outputs_hidden": false
    }
   },
   "outputs": [
    {
     "data": {
      "text/html": [
       "<div>\n",
       "<style scoped>\n",
       "    .dataframe tbody tr th:only-of-type {\n",
       "        vertical-align: middle;\n",
       "    }\n",
       "\n",
       "    .dataframe tbody tr th {\n",
       "        vertical-align: top;\n",
       "    }\n",
       "\n",
       "    .dataframe thead th {\n",
       "        text-align: right;\n",
       "    }\n",
       "</style>\n",
       "<table border=\"1\" class=\"dataframe\">\n",
       "  <thead>\n",
       "    <tr style=\"text-align: right;\">\n",
       "      <th></th>\n",
       "      <th>a</th>\n",
       "      <th>b</th>\n",
       "      <th>c</th>\n",
       "      <th>a_new_column</th>\n",
       "    </tr>\n",
       "  </thead>\n",
       "  <tbody>\n",
       "    <tr>\n",
       "      <th>row1</th>\n",
       "      <td>0.794154</td>\n",
       "      <td>0.340368</td>\n",
       "      <td>0.489196</td>\n",
       "      <td>a</td>\n",
       "    </tr>\n",
       "    <tr>\n",
       "      <th>row2</th>\n",
       "      <td>0.699751</td>\n",
       "      <td>0.768766</td>\n",
       "      <td>0.752301</td>\n",
       "      <td>b</td>\n",
       "    </tr>\n",
       "    <tr>\n",
       "      <th>row3</th>\n",
       "      <td>0.343104</td>\n",
       "      <td>0.366393</td>\n",
       "      <td>0.770178</td>\n",
       "      <td>c</td>\n",
       "    </tr>\n",
       "  </tbody>\n",
       "</table>\n",
       "</div>"
      ],
      "text/plain": [
       "             a         b         c a_new_column\n",
       "row1  0.794154  0.340368  0.489196            a\n",
       "row2  0.699751  0.768766  0.752301            b\n",
       "row3  0.343104  0.366393  0.770178            c"
      ]
     },
     "execution_count": 127,
     "metadata": {},
     "output_type": "execute_result"
    }
   ],
   "source": [
    "# The length of the assignment has to match the length of the dataframe:\n",
    "df[\"a_new_column\"] = [\"a\", \"b\", \"c\"]\n",
    "df"
   ]
  },
  {
   "cell_type": "code",
   "execution_count": 128,
   "id": "79410029",
   "metadata": {},
   "outputs": [
    {
     "data": {
      "text/html": [
       "<div>\n",
       "<style scoped>\n",
       "    .dataframe tbody tr th:only-of-type {\n",
       "        vertical-align: middle;\n",
       "    }\n",
       "\n",
       "    .dataframe tbody tr th {\n",
       "        vertical-align: top;\n",
       "    }\n",
       "\n",
       "    .dataframe thead th {\n",
       "        text-align: right;\n",
       "    }\n",
       "</style>\n",
       "<table border=\"1\" class=\"dataframe\">\n",
       "  <thead>\n",
       "    <tr style=\"text-align: right;\">\n",
       "      <th></th>\n",
       "      <th>a</th>\n",
       "      <th>b</th>\n",
       "      <th>c</th>\n",
       "      <th>a_new_column</th>\n",
       "      <th>new_boring_column</th>\n",
       "    </tr>\n",
       "  </thead>\n",
       "  <tbody>\n",
       "    <tr>\n",
       "      <th>row1</th>\n",
       "      <td>0.794154</td>\n",
       "      <td>0.340368</td>\n",
       "      <td>0.489196</td>\n",
       "      <td>a</td>\n",
       "      <td>42</td>\n",
       "    </tr>\n",
       "    <tr>\n",
       "      <th>row2</th>\n",
       "      <td>0.699751</td>\n",
       "      <td>0.768766</td>\n",
       "      <td>0.752301</td>\n",
       "      <td>b</td>\n",
       "      <td>42</td>\n",
       "    </tr>\n",
       "    <tr>\n",
       "      <th>row3</th>\n",
       "      <td>0.343104</td>\n",
       "      <td>0.366393</td>\n",
       "      <td>0.770178</td>\n",
       "      <td>c</td>\n",
       "      <td>42</td>\n",
       "    </tr>\n",
       "  </tbody>\n",
       "</table>\n",
       "</div>"
      ],
      "text/plain": [
       "             a         b         c a_new_column  new_boring_column\n",
       "row1  0.794154  0.340368  0.489196            a                 42\n",
       "row2  0.699751  0.768766  0.752301            b                 42\n",
       "row3  0.343104  0.366393  0.770178            c                 42"
      ]
     },
     "execution_count": 128,
     "metadata": {},
     "output_type": "execute_result"
    }
   ],
   "source": [
    "# We can also assign a single value to fill the whole column with the same content:\n",
    "df[\"new_boring_column\"] = 42\n",
    "df"
   ]
  },
  {
   "cell_type": "markdown",
   "id": "ed7b1ae5",
   "metadata": {
    "slideshow": {
     "slide_type": "subslide"
    }
   },
   "source": [
    "### Add new rows"
   ]
  },
  {
   "cell_type": "markdown",
   "id": "f523d424",
   "metadata": {},
   "source": [
    "We can add new rows to a dataframe (more rare). In this case we use concatenation:"
   ]
  },
  {
   "cell_type": "code",
   "execution_count": 129,
   "id": "eaad3a39",
   "metadata": {
    "jupyter": {
     "outputs_hidden": false
    }
   },
   "outputs": [
    {
     "data": {
      "text/html": [
       "<div>\n",
       "<style scoped>\n",
       "    .dataframe tbody tr th:only-of-type {\n",
       "        vertical-align: middle;\n",
       "    }\n",
       "\n",
       "    .dataframe tbody tr th {\n",
       "        vertical-align: top;\n",
       "    }\n",
       "\n",
       "    .dataframe thead th {\n",
       "        text-align: right;\n",
       "    }\n",
       "</style>\n",
       "<table border=\"1\" class=\"dataframe\">\n",
       "  <thead>\n",
       "    <tr style=\"text-align: right;\">\n",
       "      <th></th>\n",
       "      <th>col1</th>\n",
       "      <th>col2</th>\n",
       "    </tr>\n",
       "  </thead>\n",
       "  <tbody>\n",
       "    <tr>\n",
       "      <th>0</th>\n",
       "      <td>99</td>\n",
       "      <td>95</td>\n",
       "    </tr>\n",
       "    <tr>\n",
       "      <th>1</th>\n",
       "      <td>95</td>\n",
       "      <td>90</td>\n",
       "    </tr>\n",
       "    <tr>\n",
       "      <th>2</th>\n",
       "      <td>92</td>\n",
       "      <td>99</td>\n",
       "    </tr>\n",
       "  </tbody>\n",
       "</table>\n",
       "</div>"
      ],
      "text/plain": [
       "   col1  col2\n",
       "0    99    95\n",
       "1    95    90\n",
       "2    92    99"
      ]
     },
     "execution_count": 129,
     "metadata": {},
     "output_type": "execute_result"
    }
   ],
   "source": [
    "df1 = pd.DataFrame(dict(col1=[99, 95, 92],\n",
    "                        col2=[95, 90, 99]))\n",
    "df1"
   ]
  },
  {
   "cell_type": "code",
   "execution_count": 130,
   "id": "5e659152",
   "metadata": {},
   "outputs": [
    {
     "data": {
      "text/html": [
       "<div>\n",
       "<style scoped>\n",
       "    .dataframe tbody tr th:only-of-type {\n",
       "        vertical-align: middle;\n",
       "    }\n",
       "\n",
       "    .dataframe tbody tr th {\n",
       "        vertical-align: top;\n",
       "    }\n",
       "\n",
       "    .dataframe thead th {\n",
       "        text-align: right;\n",
       "    }\n",
       "</style>\n",
       "<table border=\"1\" class=\"dataframe\">\n",
       "  <thead>\n",
       "    <tr style=\"text-align: right;\">\n",
       "      <th></th>\n",
       "      <th>col1</th>\n",
       "      <th>col2</th>\n",
       "    </tr>\n",
       "  </thead>\n",
       "  <tbody>\n",
       "    <tr>\n",
       "      <th>0</th>\n",
       "      <td>100</td>\n",
       "      <td>101</td>\n",
       "    </tr>\n",
       "  </tbody>\n",
       "</table>\n",
       "</div>"
      ],
      "text/plain": [
       "   col1  col2\n",
       "0   100   101"
      ]
     },
     "execution_count": 130,
     "metadata": {},
     "output_type": "execute_result"
    }
   ],
   "source": [
    "# Create another dataframe:\n",
    "df2 = pd.DataFrame(dict(col1=[100],\n",
    "                        col2=[101]))\n",
    "df2"
   ]
  },
  {
   "cell_type": "code",
   "execution_count": 131,
   "id": "f3b4ebf3",
   "metadata": {},
   "outputs": [
    {
     "data": {
      "text/html": [
       "<div>\n",
       "<style scoped>\n",
       "    .dataframe tbody tr th:only-of-type {\n",
       "        vertical-align: middle;\n",
       "    }\n",
       "\n",
       "    .dataframe tbody tr th {\n",
       "        vertical-align: top;\n",
       "    }\n",
       "\n",
       "    .dataframe thead th {\n",
       "        text-align: right;\n",
       "    }\n",
       "</style>\n",
       "<table border=\"1\" class=\"dataframe\">\n",
       "  <thead>\n",
       "    <tr style=\"text-align: right;\">\n",
       "      <th></th>\n",
       "      <th>col1</th>\n",
       "      <th>col2</th>\n",
       "    </tr>\n",
       "  </thead>\n",
       "  <tbody>\n",
       "    <tr>\n",
       "      <th>0</th>\n",
       "      <td>99</td>\n",
       "      <td>95</td>\n",
       "    </tr>\n",
       "    <tr>\n",
       "      <th>1</th>\n",
       "      <td>95</td>\n",
       "      <td>90</td>\n",
       "    </tr>\n",
       "    <tr>\n",
       "      <th>2</th>\n",
       "      <td>92</td>\n",
       "      <td>99</td>\n",
       "    </tr>\n",
       "    <tr>\n",
       "      <th>0</th>\n",
       "      <td>100</td>\n",
       "      <td>101</td>\n",
       "    </tr>\n",
       "  </tbody>\n",
       "</table>\n",
       "</div>"
      ],
      "text/plain": [
       "   col1  col2\n",
       "0    99    95\n",
       "1    95    90\n",
       "2    92    99\n",
       "0   100   101"
      ]
     },
     "execution_count": 131,
     "metadata": {},
     "output_type": "execute_result"
    }
   ],
   "source": [
    "#\n",
    "# Concat dataframes\n",
    "pd.concat([df1, df2])"
   ]
  },
  {
   "cell_type": "markdown",
   "id": "e2e63bd7",
   "metadata": {
    "slideshow": {
     "slide_type": "subslide"
    }
   },
   "source": [
    "Note how indexes match the indexes of the original arrays! If we want, we can reassign it:"
   ]
  },
  {
   "cell_type": "code",
   "execution_count": 132,
   "id": "d51b4e11",
   "metadata": {
    "jupyter": {
     "outputs_hidden": false
    }
   },
   "outputs": [
    {
     "data": {
      "text/html": [
       "<div>\n",
       "<style scoped>\n",
       "    .dataframe tbody tr th:only-of-type {\n",
       "        vertical-align: middle;\n",
       "    }\n",
       "\n",
       "    .dataframe tbody tr th {\n",
       "        vertical-align: top;\n",
       "    }\n",
       "\n",
       "    .dataframe thead th {\n",
       "        text-align: right;\n",
       "    }\n",
       "</style>\n",
       "<table border=\"1\" class=\"dataframe\">\n",
       "  <thead>\n",
       "    <tr style=\"text-align: right;\">\n",
       "      <th></th>\n",
       "      <th>index</th>\n",
       "      <th>col1</th>\n",
       "      <th>col2</th>\n",
       "    </tr>\n",
       "  </thead>\n",
       "  <tbody>\n",
       "    <tr>\n",
       "      <th>0</th>\n",
       "      <td>0</td>\n",
       "      <td>99</td>\n",
       "      <td>95</td>\n",
       "    </tr>\n",
       "    <tr>\n",
       "      <th>1</th>\n",
       "      <td>1</td>\n",
       "      <td>95</td>\n",
       "      <td>90</td>\n",
       "    </tr>\n",
       "    <tr>\n",
       "      <th>2</th>\n",
       "      <td>2</td>\n",
       "      <td>92</td>\n",
       "      <td>99</td>\n",
       "    </tr>\n",
       "    <tr>\n",
       "      <th>3</th>\n",
       "      <td>0</td>\n",
       "      <td>100</td>\n",
       "      <td>101</td>\n",
       "    </tr>\n",
       "  </tbody>\n",
       "</table>\n",
       "</div>"
      ],
      "text/plain": [
       "   index  col1  col2\n",
       "0      0    99    95\n",
       "1      1    95    90\n",
       "2      2    92    99\n",
       "3      0   100   101"
      ]
     },
     "execution_count": 132,
     "metadata": {},
     "output_type": "execute_result"
    }
   ],
   "source": [
    "pd.concat([df1, df2]).reset_index()"
   ]
  },
  {
   "cell_type": "markdown",
   "id": "1c284825",
   "metadata": {},
   "source": [
    "(Practicals 1.3.0)"
   ]
  },
  {
   "cell_type": "markdown",
   "id": "a03e27bd",
   "metadata": {
    "slideshow": {
     "slide_type": "subslide"
    }
   },
   "source": [
    "### `pd.DataFrame`'s methods"
   ]
  },
  {
   "cell_type": "markdown",
   "id": "940d3497",
   "metadata": {
    "slideshow": {
     "slide_type": "fragment"
    }
   },
   "source": [
    "`pd.DataFrame`s and `pd.Series` have many, many methods!"
   ]
  },
  {
   "cell_type": "markdown",
   "id": "fa24ca0f",
   "metadata": {
    "slideshow": {
     "slide_type": "fragment"
    }
   },
   "source": [
    "It is actually way too many to cover in a single lecture! It is more important to know that they exist, and to know how to find them! (google, stackoverflow, pandas documentation, chatGPT...)"
   ]
  },
  {
   "cell_type": "markdown",
   "id": "d122ea09",
   "metadata": {
    "jupyter": {
     "outputs_hidden": false
    },
    "slideshow": {
     "slide_type": "subslide"
    }
   },
   "source": [
    "### Methods to change the df content"
   ]
  },
  {
   "cell_type": "markdown",
   "id": "1dc8f656",
   "metadata": {},
   "source": [
    "Methods to drop rows/columns:"
   ]
  },
  {
   "cell_type": "code",
   "execution_count": 2,
   "id": "38baff29",
   "metadata": {
    "ExecuteTime": {
     "end_time": "2023-05-14T22:23:27.633433Z",
     "start_time": "2023-05-14T22:23:27.630183Z"
    },
    "jupyter": {
     "outputs_hidden": false
    }
   },
   "outputs": [
    {
     "data": {
      "text/html": [
       "<div>\n",
       "<style scoped>\n",
       "    .dataframe tbody tr th:only-of-type {\n",
       "        vertical-align: middle;\n",
       "    }\n",
       "\n",
       "    .dataframe tbody tr th {\n",
       "        vertical-align: top;\n",
       "    }\n",
       "\n",
       "    .dataframe thead th {\n",
       "        text-align: right;\n",
       "    }\n",
       "</style>\n",
       "<table border=\"1\" class=\"dataframe\">\n",
       "  <thead>\n",
       "    <tr style=\"text-align: right;\">\n",
       "      <th></th>\n",
       "      <th>int_col</th>\n",
       "      <th>float_col</th>\n",
       "      <th>str_col</th>\n",
       "    </tr>\n",
       "  </thead>\n",
       "  <tbody>\n",
       "    <tr>\n",
       "      <th>0</th>\n",
       "      <td>3</td>\n",
       "      <td>4.0</td>\n",
       "      <td>a</td>\n",
       "    </tr>\n",
       "    <tr>\n",
       "      <th>1</th>\n",
       "      <td>2</td>\n",
       "      <td>5.0</td>\n",
       "      <td>d</td>\n",
       "    </tr>\n",
       "    <tr>\n",
       "      <th>2</th>\n",
       "      <td>1</td>\n",
       "      <td>0.6</td>\n",
       "      <td>c</td>\n",
       "    </tr>\n",
       "    <tr>\n",
       "      <th>3</th>\n",
       "      <td>1</td>\n",
       "      <td>7.0</td>\n",
       "      <td>a</td>\n",
       "    </tr>\n",
       "  </tbody>\n",
       "</table>\n",
       "</div>"
      ],
      "text/plain": [
       "   int_col  float_col str_col\n",
       "0        3        4.0       a\n",
       "1        2        5.0       d\n",
       "2        1        0.6       c\n",
       "3        1        7.0       a"
      ]
     },
     "execution_count": 2,
     "metadata": {},
     "output_type": "execute_result"
    }
   ],
   "source": [
    "import pandas as pd\n",
    "\n",
    "dict_array = dict(int_col=[3, 2, 1, 1], \n",
    "                  float_col=[4., 5., .6, 7.], \n",
    "                  str_col=[\"a\", \"d\", \"c\", \"a\"])\n",
    "df = pd.DataFrame(dict_array)\n",
    "\n",
    "df"
   ]
  },
  {
   "cell_type": "code",
   "execution_count": 3,
   "id": "4683cb18",
   "metadata": {
    "ExecuteTime": {
     "end_time": "2023-05-14T22:23:27.862596Z",
     "start_time": "2023-05-14T22:23:27.858945Z"
    },
    "jupyter": {
     "outputs_hidden": false
    },
    "slideshow": {
     "slide_type": "subslide"
    }
   },
   "outputs": [
    {
     "data": {
      "text/html": [
       "<div>\n",
       "<style scoped>\n",
       "    .dataframe tbody tr th:only-of-type {\n",
       "        vertical-align: middle;\n",
       "    }\n",
       "\n",
       "    .dataframe tbody tr th {\n",
       "        vertical-align: top;\n",
       "    }\n",
       "\n",
       "    .dataframe thead th {\n",
       "        text-align: right;\n",
       "    }\n",
       "</style>\n",
       "<table border=\"1\" class=\"dataframe\">\n",
       "  <thead>\n",
       "    <tr style=\"text-align: right;\">\n",
       "      <th></th>\n",
       "      <th>float_col</th>\n",
       "    </tr>\n",
       "  </thead>\n",
       "  <tbody>\n",
       "    <tr>\n",
       "      <th>0</th>\n",
       "      <td>4.0</td>\n",
       "    </tr>\n",
       "    <tr>\n",
       "      <th>1</th>\n",
       "      <td>5.0</td>\n",
       "    </tr>\n",
       "    <tr>\n",
       "      <th>2</th>\n",
       "      <td>0.6</td>\n",
       "    </tr>\n",
       "    <tr>\n",
       "      <th>3</th>\n",
       "      <td>7.0</td>\n",
       "    </tr>\n",
       "  </tbody>\n",
       "</table>\n",
       "</div>"
      ],
      "text/plain": [
       "   float_col\n",
       "0        4.0\n",
       "1        5.0\n",
       "2        0.6\n",
       "3        7.0"
      ]
     },
     "execution_count": 3,
     "metadata": {},
     "output_type": "execute_result"
    }
   ],
   "source": [
    "df.drop(columns=[\"int_col\", \"str_col\"])  # drop columns"
   ]
  },
  {
   "cell_type": "code",
   "execution_count": 4,
   "id": "f65bed68",
   "metadata": {
    "ExecuteTime": {
     "end_time": "2023-05-14T22:23:28.410963Z",
     "start_time": "2023-05-14T22:23:28.407455Z"
    },
    "jupyter": {
     "outputs_hidden": false
    },
    "slideshow": {
     "slide_type": "subslide"
    }
   },
   "outputs": [
    {
     "data": {
      "text/html": [
       "<div>\n",
       "<style scoped>\n",
       "    .dataframe tbody tr th:only-of-type {\n",
       "        vertical-align: middle;\n",
       "    }\n",
       "\n",
       "    .dataframe tbody tr th {\n",
       "        vertical-align: top;\n",
       "    }\n",
       "\n",
       "    .dataframe thead th {\n",
       "        text-align: right;\n",
       "    }\n",
       "</style>\n",
       "<table border=\"1\" class=\"dataframe\">\n",
       "  <thead>\n",
       "    <tr style=\"text-align: right;\">\n",
       "      <th></th>\n",
       "      <th>int_col</th>\n",
       "      <th>float_col</th>\n",
       "      <th>str_col</th>\n",
       "    </tr>\n",
       "  </thead>\n",
       "  <tbody>\n",
       "    <tr>\n",
       "      <th>1</th>\n",
       "      <td>2</td>\n",
       "      <td>5.0</td>\n",
       "      <td>d</td>\n",
       "    </tr>\n",
       "    <tr>\n",
       "      <th>3</th>\n",
       "      <td>1</td>\n",
       "      <td>7.0</td>\n",
       "      <td>a</td>\n",
       "    </tr>\n",
       "  </tbody>\n",
       "</table>\n",
       "</div>"
      ],
      "text/plain": [
       "   int_col  float_col str_col\n",
       "1        2        5.0       d\n",
       "3        1        7.0       a"
      ]
     },
     "execution_count": 4,
     "metadata": {},
     "output_type": "execute_result"
    }
   ],
   "source": [
    "df.drop(index=[0, 2])  # drop rows"
   ]
  },
  {
   "cell_type": "markdown",
   "id": "1ea8a2d7",
   "metadata": {
    "slideshow": {
     "slide_type": "subslide"
    }
   },
   "source": [
    "Methods to sort rows/columns:"
   ]
  },
  {
   "cell_type": "code",
   "execution_count": 5,
   "id": "0ca837cc",
   "metadata": {
    "ExecuteTime": {
     "end_time": "2023-05-14T22:23:49.896491Z",
     "start_time": "2023-05-14T22:23:49.891356Z"
    },
    "jupyter": {
     "outputs_hidden": false
    }
   },
   "outputs": [
    {
     "data": {
      "text/html": [
       "<div>\n",
       "<style scoped>\n",
       "    .dataframe tbody tr th:only-of-type {\n",
       "        vertical-align: middle;\n",
       "    }\n",
       "\n",
       "    .dataframe tbody tr th {\n",
       "        vertical-align: top;\n",
       "    }\n",
       "\n",
       "    .dataframe thead th {\n",
       "        text-align: right;\n",
       "    }\n",
       "</style>\n",
       "<table border=\"1\" class=\"dataframe\">\n",
       "  <thead>\n",
       "    <tr style=\"text-align: right;\">\n",
       "      <th></th>\n",
       "      <th>int_col</th>\n",
       "      <th>float_col</th>\n",
       "      <th>str_col</th>\n",
       "    </tr>\n",
       "  </thead>\n",
       "  <tbody>\n",
       "    <tr>\n",
       "      <th>2</th>\n",
       "      <td>1</td>\n",
       "      <td>0.6</td>\n",
       "      <td>c</td>\n",
       "    </tr>\n",
       "    <tr>\n",
       "      <th>3</th>\n",
       "      <td>1</td>\n",
       "      <td>7.0</td>\n",
       "      <td>a</td>\n",
       "    </tr>\n",
       "    <tr>\n",
       "      <th>1</th>\n",
       "      <td>2</td>\n",
       "      <td>5.0</td>\n",
       "      <td>d</td>\n",
       "    </tr>\n",
       "    <tr>\n",
       "      <th>0</th>\n",
       "      <td>3</td>\n",
       "      <td>4.0</td>\n",
       "      <td>a</td>\n",
       "    </tr>\n",
       "  </tbody>\n",
       "</table>\n",
       "</div>"
      ],
      "text/plain": [
       "   int_col  float_col str_col\n",
       "2        1        0.6       c\n",
       "3        1        7.0       a\n",
       "1        2        5.0       d\n",
       "0        3        4.0       a"
      ]
     },
     "execution_count": 5,
     "metadata": {},
     "output_type": "execute_result"
    }
   ],
   "source": [
    "df.sort_values(by=\"int_col\") # sort by a column"
   ]
  },
  {
   "cell_type": "code",
   "execution_count": 6,
   "id": "bf982f9f",
   "metadata": {
    "ExecuteTime": {
     "end_time": "2023-05-14T22:23:38.158467Z",
     "start_time": "2023-05-14T22:23:38.155604Z"
    },
    "jupyter": {
     "outputs_hidden": false
    },
    "slideshow": {
     "slide_type": "subslide"
    }
   },
   "outputs": [
    {
     "data": {
      "text/html": [
       "<div>\n",
       "<style scoped>\n",
       "    .dataframe tbody tr th:only-of-type {\n",
       "        vertical-align: middle;\n",
       "    }\n",
       "\n",
       "    .dataframe tbody tr th {\n",
       "        vertical-align: top;\n",
       "    }\n",
       "\n",
       "    .dataframe thead th {\n",
       "        text-align: right;\n",
       "    }\n",
       "</style>\n",
       "<table border=\"1\" class=\"dataframe\">\n",
       "  <thead>\n",
       "    <tr style=\"text-align: right;\">\n",
       "      <th></th>\n",
       "      <th>int_col</th>\n",
       "      <th>float_col</th>\n",
       "      <th>str_col</th>\n",
       "    </tr>\n",
       "  </thead>\n",
       "  <tbody>\n",
       "    <tr>\n",
       "      <th>2</th>\n",
       "      <td>1</td>\n",
       "      <td>0.6</td>\n",
       "      <td>c</td>\n",
       "    </tr>\n",
       "    <tr>\n",
       "      <th>3</th>\n",
       "      <td>1</td>\n",
       "      <td>7.0</td>\n",
       "      <td>a</td>\n",
       "    </tr>\n",
       "    <tr>\n",
       "      <th>1</th>\n",
       "      <td>2</td>\n",
       "      <td>5.0</td>\n",
       "      <td>d</td>\n",
       "    </tr>\n",
       "    <tr>\n",
       "      <th>0</th>\n",
       "      <td>3</td>\n",
       "      <td>4.0</td>\n",
       "      <td>a</td>\n",
       "    </tr>\n",
       "  </tbody>\n",
       "</table>\n",
       "</div>"
      ],
      "text/plain": [
       "   int_col  float_col str_col\n",
       "2        1        0.6       c\n",
       "3        1        7.0       a\n",
       "1        2        5.0       d\n",
       "0        3        4.0       a"
      ]
     },
     "execution_count": 6,
     "metadata": {},
     "output_type": "execute_result"
    }
   ],
   "source": [
    "df.sort_values(by=[\"int_col\", \"float_col\"])  # sort by multiple columns"
   ]
  },
  {
   "cell_type": "markdown",
   "id": "16ae3303",
   "metadata": {
    "slideshow": {
     "slide_type": "subslide"
    }
   },
   "source": [
    "### Methods for statistics"
   ]
  },
  {
   "cell_type": "code",
   "execution_count": 36,
   "id": "d9b1673a",
   "metadata": {},
   "outputs": [
    {
     "data": {
      "text/html": [
       "<div>\n",
       "<style scoped>\n",
       "    .dataframe tbody tr th:only-of-type {\n",
       "        vertical-align: middle;\n",
       "    }\n",
       "\n",
       "    .dataframe tbody tr th {\n",
       "        vertical-align: top;\n",
       "    }\n",
       "\n",
       "    .dataframe thead th {\n",
       "        text-align: right;\n",
       "    }\n",
       "</style>\n",
       "<table border=\"1\" class=\"dataframe\">\n",
       "  <thead>\n",
       "    <tr style=\"text-align: right;\">\n",
       "      <th></th>\n",
       "      <th>time</th>\n",
       "      <th>temperature_2m (°C)</th>\n",
       "      <th>relative_humidity_2m (%)</th>\n",
       "      <th>precipitation (mm)</th>\n",
       "      <th>wind_speed_10m (km/h)</th>\n",
       "      <th>winddirection_10m (°)</th>\n",
       "    </tr>\n",
       "  </thead>\n",
       "  <tbody>\n",
       "    <tr>\n",
       "      <th>0</th>\n",
       "      <td>2024-04-01T00:00</td>\n",
       "      <td>10.2</td>\n",
       "      <td>97</td>\n",
       "      <td>0.0</td>\n",
       "      <td>4.1</td>\n",
       "      <td>38</td>\n",
       "    </tr>\n",
       "    <tr>\n",
       "      <th>1</th>\n",
       "      <td>2024-04-01T01:00</td>\n",
       "      <td>10.0</td>\n",
       "      <td>94</td>\n",
       "      <td>0.0</td>\n",
       "      <td>6.0</td>\n",
       "      <td>65</td>\n",
       "    </tr>\n",
       "    <tr>\n",
       "      <th>2</th>\n",
       "      <td>2024-04-01T02:00</td>\n",
       "      <td>9.6</td>\n",
       "      <td>95</td>\n",
       "      <td>0.0</td>\n",
       "      <td>4.0</td>\n",
       "      <td>80</td>\n",
       "    </tr>\n",
       "    <tr>\n",
       "      <th>3</th>\n",
       "      <td>2024-04-01T03:00</td>\n",
       "      <td>9.2</td>\n",
       "      <td>95</td>\n",
       "      <td>0.0</td>\n",
       "      <td>5.4</td>\n",
       "      <td>82</td>\n",
       "    </tr>\n",
       "    <tr>\n",
       "      <th>4</th>\n",
       "      <td>2024-04-01T04:00</td>\n",
       "      <td>9.4</td>\n",
       "      <td>94</td>\n",
       "      <td>0.0</td>\n",
       "      <td>7.4</td>\n",
       "      <td>67</td>\n",
       "    </tr>\n",
       "  </tbody>\n",
       "</table>\n",
       "</div>"
      ],
      "text/plain": [
       "               time  temperature_2m (°C)  relative_humidity_2m (%)  \\\n",
       "0  2024-04-01T00:00                 10.2                        97   \n",
       "1  2024-04-01T01:00                 10.0                        94   \n",
       "2  2024-04-01T02:00                  9.6                        95   \n",
       "3  2024-04-01T03:00                  9.2                        95   \n",
       "4  2024-04-01T04:00                  9.4                        94   \n",
       "\n",
       "   precipitation (mm)  wind_speed_10m (km/h)  winddirection_10m (°)  \n",
       "0                 0.0                    4.1                     38  \n",
       "1                 0.0                    6.0                     65  \n",
       "2                 0.0                    4.0                     80  \n",
       "3                 0.0                    5.4                     82  \n",
       "4                 0.0                    7.4                     67  "
      ]
     },
     "execution_count": 36,
     "metadata": {},
     "output_type": "execute_result"
    }
   ],
   "source": [
    "# get a pandas sample dataset:\n",
    "def get_meteo_dataset():\n",
    "    URL = \"https://api.open-meteo.com/v1/forecast?latitude=52.52&longitude=13.41&current=temperature_2m,wind_speed_10m&hourly=temperature_2m,relative_humidity_2m,precipitation,wind_speed_10m,winddirection_10m&start_date=2024-04-01&end_date=2024-04-20&format=csv\"\n",
    "    return pd.read_csv(URL, skiprows=5)\n",
    "\n",
    "df = get_meteo_dataset()\n",
    "df.head()"
   ]
  },
  {
   "cell_type": "code",
   "execution_count": 37,
   "id": "59a5dcc2",
   "metadata": {
    "ExecuteTime": {
     "end_time": "2023-05-14T22:28:00.182426Z",
     "start_time": "2023-05-14T22:28:00.176234Z"
    },
    "jupyter": {
     "outputs_hidden": false
    },
    "slideshow": {
     "slide_type": "subslide"
    }
   },
   "outputs": [
    {
     "data": {
      "text/plain": [
       "temperature_2m (°C)    12.509583\n",
       "precipitation (mm)      0.067500\n",
       "dtype: float64"
      ]
     },
     "execution_count": 37,
     "metadata": {},
     "output_type": "execute_result"
    }
   ],
   "source": [
    "means = df[[\"temperature_2m (°C)\", \"precipitation (mm)\"]].mean()\n",
    "means"
   ]
  },
  {
   "cell_type": "code",
   "execution_count": 38,
   "id": "bacce83d",
   "metadata": {
    "ExecuteTime": {
     "end_time": "2023-05-14T22:28:00.547235Z",
     "start_time": "2023-05-14T22:28:00.539351Z"
    },
    "jupyter": {
     "outputs_hidden": false
    }
   },
   "outputs": [
    {
     "data": {
      "text/plain": [
       "12.149999999999999"
      ]
     },
     "execution_count": 38,
     "metadata": {},
     "output_type": "execute_result"
    }
   ],
   "source": [
    "df[\"temperature_2m (°C)\"].median()"
   ]
  },
  {
   "cell_type": "code",
   "execution_count": 39,
   "id": "62d4c14e",
   "metadata": {
    "ExecuteTime": {
     "end_time": "2023-05-14T22:28:01.070462Z",
     "start_time": "2023-05-14T22:28:01.064676Z"
    },
    "jupyter": {
     "outputs_hidden": false
    }
   },
   "outputs": [
    {
     "data": {
      "text/plain": [
       "5.2788813732210365"
      ]
     },
     "execution_count": 39,
     "metadata": {},
     "output_type": "execute_result"
    }
   ],
   "source": [
    "df[\"temperature_2m (°C)\"].std()"
   ]
  },
  {
   "cell_type": "markdown",
   "id": "f3cbf087",
   "metadata": {
    "slideshow": {
     "slide_type": "subslide"
    }
   },
   "source": [
    "We can directly produce a whole summary for columns of the dataset:"
   ]
  },
  {
   "cell_type": "code",
   "execution_count": 40,
   "id": "117f52b9",
   "metadata": {
    "ExecuteTime": {
     "end_time": "2023-05-14T22:28:02.512164Z",
     "start_time": "2023-05-14T22:28:02.500136Z"
    },
    "jupyter": {
     "outputs_hidden": false
    },
    "slideshow": {
     "slide_type": "-"
    }
   },
   "outputs": [
    {
     "data": {
      "text/html": [
       "<div>\n",
       "<style scoped>\n",
       "    .dataframe tbody tr th:only-of-type {\n",
       "        vertical-align: middle;\n",
       "    }\n",
       "\n",
       "    .dataframe tbody tr th {\n",
       "        vertical-align: top;\n",
       "    }\n",
       "\n",
       "    .dataframe thead th {\n",
       "        text-align: right;\n",
       "    }\n",
       "</style>\n",
       "<table border=\"1\" class=\"dataframe\">\n",
       "  <thead>\n",
       "    <tr style=\"text-align: right;\">\n",
       "      <th></th>\n",
       "      <th>temperature_2m (°C)</th>\n",
       "      <th>precipitation (mm)</th>\n",
       "      <th>wind_speed_10m (km/h)</th>\n",
       "    </tr>\n",
       "  </thead>\n",
       "  <tbody>\n",
       "    <tr>\n",
       "      <th>count</th>\n",
       "      <td>480.000000</td>\n",
       "      <td>480.000000</td>\n",
       "      <td>480.000000</td>\n",
       "    </tr>\n",
       "    <tr>\n",
       "      <th>mean</th>\n",
       "      <td>12.509583</td>\n",
       "      <td>0.067500</td>\n",
       "      <td>11.407083</td>\n",
       "    </tr>\n",
       "    <tr>\n",
       "      <th>std</th>\n",
       "      <td>5.278881</td>\n",
       "      <td>0.264902</td>\n",
       "      <td>5.056387</td>\n",
       "    </tr>\n",
       "    <tr>\n",
       "      <th>min</th>\n",
       "      <td>0.700000</td>\n",
       "      <td>0.000000</td>\n",
       "      <td>1.600000</td>\n",
       "    </tr>\n",
       "    <tr>\n",
       "      <th>25%</th>\n",
       "      <td>9.000000</td>\n",
       "      <td>0.000000</td>\n",
       "      <td>7.300000</td>\n",
       "    </tr>\n",
       "    <tr>\n",
       "      <th>50%</th>\n",
       "      <td>12.150000</td>\n",
       "      <td>0.000000</td>\n",
       "      <td>10.500000</td>\n",
       "    </tr>\n",
       "    <tr>\n",
       "      <th>75%</th>\n",
       "      <td>16.000000</td>\n",
       "      <td>0.000000</td>\n",
       "      <td>14.900000</td>\n",
       "    </tr>\n",
       "    <tr>\n",
       "      <th>max</th>\n",
       "      <td>26.800000</td>\n",
       "      <td>2.100000</td>\n",
       "      <td>25.600000</td>\n",
       "    </tr>\n",
       "  </tbody>\n",
       "</table>\n",
       "</div>"
      ],
      "text/plain": [
       "       temperature_2m (°C)  precipitation (mm)  wind_speed_10m (km/h)\n",
       "count           480.000000          480.000000             480.000000\n",
       "mean             12.509583            0.067500              11.407083\n",
       "std               5.278881            0.264902               5.056387\n",
       "min               0.700000            0.000000               1.600000\n",
       "25%               9.000000            0.000000               7.300000\n",
       "50%              12.150000            0.000000              10.500000\n",
       "75%              16.000000            0.000000              14.900000\n",
       "max              26.800000            2.100000              25.600000"
      ]
     },
     "execution_count": 40,
     "metadata": {},
     "output_type": "execute_result"
    }
   ],
   "source": [
    "df[[\"temperature_2m (°C)\", \"precipitation (mm)\", \"wind_speed_10m (km/h)\"]].describe()"
   ]
  },
  {
   "cell_type": "markdown",
   "id": "08ee8cb7",
   "metadata": {
    "slideshow": {
     "slide_type": "subslide"
    }
   },
   "source": [
    "### `pd.DataFrame`'s plotting methods"
   ]
  },
  {
   "cell_type": "markdown",
   "id": "d785ebb4",
   "metadata": {},
   "source": [
    "`pd.DataFrame`s and `pd.Series` have several plotting methods!"
   ]
  },
  {
   "cell_type": "code",
   "execution_count": 41,
   "id": "103ecc2c",
   "metadata": {
    "ExecuteTime": {
     "end_time": "2023-05-14T22:28:12.801832Z",
     "start_time": "2023-05-14T22:28:08.104582Z"
    },
    "jupyter": {
     "outputs_hidden": false
    },
    "slideshow": {
     "slide_type": "subslide"
    }
   },
   "outputs": [
    {
     "data": {
      "text/plain": [
       "<Axes: >"
      ]
     },
     "execution_count": 41,
     "metadata": {},
     "output_type": "execute_result"
    },
    {
     "data": {
      "image/png": "[encoded data removed]",
      "text/plain": [
       "<Figure size 640x480 with 1 Axes>"
      ]
     },
     "metadata": {},
     "output_type": "display_data"
    }
   ],
   "source": [
    "df[\"temperature_2m (°C)\"].plot()"
   ]
  },
  {
   "cell_type": "code",
   "execution_count": 42,
   "id": "c0fca7f2",
   "metadata": {
    "ExecuteTime": {
     "end_time": "2023-05-14T22:29:16.679871Z",
     "start_time": "2023-05-14T22:29:16.624756Z"
    },
    "jupyter": {
     "outputs_hidden": false
    },
    "slideshow": {
     "slide_type": "subslide"
    }
   },
   "outputs": [
    {
     "data": {
      "text/plain": [
       "<Axes: >"
      ]
     },
     "execution_count": 42,
     "metadata": {},
     "output_type": "execute_result"
    },
    {
     "data": {
      "image/png": "[encoded data removed]",
      "text/plain": [
       "<Figure size 640x480 with 1 Axes>"
      ]
     },
     "metadata": {},
     "output_type": "display_data"
    }
   ],
   "source": [
    "df[\"temperature_2m (°C)\"].plot(kind=\"box\")"
   ]
  },
  {
   "cell_type": "code",
   "execution_count": 43,
   "id": "267b9512",
   "metadata": {
    "ExecuteTime": {
     "end_time": "2023-05-14T22:29:24.482579Z",
     "start_time": "2023-05-14T22:29:24.397528Z"
    },
    "jupyter": {
     "outputs_hidden": false
    },
    "slideshow": {
     "slide_type": "subslide"
    }
   },
   "outputs": [
    {
     "data": {
      "text/plain": [
       "<Axes: ylabel='Frequency'>"
      ]
     },
     "execution_count": 43,
     "metadata": {},
     "output_type": "execute_result"
    },
    {
     "data": {
      "image/png": "[encoded data removed]",
      "text/plain": [
       "<Figure size 640x480 with 1 Axes>"
      ]
     },
     "metadata": {},
     "output_type": "display_data"
    }
   ],
   "source": [
    "df[\"temperature_2m (°C)\"].plot(kind=\"hist\")"
   ]
  },
  {
   "cell_type": "code",
   "execution_count": 44,
   "id": "2e88fee5",
   "metadata": {
    "ExecuteTime": {
     "end_time": "2023-05-14T22:29:51.353652Z",
     "start_time": "2023-05-14T22:29:51.264424Z"
    },
    "jupyter": {
     "outputs_hidden": false
    },
    "slideshow": {
     "slide_type": "subslide"
    }
   },
   "outputs": [
    {
     "data": {
      "text/plain": [
       "<Axes: xlabel='temperature_2m (°C)', ylabel='precipitation (mm)'>"
      ]
     },
     "execution_count": 44,
     "metadata": {},
     "output_type": "execute_result"
    },
    {
     "data": {
      "image/png": "[encoded data removed]",
      "text/plain": [
       "<Figure size 640x480 with 1 Axes>"
      ]
     },
     "metadata": {},
     "output_type": "display_data"
    }
   ],
   "source": [
    "df.plot(kind=\"scatter\", x=\"temperature_2m (°C)\", y=\"precipitation (mm)\")"
   ]
  },
  {
   "cell_type": "markdown",
   "id": "21b96d82",
   "metadata": {
    "slideshow": {
     "slide_type": "subslide"
    }
   },
   "source": [
    "### Methods to deal with missing data"
   ]
  },
  {
   "cell_type": "markdown",
   "id": "cfdcdc48",
   "metadata": {},
   "source": [
    "As in numpy, we represent missing data by `NaN` (not a number)."
   ]
  },
  {
   "cell_type": "code",
   "execution_count": 60,
   "id": "a4a0565a",
   "metadata": {
    "jupyter": {
     "outputs_hidden": false
    },
    "slideshow": {
     "slide_type": "-"
    }
   },
   "outputs": [],
   "source": [
    "import numpy as np\n",
    "\n",
    "df = pd.DataFrame(dict(a=[0, 3, 1, 2, np.nan, 4, 10], b=[7, 6, np.nan, 4, 5, 7, 8]))"
   ]
  },
  {
   "cell_type": "markdown",
   "id": "f26af9b8",
   "metadata": {
    "slideshow": {
     "slide_type": "subslide"
    }
   },
   "source": [
    "To deal with missing data, we can use `pd.DataFrame`'s interpolation methods. By default, it will use linear interpolation:"
   ]
  },
  {
   "cell_type": "code",
   "execution_count": 61,
   "id": "51eb2891",
   "metadata": {},
   "outputs": [
    {
     "data": {
      "text/plain": [
       "<Axes: >"
      ]
     },
     "execution_count": 61,
     "metadata": {},
     "output_type": "execute_result"
    },
    {
     "data": {
      "image/png": "[encoded data removed]",
      "text/plain": [
       "<Figure size 640x480 with 1 Axes>"
      ]
     },
     "metadata": {},
     "output_type": "display_data"
    }
   ],
   "source": [
    "df.plot()"
   ]
  },
  {
   "cell_type": "code",
   "execution_count": 62,
   "id": "0de76b8c",
   "metadata": {},
   "outputs": [
    {
     "data": {
      "text/html": [
       "<div>\n",
       "<style scoped>\n",
       "    .dataframe tbody tr th:only-of-type {\n",
       "        vertical-align: middle;\n",
       "    }\n",
       "\n",
       "    .dataframe tbody tr th {\n",
       "        vertical-align: top;\n",
       "    }\n",
       "\n",
       "    .dataframe thead th {\n",
       "        text-align: right;\n",
       "    }\n",
       "</style>\n",
       "<table border=\"1\" class=\"dataframe\">\n",
       "  <thead>\n",
       "    <tr style=\"text-align: right;\">\n",
       "      <th></th>\n",
       "      <th>a</th>\n",
       "      <th>b</th>\n",
       "    </tr>\n",
       "  </thead>\n",
       "  <tbody>\n",
       "    <tr>\n",
       "      <th>0</th>\n",
       "      <td>0.0</td>\n",
       "      <td>7.0</td>\n",
       "    </tr>\n",
       "    <tr>\n",
       "      <th>1</th>\n",
       "      <td>3.0</td>\n",
       "      <td>6.0</td>\n",
       "    </tr>\n",
       "    <tr>\n",
       "      <th>2</th>\n",
       "      <td>1.0</td>\n",
       "      <td>5.0</td>\n",
       "    </tr>\n",
       "    <tr>\n",
       "      <th>3</th>\n",
       "      <td>2.0</td>\n",
       "      <td>4.0</td>\n",
       "    </tr>\n",
       "    <tr>\n",
       "      <th>4</th>\n",
       "      <td>3.0</td>\n",
       "      <td>5.0</td>\n",
       "    </tr>\n",
       "    <tr>\n",
       "      <th>5</th>\n",
       "      <td>4.0</td>\n",
       "      <td>7.0</td>\n",
       "    </tr>\n",
       "    <tr>\n",
       "      <th>6</th>\n",
       "      <td>10.0</td>\n",
       "      <td>8.0</td>\n",
       "    </tr>\n",
       "  </tbody>\n",
       "</table>\n",
       "</div>"
      ],
      "text/plain": [
       "      a    b\n",
       "0   0.0  7.0\n",
       "1   3.0  6.0\n",
       "2   1.0  5.0\n",
       "3   2.0  4.0\n",
       "4   3.0  5.0\n",
       "5   4.0  7.0\n",
       "6  10.0  8.0"
      ]
     },
     "execution_count": 62,
     "metadata": {},
     "output_type": "execute_result"
    }
   ],
   "source": [
    "df.interpolate()"
   ]
  },
  {
   "cell_type": "code",
   "execution_count": 63,
   "id": "38dabaff",
   "metadata": {},
   "outputs": [
    {
     "data": {
      "text/plain": [
       "<Axes: >"
      ]
     },
     "execution_count": 63,
     "metadata": {},
     "output_type": "execute_result"
    },
    {
     "data": {
      "image/png": "[encoded data removed]",
      "text/plain": [
       "<Figure size 640x480 with 1 Axes>"
      ]
     },
     "metadata": {},
     "output_type": "display_data"
    }
   ],
   "source": [
    "df.interpolate().plot()"
   ]
  },
  {
   "cell_type": "markdown",
   "id": "77fd47a8",
   "metadata": {
    "slideshow": {
     "slide_type": "slide"
    }
   },
   "source": [
    "(Practicals 1.3.1)"
   ]
  },
  {
   "cell_type": "code",
   "execution_count": null,
   "id": "d035e4cd",
   "metadata": {},
   "outputs": [],
   "source": [
    "import pandas as pd\n",
    "import numpy as np"
   ]
  },
  {
   "cell_type": "markdown",
   "id": "fa262222",
   "metadata": {},
   "source": [
    "## Organize data in a dataframe"
   ]
  },
  {
   "cell_type": "markdown",
   "id": "4f26b7d1",
   "metadata": {},
   "source": [
    "A very common scenario in data science is: how to organize our datasets?"
   ]
  },
  {
   "cell_type": "code",
   "execution_count": 66,
   "id": "81ab5c2b",
   "metadata": {},
   "outputs": [
    {
     "data": {
      "text/plain": [
       "[{'accuracy': 0.17413127970527498, 'speed': 0.6700349970216529},\n",
       " {'accuracy': 0.08603029987511168, 'speed': 0.05694425800023495},\n",
       " {'accuracy': 0.16916089034779813, 'speed': 0.7879291691040239}]"
      ]
     },
     "execution_count": 66,
     "metadata": {},
     "output_type": "execute_result"
    }
   ],
   "source": [
    "# Imagine we have 4 experimental subjects; to each one we show a stimulus 3 times (trials); \n",
    "# during every trial, we measure 2 variables (eg, accuracy and speed)\n",
    "n_subjects = 4\n",
    "n_repetitions = 3\n",
    "\n",
    "# We could represent the data entries for each stimulus as a dictionary, \n",
    "# and the data for all trials for a subject as a list of dictionaries:\n",
    "subject_data = [dict(accuracy=np.random.rand(), speed=np.random.rand()) for _ in range(n_repetitions)]\n",
    "subject_data"
   ]
  },
  {
   "cell_type": "code",
   "execution_count": 68,
   "id": "3318286d",
   "metadata": {},
   "outputs": [
    {
     "data": {
      "text/plain": [
       "{'subj_0': [{'accuracy': 0.11417309937498177, 'speed': 0.040604186623316885},\n",
       "  {'accuracy': 0.1246390086238448, 'speed': 0.9060484536252966},\n",
       "  {'accuracy': 0.15568655953543142, 'speed': 0.8619045234094825}],\n",
       " 'subj_1': [{'accuracy': 0.6822450267364856, 'speed': 0.7974941648802202},\n",
       "  {'accuracy': 0.5719938346157041, 'speed': 0.49684897024921215},\n",
       "  {'accuracy': 0.1760800621914369, 'speed': 0.11682839514427723}],\n",
       " 'subj_2': [{'accuracy': 0.6404517521970583, 'speed': 0.6349607113205225},\n",
       "  {'accuracy': 0.6546734165081168, 'speed': 0.42635249713105594},\n",
       "  {'accuracy': 0.6173846196713639, 'speed': 0.19961667929444904}],\n",
       " 'subj_3': [{'accuracy': 0.2587602969544881, 'speed': 0.6311735865855141},\n",
       "  {'accuracy': 0.008881892881760112, 'speed': 0.6302080346103325},\n",
       "  {'accuracy': 0.25927016014906346, 'speed': 0.3894589049548649}]}"
      ]
     },
     "execution_count": 68,
     "metadata": {},
     "output_type": "execute_result"
    }
   ],
   "source": [
    "# We could then pool the data for all subjects as a dictionary of lists of dictionaries:\n",
    "all_subjects_data = dict()\n",
    "\n",
    "for i in range(n_subjects):\n",
    "    all_subjects_data[f\"subj_{i}\"] = \\\n",
    "        [dict(accuracy=np.random.rand(), speed=np.random.rand()) for _ in range(n_repetitions)]\n",
    "all_subjects_data"
   ]
  },
  {
   "cell_type": "markdown",
   "id": "dc9b504f",
   "metadata": {},
   "source": [
    "This is now organized but very nested! it is not easy to perform statistics on it."
   ]
  },
  {
   "cell_type": "code",
   "execution_count": 70,
   "id": "00cf09dd",
   "metadata": {},
   "outputs": [
    {
     "data": {
      "text/plain": [
       "0.5109582589857121"
      ]
     },
     "execution_count": 70,
     "metadata": {},
     "output_type": "execute_result"
    }
   ],
   "source": [
    "# Imagine we want to average the results across all subjects for variable_1:\n",
    "means = []\n",
    "for subject_results in all_subjects_data.values():\n",
    "    for result in subject_results:\n",
    "        means.append(result[\"speed\"])\n",
    "np.mean(means)"
   ]
  },
  {
   "cell_type": "markdown",
   "id": "124af170",
   "metadata": {},
   "source": [
    "When we organize data in pandas dataframes, there is an important principle to keep in mind:\n",
    "\n",
    "**keep them as flat as possible**"
   ]
  },
  {
   "cell_type": "markdown",
   "id": "d4264009",
   "metadata": {},
   "source": [
    "`flat` = opposite of nested\n",
    "\n",
    "`nested` = lists of dictionaries of lists of dictionaries of dataframes of...\n",
    "\n"
   ]
  },
  {
   "cell_type": "markdown",
   "id": "461f77b8",
   "metadata": {},
   "source": [
    "Remember!\n",
    "\n",
    "\n",
    "    🪷 The Zen of Python 🪷\n",
    "        \n",
    "        Flat is better than nested"
   ]
  },
  {
   "cell_type": "code",
   "execution_count": 71,
   "id": "8b8c2c8c",
   "metadata": {},
   "outputs": [
    {
     "data": {
      "text/html": [
       "<div>\n",
       "<style scoped>\n",
       "    .dataframe tbody tr th:only-of-type {\n",
       "        vertical-align: middle;\n",
       "    }\n",
       "\n",
       "    .dataframe tbody tr th {\n",
       "        vertical-align: top;\n",
       "    }\n",
       "\n",
       "    .dataframe thead th {\n",
       "        text-align: right;\n",
       "    }\n",
       "</style>\n",
       "<table border=\"1\" class=\"dataframe\">\n",
       "  <thead>\n",
       "    <tr style=\"text-align: right;\">\n",
       "      <th></th>\n",
       "      <th>subject</th>\n",
       "      <th>repetition</th>\n",
       "      <th>accuracy</th>\n",
       "      <th>speed</th>\n",
       "    </tr>\n",
       "  </thead>\n",
       "  <tbody>\n",
       "    <tr>\n",
       "      <th>0</th>\n",
       "      <td>subj_0</td>\n",
       "      <td>0</td>\n",
       "      <td>0.114173</td>\n",
       "      <td>0.040604</td>\n",
       "    </tr>\n",
       "    <tr>\n",
       "      <th>1</th>\n",
       "      <td>subj_0</td>\n",
       "      <td>1</td>\n",
       "      <td>0.124639</td>\n",
       "      <td>0.906048</td>\n",
       "    </tr>\n",
       "    <tr>\n",
       "      <th>2</th>\n",
       "      <td>subj_0</td>\n",
       "      <td>2</td>\n",
       "      <td>0.155687</td>\n",
       "      <td>0.861905</td>\n",
       "    </tr>\n",
       "    <tr>\n",
       "      <th>3</th>\n",
       "      <td>subj_1</td>\n",
       "      <td>0</td>\n",
       "      <td>0.682245</td>\n",
       "      <td>0.797494</td>\n",
       "    </tr>\n",
       "    <tr>\n",
       "      <th>4</th>\n",
       "      <td>subj_1</td>\n",
       "      <td>1</td>\n",
       "      <td>0.571994</td>\n",
       "      <td>0.496849</td>\n",
       "    </tr>\n",
       "    <tr>\n",
       "      <th>5</th>\n",
       "      <td>subj_1</td>\n",
       "      <td>2</td>\n",
       "      <td>0.176080</td>\n",
       "      <td>0.116828</td>\n",
       "    </tr>\n",
       "    <tr>\n",
       "      <th>6</th>\n",
       "      <td>subj_2</td>\n",
       "      <td>0</td>\n",
       "      <td>0.640452</td>\n",
       "      <td>0.634961</td>\n",
       "    </tr>\n",
       "    <tr>\n",
       "      <th>7</th>\n",
       "      <td>subj_2</td>\n",
       "      <td>1</td>\n",
       "      <td>0.654673</td>\n",
       "      <td>0.426352</td>\n",
       "    </tr>\n",
       "    <tr>\n",
       "      <th>8</th>\n",
       "      <td>subj_2</td>\n",
       "      <td>2</td>\n",
       "      <td>0.617385</td>\n",
       "      <td>0.199617</td>\n",
       "    </tr>\n",
       "    <tr>\n",
       "      <th>9</th>\n",
       "      <td>subj_3</td>\n",
       "      <td>0</td>\n",
       "      <td>0.258760</td>\n",
       "      <td>0.631174</td>\n",
       "    </tr>\n",
       "    <tr>\n",
       "      <th>10</th>\n",
       "      <td>subj_3</td>\n",
       "      <td>1</td>\n",
       "      <td>0.008882</td>\n",
       "      <td>0.630208</td>\n",
       "    </tr>\n",
       "    <tr>\n",
       "      <th>11</th>\n",
       "      <td>subj_3</td>\n",
       "      <td>2</td>\n",
       "      <td>0.259270</td>\n",
       "      <td>0.389459</td>\n",
       "    </tr>\n",
       "  </tbody>\n",
       "</table>\n",
       "</div>"
      ],
      "text/plain": [
       "   subject  repetition  accuracy     speed\n",
       "0   subj_0           0  0.114173  0.040604\n",
       "1   subj_0           1  0.124639  0.906048\n",
       "2   subj_0           2  0.155687  0.861905\n",
       "3   subj_1           0  0.682245  0.797494\n",
       "4   subj_1           1  0.571994  0.496849\n",
       "5   subj_1           2  0.176080  0.116828\n",
       "6   subj_2           0  0.640452  0.634961\n",
       "7   subj_2           1  0.654673  0.426352\n",
       "8   subj_2           2  0.617385  0.199617\n",
       "9   subj_3           0  0.258760  0.631174\n",
       "10  subj_3           1  0.008882  0.630208\n",
       "11  subj_3           2  0.259270  0.389459"
      ]
     },
     "execution_count": 71,
     "metadata": {},
     "output_type": "execute_result"
    }
   ],
   "source": [
    "# We can turn the data into a dataframe (does not matter how we do it here! this is just an ugly example)\n",
    "trials_df = pd.DataFrame([dict(subject=i, repetition=j, **all_subjects_data[i][j])\n",
    "                             for i in all_subjects_data.keys()\n",
    "                             for j in range(n_repetitions)])\n",
    "\n",
    "trials_df"
   ]
  },
  {
   "cell_type": "markdown",
   "id": "a849e7aa",
   "metadata": {},
   "source": [
    "We can now easily perform statistics on the data:"
   ]
  },
  {
   "cell_type": "code",
   "execution_count": 74,
   "id": "d61f1080",
   "metadata": {},
   "outputs": [
    {
     "data": {
      "text/plain": [
       "0.5109582589857121"
      ]
     },
     "execution_count": 74,
     "metadata": {},
     "output_type": "execute_result"
    }
   ],
   "source": [
    "trials_df[\"speed\"].mean()"
   ]
  },
  {
   "cell_type": "markdown",
   "id": "31210503",
   "metadata": {},
   "source": [
    "### Principles for organizing `pandas` dataframes"
   ]
  },
  {
   "cell_type": "markdown",
   "id": "8bed0db5",
   "metadata": {},
   "source": [
    "Keep in the same dataset all the data of the same type you have across groups (such as subjects). \n",
    "\n",
    "If you load lists of dataframes concatenate before working on them!"
   ]
  },
  {
   "cell_type": "markdown",
   "id": "032ee21d",
   "metadata": {},
   "source": [
    "Consider having multiple dataframes to describe different aspects of your experiment. For example:\n",
    "- a `subject` dataset with the info on your subjects\n",
    "- a `trials` dataset with the trial responses across subjects"
   ]
  },
  {
   "cell_type": "markdown",
   "id": "eac1ad3d",
   "metadata": {},
   "source": [
    "And keep consistent ids / nomenclature to easily work over both!"
   ]
  },
  {
   "cell_type": "markdown",
   "id": "29cd3855",
   "metadata": {},
   "source": [
    "Example:"
   ]
  },
  {
   "cell_type": "code",
   "execution_count": null,
   "id": "ff51dbab",
   "metadata": {},
   "outputs": [],
   "source": [
    "# Let's build a subjects dataframe for the experiment above:\n",
    "np.random.seed(42)\n",
    "subjects_df = pd.DataFrame(dict(sex=np.random.choice([\"F\", \"M\"], size=n_subjects),\n",
    "                                handedness=np.random.choice([\"left\", \"right\"], size=n_subjects),\n",
    "                                age=np.random.randint(20, 40, size=n_subjects)),\n",
    "                          index=[f\"subj_{i}\" for i in range(n_subjects)])\n",
    "subjects_df"
   ]
  },
  {
   "cell_type": "markdown",
   "id": "0c7f6ca9",
   "metadata": {},
   "source": [
    "We can now easily filter the subjects we want to work on based on categories:"
   ]
  },
  {
   "cell_type": "code",
   "execution_count": null,
   "id": "7c1b7ea7",
   "metadata": {},
   "outputs": [],
   "source": [
    "selected_subjects_df = subjects_df[(subjects_df[\"sex\"] == \"F\") & (subjects_df[\"age\"] >=30)]\n",
    "selected_subjects_df"
   ]
  },
  {
   "cell_type": "code",
   "execution_count": null,
   "id": "d156076a",
   "metadata": {},
   "outputs": [],
   "source": [
    "selected_subjects_df.index"
   ]
  },
  {
   "cell_type": "markdown",
   "id": "c95f9aa4",
   "metadata": {},
   "source": [
    "And restrain our analysis of the `trials_df` to these subjects :"
   ]
  },
  {
   "cell_type": "code",
   "execution_count": null,
   "id": "abc65939",
   "metadata": {},
   "outputs": [],
   "source": [
    "# Here, we'll use another handy pandas method: `isin()`:\n",
    "\n",
    "selection = trials_df[\"subject\"].isin(selected_subjects_df.index)\n",
    "selection\n"
   ]
  },
  {
   "cell_type": "code",
   "execution_count": null,
   "id": "43dc9881",
   "metadata": {},
   "outputs": [],
   "source": [
    "trials_df.loc[selection, \"var_1\"].mean()"
   ]
  },
  {
   "cell_type": "markdown",
   "id": "ddfec30d",
   "metadata": {},
   "source": [
    "## When not to use `pandas`\n",
    "\n",
    "You do not always need pandas dataframes! E.g., it is not efficient with many columns.\n",
    "\n",
    "Many times your raw data (ephys, imaging...) can live in numpy array and you work in `pandas` only with  derived quantities."
   ]
  },
  {
   "cell_type": "markdown",
   "id": "47d6dc11",
   "metadata": {},
   "source": [
    "(Practicals 1.3.2)"
   ]
  },
  {
   "cell_type": "code",
   "execution_count": null,
   "id": "554978a2",
   "metadata": {},
   "outputs": [],
   "source": []
  }
 ],
 "metadata": {
  "celltoolbar": "Slideshow",
  "kernelspec": {
   "display_name": "course-env",
   "language": "python",
   "name": "course-env"
  },
  "language_info": {
   "codemirror_mode": {
    "name": "ipython",
    "version": 3
   },
   "file_extension": ".py",
   "mimetype": "text/x-python",
   "name": "python",
   "nbconvert_exporter": "python",
   "pygments_lexer": "ipython3",
   "version": "3.10.13"
  }
 },
 "nbformat": 4,
 "nbformat_minor": 5
}
