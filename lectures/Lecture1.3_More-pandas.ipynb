{
 "cells": [
  {
   "cell_type": "markdown",
   "id": "3ca811a3",
   "metadata": {
    "slideshow": {
     "slide_type": "slide"
    }
   },
   "source": [
    "# Python for (open) Neuroscience\n",
    "\n",
    "_Lecture 1.3_ - More on `pandas`\n",
    "\n",
    "Luigi Petrucco\n",
    "\n",
    "Jean-Charles Mariani\n",
    "\n",
    "[![Open In Colab](https://colab.research.google.com/assets/colab-badge.svg)](https://colab.research.google.com/github/vigji/python-cimec/blob/main/lectures/Lecture1.3_More-pandas.ipynb)"
   ]
  },
  {
   "cell_type": "markdown",
   "id": "1c284825",
   "metadata": {
    "slideshow": {
     "slide_type": "subslide"
    }
   },
   "source": [
    "## Announcements\n",
    "\n",
    "- Next week we'll be setting up local Python installations, tutorial soon!\n",
    "- There will be a second assignment, but not a third one - start thinking to a project though!\n",
    "- Related: still looking for datasets!\n",
    "- Questionnaire soon"
   ]
  },
  {
   "cell_type": "markdown",
   "id": "2d63a107",
   "metadata": {
    "slideshow": {
     "slide_type": "subslide"
    }
   },
   "source": [
    "### More `pandas`"
   ]
  },
  {
   "cell_type": "code",
   "execution_count": 3,
   "id": "d035e4cd",
   "metadata": {
    "ExecuteTime": {
     "end_time": "2023-05-17T17:38:43.154932Z",
     "start_time": "2023-05-17T17:38:43.152511Z"
    }
   },
   "outputs": [],
   "source": [
    "import pandas as pd\n",
    "import numpy as np"
   ]
  },
  {
   "cell_type": "markdown",
   "id": "fa262222",
   "metadata": {
    "slideshow": {
     "slide_type": "subslide"
    }
   },
   "source": [
    "## Organize data in a dataframe"
   ]
  },
  {
   "cell_type": "code",
   "execution_count": 4,
   "id": "4963dfcd",
   "metadata": {
    "ExecuteTime": {
     "end_time": "2023-05-17T17:39:58.810039Z",
     "start_time": "2023-05-17T17:39:58.804902Z"
    }
   },
   "outputs": [
    {
     "data": {
      "text/plain": [
       "[{'var_1': 0.009854337187272244, 'var_2': 0.012662097112300041},\n",
       " {'var_1': 0.865812355124264, 'var_2': 0.701025601200336},\n",
       " {'var_1': 0.8042320033587066, 'var_2': 0.860744421367863}]"
      ]
     },
     "execution_count": 4,
     "metadata": {},
     "output_type": "execute_result"
    }
   ],
   "source": [
    "# Imagine we have 4 experimental subjects; to each one we show a stimulus 3 times; over each repetition \n",
    "# we measure 2 variables.\n",
    "n_subjects = 4\n",
    "n_repetitions = 3\n",
    "\n",
    "# We could represent the data for each stimulus as a dictionary, \n",
    "# and the data for each subject as a list of dictionaries:\n",
    "subject_data = [dict(var_1=np.random.rand(), var_2=np.random.rand()) for _ in range(n_repetitions)]\n",
    "subject_data"
   ]
  },
  {
   "cell_type": "code",
   "execution_count": 5,
   "id": "a4358ddf",
   "metadata": {
    "ExecuteTime": {
     "end_time": "2023-05-17T17:39:59.435461Z",
     "start_time": "2023-05-17T17:39:59.434929Z"
    },
    "slideshow": {
     "slide_type": "subslide"
    }
   },
   "outputs": [
    {
     "data": {
      "text/plain": [
       "{'subj_0': [{'var_1': 0.9888009612383392, 'var_2': 0.993568545602114},\n",
       "  {'var_1': 0.3860111285065776, 'var_2': 0.5295175750547945},\n",
       "  {'var_1': 0.5685538217395355, 'var_2': 0.3967766598475243}],\n",
       " 'subj_1': [{'var_1': 0.5145549292148306, 'var_2': 0.341403939286263},\n",
       "  {'var_1': 0.816293647337446, 'var_2': 0.4309273755939633},\n",
       "  {'var_1': 0.1438166862638004, 'var_2': 0.6356644203363685}],\n",
       " 'subj_2': [{'var_1': 0.9425411798967996, 'var_2': 0.9271632538579525},\n",
       "  {'var_1': 0.46178590455623025, 'var_2': 0.3797246271800402},\n",
       "  {'var_1': 0.2552954915331551, 'var_2': 0.007190466253909178}],\n",
       " 'subj_3': [{'var_1': 0.36816981720526576, 'var_2': 0.5524012177436572},\n",
       "  {'var_1': 0.3140434042152457, 'var_2': 0.2509696121100905},\n",
       "  {'var_1': 0.8518898959553745, 'var_2': 0.5013453777576858}]}"
      ]
     },
     "execution_count": 5,
     "metadata": {},
     "output_type": "execute_result"
    }
   ],
   "source": [
    "# And the data for all subjects as a dictionary of lists of dictionaries:\n",
    "all_subjects_data = dict()\n",
    "\n",
    "for i in range(n_subjects):\n",
    "    all_subjects_data[f\"subj_{i}\"] = \\\n",
    "        [dict(var_1=np.random.rand(), var_2=np.random.rand()) for _ in range(n_repetitions)]\n",
    "all_subjects_data"
   ]
  },
  {
   "cell_type": "markdown",
   "id": "842b94ce",
   "metadata": {
    "slideshow": {
     "slide_type": "subslide"
    }
   },
   "source": [
    "This is now organized but very nested! it is not easy to perform statistics on it."
   ]
  },
  {
   "cell_type": "code",
   "execution_count": 6,
   "id": "ec3c8950",
   "metadata": {
    "ExecuteTime": {
     "end_time": "2023-05-17T17:40:10.065599Z",
     "start_time": "2023-05-17T17:40:10.055186Z"
    },
    "jupyter": {
     "outputs_hidden": false
    }
   },
   "outputs": [
    {
     "data": {
      "text/plain": [
       "0.5509797389718833"
      ]
     },
     "execution_count": 6,
     "metadata": {},
     "output_type": "execute_result"
    }
   ],
   "source": [
    "# Imagine we want to average the results across all subjects for variable_1:\n",
    "means = []\n",
    "for subject_results in all_subjects_data.values():\n",
    "    for result in subject_results:\n",
    "        means.append(result[\"var_1\"])\n",
    "np.mean(means)"
   ]
  },
  {
   "cell_type": "markdown",
   "id": "124af170",
   "metadata": {
    "slideshow": {
     "slide_type": "subslide"
    }
   },
   "source": [
    "Instead, we can represent the data in a dataframe, **keeping it as flat as possible**!"
   ]
  },
  {
   "cell_type": "markdown",
   "id": "461f77b8",
   "metadata": {},
   "source": [
    "Remember!\n",
    "\n",
    "\n",
    "    🪷 The Zen of Python 🪷\n",
    "        \n",
    "        Flat is better than nested"
   ]
  },
  {
   "cell_type": "code",
   "execution_count": 7,
   "id": "8b8c2c8c",
   "metadata": {
    "ExecuteTime": {
     "end_time": "2023-05-17T22:50:18.303974Z",
     "start_time": "2023-05-17T22:50:18.283315Z"
    },
    "jupyter": {
     "outputs_hidden": false
    },
    "scrolled": true,
    "slideshow": {
     "slide_type": "subslide"
    }
   },
   "outputs": [
    {
     "data": {
      "text/html": [
       "<div>\n",
       "<style scoped>\n",
       "    .dataframe tbody tr th:only-of-type {\n",
       "        vertical-align: middle;\n",
       "    }\n",
       "\n",
       "    .dataframe tbody tr th {\n",
       "        vertical-align: top;\n",
       "    }\n",
       "\n",
       "    .dataframe thead th {\n",
       "        text-align: right;\n",
       "    }\n",
       "</style>\n",
       "<table border=\"1\" class=\"dataframe\">\n",
       "  <thead>\n",
       "    <tr style=\"text-align: right;\">\n",
       "      <th></th>\n",
       "      <th>subject</th>\n",
       "      <th>repetition</th>\n",
       "      <th>var_1</th>\n",
       "      <th>var_2</th>\n",
       "    </tr>\n",
       "  </thead>\n",
       "  <tbody>\n",
       "    <tr>\n",
       "      <th>0</th>\n",
       "      <td>subj_0</td>\n",
       "      <td>0</td>\n",
       "      <td>0.988801</td>\n",
       "      <td>0.993569</td>\n",
       "    </tr>\n",
       "    <tr>\n",
       "      <th>1</th>\n",
       "      <td>subj_0</td>\n",
       "      <td>1</td>\n",
       "      <td>0.386011</td>\n",
       "      <td>0.529518</td>\n",
       "    </tr>\n",
       "    <tr>\n",
       "      <th>2</th>\n",
       "      <td>subj_0</td>\n",
       "      <td>2</td>\n",
       "      <td>0.568554</td>\n",
       "      <td>0.396777</td>\n",
       "    </tr>\n",
       "    <tr>\n",
       "      <th>3</th>\n",
       "      <td>subj_1</td>\n",
       "      <td>0</td>\n",
       "      <td>0.514555</td>\n",
       "      <td>0.341404</td>\n",
       "    </tr>\n",
       "    <tr>\n",
       "      <th>4</th>\n",
       "      <td>subj_1</td>\n",
       "      <td>1</td>\n",
       "      <td>0.816294</td>\n",
       "      <td>0.430927</td>\n",
       "    </tr>\n",
       "    <tr>\n",
       "      <th>5</th>\n",
       "      <td>subj_1</td>\n",
       "      <td>2</td>\n",
       "      <td>0.143817</td>\n",
       "      <td>0.635664</td>\n",
       "    </tr>\n",
       "    <tr>\n",
       "      <th>6</th>\n",
       "      <td>subj_2</td>\n",
       "      <td>0</td>\n",
       "      <td>0.942541</td>\n",
       "      <td>0.927163</td>\n",
       "    </tr>\n",
       "    <tr>\n",
       "      <th>7</th>\n",
       "      <td>subj_2</td>\n",
       "      <td>1</td>\n",
       "      <td>0.461786</td>\n",
       "      <td>0.379725</td>\n",
       "    </tr>\n",
       "    <tr>\n",
       "      <th>8</th>\n",
       "      <td>subj_2</td>\n",
       "      <td>2</td>\n",
       "      <td>0.255295</td>\n",
       "      <td>0.007190</td>\n",
       "    </tr>\n",
       "    <tr>\n",
       "      <th>9</th>\n",
       "      <td>subj_3</td>\n",
       "      <td>0</td>\n",
       "      <td>0.368170</td>\n",
       "      <td>0.552401</td>\n",
       "    </tr>\n",
       "    <tr>\n",
       "      <th>10</th>\n",
       "      <td>subj_3</td>\n",
       "      <td>1</td>\n",
       "      <td>0.314043</td>\n",
       "      <td>0.250970</td>\n",
       "    </tr>\n",
       "    <tr>\n",
       "      <th>11</th>\n",
       "      <td>subj_3</td>\n",
       "      <td>2</td>\n",
       "      <td>0.851890</td>\n",
       "      <td>0.501345</td>\n",
       "    </tr>\n",
       "  </tbody>\n",
       "</table>\n",
       "</div>"
      ],
      "text/plain": [
       "   subject  repetition     var_1     var_2\n",
       "0   subj_0           0  0.988801  0.993569\n",
       "1   subj_0           1  0.386011  0.529518\n",
       "2   subj_0           2  0.568554  0.396777\n",
       "3   subj_1           0  0.514555  0.341404\n",
       "4   subj_1           1  0.816294  0.430927\n",
       "5   subj_1           2  0.143817  0.635664\n",
       "6   subj_2           0  0.942541  0.927163\n",
       "7   subj_2           1  0.461786  0.379725\n",
       "8   subj_2           2  0.255295  0.007190\n",
       "9   subj_3           0  0.368170  0.552401\n",
       "10  subj_3           1  0.314043  0.250970\n",
       "11  subj_3           2  0.851890  0.501345"
      ]
     },
     "execution_count": 7,
     "metadata": {},
     "output_type": "execute_result"
    }
   ],
   "source": [
    "# We can turn the data into a dataframe (does not matter how we do it here! this is just an ugly example)\n",
    "trials_df = pd.DataFrame([dict(subject=i, repetition=j, **all_subjects_data[i][j])\n",
    "                             for i in all_subjects_data.keys()\n",
    "                             for j in range(n_repetitions)])\n",
    "\n",
    "trials_df"
   ]
  },
  {
   "cell_type": "markdown",
   "id": "a849e7aa",
   "metadata": {
    "ExecuteTime": {
     "end_time": "2023-05-14T23:19:24.552726Z",
     "start_time": "2023-05-14T23:19:24.540353Z"
    },
    "jupyter": {
     "outputs_hidden": false
    },
    "slideshow": {
     "slide_type": "fragment"
    }
   },
   "source": [
    "We can now easily perform statistics on the data:"
   ]
  },
  {
   "cell_type": "code",
   "execution_count": 8,
   "id": "d61f1080",
   "metadata": {
    "ExecuteTime": {
     "end_time": "2023-05-14T23:21:03.976381Z",
     "start_time": "2023-05-14T23:21:03.973145Z"
    },
    "jupyter": {
     "outputs_hidden": false
    }
   },
   "outputs": [],
   "source": [
    "var1_mean = trials_df[\"var_1\"].mean()"
   ]
  },
  {
   "cell_type": "markdown",
   "id": "0a01cb57",
   "metadata": {
    "slideshow": {
     "slide_type": "subslide"
    }
   },
   "source": [
    "You do not always need pandas dataframes!!"
   ]
  },
  {
   "cell_type": "markdown",
   "id": "81995a18",
   "metadata": {},
   "source": [
    "Not efficient with many columns!"
   ]
  },
  {
   "cell_type": "markdown",
   "id": "dfde0f43",
   "metadata": {},
   "source": [
    "Many times your raw data (ephys, imaging...) can live in numpy array and you put in pandas derived quantities."
   ]
  },
  {
   "cell_type": "markdown",
   "id": "31210503",
   "metadata": {
    "slideshow": {
     "slide_type": "subslide"
    }
   },
   "source": [
    "### Principles for organizing `pandas` dataframes"
   ]
  },
  {
   "cell_type": "markdown",
   "id": "8bed0db5",
   "metadata": {},
   "source": [
    "Keep in the same dataset all the data of the same type you have across groups (such as subjects). \n",
    "\n",
    "If you load lists of dataframes concatenate before working on them!"
   ]
  },
  {
   "cell_type": "markdown",
   "id": "032ee21d",
   "metadata": {
    "slideshow": {
     "slide_type": "subslide"
    }
   },
   "source": [
    "Consider having multiple dataframes to describe different aspects of your experiment. For example:\n",
    "- a `subject` dataset with the info on your subjects\n",
    "- a `trials` dataset with the trial responses across subjects"
   ]
  },
  {
   "cell_type": "markdown",
   "id": "eac1ad3d",
   "metadata": {},
   "source": [
    "And keep consistent ids / nomenclature to easily work over both!"
   ]
  },
  {
   "cell_type": "markdown",
   "id": "29cd3855",
   "metadata": {
    "slideshow": {
     "slide_type": "subslide"
    }
   },
   "source": [
    "Example:"
   ]
  },
  {
   "cell_type": "code",
   "execution_count": 9,
   "id": "ff51dbab",
   "metadata": {},
   "outputs": [
    {
     "data": {
      "text/html": [
       "<div>\n",
       "<style scoped>\n",
       "    .dataframe tbody tr th:only-of-type {\n",
       "        vertical-align: middle;\n",
       "    }\n",
       "\n",
       "    .dataframe tbody tr th {\n",
       "        vertical-align: top;\n",
       "    }\n",
       "\n",
       "    .dataframe thead th {\n",
       "        text-align: right;\n",
       "    }\n",
       "</style>\n",
       "<table border=\"1\" class=\"dataframe\">\n",
       "  <thead>\n",
       "    <tr style=\"text-align: right;\">\n",
       "      <th></th>\n",
       "      <th>sex</th>\n",
       "      <th>handedness</th>\n",
       "      <th>age</th>\n",
       "    </tr>\n",
       "  </thead>\n",
       "  <tbody>\n",
       "    <tr>\n",
       "      <th>subj_0</th>\n",
       "      <td>F</td>\n",
       "      <td>left</td>\n",
       "      <td>26</td>\n",
       "    </tr>\n",
       "    <tr>\n",
       "      <th>subj_1</th>\n",
       "      <td>M</td>\n",
       "      <td>right</td>\n",
       "      <td>38</td>\n",
       "    </tr>\n",
       "    <tr>\n",
       "      <th>subj_2</th>\n",
       "      <td>F</td>\n",
       "      <td>left</td>\n",
       "      <td>30</td>\n",
       "    </tr>\n",
       "    <tr>\n",
       "      <th>subj_3</th>\n",
       "      <td>F</td>\n",
       "      <td>left</td>\n",
       "      <td>30</td>\n",
       "    </tr>\n",
       "  </tbody>\n",
       "</table>\n",
       "</div>"
      ],
      "text/plain": [
       "       sex handedness  age\n",
       "subj_0   F       left   26\n",
       "subj_1   M      right   38\n",
       "subj_2   F       left   30\n",
       "subj_3   F       left   30"
      ]
     },
     "execution_count": 9,
     "metadata": {},
     "output_type": "execute_result"
    }
   ],
   "source": [
    "# Let's build a subjects dataframe for the experiment above:\n",
    "np.random.seed(42)\n",
    "subjects_df = pd.DataFrame(dict(sex=np.random.choice([\"F\", \"M\"], size=n_subjects),\n",
    "                                handedness=np.random.choice([\"left\", \"right\"], size=n_subjects),\n",
    "                                age=np.random.randint(20, 40, size=n_subjects)),\n",
    "                          index=[f\"subj_{i}\" for i in range(n_subjects)])\n",
    "subjects_df"
   ]
  },
  {
   "cell_type": "markdown",
   "id": "0c7f6ca9",
   "metadata": {
    "slideshow": {
     "slide_type": "subslide"
    }
   },
   "source": [
    "We can now easily filter the subjects we want to work on based on categories:"
   ]
  },
  {
   "cell_type": "code",
   "execution_count": 10,
   "id": "7c1b7ea7",
   "metadata": {},
   "outputs": [
    {
     "data": {
      "text/html": [
       "<div>\n",
       "<style scoped>\n",
       "    .dataframe tbody tr th:only-of-type {\n",
       "        vertical-align: middle;\n",
       "    }\n",
       "\n",
       "    .dataframe tbody tr th {\n",
       "        vertical-align: top;\n",
       "    }\n",
       "\n",
       "    .dataframe thead th {\n",
       "        text-align: right;\n",
       "    }\n",
       "</style>\n",
       "<table border=\"1\" class=\"dataframe\">\n",
       "  <thead>\n",
       "    <tr style=\"text-align: right;\">\n",
       "      <th></th>\n",
       "      <th>sex</th>\n",
       "      <th>handedness</th>\n",
       "      <th>age</th>\n",
       "    </tr>\n",
       "  </thead>\n",
       "  <tbody>\n",
       "    <tr>\n",
       "      <th>subj_2</th>\n",
       "      <td>F</td>\n",
       "      <td>left</td>\n",
       "      <td>30</td>\n",
       "    </tr>\n",
       "    <tr>\n",
       "      <th>subj_3</th>\n",
       "      <td>F</td>\n",
       "      <td>left</td>\n",
       "      <td>30</td>\n",
       "    </tr>\n",
       "  </tbody>\n",
       "</table>\n",
       "</div>"
      ],
      "text/plain": [
       "       sex handedness  age\n",
       "subj_2   F       left   30\n",
       "subj_3   F       left   30"
      ]
     },
     "execution_count": 10,
     "metadata": {},
     "output_type": "execute_result"
    }
   ],
   "source": [
    "selected_subjects_df = subjects_df[(subjects_df[\"sex\"] == \"F\") & (subjects_df[\"age\"] >=30)]\n",
    "selected_subjects_df"
   ]
  },
  {
   "cell_type": "code",
   "execution_count": 11,
   "id": "d156076a",
   "metadata": {},
   "outputs": [
    {
     "data": {
      "text/plain": [
       "Index(['subj_2', 'subj_3'], dtype='object')"
      ]
     },
     "execution_count": 11,
     "metadata": {},
     "output_type": "execute_result"
    }
   ],
   "source": [
    "selected_subjects_df.index"
   ]
  },
  {
   "cell_type": "markdown",
   "id": "c95f9aa4",
   "metadata": {
    "slideshow": {
     "slide_type": "subslide"
    }
   },
   "source": [
    "And restrain our analysis of the `trials_df` to these subjects :"
   ]
  },
  {
   "cell_type": "code",
   "execution_count": 12,
   "id": "abc65939",
   "metadata": {},
   "outputs": [
    {
     "data": {
      "text/plain": [
       "0     False\n",
       "1     False\n",
       "2     False\n",
       "3     False\n",
       "4     False\n",
       "5     False\n",
       "6      True\n",
       "7      True\n",
       "8      True\n",
       "9      True\n",
       "10     True\n",
       "11     True\n",
       "Name: subject, dtype: bool"
      ]
     },
     "execution_count": 12,
     "metadata": {},
     "output_type": "execute_result"
    }
   ],
   "source": [
    "# Here, we'll use another handy pandas method: `isin()`:\n",
    "\n",
    "selection = trials_df[\"subject\"].isin(selected_subjects_df.index)\n",
    "selection\n"
   ]
  },
  {
   "cell_type": "code",
   "execution_count": 13,
   "id": "43dc9881",
   "metadata": {
    "slideshow": {
     "slide_type": "subslide"
    }
   },
   "outputs": [
    {
     "data": {
      "text/plain": [
       "0.5322876155603451"
      ]
     },
     "execution_count": 13,
     "metadata": {},
     "output_type": "execute_result"
    }
   ],
   "source": [
    "trials_df.loc[selection, \"var_1\"].mean()"
   ]
  },
  {
   "cell_type": "markdown",
   "id": "47d6dc11",
   "metadata": {
    "slideshow": {
     "slide_type": "slide"
    }
   },
   "source": [
    "(Practicals 1.3.0)"
   ]
  },
  {
   "cell_type": "markdown",
   "id": "1f875ef9",
   "metadata": {
    "slideshow": {
     "slide_type": "subslide"
    }
   },
   "source": [
    "## Aggregate statistics"
   ]
  },
  {
   "cell_type": "markdown",
   "id": "6e7d4eda",
   "metadata": {},
   "source": [
    "It can be useful to aggregate statistics based on the values of a column."
   ]
  },
  {
   "cell_type": "markdown",
   "id": "a9a587ed",
   "metadata": {
    "slideshow": {
     "slide_type": "fragment"
    }
   },
   "source": [
    "Imagine we want to quickly compute the mean of the values across trials for each subject.\n",
    "\n"
   ]
  },
  {
   "cell_type": "markdown",
   "id": "058ff74a",
   "metadata": {
    "slideshow": {
     "slide_type": "subslide"
    }
   },
   "source": [
    "### `.groupby()`"
   ]
  },
  {
   "cell_type": "markdown",
   "id": "d124808d",
   "metadata": {},
   "source": [
    "We have a handy syntax to average within each category with `.groupby()`.\n",
    "\n",
    "The sintax is :\n",
    "```python\n",
    "df.groupby(\"name_of_the_category_column\").operation()\n",
    "```"
   ]
  },
  {
   "cell_type": "markdown",
   "id": "fb7dba9b",
   "metadata": {
    "slideshow": {
     "slide_type": "subslide"
    }
   },
   "source": [
    "Now, we want to compute average for every subject:"
   ]
  },
  {
   "cell_type": "code",
   "execution_count": 16,
   "id": "5296bbda",
   "metadata": {
    "slideshow": {
     "slide_type": "-"
    }
   },
   "outputs": [
    {
     "data": {
      "text/html": [
       "<div>\n",
       "<style scoped>\n",
       "    .dataframe tbody tr th:only-of-type {\n",
       "        vertical-align: middle;\n",
       "    }\n",
       "\n",
       "    .dataframe tbody tr th {\n",
       "        vertical-align: top;\n",
       "    }\n",
       "\n",
       "    .dataframe thead th {\n",
       "        text-align: right;\n",
       "    }\n",
       "</style>\n",
       "<table border=\"1\" class=\"dataframe\">\n",
       "  <thead>\n",
       "    <tr style=\"text-align: right;\">\n",
       "      <th></th>\n",
       "      <th>subject</th>\n",
       "      <th>repetition</th>\n",
       "      <th>var_1</th>\n",
       "      <th>var_2</th>\n",
       "    </tr>\n",
       "  </thead>\n",
       "  <tbody>\n",
       "    <tr>\n",
       "      <th>0</th>\n",
       "      <td>subj_0</td>\n",
       "      <td>0</td>\n",
       "      <td>0.988801</td>\n",
       "      <td>0.993569</td>\n",
       "    </tr>\n",
       "    <tr>\n",
       "      <th>1</th>\n",
       "      <td>subj_0</td>\n",
       "      <td>1</td>\n",
       "      <td>0.386011</td>\n",
       "      <td>0.529518</td>\n",
       "    </tr>\n",
       "    <tr>\n",
       "      <th>2</th>\n",
       "      <td>subj_0</td>\n",
       "      <td>2</td>\n",
       "      <td>0.568554</td>\n",
       "      <td>0.396777</td>\n",
       "    </tr>\n",
       "    <tr>\n",
       "      <th>3</th>\n",
       "      <td>subj_1</td>\n",
       "      <td>0</td>\n",
       "      <td>0.514555</td>\n",
       "      <td>0.341404</td>\n",
       "    </tr>\n",
       "    <tr>\n",
       "      <th>4</th>\n",
       "      <td>subj_1</td>\n",
       "      <td>1</td>\n",
       "      <td>0.816294</td>\n",
       "      <td>0.430927</td>\n",
       "    </tr>\n",
       "  </tbody>\n",
       "</table>\n",
       "</div>"
      ],
      "text/plain": [
       "  subject  repetition     var_1     var_2\n",
       "0  subj_0           0  0.988801  0.993569\n",
       "1  subj_0           1  0.386011  0.529518\n",
       "2  subj_0           2  0.568554  0.396777\n",
       "3  subj_1           0  0.514555  0.341404\n",
       "4  subj_1           1  0.816294  0.430927"
      ]
     },
     "execution_count": 16,
     "metadata": {},
     "output_type": "execute_result"
    }
   ],
   "source": [
    "trials_df.head(5)"
   ]
  },
  {
   "cell_type": "code",
   "execution_count": 18,
   "id": "8591cf08",
   "metadata": {
    "ExecuteTime": {
     "end_time": "2023-05-18T12:10:54.758041Z",
     "start_time": "2023-05-18T12:10:54.754356Z"
    },
    "slideshow": {
     "slide_type": "fragment"
    }
   },
   "outputs": [
    {
     "data": {
      "text/html": [
       "<div>\n",
       "<style scoped>\n",
       "    .dataframe tbody tr th:only-of-type {\n",
       "        vertical-align: middle;\n",
       "    }\n",
       "\n",
       "    .dataframe tbody tr th {\n",
       "        vertical-align: top;\n",
       "    }\n",
       "\n",
       "    .dataframe thead th {\n",
       "        text-align: right;\n",
       "    }\n",
       "</style>\n",
       "<table border=\"1\" class=\"dataframe\">\n",
       "  <thead>\n",
       "    <tr style=\"text-align: right;\">\n",
       "      <th></th>\n",
       "      <th>repetition</th>\n",
       "      <th>var_1</th>\n",
       "      <th>var_2</th>\n",
       "    </tr>\n",
       "    <tr>\n",
       "      <th>subject</th>\n",
       "      <th></th>\n",
       "      <th></th>\n",
       "      <th></th>\n",
       "    </tr>\n",
       "  </thead>\n",
       "  <tbody>\n",
       "    <tr>\n",
       "      <th>subj_0</th>\n",
       "      <td>1.0</td>\n",
       "      <td>0.647789</td>\n",
       "      <td>0.639954</td>\n",
       "    </tr>\n",
       "    <tr>\n",
       "      <th>subj_1</th>\n",
       "      <td>1.0</td>\n",
       "      <td>0.491555</td>\n",
       "      <td>0.469332</td>\n",
       "    </tr>\n",
       "    <tr>\n",
       "      <th>subj_2</th>\n",
       "      <td>1.0</td>\n",
       "      <td>0.553208</td>\n",
       "      <td>0.438026</td>\n",
       "    </tr>\n",
       "    <tr>\n",
       "      <th>subj_3</th>\n",
       "      <td>1.0</td>\n",
       "      <td>0.511368</td>\n",
       "      <td>0.434905</td>\n",
       "    </tr>\n",
       "  </tbody>\n",
       "</table>\n",
       "</div>"
      ],
      "text/plain": [
       "         repetition     var_1     var_2\n",
       "subject                                \n",
       "subj_0          1.0  0.647789  0.639954\n",
       "subj_1          1.0  0.491555  0.469332\n",
       "subj_2          1.0  0.553208  0.438026\n",
       "subj_3          1.0  0.511368  0.434905"
      ]
     },
     "execution_count": 18,
     "metadata": {},
     "output_type": "execute_result"
    }
   ],
   "source": [
    "# In this case, the operation is `mean()`.\n",
    "# Note how the result will have the variable we group by as index:\n",
    "\n",
    "subj_means_df = trials_df.groupby(\"subject\").mean()\n",
    "subj_means_df"
   ]
  },
  {
   "cell_type": "markdown",
   "id": "21579a47",
   "metadata": {
    "slideshow": {
     "slide_type": "subslide"
    }
   },
   "source": [
    "By the way, this is a reason why methods are better than functions in this case: they can be chained with a clearer syntax!"
   ]
  },
  {
   "cell_type": "markdown",
   "id": "82f8456c",
   "metadata": {
    "slideshow": {
     "slide_type": "subslide"
    }
   },
   "source": [
    "# Index broadcasting in `pandas`"
   ]
  },
  {
   "cell_type": "markdown",
   "id": "1d2c5910",
   "metadata": {},
   "source": [
    "Let's subtract from each subject the mean for each variable."
   ]
  },
  {
   "cell_type": "code",
   "execution_count": 19,
   "id": "3e7b964d",
   "metadata": {
    "scrolled": true
   },
   "outputs": [
    {
     "data": {
      "text/html": [
       "<div>\n",
       "<style scoped>\n",
       "    .dataframe tbody tr th:only-of-type {\n",
       "        vertical-align: middle;\n",
       "    }\n",
       "\n",
       "    .dataframe tbody tr th {\n",
       "        vertical-align: top;\n",
       "    }\n",
       "\n",
       "    .dataframe thead th {\n",
       "        text-align: right;\n",
       "    }\n",
       "</style>\n",
       "<table border=\"1\" class=\"dataframe\">\n",
       "  <thead>\n",
       "    <tr style=\"text-align: right;\">\n",
       "      <th></th>\n",
       "      <th>subject</th>\n",
       "      <th>repetition</th>\n",
       "      <th>var_1</th>\n",
       "      <th>var_2</th>\n",
       "    </tr>\n",
       "  </thead>\n",
       "  <tbody>\n",
       "    <tr>\n",
       "      <th>0</th>\n",
       "      <td>subj_0</td>\n",
       "      <td>0</td>\n",
       "      <td>0.988801</td>\n",
       "      <td>0.993569</td>\n",
       "    </tr>\n",
       "    <tr>\n",
       "      <th>1</th>\n",
       "      <td>subj_0</td>\n",
       "      <td>1</td>\n",
       "      <td>0.386011</td>\n",
       "      <td>0.529518</td>\n",
       "    </tr>\n",
       "    <tr>\n",
       "      <th>2</th>\n",
       "      <td>subj_0</td>\n",
       "      <td>2</td>\n",
       "      <td>0.568554</td>\n",
       "      <td>0.396777</td>\n",
       "    </tr>\n",
       "  </tbody>\n",
       "</table>\n",
       "</div>"
      ],
      "text/plain": [
       "  subject  repetition     var_1     var_2\n",
       "0  subj_0           0  0.988801  0.993569\n",
       "1  subj_0           1  0.386011  0.529518\n",
       "2  subj_0           2  0.568554  0.396777"
      ]
     },
     "execution_count": 19,
     "metadata": {},
     "output_type": "execute_result"
    }
   ],
   "source": [
    "trials_df.head(3)"
   ]
  },
  {
   "cell_type": "code",
   "execution_count": 20,
   "id": "aacda54f",
   "metadata": {},
   "outputs": [
    {
     "data": {
      "text/html": [
       "<div>\n",
       "<style scoped>\n",
       "    .dataframe tbody tr th:only-of-type {\n",
       "        vertical-align: middle;\n",
       "    }\n",
       "\n",
       "    .dataframe tbody tr th {\n",
       "        vertical-align: top;\n",
       "    }\n",
       "\n",
       "    .dataframe thead th {\n",
       "        text-align: right;\n",
       "    }\n",
       "</style>\n",
       "<table border=\"1\" class=\"dataframe\">\n",
       "  <thead>\n",
       "    <tr style=\"text-align: right;\">\n",
       "      <th></th>\n",
       "      <th>repetition</th>\n",
       "      <th>var_1</th>\n",
       "      <th>var_2</th>\n",
       "    </tr>\n",
       "    <tr>\n",
       "      <th>subject</th>\n",
       "      <th></th>\n",
       "      <th></th>\n",
       "      <th></th>\n",
       "    </tr>\n",
       "  </thead>\n",
       "  <tbody>\n",
       "    <tr>\n",
       "      <th>subj_0</th>\n",
       "      <td>1.0</td>\n",
       "      <td>0.647789</td>\n",
       "      <td>0.639954</td>\n",
       "    </tr>\n",
       "    <tr>\n",
       "      <th>subj_1</th>\n",
       "      <td>1.0</td>\n",
       "      <td>0.491555</td>\n",
       "      <td>0.469332</td>\n",
       "    </tr>\n",
       "    <tr>\n",
       "      <th>subj_2</th>\n",
       "      <td>1.0</td>\n",
       "      <td>0.553208</td>\n",
       "      <td>0.438026</td>\n",
       "    </tr>\n",
       "  </tbody>\n",
       "</table>\n",
       "</div>"
      ],
      "text/plain": [
       "         repetition     var_1     var_2\n",
       "subject                                \n",
       "subj_0          1.0  0.647789  0.639954\n",
       "subj_1          1.0  0.491555  0.469332\n",
       "subj_2          1.0  0.553208  0.438026"
      ]
     },
     "execution_count": 20,
     "metadata": {},
     "output_type": "execute_result"
    }
   ],
   "source": [
    "subj_means_df.head(3)"
   ]
  },
  {
   "cell_type": "markdown",
   "id": "b77ecb0f",
   "metadata": {
    "slideshow": {
     "slide_type": "subslide"
    }
   },
   "source": [
    "The shapes obviously don't match:"
   ]
  },
  {
   "cell_type": "code",
   "execution_count": null,
   "id": "7906abe4",
   "metadata": {},
   "outputs": [],
   "source": [
    "print(trials_df.shape)\n",
    "print(subj_means_df.shape)"
   ]
  },
  {
   "cell_type": "code",
   "execution_count": 21,
   "id": "2547f767",
   "metadata": {},
   "outputs": [
    {
     "data": {
      "text/html": [
       "<div>\n",
       "<style scoped>\n",
       "    .dataframe tbody tr th:only-of-type {\n",
       "        vertical-align: middle;\n",
       "    }\n",
       "\n",
       "    .dataframe tbody tr th {\n",
       "        vertical-align: top;\n",
       "    }\n",
       "\n",
       "    .dataframe thead th {\n",
       "        text-align: right;\n",
       "    }\n",
       "</style>\n",
       "<table border=\"1\" class=\"dataframe\">\n",
       "  <thead>\n",
       "    <tr style=\"text-align: right;\">\n",
       "      <th></th>\n",
       "      <th>repetition</th>\n",
       "      <th>subject</th>\n",
       "      <th>var_1</th>\n",
       "      <th>var_2</th>\n",
       "    </tr>\n",
       "  </thead>\n",
       "  <tbody>\n",
       "    <tr>\n",
       "      <th>0</th>\n",
       "      <td>NaN</td>\n",
       "      <td>NaN</td>\n",
       "      <td>NaN</td>\n",
       "      <td>NaN</td>\n",
       "    </tr>\n",
       "    <tr>\n",
       "      <th>1</th>\n",
       "      <td>NaN</td>\n",
       "      <td>NaN</td>\n",
       "      <td>NaN</td>\n",
       "      <td>NaN</td>\n",
       "    </tr>\n",
       "    <tr>\n",
       "      <th>2</th>\n",
       "      <td>NaN</td>\n",
       "      <td>NaN</td>\n",
       "      <td>NaN</td>\n",
       "      <td>NaN</td>\n",
       "    </tr>\n",
       "    <tr>\n",
       "      <th>3</th>\n",
       "      <td>NaN</td>\n",
       "      <td>NaN</td>\n",
       "      <td>NaN</td>\n",
       "      <td>NaN</td>\n",
       "    </tr>\n",
       "    <tr>\n",
       "      <th>4</th>\n",
       "      <td>NaN</td>\n",
       "      <td>NaN</td>\n",
       "      <td>NaN</td>\n",
       "      <td>NaN</td>\n",
       "    </tr>\n",
       "    <tr>\n",
       "      <th>5</th>\n",
       "      <td>NaN</td>\n",
       "      <td>NaN</td>\n",
       "      <td>NaN</td>\n",
       "      <td>NaN</td>\n",
       "    </tr>\n",
       "    <tr>\n",
       "      <th>6</th>\n",
       "      <td>NaN</td>\n",
       "      <td>NaN</td>\n",
       "      <td>NaN</td>\n",
       "      <td>NaN</td>\n",
       "    </tr>\n",
       "    <tr>\n",
       "      <th>7</th>\n",
       "      <td>NaN</td>\n",
       "      <td>NaN</td>\n",
       "      <td>NaN</td>\n",
       "      <td>NaN</td>\n",
       "    </tr>\n",
       "    <tr>\n",
       "      <th>8</th>\n",
       "      <td>NaN</td>\n",
       "      <td>NaN</td>\n",
       "      <td>NaN</td>\n",
       "      <td>NaN</td>\n",
       "    </tr>\n",
       "    <tr>\n",
       "      <th>9</th>\n",
       "      <td>NaN</td>\n",
       "      <td>NaN</td>\n",
       "      <td>NaN</td>\n",
       "      <td>NaN</td>\n",
       "    </tr>\n",
       "    <tr>\n",
       "      <th>10</th>\n",
       "      <td>NaN</td>\n",
       "      <td>NaN</td>\n",
       "      <td>NaN</td>\n",
       "      <td>NaN</td>\n",
       "    </tr>\n",
       "    <tr>\n",
       "      <th>11</th>\n",
       "      <td>NaN</td>\n",
       "      <td>NaN</td>\n",
       "      <td>NaN</td>\n",
       "      <td>NaN</td>\n",
       "    </tr>\n",
       "    <tr>\n",
       "      <th>subj_0</th>\n",
       "      <td>NaN</td>\n",
       "      <td>NaN</td>\n",
       "      <td>NaN</td>\n",
       "      <td>NaN</td>\n",
       "    </tr>\n",
       "    <tr>\n",
       "      <th>subj_1</th>\n",
       "      <td>NaN</td>\n",
       "      <td>NaN</td>\n",
       "      <td>NaN</td>\n",
       "      <td>NaN</td>\n",
       "    </tr>\n",
       "    <tr>\n",
       "      <th>subj_2</th>\n",
       "      <td>NaN</td>\n",
       "      <td>NaN</td>\n",
       "      <td>NaN</td>\n",
       "      <td>NaN</td>\n",
       "    </tr>\n",
       "    <tr>\n",
       "      <th>subj_3</th>\n",
       "      <td>NaN</td>\n",
       "      <td>NaN</td>\n",
       "      <td>NaN</td>\n",
       "      <td>NaN</td>\n",
       "    </tr>\n",
       "  </tbody>\n",
       "</table>\n",
       "</div>"
      ],
      "text/plain": [
       "        repetition  subject  var_1  var_2\n",
       "0              NaN      NaN    NaN    NaN\n",
       "1              NaN      NaN    NaN    NaN\n",
       "2              NaN      NaN    NaN    NaN\n",
       "3              NaN      NaN    NaN    NaN\n",
       "4              NaN      NaN    NaN    NaN\n",
       "5              NaN      NaN    NaN    NaN\n",
       "6              NaN      NaN    NaN    NaN\n",
       "7              NaN      NaN    NaN    NaN\n",
       "8              NaN      NaN    NaN    NaN\n",
       "9              NaN      NaN    NaN    NaN\n",
       "10             NaN      NaN    NaN    NaN\n",
       "11             NaN      NaN    NaN    NaN\n",
       "subj_0         NaN      NaN    NaN    NaN\n",
       "subj_1         NaN      NaN    NaN    NaN\n",
       "subj_2         NaN      NaN    NaN    NaN\n",
       "subj_3         NaN      NaN    NaN    NaN"
      ]
     },
     "execution_count": 21,
     "metadata": {},
     "output_type": "execute_result"
    }
   ],
   "source": [
    "trials_df - subj_means_df  # this is obviously funny:"
   ]
  },
  {
   "cell_type": "markdown",
   "id": "350cbd41",
   "metadata": {
    "slideshow": {
     "slide_type": "subslide"
    }
   },
   "source": [
    "But pandas will broadcast values using indices if we make them consistent!"
   ]
  },
  {
   "cell_type": "code",
   "execution_count": 23,
   "id": "69fba181",
   "metadata": {},
   "outputs": [
    {
     "data": {
      "text/html": [
       "<div>\n",
       "<style scoped>\n",
       "    .dataframe tbody tr th:only-of-type {\n",
       "        vertical-align: middle;\n",
       "    }\n",
       "\n",
       "    .dataframe tbody tr th {\n",
       "        vertical-align: top;\n",
       "    }\n",
       "\n",
       "    .dataframe thead th {\n",
       "        text-align: right;\n",
       "    }\n",
       "</style>\n",
       "<table border=\"1\" class=\"dataframe\">\n",
       "  <thead>\n",
       "    <tr style=\"text-align: right;\">\n",
       "      <th></th>\n",
       "      <th>repetition</th>\n",
       "      <th>var_1</th>\n",
       "      <th>var_2</th>\n",
       "    </tr>\n",
       "    <tr>\n",
       "      <th>subject</th>\n",
       "      <th></th>\n",
       "      <th></th>\n",
       "      <th></th>\n",
       "    </tr>\n",
       "  </thead>\n",
       "  <tbody>\n",
       "    <tr>\n",
       "      <th>subj_0</th>\n",
       "      <td>1.0</td>\n",
       "      <td>0.647789</td>\n",
       "      <td>0.639954</td>\n",
       "    </tr>\n",
       "    <tr>\n",
       "      <th>subj_1</th>\n",
       "      <td>1.0</td>\n",
       "      <td>0.491555</td>\n",
       "      <td>0.469332</td>\n",
       "    </tr>\n",
       "    <tr>\n",
       "      <th>subj_2</th>\n",
       "      <td>1.0</td>\n",
       "      <td>0.553208</td>\n",
       "      <td>0.438026</td>\n",
       "    </tr>\n",
       "    <tr>\n",
       "      <th>subj_3</th>\n",
       "      <td>1.0</td>\n",
       "      <td>0.511368</td>\n",
       "      <td>0.434905</td>\n",
       "    </tr>\n",
       "  </tbody>\n",
       "</table>\n",
       "</div>"
      ],
      "text/plain": [
       "         repetition     var_1     var_2\n",
       "subject                                \n",
       "subj_0          1.0  0.647789  0.639954\n",
       "subj_1          1.0  0.491555  0.469332\n",
       "subj_2          1.0  0.553208  0.438026\n",
       "subj_3          1.0  0.511368  0.434905"
      ]
     },
     "execution_count": 23,
     "metadata": {},
     "output_type": "execute_result"
    }
   ],
   "source": [
    "subj_means_df"
   ]
  },
  {
   "cell_type": "code",
   "execution_count": 24,
   "id": "2f698ef9",
   "metadata": {},
   "outputs": [
    {
     "data": {
      "text/html": [
       "<div>\n",
       "<style scoped>\n",
       "    .dataframe tbody tr th:only-of-type {\n",
       "        vertical-align: middle;\n",
       "    }\n",
       "\n",
       "    .dataframe tbody tr th {\n",
       "        vertical-align: top;\n",
       "    }\n",
       "\n",
       "    .dataframe thead th {\n",
       "        text-align: right;\n",
       "    }\n",
       "</style>\n",
       "<table border=\"1\" class=\"dataframe\">\n",
       "  <thead>\n",
       "    <tr style=\"text-align: right;\">\n",
       "      <th></th>\n",
       "      <th>repetition</th>\n",
       "      <th>var_1</th>\n",
       "      <th>var_2</th>\n",
       "    </tr>\n",
       "    <tr>\n",
       "      <th>subject</th>\n",
       "      <th></th>\n",
       "      <th></th>\n",
       "      <th></th>\n",
       "    </tr>\n",
       "  </thead>\n",
       "  <tbody>\n",
       "    <tr>\n",
       "      <th>subj_0</th>\n",
       "      <td>-1.0</td>\n",
       "      <td>0.341012</td>\n",
       "      <td>0.353614</td>\n",
       "    </tr>\n",
       "    <tr>\n",
       "      <th>subj_0</th>\n",
       "      <td>0.0</td>\n",
       "      <td>-0.261778</td>\n",
       "      <td>-0.110437</td>\n",
       "    </tr>\n",
       "    <tr>\n",
       "      <th>subj_0</th>\n",
       "      <td>1.0</td>\n",
       "      <td>-0.079235</td>\n",
       "      <td>-0.243178</td>\n",
       "    </tr>\n",
       "    <tr>\n",
       "      <th>subj_1</th>\n",
       "      <td>-1.0</td>\n",
       "      <td>0.023000</td>\n",
       "      <td>-0.127928</td>\n",
       "    </tr>\n",
       "    <tr>\n",
       "      <th>subj_1</th>\n",
       "      <td>0.0</td>\n",
       "      <td>0.324739</td>\n",
       "      <td>-0.038405</td>\n",
       "    </tr>\n",
       "    <tr>\n",
       "      <th>subj_1</th>\n",
       "      <td>1.0</td>\n",
       "      <td>-0.347738</td>\n",
       "      <td>0.166333</td>\n",
       "    </tr>\n",
       "    <tr>\n",
       "      <th>subj_2</th>\n",
       "      <td>-1.0</td>\n",
       "      <td>0.389334</td>\n",
       "      <td>0.489137</td>\n",
       "    </tr>\n",
       "    <tr>\n",
       "      <th>subj_2</th>\n",
       "      <td>0.0</td>\n",
       "      <td>-0.091422</td>\n",
       "      <td>-0.058301</td>\n",
       "    </tr>\n",
       "    <tr>\n",
       "      <th>subj_2</th>\n",
       "      <td>1.0</td>\n",
       "      <td>-0.297912</td>\n",
       "      <td>-0.430836</td>\n",
       "    </tr>\n",
       "    <tr>\n",
       "      <th>subj_3</th>\n",
       "      <td>-1.0</td>\n",
       "      <td>-0.143198</td>\n",
       "      <td>0.117496</td>\n",
       "    </tr>\n",
       "    <tr>\n",
       "      <th>subj_3</th>\n",
       "      <td>0.0</td>\n",
       "      <td>-0.197324</td>\n",
       "      <td>-0.183936</td>\n",
       "    </tr>\n",
       "    <tr>\n",
       "      <th>subj_3</th>\n",
       "      <td>1.0</td>\n",
       "      <td>0.340522</td>\n",
       "      <td>0.066440</td>\n",
       "    </tr>\n",
       "  </tbody>\n",
       "</table>\n",
       "</div>"
      ],
      "text/plain": [
       "         repetition     var_1     var_2\n",
       "subject                                \n",
       "subj_0         -1.0  0.341012  0.353614\n",
       "subj_0          0.0 -0.261778 -0.110437\n",
       "subj_0          1.0 -0.079235 -0.243178\n",
       "subj_1         -1.0  0.023000 -0.127928\n",
       "subj_1          0.0  0.324739 -0.038405\n",
       "subj_1          1.0 -0.347738  0.166333\n",
       "subj_2         -1.0  0.389334  0.489137\n",
       "subj_2          0.0 -0.091422 -0.058301\n",
       "subj_2          1.0 -0.297912 -0.430836\n",
       "subj_3         -1.0 -0.143198  0.117496\n",
       "subj_3          0.0 -0.197324 -0.183936\n",
       "subj_3          1.0  0.340522  0.066440"
      ]
     },
     "execution_count": 24,
     "metadata": {},
     "output_type": "execute_result"
    }
   ],
   "source": [
    "trials_df.set_index(\"subject\") - subj_means_df\n",
    " #trials_df.head()"
   ]
  },
  {
   "cell_type": "markdown",
   "id": "6cc991e9",
   "metadata": {
    "slideshow": {
     "slide_type": "subslide"
    }
   },
   "source": [
    "So now we can write:"
   ]
  },
  {
   "cell_type": "code",
   "execution_count": null,
   "id": "f19d711e",
   "metadata": {
    "slideshow": {
     "slide_type": "-"
    }
   },
   "outputs": [],
   "source": [
    "normalized = trials_df - subj_means_df\n",
    "normalized.head()"
   ]
  },
  {
   "cell_type": "markdown",
   "id": "48e0479c",
   "metadata": {
    "slideshow": {
     "slide_type": "fragment"
    }
   },
   "source": [
    "This broadcasting is super powerful! Give us very expressive and concise syntax to work with aggregated data without using loops."
   ]
  },
  {
   "cell_type": "markdown",
   "id": "e6f83cb9",
   "metadata": {
    "slideshow": {
     "slide_type": "subslide"
    }
   },
   "source": [
    "## Multi-indexing"
   ]
  },
  {
   "cell_type": "markdown",
   "id": "d7ee103e",
   "metadata": {},
   "source": [
    "Sometimes, we might want to average keeping segregations over multiple categories:"
   ]
  },
  {
   "cell_type": "code",
   "execution_count": 25,
   "id": "23a7631a",
   "metadata": {},
   "outputs": [
    {
     "data": {
      "text/html": [
       "<div>\n",
       "<style scoped>\n",
       "    .dataframe tbody tr th:only-of-type {\n",
       "        vertical-align: middle;\n",
       "    }\n",
       "\n",
       "    .dataframe tbody tr th {\n",
       "        vertical-align: top;\n",
       "    }\n",
       "\n",
       "    .dataframe thead th {\n",
       "        text-align: right;\n",
       "    }\n",
       "</style>\n",
       "<table border=\"1\" class=\"dataframe\">\n",
       "  <thead>\n",
       "    <tr style=\"text-align: right;\">\n",
       "      <th></th>\n",
       "      <th>subject</th>\n",
       "      <th>trial_type</th>\n",
       "      <th>var_1</th>\n",
       "      <th>var_2</th>\n",
       "    </tr>\n",
       "  </thead>\n",
       "  <tbody>\n",
       "    <tr>\n",
       "      <th>0</th>\n",
       "      <td>subj_0</td>\n",
       "      <td>0</td>\n",
       "      <td>0.988801</td>\n",
       "      <td>0.993569</td>\n",
       "    </tr>\n",
       "    <tr>\n",
       "      <th>1</th>\n",
       "      <td>subj_0</td>\n",
       "      <td>1</td>\n",
       "      <td>0.386011</td>\n",
       "      <td>0.529518</td>\n",
       "    </tr>\n",
       "    <tr>\n",
       "      <th>2</th>\n",
       "      <td>subj_0</td>\n",
       "      <td>0</td>\n",
       "      <td>0.568554</td>\n",
       "      <td>0.396777</td>\n",
       "    </tr>\n",
       "    <tr>\n",
       "      <th>3</th>\n",
       "      <td>subj_1</td>\n",
       "      <td>0</td>\n",
       "      <td>0.514555</td>\n",
       "      <td>0.341404</td>\n",
       "    </tr>\n",
       "    <tr>\n",
       "      <th>4</th>\n",
       "      <td>subj_1</td>\n",
       "      <td>1</td>\n",
       "      <td>0.816294</td>\n",
       "      <td>0.430927</td>\n",
       "    </tr>\n",
       "    <tr>\n",
       "      <th>5</th>\n",
       "      <td>subj_1</td>\n",
       "      <td>0</td>\n",
       "      <td>0.143817</td>\n",
       "      <td>0.635664</td>\n",
       "    </tr>\n",
       "    <tr>\n",
       "      <th>6</th>\n",
       "      <td>subj_2</td>\n",
       "      <td>0</td>\n",
       "      <td>0.942541</td>\n",
       "      <td>0.927163</td>\n",
       "    </tr>\n",
       "    <tr>\n",
       "      <th>7</th>\n",
       "      <td>subj_2</td>\n",
       "      <td>1</td>\n",
       "      <td>0.461786</td>\n",
       "      <td>0.379725</td>\n",
       "    </tr>\n",
       "    <tr>\n",
       "      <th>8</th>\n",
       "      <td>subj_2</td>\n",
       "      <td>0</td>\n",
       "      <td>0.255295</td>\n",
       "      <td>0.007190</td>\n",
       "    </tr>\n",
       "    <tr>\n",
       "      <th>9</th>\n",
       "      <td>subj_3</td>\n",
       "      <td>0</td>\n",
       "      <td>0.368170</td>\n",
       "      <td>0.552401</td>\n",
       "    </tr>\n",
       "    <tr>\n",
       "      <th>10</th>\n",
       "      <td>subj_3</td>\n",
       "      <td>1</td>\n",
       "      <td>0.314043</td>\n",
       "      <td>0.250970</td>\n",
       "    </tr>\n",
       "    <tr>\n",
       "      <th>11</th>\n",
       "      <td>subj_3</td>\n",
       "      <td>0</td>\n",
       "      <td>0.851890</td>\n",
       "      <td>0.501345</td>\n",
       "    </tr>\n",
       "  </tbody>\n",
       "</table>\n",
       "</div>"
      ],
      "text/plain": [
       "   subject  trial_type     var_1     var_2\n",
       "0   subj_0           0  0.988801  0.993569\n",
       "1   subj_0           1  0.386011  0.529518\n",
       "2   subj_0           0  0.568554  0.396777\n",
       "3   subj_1           0  0.514555  0.341404\n",
       "4   subj_1           1  0.816294  0.430927\n",
       "5   subj_1           0  0.143817  0.635664\n",
       "6   subj_2           0  0.942541  0.927163\n",
       "7   subj_2           1  0.461786  0.379725\n",
       "8   subj_2           0  0.255295  0.007190\n",
       "9   subj_3           0  0.368170  0.552401\n",
       "10  subj_3           1  0.314043  0.250970\n",
       "11  subj_3           0  0.851890  0.501345"
      ]
     },
     "execution_count": 25,
     "metadata": {},
     "output_type": "execute_result"
    }
   ],
   "source": [
    "# Create again our trials_df (not relevant how here):\n",
    "trials_df = pd.DataFrame([dict(subject=i, trial_type=j % 2, **all_subjects_data[i][j])\n",
    "                             for i in all_subjects_data.keys()\n",
    "                             for j in range(n_repetitions)])\n",
    "\n",
    "trials_df"
   ]
  },
  {
   "cell_type": "code",
   "execution_count": 26,
   "id": "51db3773",
   "metadata": {
    "slideshow": {
     "slide_type": "subslide"
    }
   },
   "outputs": [
    {
     "data": {
      "text/html": [
       "<div>\n",
       "<style scoped>\n",
       "    .dataframe tbody tr th:only-of-type {\n",
       "        vertical-align: middle;\n",
       "    }\n",
       "\n",
       "    .dataframe tbody tr th {\n",
       "        vertical-align: top;\n",
       "    }\n",
       "\n",
       "    .dataframe thead th {\n",
       "        text-align: right;\n",
       "    }\n",
       "</style>\n",
       "<table border=\"1\" class=\"dataframe\">\n",
       "  <thead>\n",
       "    <tr style=\"text-align: right;\">\n",
       "      <th></th>\n",
       "      <th></th>\n",
       "      <th>var_1</th>\n",
       "      <th>var_2</th>\n",
       "    </tr>\n",
       "    <tr>\n",
       "      <th>subject</th>\n",
       "      <th>trial_type</th>\n",
       "      <th></th>\n",
       "      <th></th>\n",
       "    </tr>\n",
       "  </thead>\n",
       "  <tbody>\n",
       "    <tr>\n",
       "      <th rowspan=\"2\" valign=\"top\">subj_0</th>\n",
       "      <th>0</th>\n",
       "      <td>0.778677</td>\n",
       "      <td>0.695173</td>\n",
       "    </tr>\n",
       "    <tr>\n",
       "      <th>1</th>\n",
       "      <td>0.386011</td>\n",
       "      <td>0.529518</td>\n",
       "    </tr>\n",
       "    <tr>\n",
       "      <th rowspan=\"2\" valign=\"top\">subj_1</th>\n",
       "      <th>0</th>\n",
       "      <td>0.329186</td>\n",
       "      <td>0.488534</td>\n",
       "    </tr>\n",
       "    <tr>\n",
       "      <th>1</th>\n",
       "      <td>0.816294</td>\n",
       "      <td>0.430927</td>\n",
       "    </tr>\n",
       "    <tr>\n",
       "      <th rowspan=\"2\" valign=\"top\">subj_2</th>\n",
       "      <th>0</th>\n",
       "      <td>0.598918</td>\n",
       "      <td>0.467177</td>\n",
       "    </tr>\n",
       "    <tr>\n",
       "      <th>1</th>\n",
       "      <td>0.461786</td>\n",
       "      <td>0.379725</td>\n",
       "    </tr>\n",
       "    <tr>\n",
       "      <th rowspan=\"2\" valign=\"top\">subj_3</th>\n",
       "      <th>0</th>\n",
       "      <td>0.610030</td>\n",
       "      <td>0.526873</td>\n",
       "    </tr>\n",
       "    <tr>\n",
       "      <th>1</th>\n",
       "      <td>0.314043</td>\n",
       "      <td>0.250970</td>\n",
       "    </tr>\n",
       "  </tbody>\n",
       "</table>\n",
       "</div>"
      ],
      "text/plain": [
       "                       var_1     var_2\n",
       "subject trial_type                    \n",
       "subj_0  0           0.778677  0.695173\n",
       "        1           0.386011  0.529518\n",
       "subj_1  0           0.329186  0.488534\n",
       "        1           0.816294  0.430927\n",
       "subj_2  0           0.598918  0.467177\n",
       "        1           0.461786  0.379725\n",
       "subj_3  0           0.610030  0.526873\n",
       "        1           0.314043  0.250970"
      ]
     },
     "execution_count": 26,
     "metadata": {},
     "output_type": "execute_result"
    }
   ],
   "source": [
    "trial_subj_avg = trials_df.groupby([\"subject\", \"trial_type\"]).mean()\n",
    "trial_subj_avg"
   ]
  },
  {
   "cell_type": "code",
   "execution_count": 28,
   "id": "f239401e",
   "metadata": {},
   "outputs": [
    {
     "data": {
      "text/html": [
       "<div>\n",
       "<style scoped>\n",
       "    .dataframe tbody tr th:only-of-type {\n",
       "        vertical-align: middle;\n",
       "    }\n",
       "\n",
       "    .dataframe tbody tr th {\n",
       "        vertical-align: top;\n",
       "    }\n",
       "\n",
       "    .dataframe thead th {\n",
       "        text-align: right;\n",
       "    }\n",
       "</style>\n",
       "<table border=\"1\" class=\"dataframe\">\n",
       "  <thead>\n",
       "    <tr style=\"text-align: right;\">\n",
       "      <th></th>\n",
       "      <th></th>\n",
       "      <th>var_1</th>\n",
       "      <th>var_2</th>\n",
       "    </tr>\n",
       "    <tr>\n",
       "      <th>subject</th>\n",
       "      <th>trial_type</th>\n",
       "      <th></th>\n",
       "      <th></th>\n",
       "    </tr>\n",
       "  </thead>\n",
       "  <tbody>\n",
       "    <tr>\n",
       "      <th rowspan=\"3\" valign=\"top\">subj_0</th>\n",
       "      <th>0</th>\n",
       "      <td>0.210124</td>\n",
       "      <td>0.298396</td>\n",
       "    </tr>\n",
       "    <tr>\n",
       "      <th>0</th>\n",
       "      <td>-0.210124</td>\n",
       "      <td>-0.298396</td>\n",
       "    </tr>\n",
       "    <tr>\n",
       "      <th>1</th>\n",
       "      <td>0.000000</td>\n",
       "      <td>0.000000</td>\n",
       "    </tr>\n",
       "    <tr>\n",
       "      <th rowspan=\"3\" valign=\"top\">subj_1</th>\n",
       "      <th>0</th>\n",
       "      <td>0.185369</td>\n",
       "      <td>-0.147130</td>\n",
       "    </tr>\n",
       "    <tr>\n",
       "      <th>0</th>\n",
       "      <td>-0.185369</td>\n",
       "      <td>0.147130</td>\n",
       "    </tr>\n",
       "    <tr>\n",
       "      <th>1</th>\n",
       "      <td>0.000000</td>\n",
       "      <td>0.000000</td>\n",
       "    </tr>\n",
       "    <tr>\n",
       "      <th rowspan=\"3\" valign=\"top\">subj_2</th>\n",
       "      <th>0</th>\n",
       "      <td>0.343623</td>\n",
       "      <td>0.459986</td>\n",
       "    </tr>\n",
       "    <tr>\n",
       "      <th>0</th>\n",
       "      <td>-0.343623</td>\n",
       "      <td>-0.459986</td>\n",
       "    </tr>\n",
       "    <tr>\n",
       "      <th>1</th>\n",
       "      <td>0.000000</td>\n",
       "      <td>0.000000</td>\n",
       "    </tr>\n",
       "    <tr>\n",
       "      <th rowspan=\"3\" valign=\"top\">subj_3</th>\n",
       "      <th>0</th>\n",
       "      <td>-0.241860</td>\n",
       "      <td>0.025528</td>\n",
       "    </tr>\n",
       "    <tr>\n",
       "      <th>0</th>\n",
       "      <td>0.241860</td>\n",
       "      <td>-0.025528</td>\n",
       "    </tr>\n",
       "    <tr>\n",
       "      <th>1</th>\n",
       "      <td>0.000000</td>\n",
       "      <td>0.000000</td>\n",
       "    </tr>\n",
       "  </tbody>\n",
       "</table>\n",
       "</div>"
      ],
      "text/plain": [
       "                       var_1     var_2\n",
       "subject trial_type                    \n",
       "subj_0  0           0.210124  0.298396\n",
       "        0          -0.210124 -0.298396\n",
       "        1           0.000000  0.000000\n",
       "subj_1  0           0.185369 -0.147130\n",
       "        0          -0.185369  0.147130\n",
       "        1           0.000000  0.000000\n",
       "subj_2  0           0.343623  0.459986\n",
       "        0          -0.343623 -0.459986\n",
       "        1           0.000000  0.000000\n",
       "subj_3  0          -0.241860  0.025528\n",
       "        0           0.241860 -0.025528\n",
       "        1           0.000000  0.000000"
      ]
     },
     "execution_count": 28,
     "metadata": {},
     "output_type": "execute_result"
    }
   ],
   "source": [
    "trials_df.set_index([\"subject\", \"trial_type\"]) - trial_subj_avg"
   ]
  },
  {
   "cell_type": "markdown",
   "id": "486a58d6",
   "metadata": {
    "slideshow": {
     "slide_type": "slide"
    }
   },
   "source": [
    "(Practicals 1.3.1)"
   ]
  },
  {
   "cell_type": "markdown",
   "id": "4a83dc66",
   "metadata": {
    "slideshow": {
     "slide_type": "subslide"
    }
   },
   "source": [
    "## (bonus) Rolling functions with `.rolling()`"
   ]
  },
  {
   "cell_type": "markdown",
   "id": "f0113fee",
   "metadata": {
    "slideshow": {
     "slide_type": "fragment"
    }
   },
   "source": [
    "Imagine we have a time series of data, and we want to compute the mean over a window of time (e.g., for smoothing)."
   ]
  },
  {
   "cell_type": "code",
   "execution_count": null,
   "id": "f7dacf7b",
   "metadata": {
    "ExecuteTime": {
     "end_time": "2023-05-17T23:06:19.171392Z",
     "start_time": "2023-05-17T23:06:19.167368Z"
    },
    "slideshow": {
     "slide_type": "-"
    }
   },
   "outputs": [],
   "source": [
    "# Let's create a time series:\n",
    "time_series = pd.Series(np.random.rand(100))"
   ]
  },
  {
   "cell_type": "code",
   "execution_count": null,
   "id": "0168f7e8",
   "metadata": {
    "slideshow": {
     "slide_type": "subslide"
    }
   },
   "outputs": [],
   "source": [
    "# This will compute the mean in a rolling window - ie, smoothing it!\n",
    "rolling_wnd_size = 10\n",
    "smoothed = time_series.rolling(rolling_wnd_size, center=True).mean()"
   ]
  },
  {
   "cell_type": "code",
   "execution_count": null,
   "id": "2f62c490",
   "metadata": {
    "ExecuteTime": {
     "end_time": "2023-05-17T23:08:41.321181Z",
     "start_time": "2023-05-17T23:08:41.226305Z"
    },
    "slideshow": {
     "slide_type": "subslide"
    }
   },
   "outputs": [],
   "source": [
    "time_series.plot()\n",
    "smoothed.plot()"
   ]
  },
  {
   "cell_type": "markdown",
   "id": "b4f8f837",
   "metadata": {},
   "source": [
    "When done with averaging, same results as other smoothing tools"
   ]
  },
  {
   "cell_type": "markdown",
   "id": "c72dc763",
   "metadata": {},
   "source": [
    "But now we can use arbitrary functions! (standard deviation, significance tests, etc)"
   ]
  },
  {
   "cell_type": "markdown",
   "id": "629c086c",
   "metadata": {
    "slideshow": {
     "slide_type": "slide"
    }
   },
   "source": [
    "(Practicals 1.3.2)"
   ]
  },
  {
   "cell_type": "code",
   "execution_count": null,
   "id": "3ec7eed6",
   "metadata": {},
   "outputs": [],
   "source": []
  }
 ],
 "metadata": {
  "celltoolbar": "Slideshow",
  "kernelspec": {
   "display_name": "Python [conda env:course_env]",
   "language": "python",
   "name": "conda-env-course_env-py"
  },
  "language_info": {
   "codemirror_mode": {
    "name": "ipython",
    "version": 3
   },
   "file_extension": ".py",
   "mimetype": "text/x-python",
   "name": "python",
   "nbconvert_exporter": "python",
   "pygments_lexer": "ipython3",
   "version": "3.9.16"
  }
 },
 "nbformat": 4,
 "nbformat_minor": 5
}
