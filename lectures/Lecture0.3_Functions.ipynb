{
 "cells": [
  {
   "cell_type": "markdown",
   "id": "3ca811a3",
   "metadata": {},
   "source": [
    "# Python for (open) Neuroscience\n",
    "\n",
    "_Lecture 0.3_ - Functions\n",
    "\n",
    "Luigi Petrucco\n",
    "\n",
    "Jean-Charles Mariani"
   ]
  },
  {
   "cell_type": "markdown",
   "id": "67120cb3",
   "metadata": {
    "slideshow": {
     "slide_type": "subslide"
    }
   },
   "source": [
    "### `while`"
   ]
  },
  {
   "cell_type": "markdown",
   "id": "b358df84",
   "metadata": {},
   "source": [
    "With `while` we can keep repeating code until one condition is met instead of a fixed number of times, (like we do  when we use `for`)"
   ]
  },
  {
   "cell_type": "code",
   "execution_count": 24,
   "id": "b759daf8",
   "metadata": {
    "slideshow": {
     "slide_type": "subslide"
    }
   },
   "outputs": [
    {
     "name": "stdout",
     "output_type": "stream",
     "text": [
      "Value of i:  0\n",
      "Value of i:  1\n",
      "Value of i:  2\n",
      "Value of i:  3\n",
      "Value of i:  4\n",
      "Value of i:  5\n",
      "Value of i:  6\n",
      "Value of i:  7\n",
      "Value of i:  8\n",
      "Value of i:  9\n"
     ]
    }
   ],
   "source": [
    "# Very simple example that would normally be a for loop:\n",
    "\n",
    "i = 0\n",
    "while i < 10:\n",
    "    print(\"Value of i: \", i)\n",
    "    i += 1"
   ]
  },
  {
   "cell_type": "code",
   "execution_count": 22,
   "id": "65109c7d",
   "metadata": {
    "slideshow": {
     "slide_type": "subslide"
    }
   },
   "outputs": [
    {
     "name": "stdout",
     "output_type": "stream",
     "text": [
      "Flip:  0\n",
      "Flip:  1\n"
     ]
    }
   ],
   "source": [
    "# a better example with random. Loop until coin flip is 1\n",
    "import random\n",
    "\n",
    "coin_flip = 0\n",
    "while coin_flip == 0:\n",
    "    coin_flip = random.randint(0, 1)\n",
    "    print(\"Flip: \", coin_flip)"
   ]
  },
  {
   "cell_type": "markdown",
   "id": "e3fbba40",
   "metadata": {
    "slideshow": {
     "slide_type": "subslide"
    }
   },
   "source": [
    "#### `break`"
   ]
  },
  {
   "cell_type": "markdown",
   "id": "58f64232",
   "metadata": {},
   "source": [
    "We can `break` out of a loop:"
   ]
  },
  {
   "cell_type": "code",
   "execution_count": null,
   "id": "1ae5a83f",
   "metadata": {},
   "outputs": [],
   "source": [
    "i = 0\n",
    "\n",
    "while True:\n",
    "    if i == 8:\n",
    "        break\n",
    "    print(i)\n",
    "    i = i + 1"
   ]
  },
  {
   "cell_type": "markdown",
   "id": "f3e81e9c",
   "metadata": {
    "slideshow": {
     "slide_type": "subslide"
    }
   },
   "source": [
    "#### `continue`"
   ]
  },
  {
   "cell_type": "markdown",
   "id": "1049b6c9",
   "metadata": {},
   "source": [
    "we can `continue` to next iteration:"
   ]
  },
  {
   "cell_type": "code",
   "execution_count": 25,
   "id": "b245fce6",
   "metadata": {},
   "outputs": [
    {
     "name": "stdout",
     "output_type": "stream",
     "text": [
      "0\n",
      "1\n",
      "3\n"
     ]
    }
   ],
   "source": [
    "for i in range(4):\n",
    "    if i == 2:\n",
    "        continue\n",
    "    print(i)"
   ]
  },
  {
   "cell_type": "markdown",
   "id": "df5207db",
   "metadata": {
    "slideshow": {
     "slide_type": "subslide"
    }
   },
   "source": [
    "## A special variable type I forgot: `None`"
   ]
  },
  {
   "cell_type": "markdown",
   "id": "acc5bae7",
   "metadata": {},
   "source": [
    "If a variable is `None` no value is assigned to it!"
   ]
  },
  {
   "cell_type": "code",
   "execution_count": null,
   "id": "aeefaab6",
   "metadata": {},
   "outputs": [],
   "source": [
    "a = None\n",
    "print(a)"
   ]
  },
  {
   "cell_type": "markdown",
   "id": "7423325f",
   "metadata": {
    "slideshow": {
     "slide_type": "subslide"
    }
   },
   "source": [
    "`None` is different from `0`, `False`, or empty string `\"\"`"
   ]
  },
  {
   "cell_type": "code",
   "execution_count": 22,
   "id": "a13ab702",
   "metadata": {},
   "outputs": [
    {
     "data": {
      "text/plain": [
       "False"
      ]
     },
     "execution_count": 22,
     "metadata": {},
     "output_type": "execute_result"
    }
   ],
   "source": [
    "a = None\n",
    "a == 0"
   ]
  },
  {
   "cell_type": "code",
   "execution_count": 23,
   "id": "9cf5c4bb",
   "metadata": {},
   "outputs": [
    {
     "data": {
      "text/plain": [
       "False"
      ]
     },
     "execution_count": 23,
     "metadata": {},
     "output_type": "execute_result"
    }
   ],
   "source": [
    "a == False"
   ]
  },
  {
   "cell_type": "markdown",
   "id": "767a7a3d",
   "metadata": {
    "slideshow": {
     "slide_type": "subslide"
    }
   },
   "source": [
    "## Check if `None`"
   ]
  },
  {
   "cell_type": "markdown",
   "id": "58318943",
   "metadata": {
    "slideshow": {
     "slide_type": "subslide"
    }
   },
   "source": [
    "The correct comparison to check if something is `None` is `is`, not `==`"
   ]
  },
  {
   "cell_type": "code",
   "execution_count": 6,
   "id": "5e4c6345",
   "metadata": {
    "slideshow": {
     "slide_type": "subslide"
    }
   },
   "outputs": [],
   "source": [
    "x = None"
   ]
  },
  {
   "cell_type": "markdown",
   "id": "f8b6d6ac",
   "metadata": {
    "slideshow": {
     "slide_type": "subslide"
    }
   },
   "source": [
    "The correct comparison for None is `is`:"
   ]
  },
  {
   "cell_type": "code",
   "execution_count": 7,
   "id": "f6bb4f7f",
   "metadata": {},
   "outputs": [
    {
     "data": {
      "text/plain": [
       "True"
      ]
     },
     "execution_count": 7,
     "metadata": {},
     "output_type": "execute_result"
    }
   ],
   "source": [
    "x is None  # way to go"
   ]
  },
  {
   "cell_type": "code",
   "execution_count": 8,
   "id": "8ba5da21",
   "metadata": {},
   "outputs": [
    {
     "data": {
      "text/plain": [
       "False"
      ]
     },
     "execution_count": 8,
     "metadata": {},
     "output_type": "execute_result"
    }
   ],
   "source": [
    "x is not None  # also way to go"
   ]
  },
  {
   "cell_type": "code",
   "execution_count": 9,
   "id": "437d7276",
   "metadata": {},
   "outputs": [
    {
     "data": {
      "text/plain": [
       "True"
      ]
     },
     "execution_count": 9,
     "metadata": {},
     "output_type": "execute_result"
    }
   ],
   "source": [
    "x == None  # this will (mostly) work, but it is not the way to go - we'll see why"
   ]
  },
  {
   "cell_type": "markdown",
   "id": "cc2aa9f9",
   "metadata": {},
   "source": [
    "(Practicals 0.3.0)"
   ]
  },
  {
   "cell_type": "markdown",
   "id": "5ca5eb5d",
   "metadata": {},
   "source": [
    "## Reading errors"
   ]
  },
  {
   "cell_type": "markdown",
   "id": "b2ff56da",
   "metadata": {},
   "source": [
    "Python error messages can sometimes be informative (sometimes)."
   ]
  },
  {
   "cell_type": "markdown",
   "id": "4ac91a74",
   "metadata": {
    "slideshow": {
     "slide_type": "subslide"
    }
   },
   "source": [
    "## How to read error messages"
   ]
  },
  {
   "cell_type": "markdown",
   "id": "bac376cb",
   "metadata": {},
   "source": [
    "Error messages contain information about the code that was running when we got the issue - the so called <span style=\"color:indianred\">traceback</span>"
   ]
  },
  {
   "cell_type": "markdown",
   "id": "07209b14",
   "metadata": {},
   "source": [
    "<p align=\"center\">\n",
    "  <img src=\"./files/python_traceback_2.b27a4eb060a8.png\" />\n",
    "</p>"
   ]
  },
  {
   "cell_type": "markdown",
   "id": "4466627f",
   "metadata": {},
   "source": [
    "([source](https://www.google.com/url?sa=i&url=https%3A%2F%2Frealpython.com%2Fpython-traceback%2F&psig=AOvVaw0wTv9SSwmjCbWsFCTSqi1E&ust=1709943032292000&source=images&cd=vfe&opi=89978449&ved=2ahUKEwikhb2psOOEAxXN_7sIHQSUC8IQ3YkBegQIABAY) of the image and more on traceback interpretation)"
   ]
  },
  {
   "cell_type": "markdown",
   "id": "44acc438",
   "metadata": {
    "slideshow": {
     "slide_type": "subslide"
    }
   },
   "source": [
    "In simple code with no dependencies, the traceback will be very small and interpretable:"
   ]
  },
  {
   "cell_type": "code",
   "execution_count": 19,
   "id": "0216d514",
   "metadata": {},
   "outputs": [
    {
     "ename": "KeyError",
     "evalue": "'c'",
     "output_type": "error",
     "traceback": [
      "\u001b[0;31m---------------------------------------------------------------------------\u001b[0m",
      "\u001b[0;31mKeyError\u001b[0m                                  Traceback (most recent call last)",
      "Cell \u001b[0;32mIn[19], line 2\u001b[0m\n\u001b[1;32m      1\u001b[0m a_dict \u001b[38;5;241m=\u001b[39m {\u001b[38;5;124m\"\u001b[39m\u001b[38;5;124ma\u001b[39m\u001b[38;5;124m\"\u001b[39m: \u001b[38;5;241m1\u001b[39m, \u001b[38;5;124m\"\u001b[39m\u001b[38;5;124mb\u001b[39m\u001b[38;5;124m\"\u001b[39m: \u001b[38;5;241m2\u001b[39m}\n\u001b[0;32m----> 2\u001b[0m \u001b[43ma_dict\u001b[49m\u001b[43m[\u001b[49m\u001b[38;5;124;43m\"\u001b[39;49m\u001b[38;5;124;43mc\u001b[39;49m\u001b[38;5;124;43m\"\u001b[39;49m\u001b[43m]\u001b[49m\n",
      "\u001b[0;31mKeyError\u001b[0m: 'c'"
     ]
    }
   ],
   "source": [
    "a_dict = {\"a\": 1, \"b\": 2}\n",
    "a_dict[\"c\"]"
   ]
  },
  {
   "cell_type": "markdown",
   "id": "b633b7fb",
   "metadata": {
    "slideshow": {
     "slide_type": "subslide"
    }
   },
   "source": [
    "If we use functions and libraries, the traceback grows in length, and we need to know how to read it!"
   ]
  },
  {
   "cell_type": "code",
   "execution_count": 21,
   "id": "9592f479",
   "metadata": {},
   "outputs": [
    {
     "ename": "TypeError",
     "evalue": "can only concatenate str (not \"int\") to str",
     "output_type": "error",
     "traceback": [
      "\u001b[0;31m---------------------------------------------------------------------------\u001b[0m",
      "\u001b[0;31mTypeError\u001b[0m                                 Traceback (most recent call last)",
      "Cell \u001b[0;32mIn[21], line 3\u001b[0m\n\u001b[1;32m      1\u001b[0m \u001b[38;5;28;01mimport\u001b[39;00m \u001b[38;5;21;01mrandom\u001b[39;00m\n\u001b[0;32m----> 3\u001b[0m \u001b[43mrandom\u001b[49m\u001b[38;5;241;43m.\u001b[39;49m\u001b[43mrandint\u001b[49m\u001b[43m(\u001b[49m\u001b[38;5;241;43m0\u001b[39;49m\u001b[43m,\u001b[49m\u001b[43m \u001b[49m\u001b[38;5;124;43m\"\u001b[39;49m\u001b[38;5;124;43ma\u001b[39;49m\u001b[38;5;124;43m\"\u001b[39;49m\u001b[43m)\u001b[49m\n",
      "File \u001b[0;32m~/miniconda3/lib/python3.11/random.py:362\u001b[0m, in \u001b[0;36mRandom.randint\u001b[0;34m(self, a, b)\u001b[0m\n\u001b[1;32m    358\u001b[0m \u001b[38;5;28;01mdef\u001b[39;00m \u001b[38;5;21mrandint\u001b[39m(\u001b[38;5;28mself\u001b[39m, a, b):\n\u001b[1;32m    359\u001b[0m \u001b[38;5;250m    \u001b[39m\u001b[38;5;124;03m\"\"\"Return random integer in range [a, b], including both end points.\u001b[39;00m\n\u001b[1;32m    360\u001b[0m \u001b[38;5;124;03m    \"\"\"\u001b[39;00m\n\u001b[0;32m--> 362\u001b[0m     \u001b[38;5;28;01mreturn\u001b[39;00m \u001b[38;5;28mself\u001b[39m\u001b[38;5;241m.\u001b[39mrandrange(a, \u001b[43mb\u001b[49m\u001b[38;5;241;43m+\u001b[39;49m\u001b[38;5;241;43m1\u001b[39;49m)\n",
      "\u001b[0;31mTypeError\u001b[0m: can only concatenate str (not \"int\") to str"
     ]
    }
   ],
   "source": [
    "import random\n",
    "\n",
    "random.randint(0, \"a\")"
   ]
  },
  {
   "cell_type": "markdown",
   "id": "36f0fb13",
   "metadata": {
    "slideshow": {
     "slide_type": "subslide"
    }
   },
   "source": [
    "### Why errors can be tricky\n",
    "\n",
    "Many times, the ultimate problematic line that produces the error is the symptom of mistakes that happened upstream in the code (still, it is a good starting point for the diagnosis!)"
   ]
  },
  {
   "cell_type": "code",
   "execution_count": 10,
   "id": "6e0ba7b3",
   "metadata": {
    "slideshow": {
     "slide_type": "subslide"
    }
   },
   "outputs": [
    {
     "ename": "NameError",
     "evalue": "name 'non_existent_variable' is not defined",
     "output_type": "error",
     "traceback": [
      "\u001b[0;31m---------------------------------------------------------------------------\u001b[0m",
      "\u001b[0;31mNameError\u001b[0m                                 Traceback (most recent call last)",
      "Cell \u001b[0;32mIn[10], line 1\u001b[0m\n\u001b[0;32m----> 1\u001b[0m \u001b[38;5;28mprint\u001b[39m(\u001b[43mnon_existent_variable\u001b[49m)\n",
      "\u001b[0;31mNameError\u001b[0m: name 'non_existent_variable' is not defined"
     ]
    }
   ],
   "source": [
    "# Simple: the variable just does not exist:\n",
    "print(non_existent_variable)"
   ]
  },
  {
   "cell_type": "code",
   "execution_count": 11,
   "id": "4f405f0c",
   "metadata": {
    "slideshow": {
     "slide_type": "subslide"
    }
   },
   "outputs": [
    {
     "ename": "NameError",
     "evalue": "name 'supposedly_existent_variable' is not defined",
     "output_type": "error",
     "traceback": [
      "\u001b[0;31m---------------------------------------------------------------------------\u001b[0m",
      "\u001b[0;31mNameError\u001b[0m                                 Traceback (most recent call last)",
      "Cell \u001b[0;32mIn[11], line 3\u001b[0m\n\u001b[1;32m      1\u001b[0m \u001b[38;5;66;03m# Subtle: we just have a typo:\u001b[39;00m\n\u001b[1;32m      2\u001b[0m supposedy_existent_variable \u001b[38;5;241m=\u001b[39m \u001b[38;5;241m1\u001b[39m\n\u001b[0;32m----> 3\u001b[0m \u001b[38;5;28mprint\u001b[39m(\u001b[43msupposedly_existent_variable\u001b[49m)\n",
      "\u001b[0;31mNameError\u001b[0m: name 'supposedly_existent_variable' is not defined"
     ]
    }
   ],
   "source": [
    "# Subtle: we just have a typo\n",
    "supposedy_existent_variable = 1\n",
    "print(supposedly_existent_variable)"
   ]
  },
  {
   "cell_type": "code",
   "execution_count": 13,
   "id": "239db948",
   "metadata": {
    "slideshow": {
     "slide_type": "subslide"
    }
   },
   "outputs": [
    {
     "ename": "NameError",
     "evalue": "name 'supposedly_existent_variable' is not defined",
     "output_type": "error",
     "traceback": [
      "\u001b[0;31m---------------------------------------------------------------------------\u001b[0m",
      "\u001b[0;31mNameError\u001b[0m                                 Traceback (most recent call last)",
      "Cell \u001b[0;32mIn[13], line 5\u001b[0m\n\u001b[1;32m      3\u001b[0m \u001b[38;5;28;01mif\u001b[39;00m a \u001b[38;5;129;01mis\u001b[39;00m \u001b[38;5;28;01mNone\u001b[39;00m:\n\u001b[1;32m      4\u001b[0m     supposedly_existent_variable \u001b[38;5;241m=\u001b[39m \u001b[38;5;241m1\u001b[39m\n\u001b[0;32m----> 5\u001b[0m \u001b[38;5;28mprint\u001b[39m(\u001b[43msupposedly_existent_variable\u001b[49m)\n",
      "\u001b[0;31mNameError\u001b[0m: name 'supposedly_existent_variable' is not defined"
     ]
    }
   ],
   "source": [
    "# Indirect: code we rely upon was not executed:\n",
    "a = 10\n",
    "if a is None:\n",
    "    supposedly_existent_variable = 1\n",
    "print(supposedly_existent_variable)"
   ]
  },
  {
   "cell_type": "markdown",
   "id": "aff2b94a",
   "metadata": {
    "slideshow": {
     "slide_type": "subslide"
    }
   },
   "source": [
    "### Very important: how to approach errors\n",
    "\n",
    "When learning how to code, you spend most of your time fixing bugs, and that is normal!\n",
    "\n",
    "Make sure you always keep in mind errors are The Way To Learn Stuff\n",
    "\n",
    "Here's some useful principles to keep in mind:"
   ]
  },
  {
   "cell_type": "markdown",
   "id": "cc4a605e",
   "metadata": {
    "slideshow": {
     "slide_type": "subslide"
    }
   },
   "source": [
    "<p align=\"center\">\n",
    "  <img src=\"./files/errors_0.png\" />\n",
    "</p>"
   ]
  },
  {
   "cell_type": "markdown",
   "id": "d8c30fc6",
   "metadata": {
    "slideshow": {
     "slide_type": "subslide"
    }
   },
   "source": [
    "<p align=\"center\">\n",
    "  <img src=\"./files/errors_1.png\" />\n",
    "</p>"
   ]
  },
  {
   "cell_type": "markdown",
   "id": "3878a761",
   "metadata": {
    "slideshow": {
     "slide_type": "subslide"
    }
   },
   "source": [
    "<p align=\"center\">\n",
    "  <img src=\"./files/errors_2.png\" />\n",
    "</p>"
   ]
  },
  {
   "cell_type": "markdown",
   "id": "37be4b27",
   "metadata": {
    "slideshow": {
     "slide_type": "subslide"
    }
   },
   "source": [
    "<p align=\"center\">\n",
    "  <img src=\"./files/errors_3.png\" />\n",
    "</p>"
   ]
  },
  {
   "cell_type": "markdown",
   "id": "23bfe2ab",
   "metadata": {},
   "source": [
    "(Comics [source](https://jvns.ca/blog/2022/12/08/a-debugging-manifesto/))\n",
    "\n",
    "(also, the [ultimate](https://xkcd.com/1024/) suggestion for error code management)"
   ]
  },
  {
   "cell_type": "markdown",
   "id": "00e0bad3",
   "metadata": {
    "slideshow": {
     "slide_type": "slide"
    }
   },
   "source": [
    "## Functions"
   ]
  },
  {
   "cell_type": "markdown",
   "id": "acb8c43d",
   "metadata": {},
   "source": [
    "A function is a re-usable piece of code that performs operations on a specified set of variables, and returns the result."
   ]
  },
  {
   "cell_type": "markdown",
   "id": "99b2f110",
   "metadata": {},
   "source": [
    "Every time you are duplicating a bunch of code you might need a function!"
   ]
  },
  {
   "cell_type": "code",
   "execution_count": null,
   "id": "ca2f9276",
   "metadata": {},
   "outputs": [],
   "source": [
    "# let's calculate the mean of those values:\n",
    "list_1 = [1, 2, 3, 4]\n",
    "list_2 = [4, 5, 6, 7]\n",
    "\n",
    "mean_1 = sum(list_1) / len(list_1)\n",
    "mean_2 = sum(list_2) / len(list_2)"
   ]
  },
  {
   "cell_type": "markdown",
   "id": "38443603",
   "metadata": {},
   "source": [
    "### Anatomy of a function"
   ]
  },
  {
   "cell_type": "code",
   "execution_count": null,
   "id": "642f4dd5",
   "metadata": {},
   "outputs": [],
   "source": [
    "def list_average(input_list):\n",
    "    \"\"\"Compute the average of values in a list\"\"\"\n",
    "\n",
    "    mean = sum(input_list) / len(input_list)\n",
    "\n",
    "    return mean\n",
    "\n",
    "\n",
    "mean_1 = list_average(list_1)\n",
    "print(mean_1)"
   ]
  },
  {
   "cell_type": "markdown",
   "id": "075254e3",
   "metadata": {},
   "source": [
    "**A function definition has**:\n",
    "  - a <span style=\"color:indianred\">name</span> that describes it, that we use to call it in the code (followed by `()`)\n",
    "  - <span style=\"color:indianred\">arguments</span> that we pass between the round brackets\n",
    "  -  <span style=\"color:indianred\">`return`ed values</span> that we can assign to new variables\n",
    "  - (optional but strongly recommended): a <span style=\"color:indianred\">docstring</span> (a docuentation string)"
   ]
  },
  {
   "cell_type": "markdown",
   "id": "68012f3d",
   "metadata": {},
   "source": [
    "### Arguments of a function"
   ]
  },
  {
   "cell_type": "markdown",
   "id": "1a0d1c55",
   "metadata": {},
   "source": [
    "A function can have multiple input values:"
   ]
  },
  {
   "cell_type": "code",
   "execution_count": 1,
   "id": "270f40e1",
   "metadata": {},
   "outputs": [
    {
     "data": {
      "text/plain": [
       "8"
      ]
     },
     "execution_count": 1,
     "metadata": {},
     "output_type": "execute_result"
    }
   ],
   "source": [
    "# write a function that print the exponentiation of a number by the other:\n",
    "\n",
    "def exponentiate(a, b):\n",
    "    return a**b\n",
    "\n",
    "\n",
    "c = 2\n",
    "d = 3\n",
    "exponentiate(c, d)"
   ]
  },
  {
   "cell_type": "markdown",
   "id": "d99cc4a5",
   "metadata": {},
   "source": [
    "We can pass the function values:\n",
    "  - by position (positional arguments)\n",
    "  - by keyword  (keyword arguments)\n",
    "  \n",
    " Positional arguments should precede keyword arguments!"
   ]
  },
  {
   "cell_type": "code",
   "execution_count": null,
   "id": "434a101f",
   "metadata": {},
   "outputs": [],
   "source": [
    "def print_args(a, b, c):\n",
    "    print(f\"a={a}, b={b}, c={c}\")\n",
    "\n",
    "\n",
    "# try passing stuff by position:\n",
    "print_args(1, 2, 3)\n",
    "\n",
    "# try passing stuff by keyword:\n",
    "print_args(c=1, a=2, b=3)"
   ]
  },
  {
   "cell_type": "markdown",
   "id": "b7d4c09d",
   "metadata": {},
   "source": [
    "Some of the function arguments can have default values (even default values can be passed by position, although they normally are not!)"
   ]
  },
  {
   "cell_type": "code",
   "execution_count": null,
   "id": "1b2aafcc",
   "metadata": {},
   "outputs": [],
   "source": [
    "# A function with default values:\n",
    "\n",
    "\n",
    "def print_args(a, b, c=3):\n",
    "    print(f\"a={a}, b={b}, c={c}\")\n",
    "\n",
    "\n",
    "print_args(1, 2)"
   ]
  },
  {
   "cell_type": "markdown",
   "id": "437e7d3d",
   "metadata": {},
   "source": [
    "### The principle of duck typing"
   ]
  },
  {
   "cell_type": "markdown",
   "id": "6c178eca",
   "metadata": {},
   "source": [
    "The duck test:\n",
    "\n",
    "    🦆 If it walks like a duck \n",
    "    and it quacks like a duck, \n",
    "    then it's probably a duck 🦆"
   ]
  },
  {
   "cell_type": "markdown",
   "id": "dc84e85c",
   "metadata": {},
   "source": [
    "<p align=\"center\">\n",
    "  <img src=\"./files/duck_typing.png\" />\n",
    "</p>\n"
   ]
  },
  {
   "cell_type": "markdown",
   "id": "58ed67ff",
   "metadata": {
    "slideshow": {
     "slide_type": "subslide"
    }
   },
   "source": [
    "Unless we specifically implement type checks, a function will not control for the type of the inputs!"
   ]
  },
  {
   "cell_type": "code",
   "execution_count": 22,
   "id": "fee83430",
   "metadata": {
    "slideshow": {
     "slide_type": "subslide"
    }
   },
   "outputs": [
    {
     "name": "stdout",
     "output_type": "stream",
     "text": [
      "Input: 2; result: 4\n",
      "Input: 2; result: 22\n"
     ]
    }
   ],
   "source": [
    "# This will run the function and produce unexpected\n",
    "# results with the wrong input type, without giving errors:\n",
    "def multiply_numbers(input_number):\n",
    "    return input_number * 2\n",
    "\n",
    "# Test different inputs to the function:\n",
    "for input_to_test in [2, \"2\"]:\n",
    "    print(f\"Input: {input_to_test}; result: {multiply_numbers(input_to_test)}\")"
   ]
  },
  {
   "cell_type": "markdown",
   "id": "3d20ccc0",
   "metadata": {},
   "source": [
    "### Type hints"
   ]
  },
  {
   "cell_type": "markdown",
   "id": "0c928570",
   "metadata": {},
   "source": [
    "In modern python there are ways of suggesting the best type for a function's argument."
   ]
  },
  {
   "cell_type": "code",
   "execution_count": null,
   "id": "54ebc51e",
   "metadata": {},
   "outputs": [],
   "source": [
    "def repeat_string(string: str, num: int = 5) -> str:\n",
    "    \"\"\"Repeat a string num times.\"\"\"\n",
    "    return string * num"
   ]
  },
  {
   "cell_type": "markdown",
   "id": "127d0f71",
   "metadata": {},
   "source": [
    "In this way, smart IDEs can tell us when we code if there is something strange, and type checkers can be run on code to make sure functions are called with the correct inputs."
   ]
  },
  {
   "cell_type": "markdown",
   "id": "b0d97d17",
   "metadata": {},
   "source": [
    "We will not be using them in this course, but you might encouter this syntax in Properly Written Code™️. Feel free to read into them for more advanced projects!"
   ]
  },
  {
   "cell_type": "markdown",
   "id": "fbf8fc87",
   "metadata": {},
   "source": [
    "### Values returned by a function"
   ]
  },
  {
   "cell_type": "markdown",
   "id": "ea12bb38",
   "metadata": {},
   "source": [
    "We return values using the special `return` keyword:"
   ]
  },
  {
   "cell_type": "code",
   "execution_count": null,
   "id": "fa70e441",
   "metadata": {},
   "outputs": [],
   "source": [
    "def empty_function():\n",
    "    return 1\n",
    "\n",
    "\n",
    "result = (\n",
    "    empty_function()\n",
    ")  # call the function and assign the returned value to a variable"
   ]
  },
  {
   "cell_type": "markdown",
   "id": "80f78d55",
   "metadata": {},
   "source": [
    "Functions always have a `return` even when we don't see it! \n",
    "\n",
    "If we do not specify it (as we should), it is `None`."
   ]
  },
  {
   "cell_type": "code",
   "execution_count": null,
   "id": "b0b750ae",
   "metadata": {},
   "outputs": [],
   "source": [
    "# Those two functions return the same value:\n",
    "def print_function_1():\n",
    "    print(\"I am printing this and not returning any value\")\n",
    "\n",
    "\n",
    "def print_function_2():\n",
    "    print(\"I am printing this and not returning any value\")\n",
    "    return None\n",
    "\n",
    "\n",
    "print(print_function_1(), print_function_2())"
   ]
  },
  {
   "cell_type": "markdown",
   "id": "5fe6749d",
   "metadata": {},
   "source": [
    "### Name of the function"
   ]
  },
  {
   "cell_type": "markdown",
   "id": "83cad83f",
   "metadata": {},
   "source": [
    "Always use the `lowercase_underscore()` syntax that we use for variables."
   ]
  },
  {
   "cell_type": "markdown",
   "id": "092a74fd",
   "metadata": {},
   "source": [
    "Use names that describe the main aim of the function!"
   ]
  },
  {
   "cell_type": "code",
   "execution_count": null,
   "id": "2497c7c5",
   "metadata": {},
   "outputs": [],
   "source": [
    "def average():  # good\n",
    "    pass\n",
    "\n",
    "\n",
    "def foo():  # bad\n",
    "    pass"
   ]
  },
  {
   "cell_type": "markdown",
   "id": "e6725c24",
   "metadata": {},
   "source": [
    "Using function names, you can treat them as variables of any kind.\n",
    "\n",
    "_E.g._ you can create lists or dictionaries of functions! "
   ]
  },
  {
   "cell_type": "code",
   "execution_count": null,
   "id": "c9642772",
   "metadata": {},
   "outputs": [],
   "source": [
    "def multiply_numbers(x, y):\n",
    "    return x * y\n",
    "\n",
    "\n",
    "def add_numbers(x, y):\n",
    "    return x + y\n",
    "\n",
    "\n",
    "function_dict = {\"multiply\": multiply_numbers, \"add\": add_numbers}"
   ]
  },
  {
   "cell_type": "markdown",
   "id": "57c1e217",
   "metadata": {},
   "source": [
    "### Function docstrings"
   ]
  },
  {
   "cell_type": "markdown",
   "id": "bcf19dc3",
   "metadata": {},
   "source": [
    "Functions should have docstrings! Those document a bit the process of the function, and describe what the arguments and the returned values are."
   ]
  },
  {
   "cell_type": "code",
   "execution_count": null,
   "id": "14717eb1",
   "metadata": {},
   "outputs": [],
   "source": [
    "def exponentiate(a, b=2):\n",
    "    \"\"\"Compute a power using argument a as base and b as exponent\n",
    "\n",
    "    Parameters:\n",
    "        a : int or float\n",
    "            base of the exponentiation\n",
    "        b = 5: int or float (optional)\n",
    "            power of the exponentiation\n",
    "\n",
    "    Return:\n",
    "        int\n",
    "            The computed power\n",
    "\n",
    "    \"\"\"\n",
    "    return a**b"
   ]
  },
  {
   "cell_type": "code",
   "execution_count": null,
   "id": "e648b1c4",
   "metadata": {},
   "outputs": [],
   "source": [
    "?exponentiate"
   ]
  },
  {
   "cell_type": "markdown",
   "id": "d6ae0ba8",
   "metadata": {},
   "source": [
    "Docstrings can be easily retrieved in an IDE such as a notebook!"
   ]
  },
  {
   "cell_type": "markdown",
   "id": "d2721437",
   "metadata": {},
   "source": [
    "### Function variables scope"
   ]
  },
  {
   "cell_type": "markdown",
   "id": "543ef663",
   "metadata": {},
   "source": [
    "Variables defined inside the function will live only during the execution of the function!"
   ]
  },
  {
   "cell_type": "code",
   "execution_count": null,
   "id": "dd4fed8a",
   "metadata": {},
   "outputs": [],
   "source": [
    "def sum_vals(a, b):\n",
    "    the_sum_only_here = a + b\n",
    "    return the_sum_only_here\n",
    "\n",
    "\n",
    "a = 1\n",
    "b = 2\n",
    "d = sum_vals(a, b)\n",
    "\n",
    "# this will fail, as we are out of the scope for this variable that will live and die with the function running:\n",
    "print(the_sum_only_here)"
   ]
  },
  {
   "cell_type": "code",
   "execution_count": null,
   "id": "caf034e7",
   "metadata": {},
   "outputs": [],
   "source": [
    "def sum_vals(a, b):\n",
    "\n",
    "    # This will not fail. However, it should be avoided in general! it makes running the function\n",
    "    # implicitely relying on code in the rest script.\n",
    "    print(a_var_not_passed)\n",
    "    return a + b\n",
    "\n",
    "\n",
    "a_var_not_passed = 3\n",
    "a = 1\n",
    "b = 2\n",
    "d = sum_vals(a, b)"
   ]
  },
  {
   "cell_type": "markdown",
   "id": "b77f3af6",
   "metadata": {},
   "source": [
    "Variables defined outside might be visible but **should not be used** inside the function (unless it is super-general and **very clearly identified** global constants maybe)."
   ]
  },
  {
   "cell_type": "code",
   "execution_count": null,
   "id": "e7dd8c70",
   "metadata": {},
   "outputs": [],
   "source": [
    "PI = 3.14\n",
    "\n",
    "\n",
    "def area(radius):\n",
    "    return radius**2 * PI"
   ]
  },
  {
   "cell_type": "markdown",
   "id": "5568f623",
   "metadata": {},
   "source": [
    "**Avoid sides effects!** Do not modify the passed values or variables existing ouside the function scope. In the cases you do it, do it consciously and make it very explicit in the name of the function or in the docstring!"
   ]
  },
  {
   "cell_type": "code",
   "execution_count": null,
   "id": "95acbfdb",
   "metadata": {},
   "outputs": [],
   "source": [
    "# Here we do not have troubles redefining a inside the function, as this does not affect the original variable:\n",
    "a = 1\n",
    "\n",
    "\n",
    "def change_val(a):\n",
    "    a = 2\n",
    "    return a\n",
    "\n",
    "\n",
    "print(change_val(a))\n",
    "print(a)"
   ]
  },
  {
   "cell_type": "code",
   "execution_count": null,
   "id": "b842d900",
   "metadata": {},
   "outputs": [],
   "source": [
    "# Here we will have troubles: the code modifies the list by popping out elements.\n",
    "# A possible solution would be making a copy inside the function (or write differently the code, but this is\n",
    "# just an example)\n",
    "\n",
    "a_list = [1, 2, 3]\n",
    "\n",
    "\n",
    "def take_last(a_list):\n",
    "    last = a_list.pop()  # this affects the original list\n",
    "\n",
    "    # last = a_list.copy().pop()  # this instead would fix the issue\n",
    "\n",
    "    return last\n",
    "\n",
    "\n",
    "print(take_last(a_list))\n",
    "print(a_list)"
   ]
  },
  {
   "cell_type": "markdown",
   "id": "24911992",
   "metadata": {},
   "source": [
    "(Practical 0.3.1)"
   ]
  },
  {
   "cell_type": "markdown",
   "id": "0800d31d",
   "metadata": {
    "slideshow": {
     "slide_type": "subslide"
    }
   },
   "source": [
    "## [optional] The `is` comparator"
   ]
  },
  {
   "cell_type": "markdown",
   "id": "7efdcdf0",
   "metadata": {},
   "source": [
    "`is` normally checks if two things are **really, really the same** - that is, if they refer to the same object in memory:"
   ]
  },
  {
   "cell_type": "code",
   "execution_count": 31,
   "id": "936a9f80",
   "metadata": {
    "slideshow": {
     "slide_type": "subslide"
    }
   },
   "outputs": [
    {
     "data": {
      "text/plain": [
       "True"
      ]
     },
     "execution_count": 31,
     "metadata": {},
     "output_type": "execute_result"
    }
   ],
   "source": [
    "a_list = [1,2,3]\n",
    "identical_list = [1,2,3]\n",
    "\n",
    "a_list == identical_list"
   ]
  },
  {
   "cell_type": "code",
   "execution_count": 32,
   "id": "845fcc0f",
   "metadata": {},
   "outputs": [
    {
     "data": {
      "text/plain": [
       "False"
      ]
     },
     "execution_count": 32,
     "metadata": {},
     "output_type": "execute_result"
    }
   ],
   "source": [
    "a_list is identical_list"
   ]
  },
  {
   "cell_type": "code",
   "execution_count": 33,
   "id": "7a13d7d5",
   "metadata": {},
   "outputs": [
    {
     "data": {
      "text/plain": [
       "True"
      ]
     },
     "execution_count": 33,
     "metadata": {},
     "output_type": "execute_result"
    }
   ],
   "source": [
    "memory_alias_list = a_list  # in this way we are pointing in the same memory place\n",
    "\n",
    "memory_alias_list is a_list"
   ]
  }
 ],
 "metadata": {
  "celltoolbar": "Slideshow",
  "kernelspec": {
   "display_name": "Python 3 (ipykernel)",
   "language": "python",
   "name": "python3"
  },
  "language_info": {
   "codemirror_mode": {
    "name": "ipython",
    "version": 3
   },
   "file_extension": ".py",
   "mimetype": "text/x-python",
   "name": "python",
   "nbconvert_exporter": "python",
   "pygments_lexer": "ipython3",
   "version": "3.11.6"
  }
 },
 "nbformat": 4,
 "nbformat_minor": 5
}
