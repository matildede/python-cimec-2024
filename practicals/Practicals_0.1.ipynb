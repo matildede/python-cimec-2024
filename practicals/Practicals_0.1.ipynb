{
 "cells": [
  {
   "cell_type": "markdown",
   "id": "03a44e75",
   "metadata": {},
   "source": [
    "# Practicals for lecture 0.1\n",
    "\n",
    "[![Open In Colab](https://colab.research.google.com/assets/colab-badge.svg)](https://colab.research.google.com/github/vigji/python-cimec-2024/blob/main/practicals/Practicals_0.1.ipynb)"
   ]
  },
  {
   "cell_type": "markdown",
   "id": "5333bf92",
   "metadata": {},
   "source": [
    "## Data containers"
   ]
  },
  {
   "cell_type": "markdown",
   "id": "cefcbc31",
   "metadata": {},
   "source": [
    "#### 0.1.0 Lists"
   ]
  },
  {
   "cell_type": "code",
   "execution_count": 1,
   "id": "d36921d1",
   "metadata": {},
   "outputs": [
    {
     "data": {
      "text/plain": [
       "['The',\n",
       " 'brain',\n",
       " 'is',\n",
       " 'a',\n",
       " 'world',\n",
       " 'consisting',\n",
       " 'of',\n",
       " 'a',\n",
       " 'number',\n",
       " 'of',\n",
       " 'unexplored',\n",
       " 'continents',\n",
       " 'and',\n",
       " 'great',\n",
       " 'stretches',\n",
       " 'of',\n",
       " 'unknown',\n",
       " 'territory.']"
      ]
     },
     "execution_count": 1,
     "metadata": {},
     "output_type": "execute_result"
    }
   ],
   "source": [
    "# Use the .split() method to create a list of words from this string and assign it to a variable:\n",
    "a_string = \"The brain is a world consisting of a number of unexplored continents and great stretches of unknown territory.\"\n",
    "\n",
    "word_list = a_string.split()\n",
    "word_list"
   ]
  },
  {
   "cell_type": "code",
   "execution_count": 2,
   "id": "1d7c75e2",
   "metadata": {},
   "outputs": [
    {
     "data": {
      "text/plain": [
       "['The', 'is', 'world', 'of', 'number']"
      ]
     },
     "execution_count": 2,
     "metadata": {},
     "output_type": "execute_result"
    }
   ],
   "source": [
    "# Using indexing, make a new list named `selected_elements` taking one every two \n",
    "# of the first 10 elements from the `a_string` list:\n",
    "selected_elements = word_list[:10:2]\n",
    "selected_elements"
   ]
  },
  {
   "cell_type": "code",
   "execution_count": 3,
   "id": "3751c1c3",
   "metadata": {},
   "outputs": [
    {
     "data": {
      "text/plain": [
       "['The new value', 'is', 'world', 'of', 'number']"
      ]
     },
     "execution_count": 3,
     "metadata": {},
     "output_type": "execute_result"
    }
   ],
   "source": [
    "# Then, replace the first element of `selected_elements` with a new string of your choice:\n",
    "selected_elements[0] = \"The new value\"\n",
    "selected_elements"
   ]
  },
  {
   "cell_type": "code",
   "execution_count": 5,
   "id": "0b479eb3",
   "metadata": {},
   "outputs": [
    {
     "data": {
      "text/plain": [
       "['The new value',\n",
       " 'is',\n",
       " 'world',\n",
       " 'of',\n",
       " 'number',\n",
       " 'new value at the end',\n",
       " 'new value at the end']"
      ]
     },
     "execution_count": 5,
     "metadata": {},
     "output_type": "execute_result"
    }
   ],
   "source": [
    "# Use the .append() method to join one additional string of your choice to `selected_elements`, and \n",
    "# print it again:\n",
    "selected_elements.append(\"new value at the end\")\n",
    "selected_elements"
   ]
  },
  {
   "cell_type": "code",
   "execution_count": 6,
   "id": "1e33e3d5",
   "metadata": {},
   "outputs": [],
   "source": [
    "# What happens if you try to .append() a list of values instead of a single value?\n",
    "# Try to .append() a list of words to the selected_elements:\n",
    "list_to_append = [\"a\", \"b\", 123]\n",
    "selected_elements.append(list_to_append)"
   ]
  },
  {
   "cell_type": "code",
   "execution_count": 7,
   "id": "c4b9b6a5",
   "metadata": {},
   "outputs": [
    {
     "data": {
      "text/plain": [
       "['The new value',\n",
       " 'is',\n",
       " 'world',\n",
       " 'of',\n",
       " 'number',\n",
       " 'new value at the end',\n",
       " 'new value at the end',\n",
       " ['a', 'b', 123]]"
      ]
     },
     "execution_count": 7,
     "metadata": {},
     "output_type": "execute_result"
    }
   ],
   "source": [
    "selected_elements"
   ]
  },
  {
   "cell_type": "code",
   "execution_count": null,
   "id": "5ae095de",
   "metadata": {},
   "outputs": [],
   "source": [
    "# This is not what we want to do if we mean to concatenate lists!\n",
    "# Use the correct operator to concatenate the `to concatenate` list to the `selected_elements` list:\n",
    "to_concatenate = [\"a\", \"b\", \"c\"]\n",
    "\n",
    "selected_elements.extend(to_concatenate)"
   ]
  },
  {
   "cell_type": "code",
   "execution_count": 13,
   "id": "8236eeab",
   "metadata": {},
   "outputs": [
    {
     "data": {
      "text/plain": [
       "'b'"
      ]
     },
     "execution_count": 13,
     "metadata": {},
     "output_type": "execute_result"
    }
   ],
   "source": [
    "selected_elements[7][1]"
   ]
  },
  {
   "cell_type": "markdown",
   "id": "d44e8874",
   "metadata": {},
   "source": [
    "#### 0.1.1 Dictionaries"
   ]
  },
  {
   "cell_type": "code",
   "execution_count": 14,
   "id": "614e9c24",
   "metadata": {},
   "outputs": [
    {
     "data": {
      "text/plain": [
       "{'The': 3}"
      ]
     },
     "execution_count": 14,
     "metadata": {},
     "output_type": "execute_result"
    }
   ],
   "source": [
    "# From the first three words of the word_list variable, create a dictionary with three entries.\n",
    "\n",
    "# For each entry:\n",
    "#   the keyword will be the word\n",
    "#   the value will be the length of the string (calculate it with `len()`)\n",
    "\n",
    "# (if you know them, you can use for loops)\n",
    "first_word = word_list[0]\n",
    "word_len_dict = {first_word: len(first_word),\n",
    "                 second_word: ...}\n",
    "word_len_dict\n"
   ]
  },
  {
   "cell_type": "markdown",
   "id": "e0c52ebb",
   "metadata": {},
   "source": [
    "#### 0.1.2 Tuples"
   ]
  },
  {
   "cell_type": "code",
   "execution_count": null,
   "id": "61ae9855",
   "metadata": {},
   "outputs": [],
   "source": [
    "# Convert to a tuple the word list `word_list` defined above.\n",
    "#a_tuple = tuple(word_list)\n",
    "\n",
    "# Can you change the first element of the tuple? Can you try appending new values? Can you use the +/* operators? \n"
   ]
  },
  {
   "cell_type": "markdown",
   "id": "c7a1589a",
   "metadata": {},
   "source": [
    "#### 0.1.3 Sets"
   ]
  },
  {
   "cell_type": "code",
   "execution_count": null,
   "id": "f215b3a8",
   "metadata": {},
   "outputs": [],
   "source": [
    "# We want to know if two lists of values contain the same items.\n",
    "\n",
    "items_list1 = [20, 19, 32, 1, 3, 45, 2, 5, 4, 12, 7]\n",
    "items_list2 = [45, 2, 12, 19, 32, 4, 7, 3, 5, 1, 20]\n",
    "\n",
    "# Can we just check if the lists are the same with a `==` operation? If no, why?\n",
    "\n"
   ]
  },
  {
   "cell_type": "code",
   "execution_count": null,
   "id": "8f249317",
   "metadata": {},
   "outputs": [],
   "source": [
    "# Try then to compare them to set before performing the comparison:\n"
   ]
  },
  {
   "cell_type": "code",
   "execution_count": null,
   "id": "885efb60",
   "metadata": {},
   "outputs": [],
   "source": [
    "# Use sets operations to find the a place that might fit the preferences of Mark, Melissa and Mattew:\n",
    "mark_top_three = [\"Putipù\", \"Pizzangolo\", \"Christian\"]\n",
    "melissa_top_three = [\"Dogali\", \"Christian\", \"River\"]\n",
    "mattew_top_three = [\"Christian\", \"Putipù\", \"Pizzangolo\"]\n",
    "\n",
    "# First, convert all the lists in sets:\n",
    "...\n"
   ]
  },
  {
   "cell_type": "code",
   "execution_count": null,
   "id": "f2f6be93",
   "metadata": {},
   "outputs": [],
   "source": [
    "# Then, think about the correct set operation that will give you their overlapping choices:\n",
    "...\n"
   ]
  }
 ],
 "metadata": {
  "kernelspec": {
   "display_name": "Python 3 (ipykernel)",
   "language": "python",
   "name": "python3"
  },
  "language_info": {
   "codemirror_mode": {
    "name": "ipython",
    "version": 3
   },
   "file_extension": ".py",
   "mimetype": "text/x-python",
   "name": "python",
   "nbconvert_exporter": "python",
   "pygments_lexer": "ipython3",
   "version": "3.11.6"
  }
 },
 "nbformat": 4,
 "nbformat_minor": 5
}
