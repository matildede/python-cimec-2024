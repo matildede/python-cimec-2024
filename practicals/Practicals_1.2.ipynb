{
 "cells": [
  {
   "cell_type": "markdown",
   "id": "c6cb4678",
   "metadata": {},
   "source": [
    "# Practicals for lecture 1.2\n",
    "\n",
    "[![Open In Colab](https://colab.research.google.com/assets/colab-badge.svg)](https://colab.research.google.com/github/vigji/python-cimec-2024/blob/main/practicals/Practicals_1.2.ipynb)"
   ]
  },
  {
   "cell_type": "markdown",
   "id": "9f912d13",
   "metadata": {},
   "source": [
    "#### 1.2.0 "
   ]
  },
  {
   "cell_type": "code",
   "execution_count": 2,
   "id": "ef491f76",
   "metadata": {},
   "outputs": [],
   "source": [
    "import numpy as np\n",
    "import requests\n",
    "import json\n",
    "\n",
    "\n",
    "def generate_RT_data(n_subjects=200, n_samples_per_subject=1000):\n",
    "    \"\"\"\n",
    "    Generates Reaction Time data for a given number of subjects, each with their own distribution parameters.\n",
    "    \n",
    "    Parameters:\n",
    "    n_subjects (int): Number of subjects\n",
    "    n_samples_per_subject (int): Number of samples (RT times) per subject\n",
    "    \n",
    "    Returns:\n",
    "    np.ndarray: A 2D array where each row represents the RT times for a subject\n",
    "    \"\"\"\n",
    "    np.random.seed(0)  # For reproducibility\n",
    "    shift = 0.500  # Shift of the distribution\n",
    "    # Initialize an empty array to store the RT times for all subjects\n",
    "    RT_data = np.empty((n_subjects, n_samples_per_subject))\n",
    "    \n",
    "    for i in range(n_subjects):\n",
    "        # Assuming mu ranges from 90 to 110 and sigma from 10 to 20 for the subjects\n",
    "        mu = np.random.uniform(0.090, 0.110)\n",
    "        sigma = np.random.uniform(0.10, 0.20)\n",
    "        RT_data[i] = np.random.normal(mu, sigma, n_samples_per_subject) + shift\n",
    "    \n",
    "    return RT_data\n",
    "\n",
    "\n",
    "def download_meteo_data(start_date=\"2022-01-01\", end_date=\"2022-12-31\",\n",
    "                        latitude=\"45.88204\", longitude=\"11.03647\",\n",
    "                        data=\"temperature_2m\"):\n",
    "    \"\"\"Download meteo historical data from open-meteo.com.\n",
    "    \"\"\"\n",
    "    BASE_URL = \"https://archive-api.open-meteo.com/v1/\"\n",
    "    query = f\"archive?latitude={latitude}&longitude={longitude}&start_date={start_date}&end_date={end_date}&hourly={data}\"\n",
    "\n",
    "    r = requests.get(BASE_URL + query)\n",
    "    json_dict = json.loads(r.text)\n",
    "    \n",
    "    if \"hourly\" not in json_dict.keys():\n",
    "        print(json_dict)\n",
    "        return None, None\n",
    "    else:\n",
    "        return (np.array(json_dict[\"hourly\"][k]) for k in [\"time\", data])"
   ]
  },
  {
   "cell_type": "code",
   "execution_count": 6,
   "id": "55078aa5",
   "metadata": {},
   "outputs": [
    {
     "data": {
      "text/plain": [
       "(10, 1000)"
      ]
     },
     "execution_count": 6,
     "metadata": {},
     "output_type": "execute_result"
    }
   ],
   "source": [
    "# Find the index of the subject with the shortest trial reaction time of the whole dataset \n",
    "# (not shortest average!)\n",
    "# (Hint: you will need two operations...)\n",
    "# (You can read a second hint scrolling right in the cell:                                                                                               : you have to do one max and one argmax...)\n",
    "\n",
    "rt_data = generate_RT_data(n_subjects=10)\n",
    "rt_data.shape"
   ]
  },
  {
   "cell_type": "code",
   "execution_count": 7,
   "id": "e8dbe38f",
   "metadata": {},
   "outputs": [],
   "source": [
    "# Use argmax to find the index of the warmest hour in the (non-reshaped) temperature_array.\n",
    "# Then, use the index over timestamps_array to read out the corresponding timestamp.\n",
    "timestamps_array, temperatures_array = download_meteo_data()\n"
   ]
  },
  {
   "cell_type": "code",
   "execution_count": 9,
   "id": "50091306",
   "metadata": {},
   "outputs": [],
   "source": [
    "# We can use the np.argsort() function to produce the indexes array required to\n",
    "# order an array in ascending or descending values.\n",
    "\n",
    "# Let's make a ranking of the 5 warmest hours of 2022! \n",
    "# Sort the (non-reshaped) temperature array using the indexes produced by np.argsort.\n",
    "# so that the first elements are the highest temperatures.\n",
    "# Then sort the timestamps array with the same indexes, and take the first 5.\n"
   ]
  },
  {
   "cell_type": "code",
   "execution_count": null,
   "id": "cfdcefb1",
   "metadata": {},
   "outputs": [],
   "source": [
    "# Build a boolean selector to filter all temperatures above 10 and below 25 degrees:\n"
   ]
  },
  {
   "cell_type": "code",
   "execution_count": 10,
   "id": "b24cff3b",
   "metadata": {},
   "outputs": [
    {
     "data": {
      "text/plain": [
       "array(['2022-01-01T00:00', '2022-01-01T01:00', '2022-01-01T02:00', ...,\n",
       "       '2022-12-31T21:00', '2022-12-31T22:00', '2022-12-31T23:00'],\n",
       "      dtype='<U16')"
      ]
     },
     "execution_count": 10,
     "metadata": {},
     "output_type": "execute_result"
    }
   ],
   "source": [
    "# (Bonus):\n",
    "# Let's do the same, but only for the months between january and March, and only for hours between 08 and 18.\n",
    "\n",
    "# To get the condition on month and hours, you will have to parse the timestamp string, or explore\n",
    "# the timedate library for more elegant solutions!\n",
    "\n",
    "timestamps_array"
   ]
  },
  {
   "cell_type": "code",
   "execution_count": null,
   "id": "bc7a812e",
   "metadata": {},
   "outputs": [],
   "source": [
    "# (Bonus) Take the array of integer numbers below. Use array boolean operations to filter out the numbers that \n",
    "# are greater than 5 AND less than 8, OR that are multiple of 7.\n",
    "np.random.seed(42)\n",
    "an_array = np.random.randint(0, 10, 100)\n",
    "\n",
    "an_array[((an_array > 5) & (an_array < 8)) | (an_array % 7 == 0)]"
   ]
  },
  {
   "cell_type": "markdown",
   "id": "2d2a4f38",
   "metadata": {},
   "source": [
    "## Introduction to `pandas`"
   ]
  },
  {
   "cell_type": "markdown",
   "id": "472faa0d",
   "metadata": {},
   "source": [
    "#### 1.2.1 DataFrames"
   ]
  },
  {
   "cell_type": "code",
   "execution_count": 11,
   "id": "9be7cc7a",
   "metadata": {},
   "outputs": [],
   "source": [
    "import pandas as pd"
   ]
  },
  {
   "cell_type": "code",
   "execution_count": 24,
   "id": "9dfb088f",
   "metadata": {},
   "outputs": [
    {
     "data": {
      "text/html": [
       "<div>\n",
       "<style scoped>\n",
       "    .dataframe tbody tr th:only-of-type {\n",
       "        vertical-align: middle;\n",
       "    }\n",
       "\n",
       "    .dataframe tbody tr th {\n",
       "        vertical-align: top;\n",
       "    }\n",
       "\n",
       "    .dataframe thead th {\n",
       "        text-align: right;\n",
       "    }\n",
       "</style>\n",
       "<table border=\"1\" class=\"dataframe\">\n",
       "  <thead>\n",
       "    <tr style=\"text-align: right;\">\n",
       "      <th></th>\n",
       "      <th>age</th>\n",
       "      <th>weight</th>\n",
       "      <th>height</th>\n",
       "      <th>sex</th>\n",
       "      <th>handedness</th>\n",
       "      <th>group</th>\n",
       "    </tr>\n",
       "  </thead>\n",
       "  <tbody>\n",
       "    <tr>\n",
       "      <th>0</th>\n",
       "      <td>26</td>\n",
       "      <td>84</td>\n",
       "      <td>175</td>\n",
       "      <td>M</td>\n",
       "      <td>L</td>\n",
       "      <td>patient</td>\n",
       "    </tr>\n",
       "    <tr>\n",
       "      <th>1</th>\n",
       "      <td>39</td>\n",
       "      <td>93</td>\n",
       "      <td>181</td>\n",
       "      <td>M</td>\n",
       "      <td>R</td>\n",
       "      <td>patient</td>\n",
       "    </tr>\n",
       "    <tr>\n",
       "      <th>2</th>\n",
       "      <td>34</td>\n",
       "      <td>89</td>\n",
       "      <td>155</td>\n",
       "      <td>F</td>\n",
       "      <td>L</td>\n",
       "      <td>patient</td>\n",
       "    </tr>\n",
       "    <tr>\n",
       "      <th>3</th>\n",
       "      <td>30</td>\n",
       "      <td>71</td>\n",
       "      <td>181</td>\n",
       "      <td>M</td>\n",
       "      <td>R</td>\n",
       "      <td>patient</td>\n",
       "    </tr>\n",
       "    <tr>\n",
       "      <th>4</th>\n",
       "      <td>27</td>\n",
       "      <td>76</td>\n",
       "      <td>153</td>\n",
       "      <td>F</td>\n",
       "      <td>L</td>\n",
       "      <td>control</td>\n",
       "    </tr>\n",
       "  </tbody>\n",
       "</table>\n",
       "</div>"
      ],
      "text/plain": [
       "   age  weight  height sex handedness    group\n",
       "0   26      84     175   M          L  patient\n",
       "1   39      93     181   M          R  patient\n",
       "2   34      89     155   F          L  patient\n",
       "3   30      71     181   M          R  patient\n",
       "4   27      76     153   F          L  control"
      ]
     },
     "execution_count": 24,
     "metadata": {},
     "output_type": "execute_result"
    }
   ],
   "source": [
    "# Consider the following dataset with info about subject in an experiment:\n",
    "np.random.seed(42)\n",
    "n_subjects = 100\n",
    "subjects_df = pd.DataFrame({\n",
    "    'age': np.random.randint(20, 40, n_subjects),\n",
    "    'weight': np.random.randint(50, 100, n_subjects),\n",
    "    'height': np.random.randint(150, 200, n_subjects),\n",
    "    'sex': np.random.choice(['M', 'F'], n_subjects),\n",
    "    'handedness': np.random.choice(['R', 'L'], n_subjects),\n",
    "    'group': np.random.choice(['control', 'patient'], n_subjects)})\n",
    "\n",
    "subjects_df.head()"
   ]
  },
  {
   "cell_type": "code",
   "execution_count": 25,
   "id": "0e56c387",
   "metadata": {},
   "outputs": [],
   "source": [
    "# Select the first two rows of the dataframe:\n"
   ]
  },
  {
   "cell_type": "code",
   "execution_count": null,
   "id": "abeaa819",
   "metadata": {},
   "outputs": [],
   "source": [
    "# Select the column of the dataframe containing the subjects weight using the name of the column:\n"
   ]
  },
  {
   "cell_type": "code",
   "execution_count": null,
   "id": "dced9106",
   "metadata": {},
   "outputs": [],
   "source": [
    "# Select the `weight` column of the dataframe filtering only rows of subjects > 34 years old:\n"
   ]
  },
  {
   "cell_type": "code",
   "execution_count": null,
   "id": "d1ddf4f3",
   "metadata": {},
   "outputs": [],
   "source": [
    "# Count how many males and how many females above age 30 are left-handed or right handed.\n",
    "# (Hint: use the same element-wise operators we were using for numpy arrays)\n"
   ]
  },
  {
   "cell_type": "code",
   "execution_count": null,
   "id": "2d753478",
   "metadata": {},
   "outputs": [],
   "source": [
    "# Use .iloc to select one every two rows for the first 3 columns:\n"
   ]
  },
  {
   "cell_type": "code",
   "execution_count": null,
   "id": "5446f27b",
   "metadata": {},
   "outputs": [],
   "source": [
    "# Redefine the dataset index to be \"subject_n_sex\" \n",
    "# (where n is progressive number of the subject and sex the sex of the subject)\n",
    "\n"
   ]
  },
  {
   "cell_type": "code",
   "execution_count": null,
   "id": "2acf9ddb",
   "metadata": {},
   "outputs": [],
   "source": []
  },
  {
   "cell_type": "markdown",
   "id": "e09bd71d",
   "metadata": {},
   "source": [
    "#### 1.2.2"
   ]
  },
  {
   "cell_type": "code",
   "execution_count": null,
   "id": "984af9d0",
   "metadata": {},
   "outputs": [],
   "source": [
    "# We can calculate the BMI as :\n",
    "# (body weight in kgs) /  ( (heigth in meters) ** 2) \n",
    "\n",
    "# Define a new column where you compute the BMI for every subject:\n",
    "\n"
   ]
  },
  {
   "cell_type": "code",
   "execution_count": null,
   "id": "1c5e603f",
   "metadata": {},
   "outputs": [],
   "source": [
    "string_data = ['cabbage', 'artichoke', 'banana', 'avocado', 'apple', 'orange']\n",
    "int_data = [1, 2, 3, 4, 5, 6]\n",
    "float_data = [0.1, 0.2, 0.3, 0.4, 0.5, 0.6]\n",
    "\n",
    "# organize the data above in a dictionary and from it define a new DataFrame:\n"
   ]
  },
  {
   "cell_type": "code",
   "execution_count": 26,
   "id": "44ccfc7a",
   "metadata": {},
   "outputs": [],
   "source": [
    "# Now, organize the data in a list of dictionaries and from it define a new DataFrame:\n"
   ]
  },
  {
   "cell_type": "code",
   "execution_count": null,
   "id": "daeb6ef3",
   "metadata": {},
   "outputs": [],
   "source": [
    "# Extend the subject dataset above adding two subjects for which you have the following info:\n",
    "# (Hint: start by defining a new dataframe to concatenate, and then concatenate)\n",
    "\n",
    "new_subject1 = {'age': 25,\n",
    "    'weight': 78,\n",
    "    'height': 170,\n",
    "    'sex': \"M\",\n",
    "    'handedness': \"R\",\n",
    "    'group': \"patient\"}\n",
    "new_subject2 = {'age': 35,\n",
    "    'weight': 65,\n",
    "    'height': 165,\n",
    "    'sex': \"F\",\n",
    "    'handedness': \"R\",\n",
    "    'group': \"control\"}\n",
    "\n",
    "# Make sure the new dataset has univoque indexing! "
   ]
  }
 ],
 "metadata": {
  "kernelspec": {
   "display_name": "course-env",
   "language": "python",
   "name": "course-env"
  },
  "language_info": {
   "codemirror_mode": {
    "name": "ipython",
    "version": 3
   },
   "file_extension": ".py",
   "mimetype": "text/x-python",
   "name": "python",
   "nbconvert_exporter": "python",
   "pygments_lexer": "ipython3",
   "version": "3.10.13"
  }
 },
 "nbformat": 4,
 "nbformat_minor": 5
}
