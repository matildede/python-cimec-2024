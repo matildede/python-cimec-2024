{
 "cells": [
  {
   "cell_type": "markdown",
   "id": "03a44e75",
   "metadata": {},
   "source": [
    "# Practicals for lecture 1.2\n",
    "\n",
    "[![Open In Colab](https://colab.research.google.com/assets/colab-badge.svg)](https://colab.research.google.com/github/vigji/python-cimec/blob/main/practicals/Practicals_1.2.ipynb)"
   ]
  },
  {
   "cell_type": "markdown",
   "id": "2d2a4f38",
   "metadata": {},
   "source": [
    "## Introduction to `pandas`"
   ]
  },
  {
   "cell_type": "markdown",
   "id": "472faa0d",
   "metadata": {},
   "source": [
    "#### 1.2.0 Numpy bool; Create and index dataframes"
   ]
  },
  {
   "cell_type": "code",
   "execution_count": 3,
   "id": "371d3fd3",
   "metadata": {
    "is_executing": true
   },
   "outputs": [],
   "source": [
    "import numpy as np\n",
    "from matplotlib import pyplot as plt\n",
    "import pandas as pd"
   ]
  },
  {
   "cell_type": "code",
   "execution_count": 5,
   "id": "ecba7d85",
   "metadata": {},
   "outputs": [
    {
     "data": {
      "text/plain": [
       "array([6, 7, 6, 6, 7, 7, 7, 7, 0, 0, 6, 6, 6, 6, 7, 0, 7, 7, 6, 7, 7, 0,\n",
       "       6, 7, 0, 7, 7, 0, 7, 0, 6, 6, 7])"
      ]
     },
     "execution_count": 5,
     "metadata": {},
     "output_type": "execute_result"
    }
   ],
   "source": [
    "# Numpy bool operations\n",
    "# Take the array of integer numbers below. Use array boolean operations to filter out the numbers that \n",
    "# are greater than 5 AND less than 8, OR that are multiple of 7.\n",
    "np.random.seed(42)\n",
    "an_array = np.random.randint(0, 10, 100)\n",
    "\n",
    "an_array[((an_array > 5) & (an_array < 8)) | (an_array % 7 == 0)]"
   ]
  },
  {
   "cell_type": "code",
   "execution_count": 7,
   "id": "2d753478",
   "metadata": {
    "is_executing": true
   },
   "outputs": [],
   "source": [
    "string_data = ['cabbage', 'artichoke', 'banana', 'avocado', 'apple', 'orange']\n",
    "int_data = [1, 2, 3, 4, 5, 6]\n",
    "float_data = [0.1, 0.2, 0.3, 0.4, 0.5, 0.6]\n",
    "\n",
    "# Put together the data above in a DataFrame. What happens if you don't specify the index?\n",
    "\n",
    "df = pd.DataFrame(dict(string_data=string_data, int_data=int_data, float_data=float_data))"
   ]
  },
  {
   "cell_type": "code",
   "execution_count": 15,
   "id": "5446f27b",
   "metadata": {
    "is_executing": true
   },
   "outputs": [
    {
     "data": {
      "text/plain": [
       "0      cabbage\n",
       "1    artichoke\n",
       "2       banana\n",
       "3      avocado\n",
       "4        apple\n",
       "5       orange\n",
       "Name: string_data, dtype: object"
      ]
     },
     "execution_count": 15,
     "metadata": {},
     "output_type": "execute_result"
    }
   ],
   "source": [
    "# Select the column of the dataframe containing the strings using the name of the column\n",
    "\n",
    "df[\"string_data\"]"
   ]
  },
  {
   "cell_type": "code",
   "execution_count": 10,
   "id": "db398d8d",
   "metadata": {
    "is_executing": true
   },
   "outputs": [
    {
     "data": {
      "text/html": [
       "<div>\n",
       "<style scoped>\n",
       "    .dataframe tbody tr th:only-of-type {\n",
       "        vertical-align: middle;\n",
       "    }\n",
       "\n",
       "    .dataframe tbody tr th {\n",
       "        vertical-align: top;\n",
       "    }\n",
       "\n",
       "    .dataframe thead th {\n",
       "        text-align: right;\n",
       "    }\n",
       "</style>\n",
       "<table border=\"1\" class=\"dataframe\">\n",
       "  <thead>\n",
       "    <tr style=\"text-align: right;\">\n",
       "      <th></th>\n",
       "      <th>string_data</th>\n",
       "      <th>int_data</th>\n",
       "      <th>float_data</th>\n",
       "    </tr>\n",
       "  </thead>\n",
       "  <tbody>\n",
       "    <tr>\n",
       "      <th>0</th>\n",
       "      <td>cabbage</td>\n",
       "      <td>1</td>\n",
       "      <td>0.1</td>\n",
       "    </tr>\n",
       "    <tr>\n",
       "      <th>1</th>\n",
       "      <td>artichoke</td>\n",
       "      <td>2</td>\n",
       "      <td>0.2</td>\n",
       "    </tr>\n",
       "  </tbody>\n",
       "</table>\n",
       "</div>"
      ],
      "text/plain": [
       "  string_data  int_data  float_data\n",
       "0     cabbage         1         0.1\n",
       "1   artichoke         2         0.2"
      ]
     },
     "execution_count": 10,
     "metadata": {},
     "output_type": "execute_result"
    }
   ],
   "source": [
    "# Select the first two rows of the dataframe\n",
    "df.loc[:1]"
   ]
  },
  {
   "cell_type": "code",
   "execution_count": null,
   "id": "2acf9ddb",
   "metadata": {},
   "outputs": [],
   "source": []
  },
  {
   "cell_type": "code",
   "execution_count": 16,
   "id": "640df587",
   "metadata": {},
   "outputs": [
    {
     "data": {
      "text/plain": [
       "2     banana\n",
       "3    avocado\n",
       "4      apple\n",
       "5     orange\n",
       "Name: string_data, dtype: object"
      ]
     },
     "execution_count": 16,
     "metadata": {},
     "output_type": "execute_result"
    }
   ],
   "source": [
    "# Select the rows of the dataframe so that the float data is greater than 0.2\n",
    "\n",
    "df.loc[df[\"float_data\"] > 0.2, \"string_data\"]"
   ]
  },
  {
   "cell_type": "code",
   "execution_count": 17,
   "id": "269635a9",
   "metadata": {
    "is_executing": true
   },
   "outputs": [
    {
     "data": {
      "text/html": [
       "<div>\n",
       "<style scoped>\n",
       "    .dataframe tbody tr th:only-of-type {\n",
       "        vertical-align: middle;\n",
       "    }\n",
       "\n",
       "    .dataframe tbody tr th {\n",
       "        vertical-align: top;\n",
       "    }\n",
       "\n",
       "    .dataframe thead th {\n",
       "        text-align: right;\n",
       "    }\n",
       "</style>\n",
       "<table border=\"1\" class=\"dataframe\">\n",
       "  <thead>\n",
       "    <tr style=\"text-align: right;\">\n",
       "      <th></th>\n",
       "      <th>string_data</th>\n",
       "      <th>int_data</th>\n",
       "      <th>float_data</th>\n",
       "    </tr>\n",
       "  </thead>\n",
       "  <tbody>\n",
       "    <tr>\n",
       "      <th>2</th>\n",
       "      <td>banana</td>\n",
       "      <td>3</td>\n",
       "      <td>0.3</td>\n",
       "    </tr>\n",
       "    <tr>\n",
       "      <th>3</th>\n",
       "      <td>avocado</td>\n",
       "      <td>4</td>\n",
       "      <td>0.4</td>\n",
       "    </tr>\n",
       "  </tbody>\n",
       "</table>\n",
       "</div>"
      ],
      "text/plain": [
       "  string_data  int_data  float_data\n",
       "2      banana         3         0.3\n",
       "3     avocado         4         0.4"
      ]
     },
     "execution_count": 17,
     "metadata": {},
     "output_type": "execute_result"
    }
   ],
   "source": [
    "# Select the rows of the dataframe so that the float data is greater than 0.2 and the int data is less than 5\n",
    "df.loc[(df[\"float_data\"] > 0.2) & (df[\"int_data\"] < 5)]"
   ]
  },
  {
   "cell_type": "code",
   "execution_count": 18,
   "id": "a73b2dd8",
   "metadata": {
    "is_executing": true
   },
   "outputs": [
    {
     "data": {
      "text/plain": [
       "0.4"
      ]
     },
     "execution_count": 18,
     "metadata": {},
     "output_type": "execute_result"
    }
   ],
   "source": [
    "# use the .loc property to select the value of the float data in the row with index 3\n",
    "df.loc[3, \"float_data\"]"
   ]
  },
  {
   "cell_type": "code",
   "execution_count": 20,
   "id": "984af9d0",
   "metadata": {},
   "outputs": [
    {
     "data": {
      "text/html": [
       "<div>\n",
       "<style scoped>\n",
       "    .dataframe tbody tr th:only-of-type {\n",
       "        vertical-align: middle;\n",
       "    }\n",
       "\n",
       "    .dataframe tbody tr th {\n",
       "        vertical-align: top;\n",
       "    }\n",
       "\n",
       "    .dataframe thead th {\n",
       "        text-align: right;\n",
       "    }\n",
       "</style>\n",
       "<table border=\"1\" class=\"dataframe\">\n",
       "  <thead>\n",
       "    <tr style=\"text-align: right;\">\n",
       "      <th></th>\n",
       "      <th>string_data</th>\n",
       "      <th>int_data</th>\n",
       "      <th>float_data</th>\n",
       "      <th>new_col</th>\n",
       "    </tr>\n",
       "  </thead>\n",
       "  <tbody>\n",
       "    <tr>\n",
       "      <th>0</th>\n",
       "      <td>cabbage</td>\n",
       "      <td>1</td>\n",
       "      <td>0.1</td>\n",
       "      <td>500</td>\n",
       "    </tr>\n",
       "    <tr>\n",
       "      <th>1</th>\n",
       "      <td>artichoke</td>\n",
       "      <td>2</td>\n",
       "      <td>0.2</td>\n",
       "      <td>300</td>\n",
       "    </tr>\n",
       "    <tr>\n",
       "      <th>2</th>\n",
       "      <td>banana</td>\n",
       "      <td>3</td>\n",
       "      <td>0.3</td>\n",
       "      <td>200</td>\n",
       "    </tr>\n",
       "    <tr>\n",
       "      <th>3</th>\n",
       "      <td>avocado</td>\n",
       "      <td>4</td>\n",
       "      <td>0.4</td>\n",
       "      <td>400</td>\n",
       "    </tr>\n",
       "    <tr>\n",
       "      <th>4</th>\n",
       "      <td>apple</td>\n",
       "      <td>5</td>\n",
       "      <td>0.5</td>\n",
       "      <td>600</td>\n",
       "    </tr>\n",
       "    <tr>\n",
       "      <th>5</th>\n",
       "      <td>orange</td>\n",
       "      <td>6</td>\n",
       "      <td>0.6</td>\n",
       "      <td>500</td>\n",
       "    </tr>\n",
       "  </tbody>\n",
       "</table>\n",
       "</div>"
      ],
      "text/plain": [
       "  string_data  int_data  float_data  new_col\n",
       "0     cabbage         1         0.1      500\n",
       "1   artichoke         2         0.2      300\n",
       "2      banana         3         0.3      200\n",
       "3     avocado         4         0.4      400\n",
       "4       apple         5         0.5      600\n",
       "5      orange         6         0.6      500"
      ]
     },
     "execution_count": 20,
     "metadata": {},
     "output_type": "execute_result"
    }
   ],
   "source": [
    "# Add a new column to the dataframe containing the following data entries:\n",
    "new_data = [500, 300, 200, 400, 600, 500]\n",
    "\n",
    "df[\"new_col\"] = new_data\n",
    "df\n"
   ]
  },
  {
   "cell_type": "markdown",
   "id": "457f31e7",
   "metadata": {},
   "source": [
    "#### 1.2.1 Methods of `pandas` dataframes"
   ]
  },
  {
   "cell_type": "code",
   "execution_count": 4,
   "id": "c20a15d6",
   "metadata": {
    "is_executing": true
   },
   "outputs": [],
   "source": [
    "# Here we create a fake dataframe containing the results of an psychological test with 30 subjects.\n",
    "# Subjects can be left-handed or right-handed.\n",
    "# The test has 2 measures (reaction time - RT, and accuracy)\n",
    "def create_data_df():\n",
    "    np.random.seed(42)\n",
    "    subject_ability = np.random.uniform(0, 1, 30)\n",
    "    return pd.DataFrame({'subject': [f\"subject_{i}\" for i in range(30)],\n",
    "                       'handedness': np.random.choice(['left', 'right'], 30),\n",
    "                       'RT': subject_ability*100 + np.random.uniform(0, 50, 30),\n",
    "                       'accuracy': subject_ability + np.random.normal(0.8, 0.1, 30)})\n",
    "df = create_data_df()"
   ]
  },
  {
   "cell_type": "code",
   "execution_count": 8,
   "id": "581126bb",
   "metadata": {
    "is_executing": true
   },
   "outputs": [
    {
     "data": {
      "text/html": [
       "<div>\n",
       "<style scoped>\n",
       "    .dataframe tbody tr th:only-of-type {\n",
       "        vertical-align: middle;\n",
       "    }\n",
       "\n",
       "    .dataframe tbody tr th {\n",
       "        vertical-align: top;\n",
       "    }\n",
       "\n",
       "    .dataframe thead th {\n",
       "        text-align: right;\n",
       "    }\n",
       "</style>\n",
       "<table border=\"1\" class=\"dataframe\">\n",
       "  <thead>\n",
       "    <tr style=\"text-align: right;\">\n",
       "      <th></th>\n",
       "      <th>subject</th>\n",
       "      <th>handedness</th>\n",
       "      <th>RT</th>\n",
       "      <th>accuracy</th>\n",
       "    </tr>\n",
       "  </thead>\n",
       "  <tbody>\n",
       "    <tr>\n",
       "      <th>21</th>\n",
       "      <td>subject_21</td>\n",
       "      <td>right</td>\n",
       "      <td>20.995597</td>\n",
       "      <td>0.933407</td>\n",
       "    </tr>\n",
       "    <tr>\n",
       "      <th>13</th>\n",
       "      <td>subject_13</td>\n",
       "      <td>right</td>\n",
       "      <td>23.495276</td>\n",
       "      <td>1.004759</td>\n",
       "    </tr>\n",
       "    <tr>\n",
       "      <th>4</th>\n",
       "      <td>subject_4</td>\n",
       "      <td>left</td>\n",
       "      <td>24.844587</td>\n",
       "      <td>0.805203</td>\n",
       "    </tr>\n",
       "    <tr>\n",
       "      <th>26</th>\n",
       "      <td>subject_26</td>\n",
       "      <td>right</td>\n",
       "      <td>29.903162</td>\n",
       "      <td>0.946232</td>\n",
       "    </tr>\n",
       "    <tr>\n",
       "      <th>14</th>\n",
       "      <td>subject_14</td>\n",
       "      <td>left</td>\n",
       "      <td>34.449013</td>\n",
       "      <td>1.079121</td>\n",
       "    </tr>\n",
       "    <tr>\n",
       "      <th>15</th>\n",
       "      <td>subject_15</td>\n",
       "      <td>right</td>\n",
       "      <td>37.774315</td>\n",
       "      <td>1.062964</td>\n",
       "    </tr>\n",
       "    <tr>\n",
       "      <th>29</th>\n",
       "      <td>subject_29</td>\n",
       "      <td>right</td>\n",
       "      <td>39.987908</td>\n",
       "      <td>0.920822</td>\n",
       "    </tr>\n",
       "    <tr>\n",
       "      <th>23</th>\n",
       "      <td>subject_23</td>\n",
       "      <td>right</td>\n",
       "      <td>40.363717</td>\n",
       "      <td>1.270611</td>\n",
       "    </tr>\n",
       "    <tr>\n",
       "      <th>19</th>\n",
       "      <td>subject_19</td>\n",
       "      <td>right</td>\n",
       "      <td>43.169640</td>\n",
       "      <td>0.999190</td>\n",
       "    </tr>\n",
       "    <tr>\n",
       "      <th>16</th>\n",
       "      <td>subject_16</td>\n",
       "      <td>right</td>\n",
       "      <td>43.991676</td>\n",
       "      <td>1.253786</td>\n",
       "    </tr>\n",
       "    <tr>\n",
       "      <th>6</th>\n",
       "      <td>subject_6</td>\n",
       "      <td>right</td>\n",
       "      <td>44.565002</td>\n",
       "      <td>0.840310</td>\n",
       "    </tr>\n",
       "    <tr>\n",
       "      <th>10</th>\n",
       "      <td>subject_10</td>\n",
       "      <td>right</td>\n",
       "      <td>48.152161</td>\n",
       "      <td>0.904064</td>\n",
       "    </tr>\n",
       "    <tr>\n",
       "      <th>27</th>\n",
       "      <td>subject_27</td>\n",
       "      <td>left</td>\n",
       "      <td>51.699550</td>\n",
       "      <td>1.164729</td>\n",
       "    </tr>\n",
       "    <tr>\n",
       "      <th>18</th>\n",
       "      <td>subject_18</td>\n",
       "      <td>left</td>\n",
       "      <td>61.032168</td>\n",
       "      <td>1.569175</td>\n",
       "    </tr>\n",
       "    <tr>\n",
       "      <th>5</th>\n",
       "      <td>subject_5</td>\n",
       "      <td>right</td>\n",
       "      <td>64.078683</td>\n",
       "      <td>1.065959</td>\n",
       "    </tr>\n",
       "    <tr>\n",
       "      <th>22</th>\n",
       "      <td>subject_22</td>\n",
       "      <td>left</td>\n",
       "      <td>69.324314</td>\n",
       "      <td>0.950270</td>\n",
       "    </tr>\n",
       "    <tr>\n",
       "      <th>0</th>\n",
       "      <td>subject_0</td>\n",
       "      <td>left</td>\n",
       "      <td>70.580126</td>\n",
       "      <td>1.263973</td>\n",
       "    </tr>\n",
       "    <tr>\n",
       "      <th>3</th>\n",
       "      <td>subject_3</td>\n",
       "      <td>left</td>\n",
       "      <td>87.201362</td>\n",
       "      <td>1.336311</td>\n",
       "    </tr>\n",
       "    <tr>\n",
       "      <th>20</th>\n",
       "      <td>subject_20</td>\n",
       "      <td>left</td>\n",
       "      <td>88.320094</td>\n",
       "      <td>1.371989</td>\n",
       "    </tr>\n",
       "    <tr>\n",
       "      <th>12</th>\n",
       "      <td>subject_12</td>\n",
       "      <td>left</td>\n",
       "      <td>93.043407</td>\n",
       "      <td>1.528660</td>\n",
       "    </tr>\n",
       "    <tr>\n",
       "      <th>17</th>\n",
       "      <td>subject_17</td>\n",
       "      <td>right</td>\n",
       "      <td>93.912519</td>\n",
       "      <td>1.358575</td>\n",
       "    </tr>\n",
       "    <tr>\n",
       "      <th>24</th>\n",
       "      <td>subject_24</td>\n",
       "      <td>left</td>\n",
       "      <td>94.951345</td>\n",
       "      <td>1.346423</td>\n",
       "    </tr>\n",
       "    <tr>\n",
       "      <th>2</th>\n",
       "      <td>subject_2</td>\n",
       "      <td>left</td>\n",
       "      <td>99.202795</td>\n",
       "      <td>1.511277</td>\n",
       "    </tr>\n",
       "    <tr>\n",
       "      <th>28</th>\n",
       "      <td>subject_28</td>\n",
       "      <td>right</td>\n",
       "      <td>100.014528</td>\n",
       "      <td>1.313489</td>\n",
       "    </tr>\n",
       "    <tr>\n",
       "      <th>9</th>\n",
       "      <td>subject_9</td>\n",
       "      <td>right</td>\n",
       "      <td>100.702257</td>\n",
       "      <td>1.418252</td>\n",
       "    </tr>\n",
       "    <tr>\n",
       "      <th>11</th>\n",
       "      <td>subject_11</td>\n",
       "      <td>right</td>\n",
       "      <td>101.415610</td>\n",
       "      <td>1.799566</td>\n",
       "    </tr>\n",
       "    <tr>\n",
       "      <th>8</th>\n",
       "      <td>subject_8</td>\n",
       "      <td>right</td>\n",
       "      <td>104.852869</td>\n",
       "      <td>1.519087</td>\n",
       "    </tr>\n",
       "    <tr>\n",
       "      <th>1</th>\n",
       "      <td>subject_1</td>\n",
       "      <td>left</td>\n",
       "      <td>110.656984</td>\n",
       "      <td>1.826214</td>\n",
       "    </tr>\n",
       "    <tr>\n",
       "      <th>25</th>\n",
       "      <td>subject_25</td>\n",
       "      <td>left</td>\n",
       "      <td>117.129835</td>\n",
       "      <td>1.587076</td>\n",
       "    </tr>\n",
       "    <tr>\n",
       "      <th>7</th>\n",
       "      <td>subject_7</td>\n",
       "      <td>left</td>\n",
       "      <td>133.592562</td>\n",
       "      <td>1.625138</td>\n",
       "    </tr>\n",
       "  </tbody>\n",
       "</table>\n",
       "</div>"
      ],
      "text/plain": [
       "       subject handedness          RT  accuracy\n",
       "21  subject_21      right   20.995597  0.933407\n",
       "13  subject_13      right   23.495276  1.004759\n",
       "4    subject_4       left   24.844587  0.805203\n",
       "26  subject_26      right   29.903162  0.946232\n",
       "14  subject_14       left   34.449013  1.079121\n",
       "15  subject_15      right   37.774315  1.062964\n",
       "29  subject_29      right   39.987908  0.920822\n",
       "23  subject_23      right   40.363717  1.270611\n",
       "19  subject_19      right   43.169640  0.999190\n",
       "16  subject_16      right   43.991676  1.253786\n",
       "6    subject_6      right   44.565002  0.840310\n",
       "10  subject_10      right   48.152161  0.904064\n",
       "27  subject_27       left   51.699550  1.164729\n",
       "18  subject_18       left   61.032168  1.569175\n",
       "5    subject_5      right   64.078683  1.065959\n",
       "22  subject_22       left   69.324314  0.950270\n",
       "0    subject_0       left   70.580126  1.263973\n",
       "3    subject_3       left   87.201362  1.336311\n",
       "20  subject_20       left   88.320094  1.371989\n",
       "12  subject_12       left   93.043407  1.528660\n",
       "17  subject_17      right   93.912519  1.358575\n",
       "24  subject_24       left   94.951345  1.346423\n",
       "2    subject_2       left   99.202795  1.511277\n",
       "28  subject_28      right  100.014528  1.313489\n",
       "9    subject_9      right  100.702257  1.418252\n",
       "11  subject_11      right  101.415610  1.799566\n",
       "8    subject_8      right  104.852869  1.519087\n",
       "1    subject_1       left  110.656984  1.826214\n",
       "25  subject_25       left  117.129835  1.587076\n",
       "7    subject_7       left  133.592562  1.625138"
      ]
     },
     "execution_count": 8,
     "metadata": {},
     "output_type": "execute_result"
    }
   ],
   "source": [
    "# sort the dataframe by RT:\n",
    "df.sort_values(by=\"RT\")"
   ]
  },
  {
   "cell_type": "code",
   "execution_count": 10,
   "id": "f400f63d",
   "metadata": {
    "is_executing": true
   },
   "outputs": [
    {
     "data": {
      "text/plain": [
       "RT          69.113435\n",
       "accuracy     1.252554\n",
       "dtype: float64"
      ]
     },
     "execution_count": 10,
     "metadata": {},
     "output_type": "execute_result"
    }
   ],
   "source": [
    "# Compute the mean and standard deviation of the RT and accuracy across the dataset:\n",
    "df[[\"RT\", \"accuracy\"]].mean()"
   ]
  },
  {
   "cell_type": "code",
   "execution_count": 17,
   "id": "9ba8c60e",
   "metadata": {
    "is_executing": true
   },
   "outputs": [],
   "source": [
    "# Use indexing to select the RT of the left-handed subjects, and compute its 90% percentile:\n",
    "lefthand_rt_90perc = df.loc[df[\"handedness\"] == \"left\", \"RT\"].quantile(0.9)"
   ]
  },
  {
   "cell_type": "code",
   "execution_count": 19,
   "id": "5544450f",
   "metadata": {
    "is_executing": true
   },
   "outputs": [
    {
     "data": {
      "text/plain": [
       "7     1.625138\n",
       "25    1.587076\n",
       "Name: accuracy, dtype: float64"
      ]
     },
     "execution_count": 19,
     "metadata": {},
     "output_type": "execute_result"
    }
   ],
   "source": [
    "# Now use the percentile to select the accuracy for left-handed subjects with RT above the 90% percentile:\n",
    "lefthanded_df = df[df[\"handedness\"] == \"left\"]\n",
    "lefthanded_df.loc[lefthanded_df[\"RT\"] > lefthand_rt_90perc, \"accuracy\"]"
   ]
  },
  {
   "cell_type": "code",
   "execution_count": 20,
   "id": "23f238b4",
   "metadata": {
    "is_executing": true
   },
   "outputs": [
    {
     "data": {
      "text/plain": [
       "<Axes: xlabel='RT', ylabel='accuracy'>"
      ]
     },
     "execution_count": 20,
     "metadata": {},
     "output_type": "execute_result"
    },
    {
     "data": {
      "image/png": "[encoded data removed]",
      "text/plain": [
       "<Figure size 640x480 with 1 Axes>"
      ]
     },
     "metadata": {},
     "output_type": "display_data"
    }
   ],
   "source": [
    "# Create a scatter plot of RT vs accuracy for the right-handed subjects:\n",
    "righthanded_df = df[df[\"handedness\"] == \"right\"]\n",
    "righthanded_df.plot(kind=\"scatter\", x=\"RT\", y=\"accuracy\")"
   ]
  },
  {
   "cell_type": "code",
   "execution_count": 21,
   "id": "291a2f1c",
   "metadata": {
    "is_executing": true
   },
   "outputs": [],
   "source": [
    "# Take the meteo dataset using the function below\n",
    "def get_meteo_dataset():\n",
    "    \"\"\"Get the meteo dataset from the open-meteo API.\n",
    "    Note how easy it is to get data from the web with pandas! As long as we give the URL of the csv data, pandas can read it.\n",
    "    \"\"\"\n",
    "    np.random.seed(42)\n",
    "    URL = \"https://api.open-meteo.com/v1/forecast?latitude=52.52&longitude=13.41&hourly=temperature_2m,relativehumidity_2m,precipitation,windspeed_10m,winddirection_10m&start_date=2023-02-01&end_date=2023-05-28&format=csv\"\n",
    "    df = pd.read_csv(URL, skiprows=3)  # read the csv file, skipping the first 3 rows (a header)\n",
    "    df.columns = [col.split(\" \")[0] for col in df.columns]  # simplify column names\n",
    "    df[\"time\"] = pd.to_datetime(df[\"time\"])  # convert the time column to datetime\n",
    "    df[\"hour\"], df[\"dayofyear\"] = df[\"time\"].dt.hour, df[\"time\"].dt.dayofyear  # extract the hour and day of year\n",
    "    df[\"weekdays\"] = df[\"time\"].dt.day_name()  # extract the day of the week\n",
    "\n",
    "    # Here we artificially corrupt some of the data to make it more interesting\n",
    "    missing_idx = np.random.choice(df.index[:1000], 100)\n",
    "    df.loc[missing_idx, :] = np.nan\n",
    "    return df\n",
    "\n",
    "meteo_df = get_meteo_dataset()"
   ]
  },
  {
   "cell_type": "code",
   "execution_count": 22,
   "id": "3b74c498",
   "metadata": {},
   "outputs": [
    {
     "data": {
      "text/html": [
       "<div>\n",
       "<style scoped>\n",
       "    .dataframe tbody tr th:only-of-type {\n",
       "        vertical-align: middle;\n",
       "    }\n",
       "\n",
       "    .dataframe tbody tr th {\n",
       "        vertical-align: top;\n",
       "    }\n",
       "\n",
       "    .dataframe thead th {\n",
       "        text-align: right;\n",
       "    }\n",
       "</style>\n",
       "<table border=\"1\" class=\"dataframe\">\n",
       "  <thead>\n",
       "    <tr style=\"text-align: right;\">\n",
       "      <th></th>\n",
       "      <th>time</th>\n",
       "      <th>temperature_2m</th>\n",
       "      <th>relativehumidity_2m</th>\n",
       "      <th>precipitation</th>\n",
       "      <th>windspeed_10m</th>\n",
       "      <th>winddirection_10m</th>\n",
       "      <th>hour</th>\n",
       "      <th>dayofyear</th>\n",
       "      <th>weekdays</th>\n",
       "    </tr>\n",
       "  </thead>\n",
       "  <tbody>\n",
       "    <tr>\n",
       "      <th>0</th>\n",
       "      <td>2023-02-01 00:00:00</td>\n",
       "      <td>4.6</td>\n",
       "      <td>77.0</td>\n",
       "      <td>0.1</td>\n",
       "      <td>20.9</td>\n",
       "      <td>274.0</td>\n",
       "      <td>0.0</td>\n",
       "      <td>32.0</td>\n",
       "      <td>Wednesday</td>\n",
       "    </tr>\n",
       "    <tr>\n",
       "      <th>1</th>\n",
       "      <td>NaT</td>\n",
       "      <td>NaN</td>\n",
       "      <td>NaN</td>\n",
       "      <td>NaN</td>\n",
       "      <td>NaN</td>\n",
       "      <td>NaN</td>\n",
       "      <td>NaN</td>\n",
       "      <td>NaN</td>\n",
       "      <td>NaN</td>\n",
       "    </tr>\n",
       "    <tr>\n",
       "      <th>2</th>\n",
       "      <td>2023-02-01 02:00:00</td>\n",
       "      <td>4.5</td>\n",
       "      <td>74.0</td>\n",
       "      <td>0.0</td>\n",
       "      <td>20.5</td>\n",
       "      <td>273.0</td>\n",
       "      <td>2.0</td>\n",
       "      <td>32.0</td>\n",
       "      <td>Wednesday</td>\n",
       "    </tr>\n",
       "    <tr>\n",
       "      <th>3</th>\n",
       "      <td>2023-02-01 03:00:00</td>\n",
       "      <td>4.4</td>\n",
       "      <td>77.0</td>\n",
       "      <td>0.0</td>\n",
       "      <td>18.4</td>\n",
       "      <td>269.0</td>\n",
       "      <td>3.0</td>\n",
       "      <td>32.0</td>\n",
       "      <td>Wednesday</td>\n",
       "    </tr>\n",
       "    <tr>\n",
       "      <th>4</th>\n",
       "      <td>2023-02-01 04:00:00</td>\n",
       "      <td>4.3</td>\n",
       "      <td>77.0</td>\n",
       "      <td>0.0</td>\n",
       "      <td>17.1</td>\n",
       "      <td>262.0</td>\n",
       "      <td>4.0</td>\n",
       "      <td>32.0</td>\n",
       "      <td>Wednesday</td>\n",
       "    </tr>\n",
       "    <tr>\n",
       "      <th>...</th>\n",
       "      <td>...</td>\n",
       "      <td>...</td>\n",
       "      <td>...</td>\n",
       "      <td>...</td>\n",
       "      <td>...</td>\n",
       "      <td>...</td>\n",
       "      <td>...</td>\n",
       "      <td>...</td>\n",
       "      <td>...</td>\n",
       "    </tr>\n",
       "    <tr>\n",
       "      <th>2803</th>\n",
       "      <td>2023-05-28 19:00:00</td>\n",
       "      <td>24.7</td>\n",
       "      <td>53.0</td>\n",
       "      <td>0.0</td>\n",
       "      <td>19.3</td>\n",
       "      <td>99.0</td>\n",
       "      <td>19.0</td>\n",
       "      <td>148.0</td>\n",
       "      <td>Sunday</td>\n",
       "    </tr>\n",
       "    <tr>\n",
       "      <th>2804</th>\n",
       "      <td>2023-05-28 20:00:00</td>\n",
       "      <td>23.3</td>\n",
       "      <td>60.0</td>\n",
       "      <td>0.0</td>\n",
       "      <td>18.9</td>\n",
       "      <td>99.0</td>\n",
       "      <td>20.0</td>\n",
       "      <td>148.0</td>\n",
       "      <td>Sunday</td>\n",
       "    </tr>\n",
       "    <tr>\n",
       "      <th>2805</th>\n",
       "      <td>2023-05-28 21:00:00</td>\n",
       "      <td>22.0</td>\n",
       "      <td>66.0</td>\n",
       "      <td>0.0</td>\n",
       "      <td>18.5</td>\n",
       "      <td>98.0</td>\n",
       "      <td>21.0</td>\n",
       "      <td>148.0</td>\n",
       "      <td>Sunday</td>\n",
       "    </tr>\n",
       "    <tr>\n",
       "      <th>2806</th>\n",
       "      <td>2023-05-28 22:00:00</td>\n",
       "      <td>21.1</td>\n",
       "      <td>71.0</td>\n",
       "      <td>0.0</td>\n",
       "      <td>17.8</td>\n",
       "      <td>97.0</td>\n",
       "      <td>22.0</td>\n",
       "      <td>148.0</td>\n",
       "      <td>Sunday</td>\n",
       "    </tr>\n",
       "    <tr>\n",
       "      <th>2807</th>\n",
       "      <td>2023-05-28 23:00:00</td>\n",
       "      <td>20.4</td>\n",
       "      <td>75.0</td>\n",
       "      <td>0.0</td>\n",
       "      <td>16.7</td>\n",
       "      <td>96.0</td>\n",
       "      <td>23.0</td>\n",
       "      <td>148.0</td>\n",
       "      <td>Sunday</td>\n",
       "    </tr>\n",
       "  </tbody>\n",
       "</table>\n",
       "<p>2808 rows × 9 columns</p>\n",
       "</div>"
      ],
      "text/plain": [
       "                    time  temperature_2m  relativehumidity_2m  precipitation   \n",
       "0    2023-02-01 00:00:00             4.6                 77.0            0.1  \\\n",
       "1                    NaT             NaN                  NaN            NaN   \n",
       "2    2023-02-01 02:00:00             4.5                 74.0            0.0   \n",
       "3    2023-02-01 03:00:00             4.4                 77.0            0.0   \n",
       "4    2023-02-01 04:00:00             4.3                 77.0            0.0   \n",
       "...                  ...             ...                  ...            ...   \n",
       "2803 2023-05-28 19:00:00            24.7                 53.0            0.0   \n",
       "2804 2023-05-28 20:00:00            23.3                 60.0            0.0   \n",
       "2805 2023-05-28 21:00:00            22.0                 66.0            0.0   \n",
       "2806 2023-05-28 22:00:00            21.1                 71.0            0.0   \n",
       "2807 2023-05-28 23:00:00            20.4                 75.0            0.0   \n",
       "\n",
       "      windspeed_10m  winddirection_10m  hour  dayofyear   weekdays  \n",
       "0              20.9              274.0   0.0       32.0  Wednesday  \n",
       "1               NaN                NaN   NaN        NaN        NaN  \n",
       "2              20.5              273.0   2.0       32.0  Wednesday  \n",
       "3              18.4              269.0   3.0       32.0  Wednesday  \n",
       "4              17.1              262.0   4.0       32.0  Wednesday  \n",
       "...             ...                ...   ...        ...        ...  \n",
       "2803           19.3               99.0  19.0      148.0     Sunday  \n",
       "2804           18.9               99.0  20.0      148.0     Sunday  \n",
       "2805           18.5               98.0  21.0      148.0     Sunday  \n",
       "2806           17.8               97.0  22.0      148.0     Sunday  \n",
       "2807           16.7               96.0  23.0      148.0     Sunday  \n",
       "\n",
       "[2808 rows x 9 columns]"
      ]
     },
     "execution_count": 22,
     "metadata": {},
     "output_type": "execute_result"
    }
   ],
   "source": [
    "meteo_df "
   ]
  },
  {
   "cell_type": "code",
   "execution_count": 24,
   "id": "c4c78a9b",
   "metadata": {
    "is_executing": true
   },
   "outputs": [
    {
     "data": {
      "text/plain": [
       "<Axes: >"
      ]
     },
     "execution_count": 24,
     "metadata": {},
     "output_type": "execute_result"
    },
    {
     "data": {
      "image/png": "[encoded data removed]",
      "text/plain": [
       "<Figure size 640x480 with 1 Axes>"
      ]
     },
     "metadata": {},
     "output_type": "display_data"
    }
   ],
   "source": [
    "# Plot the temperature and relative humidity for the first 1000 time points. \n",
    "# Find points where there's missing data (interrupted line).\n",
    "meteo_df.loc[:1000, \"temperature_2m\"].plot()"
   ]
  },
  {
   "cell_type": "code",
   "execution_count": 25,
   "id": "599b76c3",
   "metadata": {},
   "outputs": [],
   "source": [
    "# Create a new interpolated temperature column by interpolating the temperature column of the dataframe:\n",
    "meteo_df[\"temperature_2m_interp\"] = meteo_df[\"temperature_2m\"].interpolate()"
   ]
  },
  {
   "cell_type": "code",
   "execution_count": 27,
   "id": "805126a9",
   "metadata": {},
   "outputs": [
    {
     "data": {
      "text/plain": [
       "<Axes: >"
      ]
     },
     "execution_count": 27,
     "metadata": {},
     "output_type": "execute_result"
    },
    {
     "data": {
      "image/png": "[encoded data removed]",
      "text/plain": [
       "<Figure size 640x480 with 1 Axes>"
      ]
     },
     "metadata": {},
     "output_type": "display_data"
    }
   ],
   "source": [
    "# Make a new plot with the interpolated temperature and the non-interpolated temperature \n",
    "# (plot the interpolated first!)\n",
    "meteo_df.loc[:1000, \"temperature_2m_interp\"].plot()\n",
    "meteo_df.loc[:1000, \"temperature_2m\"].plot()"
   ]
  },
  {
   "cell_type": "code",
   "execution_count": null,
   "id": "08b1a71e",
   "metadata": {},
   "outputs": [],
   "source": []
  }
 ],
 "metadata": {
  "kernelspec": {
   "display_name": "Python [conda env:course_env]",
   "language": "python",
   "name": "conda-env-course_env-py"
  },
  "language_info": {
   "codemirror_mode": {
    "name": "ipython",
    "version": 3
   },
   "file_extension": ".py",
   "mimetype": "text/x-python",
   "name": "python",
   "nbconvert_exporter": "python",
   "pygments_lexer": "ipython3",
   "version": "3.9.16"
  }
 },
 "nbformat": 4,
 "nbformat_minor": 5
}
