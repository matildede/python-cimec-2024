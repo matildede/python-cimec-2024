{
 "cells": [
  {
   "cell_type": "markdown",
   "id": "03a44e75",
   "metadata": {},
   "source": [
    "# Practicals for lecture 0.4\n",
    "\n",
    "[![Open In Colab](https://colab.research.google.com/assets/colab-badge.svg)](https://colab.research.google.com/github/vigji/python-cimec/blob/main/practicals/Practicals_0.4.ipynb)"
   ]
  },
  {
   "cell_type": "markdown",
   "id": "2d2a4f38",
   "metadata": {},
   "source": [
    "## Classes and objects"
   ]
  },
  {
   "cell_type": "markdown",
   "id": "99d801e0",
   "metadata": {},
   "source": [
    "#### 0.4.0 Explore objects with `dir` and `getattr`"
   ]
  },
  {
   "cell_type": "code",
   "execution_count": 4,
   "id": "a8c945b0",
   "metadata": {},
   "outputs": [
    {
     "data": {
      "text/plain": [
       "['__add__',\n",
       " '__class__',\n",
       " '__contains__',\n",
       " '__delattr__',\n",
       " '__dir__',\n",
       " '__doc__',\n",
       " '__eq__',\n",
       " '__format__',\n",
       " '__ge__',\n",
       " '__getattribute__',\n",
       " '__getitem__',\n",
       " '__getnewargs__',\n",
       " '__gt__',\n",
       " '__hash__',\n",
       " '__init__',\n",
       " '__init_subclass__',\n",
       " '__iter__',\n",
       " '__le__',\n",
       " '__len__',\n",
       " '__lt__',\n",
       " '__mod__',\n",
       " '__mul__',\n",
       " '__ne__',\n",
       " '__new__',\n",
       " '__reduce__',\n",
       " '__reduce_ex__',\n",
       " '__repr__',\n",
       " '__rmod__',\n",
       " '__rmul__',\n",
       " '__setattr__',\n",
       " '__sizeof__',\n",
       " '__str__',\n",
       " '__subclasshook__',\n",
       " 'capitalize',\n",
       " 'casefold',\n",
       " 'center',\n",
       " 'count',\n",
       " 'encode',\n",
       " 'endswith',\n",
       " 'expandtabs',\n",
       " 'find',\n",
       " 'format',\n",
       " 'format_map',\n",
       " 'index',\n",
       " 'isalnum',\n",
       " 'isalpha',\n",
       " 'isascii',\n",
       " 'isdecimal',\n",
       " 'isdigit',\n",
       " 'isidentifier',\n",
       " 'islower',\n",
       " 'isnumeric',\n",
       " 'isprintable',\n",
       " 'isspace',\n",
       " 'istitle',\n",
       " 'isupper',\n",
       " 'join',\n",
       " 'ljust',\n",
       " 'lower',\n",
       " 'lstrip',\n",
       " 'maketrans',\n",
       " 'partition',\n",
       " 'removeprefix',\n",
       " 'removesuffix',\n",
       " 'replace',\n",
       " 'rfind',\n",
       " 'rindex',\n",
       " 'rjust',\n",
       " 'rpartition',\n",
       " 'rsplit',\n",
       " 'rstrip',\n",
       " 'split',\n",
       " 'splitlines',\n",
       " 'startswith',\n",
       " 'strip',\n",
       " 'swapcase',\n",
       " 'title',\n",
       " 'translate',\n",
       " 'upper',\n",
       " 'zfill']"
      ]
     },
     "execution_count": 4,
     "metadata": {},
     "output_type": "execute_result"
    }
   ],
   "source": [
    "# Use dir to make a list of all the attributes of a string variable:\n",
    "\n",
    "a_string = \"an innocent string\"\n",
    "dir(a_string)"
   ]
  },
  {
   "cell_type": "code",
   "execution_count": null,
   "id": "524fd225",
   "metadata": {},
   "outputs": [],
   "source": [
    "# Now loop over this list and use getattr to get each attribute from the list:\n",
    "\n",
    "for attribute_name in dir(a_string):\n",
    "    print(getattr(a_string, attribute_name))"
   ]
  },
  {
   "cell_type": "code",
   "execution_count": 8,
   "id": "0b2df885",
   "metadata": {},
   "outputs": [
    {
     "data": {
      "text/plain": [
       "'AN INNOCENT STRING'"
      ]
     },
     "execution_count": 8,
     "metadata": {},
     "output_type": "execute_result"
    }
   ],
   "source": [
    "a_string.upper()"
   ]
  },
  {
   "cell_type": "code",
   "execution_count": 9,
   "id": "f97a6811",
   "metadata": {},
   "outputs": [
    {
     "data": {
      "text/plain": [
       "['an', 'innocent', 'string']"
      ]
     },
     "execution_count": 9,
     "metadata": {},
     "output_type": "execute_result"
    }
   ],
   "source": [
    "a_method = getattr(a_string, \"split\")\n",
    "a_method(\" \")"
   ]
  },
  {
   "cell_type": "code",
   "execution_count": 12,
   "id": "a0141fe8",
   "metadata": {},
   "outputs": [
    {
     "name": "stdout",
     "output_type": "stream",
     "text": [
      "__add__ is callable\n",
      "__class__ is callable\n",
      "__contains__ is callable\n",
      "__delattr__ is callable\n",
      "__dir__ is callable\n",
      "__doc__ is not callable\n",
      "__eq__ is callable\n",
      "__format__ is callable\n",
      "__ge__ is callable\n",
      "__getattribute__ is callable\n",
      "__getitem__ is callable\n",
      "__getnewargs__ is callable\n",
      "__gt__ is callable\n",
      "__hash__ is callable\n",
      "__init__ is callable\n",
      "__init_subclass__ is callable\n",
      "__iter__ is callable\n",
      "__le__ is callable\n",
      "__len__ is callable\n",
      "__lt__ is callable\n",
      "__mod__ is callable\n",
      "__mul__ is callable\n",
      "__ne__ is callable\n",
      "__new__ is callable\n",
      "__reduce__ is callable\n",
      "__reduce_ex__ is callable\n",
      "__repr__ is callable\n",
      "__rmod__ is callable\n",
      "__rmul__ is callable\n",
      "__setattr__ is callable\n",
      "__sizeof__ is callable\n",
      "__str__ is callable\n",
      "__subclasshook__ is callable\n",
      "capitalize is callable\n",
      "casefold is callable\n",
      "center is callable\n",
      "count is callable\n",
      "encode is callable\n",
      "endswith is callable\n",
      "expandtabs is callable\n",
      "find is callable\n",
      "format is callable\n",
      "format_map is callable\n",
      "index is callable\n",
      "isalnum is callable\n",
      "isalpha is callable\n",
      "isascii is callable\n",
      "isdecimal is callable\n",
      "isdigit is callable\n",
      "isidentifier is callable\n",
      "islower is callable\n",
      "isnumeric is callable\n",
      "isprintable is callable\n",
      "isspace is callable\n",
      "istitle is callable\n",
      "isupper is callable\n",
      "join is callable\n",
      "ljust is callable\n",
      "lower is callable\n",
      "lstrip is callable\n",
      "maketrans is callable\n",
      "partition is callable\n",
      "removeprefix is callable\n",
      "removesuffix is callable\n",
      "replace is callable\n",
      "rfind is callable\n",
      "rindex is callable\n",
      "rjust is callable\n",
      "rpartition is callable\n",
      "rsplit is callable\n",
      "rstrip is callable\n",
      "split is callable\n",
      "splitlines is callable\n",
      "startswith is callable\n",
      "strip is callable\n",
      "swapcase is callable\n",
      "title is callable\n",
      "translate is callable\n",
      "upper is callable\n",
      "zfill is callable\n"
     ]
    }
   ],
   "source": [
    "# Do the same loop defined above, but now use the callable function\n",
    "# to split the list of attributes into callable (i.e., methods) and non-callable attributes.\n",
    "\n",
    "for attribute_name in dir(a_string):\n",
    "    attribute = getattr(a_string, attribute_name)\n",
    "    if callable(attribute):\n",
    "        text_to_format = \"is\"\n",
    "    else:\n",
    "        text_to_format = \"is not\"\n",
    "    print(f\"{attribute_name} {text_to_format} callable\")"
   ]
  },
  {
   "cell_type": "markdown",
   "id": "ca39eab1",
   "metadata": {},
   "source": [
    "#### 0.4.1 Create a new class"
   ]
  },
  {
   "cell_type": "code",
   "execution_count": null,
   "id": "37662804",
   "metadata": {},
   "outputs": [],
   "source": [
    "def polygon_perimeter(coordinates):\n",
    "    \"\"\"Compute the perimeter of a polygon.\"\"\"\n",
    "    pairwise_distances = []\n",
    "    for p1, p2 in zip(coordinates[:-1], coordinates[1:]):\n",
    "        pairwise_distances.append(pairwise_distance(p1, p2))\n",
    "\n",
    "    return sum(pairwise_distances)"
   ]
  },
  {
   "cell_type": "code",
   "execution_count": 12,
   "id": "19c01631",
   "metadata": {},
   "outputs": [
    {
     "data": {
      "text/plain": [
       "False"
      ]
     },
     "execution_count": 12,
     "metadata": {},
     "output_type": "execute_result"
    }
   ],
   "source": [
    "# Define a `Polygon` class that takes as inputs a list of coordinates\n",
    "# when it is created and keeps them in a `vertices` attribute:\n",
    "\n",
    "def pairwise_distance(point1, point2):\n",
    "    \"\"\"Compute the distance between pairs of 2D coordinates.\"\"\"\n",
    "    distance = ((point1[0] - point2[0]) ** 2 + (point1[1] - point2[1]) ** 2) ** (1 / 2)\n",
    "\n",
    "    return distance\n",
    "\n",
    "class Polygon:\n",
    "    \"\"\"Class describing a polygon with vertices.\"\"\"\n",
    "    \n",
    "    def __init__(self, vertices):\n",
    "        self.vertices = vertices\n",
    "        \n",
    "    def calculate_perimeter(self):\n",
    "        pairwise_distances = []\n",
    "        \n",
    "        for p1, p2 in zip(self.vertices[:-1], self.vertices[1:]):\n",
    "            pairwise_distances.append(pairwise_distance(p1, p2))\n",
    "\n",
    "        return sum(pairwise_distances)\n",
    "    \n",
    "    def __str__(self):\n",
    "        return f\"I am a polygon! My vertices are: {self.vertices}\"\n",
    "    \n",
    "    def __eq__(self, other_object):\n",
    "        # With try-except we avoid problems from comparisons with objects\n",
    "        # of different types:\n",
    "        try:  \n",
    "            return self.vertices == other_object.vertices \n",
    "        \n",
    "        except AttributeError:\n",
    "            return False\n",
    "        \n",
    "        \n",
    "vertices = [(0, 0), (1, 0), (1, 1), (0, 1), (0, 0)]\n",
    "\n",
    "a_polygon = Polygon(vertices)\n",
    "another_polygon = Polygon(vertices[:-1])\n",
    "\n",
    "a_polygon.calculate_perimeter()\n",
    "\n",
    "a_polygon == 1"
   ]
  },
  {
   "cell_type": "code",
   "execution_count": null,
   "id": "a1ba02f8",
   "metadata": {},
   "outputs": [],
   "source": [
    "# Now add a `calculate_perimeter()` method in the class above to calculate\n",
    "# the perimeter from the vertices list (you can use code from the last practical!)"
   ]
  },
  {
   "cell_type": "code",
   "execution_count": null,
   "id": "0d3326dd",
   "metadata": {},
   "outputs": [],
   "source": [
    "# Overwrite the `__str__()` method to print all the vertices\n",
    "# when the class is `print`ed"
   ]
  },
  {
   "cell_type": "code",
   "execution_count": null,
   "id": "0a41c6be",
   "metadata": {},
   "outputs": [],
   "source": [
    "# Overwrite the `__eq__()` method so that two polygons with the same vertices are\n",
    "# considered the same"
   ]
  },
  {
   "cell_type": "markdown",
   "id": "40a2bb89",
   "metadata": {},
   "source": [
    "#### 0.4.2 Inheritance"
   ]
  },
  {
   "cell_type": "code",
   "execution_count": null,
   "id": "8e1fbb22",
   "metadata": {},
   "outputs": [],
   "source": [
    "# Define a new `Square` class by subclassing the `Polygon class.\n",
    "# # `Square` takes as inputs an origin and a side_length argument,\n",
    "# calculates all the vertices positions in the `__init__()`, and\n",
    "# calls the parent `__init__()` with this list of vertices.\n",
    "\n",
    "\n",
    "..."
   ]
  },
  {
   "cell_type": "code",
   "execution_count": null,
   "id": "30cf7c47",
   "metadata": {},
   "outputs": [],
   "source": [
    "# Overwrite the `calculate_perimeter()` method to compute the perimeter more efficiently!"
   ]
  },
  {
   "cell_type": "code",
   "execution_count": null,
   "id": "aef16d90",
   "metadata": {},
   "outputs": [],
   "source": [
    "# Define a new `area` method to compute the area of the square!"
   ]
  }
 ],
 "metadata": {
  "kernelspec": {
   "display_name": "Python 3 (ipykernel)",
   "language": "python",
   "name": "python3"
  },
  "language_info": {
   "codemirror_mode": {
    "name": "ipython",
    "version": 3
   },
   "file_extension": ".py",
   "mimetype": "text/x-python",
   "name": "python",
   "nbconvert_exporter": "python",
   "pygments_lexer": "ipython3",
   "version": "3.9.13"
  }
 },
 "nbformat": 4,
 "nbformat_minor": 5
}
