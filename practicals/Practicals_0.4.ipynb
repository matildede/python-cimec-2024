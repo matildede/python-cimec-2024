{
 "cells": [
  {
   "cell_type": "markdown",
   "id": "622aecef",
   "metadata": {},
   "source": [
    "# Practicals for lecture 0.4\n",
    "\n",
    "[![Open In Colab](https://colab.research.google.com/assets/colab-badge.svg)](https://colab.research.google.com/github/vigji/python-cimec-2024/blob/main/practicals/Practicals_0.4.ipynb)"
   ]
  },
  {
   "cell_type": "markdown",
   "id": "290245a9",
   "metadata": {},
   "source": [
    "#### 0.4.0 Functions"
   ]
  },
  {
   "cell_type": "code",
   "execution_count": null,
   "id": "042ba945",
   "metadata": {},
   "outputs": [],
   "source": [
    "# Write a function that takes a string as an argument, \n",
    "# and returns a new list\n",
    "# where all words that are longer than 6 characters \n",
    "# are replaced with \"###\".\n",
    "\n",
    "# !! Important: make sure you do not change the original \n",
    "# string when calling the function!\n",
    "\n",
    "example_input = \"Like the entomologist in search of colorful butterflies, my attention has chased in the gardens of the grey matter cells with delicate and elegant shapes, the mysterious butterflies of the soul, whose beating of wings may one day reveal to us the secrets of the mind.\"\n",
    "\n",
    "\n",
    "def redact_long_words(text):\n",
    "    \"\"\"Redact long words out of a piece of text.\n",
    "\n",
    "    Parameters:\n",
    "        text : str\n",
    "            The input original text\n",
    "\n",
    "    Returns:\n",
    "        str : The redacted text\n",
    "\n",
    "    \"\"\"\n",
    "\n",
    "    ..."
   ]
  },
  {
   "cell_type": "code",
   "execution_count": null,
   "id": "a1e0f179",
   "metadata": {},
   "outputs": [],
   "source": [
    "# Write a function that calculates the perimeter of an arbitrary polygon!\n",
    "# We can describe any polygon with a list of the coordinates of its vertices.\n",
    "\n",
    "# Write a function that takes as input a list of coordinates (each element\n",
    "# should be a list - or tuple! - containing two numbers, position over x and y),\n",
    "# and returns the perimeter of the polygon described by those vertices!\n",
    "# Hint: divide this operation over two functions: one to calculate the distances \n",
    "# between a polygon's vertices, the other to...\"   \n",
    "\n",
    "# Test it on a simple shape like a square to check if the solution is correct.\n",
    "\n",
    "square_coordinates = [(0, 0), (1, 0), (1, 1), (0, 1), (0, 0)]\n",
    "\n",
    "\n",
    "def pairwise_distance(...):\n",
    "    ...\n",
    "\n",
    "\n",
    "def polygon_perimeter(...):\n",
    "    ...\n",
    "...\n"
   ]
  },
  {
   "cell_type": "code",
   "execution_count": null,
   "id": "2b00072d-df45-4cb7-8e0a-7b68e3e4605d",
   "metadata": {
    "tags": []
   },
   "outputs": [],
   "source": [
    "# [ADVANCED (Credits to Matteo)]: if you finished early all exercises below, \n",
    "# and want a further challenge, you can try to:\n",
    "# 1) Write another function to calculate the polygon's area\n",
    "\n",
    "# 2) Apply the concept of distance to something more complex than plain geometry. \n",
    "#    Can you write a function that computes pairwise distances between points in spaces of an arbitrary \n",
    "#    number of dimensions?\n",
    "\n",
    "# 3) Write a function that returns the pairwise distance matrix across all pairs of points\n",
    "#    in a list of points that is passed as the argument. Make sure it works for points in spaces\n",
    "#    with an arbitrary number of dimensions.\n"
   ]
  },
  {
   "cell_type": "code",
   "execution_count": null,
   "id": "25918a37",
   "metadata": {
    "tags": []
   },
   "outputs": [],
   "source": [
    "# Write a function that takes as input a list, and returnes a Z-scored version of it\n",
    "# (z-scoring means trasforming so to have mean 0 and standard dev. 1).\n",
    "# Do not import functions from modules! \n",
    "# To do so, we will split the code over multiple functions:\n",
    "\n",
    "data_list = [2.1, 1.3, 4, 0.5, 2.7, 3.1]\n",
    "\n",
    "\n",
    "def mean(a_list):\n",
    "    \"\"\"Compute the mean of a list.\"\"\"\n",
    "    ...\n",
    "\n",
    "\n",
    "def std(a_list):\n",
    "    \"\"\"Compute the standard deviation of a list.\"\"\"\n",
    "    ...\n",
    "\n",
    "\n",
    "def z_score(a_list):\n",
    "    \"\"\"Z-score a list.\"\"\"\n",
    "    ...\n"
   ]
  },
  {
   "cell_type": "code",
   "execution_count": null,
   "id": "c281f5bc-0ed4-4720-8aa1-9ec079618008",
   "metadata": {},
   "outputs": [],
   "source": [
    "# [ADVANCED (Credits to Matteo)]: if you finished early all exercises below, \n",
    "# and want a further challenge, you can try to:\n",
    "# 1) Write another function to generate a list of random data points \n",
    "# (i.e., fill up the 'data_list' variable above\n",
    "#    with random values instead of manually inserted values)\n",
    "\n",
    "\n",
    "# 2) Write another function that generates random values from one of \n",
    "# several distributions (e.g., Normal, uniform, etc.), depending on \n",
    "# an input you provide it with (imagine it being a string with the distribution name,\n",
    "# and maybe the number of datapoints you want to generate).\n",
    "# Make sure you generate the right number of random values and return them in some data container form"
   ]
  },
  {
   "cell_type": "code",
   "execution_count": null,
   "id": "8d1d81fa",
   "metadata": {},
   "outputs": [],
   "source": [
    "# Encapsulate the Netflix session generator from last lecture\n",
    "# inside a function that takes as arguments \n",
    "# all the parameters (probability, cliffhanger probability, etc.)\n",
    "# and returns the number of watched episodes.\n",
    "\n",
    "# Define it in a way that the cliffhanger effect can be inactivated in\n",
    "# the simulation if the cliffhanger_prob argument is set to None:\n",
    "\n",
    "import random\n",
    "\n",
    "\n",
    "def netflix_simulator(\n",
    "    max_score=10, crappiness_threshold=3, cliffhanger_prob=0.2\n",
    "):\n",
    "    \"\"\"Simulate a session of Netflix binging.\n",
    "    \"\"\"\n",
    "    ...\n",
    "\n",
    "\n",
    "netflix_simulator()"
   ]
  },
  {
   "cell_type": "code",
   "execution_count": null,
   "id": "58e9ce9d",
   "metadata": {},
   "outputs": [],
   "source": [
    "# Go over all the previously defined functions and \n",
    "# make sure they stick to the principles we have\n",
    "# been introducing:\n",
    "#  - meaningful variable names\n",
    "#  - non-duplicated, readable code\n",
    "#\n",
    "# Make also sure all functions have an informative docstring \n",
    "# that describes parameters and output!"
   ]
  },
  {
   "cell_type": "markdown",
   "id": "99d801e0",
   "metadata": {},
   "source": [
    "#### 0.4.1 Classes and objects"
   ]
  },
  {
   "cell_type": "code",
   "execution_count": 2,
   "id": "c750891d",
   "metadata": {},
   "outputs": [],
   "source": [
    "# Here is code implementing the definition of a Book class.\n",
    "# You do not have to look at it now - we will talk about class definition\n",
    "# in the next lecture!\n",
    "\n",
    "class Book:\n",
    "    \"\"\"Class representing a book.\n",
    "    \n",
    "    Arguments\n",
    "    =========\n",
    "    title : str\n",
    "       The title of the book\n",
    "    author : str\n",
    "       The author of the book\n",
    "    pages : int\n",
    "       The number of pages\n",
    "    \n",
    "    Methods\n",
    "    =======\n",
    "    \n",
    "    open_book: change the is_open status of the book to True\n",
    "    \n",
    "    close_book: change the is_open status of the book to False\n",
    "    \n",
    "    read_page: move current_page bookmark after having checked is_open status\n",
    "    \n",
    "    \"\"\"\n",
    "    def __init__(self, title, author, pages):\n",
    "        self.title = title\n",
    "        self.author = author\n",
    "        self.pages = pages\n",
    "        self.is_open = False\n",
    "        self.current_page = 1\n",
    "\n",
    "    def open_book(self):\n",
    "        self.is_open = True\n",
    "        print(f\"The book '{self.title}' is now open.\")\n",
    "\n",
    "    def close_book(self):\n",
    "        self.is_open = False\n",
    "        print(f\"The book '{self.title}' has been closed.\")\n",
    "\n",
    "    def read_page(self):\n",
    "        if not self.is_open:\n",
    "            print(f\"You need to open the book '{self.title}' first!\")\n",
    "            return\n",
    "        print(f\"Reading page {self.current_page} of '{self.title}'.\")\n",
    "        self.current_page += 1\n",
    "        if self.current_page > self.pages:\n",
    "            print(\"You have finished the book!\")\n",
    "            self.close_book()"
   ]
  },
  {
   "cell_type": "code",
   "execution_count": 3,
   "id": "38581149",
   "metadata": {},
   "outputs": [],
   "source": [
    "# Instantiate an object from the book class! Let's say, lord_of_the_rings.\n",
    "# You can check out the docs with ?Book to know what you should be passing to it:\n"
   ]
  },
  {
   "cell_type": "code",
   "execution_count": null,
   "id": "b7e1cdf6",
   "metadata": {},
   "outputs": [],
   "source": [
    "# Print out all attributes of the book object:\n"
   ]
  },
  {
   "cell_type": "code",
   "execution_count": null,
   "id": "ee22c4d5",
   "metadata": {},
   "outputs": [],
   "source": [
    "# Print out the value of the `is_open` attribute for the object:\n"
   ]
  },
  {
   "cell_type": "code",
   "execution_count": null,
   "id": "c6c895ee",
   "metadata": {},
   "outputs": [],
   "source": [
    "# Create a second Book object of your choice with different inputs. \n",
    "# Has this changed the attributes of the first object you created above? If yes, why? If no, why?\n"
   ]
  },
  {
   "cell_type": "code",
   "execution_count": null,
   "id": "897fb8fd",
   "metadata": {},
   "outputs": [],
   "source": [
    "# Find in the documentation what are the methods you can call from this object:\n"
   ]
  },
  {
   "cell_type": "code",
   "execution_count": null,
   "id": "6791b58c",
   "metadata": {},
   "outputs": [],
   "source": [
    "# Call the open_book method from the lord_of_the_rings object:\n"
   ]
  },
  {
   "cell_type": "code",
   "execution_count": null,
   "id": "a58cca3e",
   "metadata": {},
   "outputs": [],
   "source": [
    "# Print out the value of the is_open attribute for the object now: has it changed?\n",
    "# With objects, it is actually common to modify attributes inplace!"
   ]
  },
  {
   "cell_type": "code",
   "execution_count": null,
   "id": "12a2de39",
   "metadata": {},
   "outputs": [],
   "source": [
    "# Write out a for loop that iterates for the number of pages that the book has and at every\n",
    "# loop entry call the read_page method. Every 100 pages you read, print out the current page number\n",
    "# in the loop. At the end of the loop, print the value of the current_page and the is_open attributes"
   ]
  },
  {
   "cell_type": "code",
   "execution_count": 9,
   "id": "da8ba2e0",
   "metadata": {},
   "outputs": [],
   "source": [
    "# [ADVANCED] try to follow up what is happening in the class definition! (We will dig\n",
    "# into class definition during the next lecture)\n"
   ]
  },
  {
   "cell_type": "code",
   "execution_count": 5,
   "id": "2766faa5",
   "metadata": {},
   "outputs": [],
   "source": [
    "# [ADVANCED] You can use the dir() functions to list all attributes and methods of an object.\n",
    "# 1) Try it to list all attributes and methods of lord_of_the_rings!\n"
   ]
  },
  {
   "cell_type": "code",
   "execution_count": null,
   "id": "a366a5a5",
   "metadata": {},
   "outputs": [],
   "source": [
    "# [ADVANCED] \n",
    "# 2) dir() returns a list of strings; each string is the name of a method or an attribute.\n",
    "#    you can use the getattr(object_name, attribute_name) function to retrieve the value of \n",
    "#    an attribute given its name. Try it out in a loop over the results of getattr!"
   ]
  },
  {
   "cell_type": "code",
   "execution_count": null,
   "id": "7432a293",
   "metadata": {},
   "outputs": [],
   "source": [
    "# [ADVANCED]\n",
    "# 3) In the loop above, you might have noticed that both attributes and methods can be retrieved.\n",
    "#    This is because methods are just special attributes that can be called with attributes!\n",
    "#    In the same way, functions are just special variables that can be called.\n",
    "#    You can check out what is callable and what is not with the callable() function.\n",
    "#    Try it out over all the results of getattr() in the previous loop!\n"
   ]
  },
  {
   "cell_type": "code",
   "execution_count": null,
   "id": "a143602d",
   "metadata": {},
   "outputs": [],
   "source": [
    "# [ADVANCED, philosophical]\n",
    "#    As all other variables, functions are objects as well! \n",
    "\n",
    "# Explore a function of your choice with the dir() function (yes, you can do this on the dir function itself!).\n",
    "# Can you create a variable function_documentation with the docstring for that function?\n"
   ]
  }
 ],
 "metadata": {
  "kernelspec": {
   "display_name": "Python 3 (ipykernel)",
   "language": "python",
   "name": "python3"
  },
  "language_info": {
   "codemirror_mode": {
    "name": "ipython",
    "version": 3
   },
   "file_extension": ".py",
   "mimetype": "text/x-python",
   "name": "python",
   "nbconvert_exporter": "python",
   "pygments_lexer": "ipython3",
   "version": "3.11.6"
  }
 },
 "nbformat": 4,
 "nbformat_minor": 5
}
