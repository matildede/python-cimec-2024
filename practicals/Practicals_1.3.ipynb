{
 "cells": [
  {
   "cell_type": "markdown",
   "id": "6e846e6c",
   "metadata": {},
   "source": [
    "# Practicals for lecture 1.3\n",
    "\n",
    "[![Open In Colab](https://colab.research.google.com/assets/colab-badge.svg)](https://colab.research.google.com/github/vigji/python-cimec-2024/blob/main/practicals/Practicals_1.3.ipynb)"
   ]
  },
  {
   "cell_type": "code",
   "execution_count": 1,
   "id": "100e0fe2",
   "metadata": {},
   "outputs": [],
   "source": [
    "import pandas as pd\n",
    "import numpy as np\n",
    "from matplotlib import pyplot as plt"
   ]
  },
  {
   "cell_type": "markdown",
   "id": "20557c3d",
   "metadata": {},
   "source": [
    "#### 1.3.0"
   ]
  },
  {
   "cell_type": "code",
   "execution_count": null,
   "id": "db1fa8cb",
   "metadata": {},
   "outputs": [],
   "source": [
    "# Create a dataset from the following info about subject in an experiment:\n",
    "np.random.seed(42)\n",
    "n_subjects = 100\n",
    "subjects_data_dictionary = {\n",
    "    'age': np.random.randint(20, 40, n_subjects),\n",
    "    'weight': np.random.randint(50, 100, n_subjects),\n",
    "    'height': np.random.randint(150, 200, n_subjects),\n",
    "    'sex': np.random.choice(['M', 'F'], n_subjects),\n",
    "    'handedness': np.random.choice(['R', 'L'], n_subjects),\n",
    "    'group': np.random.choice(['control', 'patient'], n_subjects)}\n"
   ]
  },
  {
   "cell_type": "code",
   "execution_count": null,
   "id": "129233fa",
   "metadata": {},
   "outputs": [],
   "source": [
    "# We can calculate the BMI as :\n",
    "# (body weight in kgs) /  ( (heigth in meters) ** 2) \n",
    "\n",
    "# Define a new column where you compute the BMI for every subject:\n",
    "\n"
   ]
  },
  {
   "cell_type": "code",
   "execution_count": null,
   "id": "841fd707",
   "metadata": {},
   "outputs": [],
   "source": [
    "string_data = ['cabbage', 'artichoke', 'banana', 'avocado', 'apple', 'orange']\n",
    "int_data = [1, 2, 3, 4, 5, 6]\n",
    "float_data = [0.1, 0.2, 0.3, 0.4, 0.5, 0.6]\n",
    "\n",
    "# organize the data above in a dictionary and from it define a new DataFrame:\n"
   ]
  },
  {
   "cell_type": "code",
   "execution_count": null,
   "id": "d71dc7e4",
   "metadata": {},
   "outputs": [],
   "source": [
    "# Now, reorganize the data in a list of dictionaries (one for every row) and from it define a new DataFrame:\n"
   ]
  },
  {
   "cell_type": "code",
   "execution_count": null,
   "id": "1c2aa21e",
   "metadata": {},
   "outputs": [],
   "source": [
    "# Extend the subject dataset above adding two subjects for which you have the following info:\n",
    "# (Hint: start by defining a new dataframe, and then concatenate it)\n",
    "\n",
    "new_subject1 = {'age': 25,\n",
    "    'weight': 78,\n",
    "    'height': 170,\n",
    "    'sex': \"M\",\n",
    "    'handedness': \"R\",\n",
    "    'group': \"patient\"}\n",
    "new_subject2 = {'age': 35,\n",
    "    'weight': 65,\n",
    "    'height': 165,\n",
    "    'sex': \"F\",\n",
    "    'handedness': \"R\",\n",
    "    'group': \"control\"}\n",
    "\n",
    "# Make sure the new dataset has univoque indexing! "
   ]
  },
  {
   "cell_type": "markdown",
   "id": "33fbab31",
   "metadata": {},
   "source": [
    "#### 1.3.1 Methods of `pandas` dataframes"
   ]
  },
  {
   "cell_type": "code",
   "execution_count": null,
   "id": "c20a15d6",
   "metadata": {},
   "outputs": [],
   "source": [
    "# Here we create a fake dataframe containing the results of an psychological test with 30 subjects.\n",
    "# Subjects can be left-handed or right-handed.\n",
    "# The test has 2 measures (reaction time - RT, and accuracy)\n",
    "def create_data_df():\n",
    "    np.random.seed(42)\n",
    "    subject_ability = np.random.uniform(0, 1, 30)\n",
    "    return pd.DataFrame({'subject': [f\"subject_{i}\" for i in range(30)],\n",
    "                       'handedness': np.random.choice(['left', 'right'], 30),\n",
    "                       'RT': subject_ability*100 + np.random.uniform(0, 50, 30),\n",
    "                       'accuracy': subject_ability + np.random.normal(0.8, 0.1, 30)})\n",
    "df = create_data_df()"
   ]
  },
  {
   "cell_type": "code",
   "execution_count": null,
   "id": "581126bb",
   "metadata": {},
   "outputs": [],
   "source": [
    "# sort the dataframe by RT:\n"
   ]
  },
  {
   "cell_type": "code",
   "execution_count": null,
   "id": "f400f63d",
   "metadata": {},
   "outputs": [],
   "source": [
    "# Compute the mean and standard deviation of the RT and accuracy across the dataset:\n"
   ]
  },
  {
   "cell_type": "code",
   "execution_count": null,
   "id": "9ba8c60e",
   "metadata": {},
   "outputs": [],
   "source": [
    "# Use indexing to select the RT of the left-handed subjects, and compute its 90% percentile:\n"
   ]
  },
  {
   "cell_type": "code",
   "execution_count": null,
   "id": "5544450f",
   "metadata": {},
   "outputs": [],
   "source": [
    "# Now use the percentile to select the accuracy for left-handed subjects with RT above the 90% percentile:\n"
   ]
  },
  {
   "cell_type": "code",
   "execution_count": null,
   "id": "23f238b4",
   "metadata": {},
   "outputs": [],
   "source": [
    "# Create a scatter plot of RT vs accuracy for the right-handed subjects:\n"
   ]
  },
  {
   "cell_type": "code",
   "execution_count": null,
   "id": "291a2f1c",
   "metadata": {},
   "outputs": [],
   "source": [
    "# Take the meteo dataset using the function below\n",
    "def get_meteo_dataset():\n",
    "    \"\"\"Get the meteo dataset from the open-meteo API.\n",
    "    Note how easy it is to get data from the web with pandas! As long as we give the URL of the csv data, pandas can read it.\n",
    "    \"\"\"\n",
    "    np.random.seed(42)\n",
    "    URL = \"https://api.open-meteo.com/v1/forecast?latitude=52.52&longitude=13.41&current=temperature_2m,wind_speed_10m&hourly=temperature_2m,relative_humidity_2m,precipitation,wind_speed_10m,winddirection_10m&start_date=2024-04-01&end_date=2024-04-20&format=csv\"\n",
    "    df = pd.read_csv(URL, skiprows=3)  # read the csv file, skipping the first 3 rows (a header)\n",
    "    df.columns = [col.split(\" \")[0] for col in df.columns]  # simplify column names\n",
    "    df[\"time\"] = pd.to_datetime(df[\"time\"])  # convert the time column to datetime\n",
    "    df[\"hour\"], df[\"dayofyear\"] = df[\"time\"].dt.hour, df[\"time\"].dt.dayofyear  # extract the hour and day of year\n",
    "    df[\"weekdays\"] = df[\"time\"].dt.day_name()  # extract the day of the week\n",
    "\n",
    "    # Here we artificially corrupt some of the data to make it more interesting\n",
    "    missing_idx = np.random.choice(df.index[:1000], 100)\n",
    "    df.loc[missing_idx, :] = np.nan\n",
    "    return df\n",
    "\n",
    "meteo_df = get_meteo_dataset()"
   ]
  },
  {
   "cell_type": "code",
   "execution_count": null,
   "id": "3b74c498",
   "metadata": {},
   "outputs": [],
   "source": [
    "meteo_df "
   ]
  },
  {
   "cell_type": "code",
   "execution_count": null,
   "id": "c4c78a9b",
   "metadata": {},
   "outputs": [],
   "source": [
    "# Plot the temperature and relative humidity for the first 1000 time points. \n",
    "# Find points where there's missing data (interrupted line).\n"
   ]
  },
  {
   "cell_type": "code",
   "execution_count": null,
   "id": "599b76c3",
   "metadata": {},
   "outputs": [],
   "source": [
    "# Create a new interpolated temperature column by interpolating the temperature column of the dataframe:\n"
   ]
  },
  {
   "cell_type": "code",
   "execution_count": null,
   "id": "805126a9",
   "metadata": {},
   "outputs": [],
   "source": [
    "# Make a new plot with the interpolated temperature and the non-interpolated temperature \n",
    "# (plot the interpolated first!)\n"
   ]
  },
  {
   "cell_type": "markdown",
   "id": "2260373b",
   "metadata": {},
   "source": [
    "#### 1.3.2 Organize a dataframe"
   ]
  },
  {
   "cell_type": "code",
   "execution_count": 7,
   "id": "0f2f3e6e",
   "metadata": {
    "ExecuteTime": {
     "end_time": "2023-05-18T06:21:59.482595Z",
     "start_time": "2023-05-18T06:21:59.475585Z"
    }
   },
   "outputs": [],
   "source": [
    "# Let's have a look into how to organize data in a dataframe.\n",
    "\n",
    "# Use the following function that generates results for many subjects on\n",
    "# an experiment with experimental trials of different difficulty levels.\n",
    "\n",
    "def get_experiment_block_data(n_subjects=50, difficulty_levels=(1, 2, 3, 4, 5), n_repetitions=50):\n",
    "    \"\"\"Generate a dataframe with results from an experiment with experimental blocks.\n",
    "\n",
    "    Parameters\n",
    "    ----------\n",
    "    n_reps : int\n",
    "        Number of experimental blocks.\n",
    "    n_subjects : int\n",
    "        Number of subjects.\n",
    "    difficulty_levels : tuple\n",
    "        Difficulty levels of the experimental blocks.\n",
    "\n",
    "    Returns\n",
    "    -------\n",
    "    dict\n",
    "        A dictionary with the results of the experiment for each subject.\n",
    "\n",
    "\n",
    "    \"\"\"\n",
    "\n",
    "\n",
    "    np.random.seed(42)\n",
    "    subject_dict = dict()\n",
    "    for subject in range(n_subjects):\n",
    "        subject_ability = np.random.randint(1, 6)\n",
    "        difficulty_level_arr = np.random.choice(difficulty_levels, size=n_repetitions)\n",
    "        rt = np.random.normal(1000, 100, size=n_repetitions) * difficulty_level_arr / subject_ability\n",
    "        error = np.random.uniform(0, 1000*difficulty_level_arr / subject_ability, size=n_repetitions)\n",
    "\n",
    "        subject_dict[f\"subject_{subject}\"] = dict(\n",
    "            difficulty_level=difficulty_level_arr,\n",
    "            rt=rt,\n",
    "            error=error,\n",
    "        )\n",
    "\n",
    "    return subject_dict\n",
    "\n",
    "\n",
    "# Run the function to generate the data dictionary.\n",
    "# Every entry of the dictionary (a subject) contains arrays \n",
    "# for the trial difficulty level, reaction time, and error:\n",
    "data = get_experiment_block_data()\n",
    "\n",
    "# Convert the nested data to a (flat) dataframe:\n"
   ]
  },
  {
   "cell_type": "code",
   "execution_count": 8,
   "id": "c01fd768",
   "metadata": {
    "ExecuteTime": {
     "end_time": "2023-05-18T06:22:27.936778Z",
     "start_time": "2023-05-18T06:22:27.930394Z"
    }
   },
   "outputs": [],
   "source": [
    "# Select the data for subject 0, and plot the reaction time as a function of the trial difficulty level:\n"
   ]
  },
  {
   "cell_type": "code",
   "execution_count": 10,
   "id": "77864f09",
   "metadata": {},
   "outputs": [
    {
     "data": {
      "text/html": [
       "<div>\n",
       "<style scoped>\n",
       "    .dataframe tbody tr th:only-of-type {\n",
       "        vertical-align: middle;\n",
       "    }\n",
       "\n",
       "    .dataframe tbody tr th {\n",
       "        vertical-align: top;\n",
       "    }\n",
       "\n",
       "    .dataframe thead th {\n",
       "        text-align: right;\n",
       "    }\n",
       "</style>\n",
       "<table border=\"1\" class=\"dataframe\">\n",
       "  <thead>\n",
       "    <tr style=\"text-align: right;\">\n",
       "      <th></th>\n",
       "      <th>sex</th>\n",
       "      <th>handedness</th>\n",
       "      <th>age</th>\n",
       "    </tr>\n",
       "  </thead>\n",
       "  <tbody>\n",
       "    <tr>\n",
       "      <th>subject_0</th>\n",
       "      <td>F</td>\n",
       "      <td>left</td>\n",
       "      <td>37</td>\n",
       "    </tr>\n",
       "    <tr>\n",
       "      <th>subject_1</th>\n",
       "      <td>M</td>\n",
       "      <td>right</td>\n",
       "      <td>31</td>\n",
       "    </tr>\n",
       "    <tr>\n",
       "      <th>subject_2</th>\n",
       "      <td>F</td>\n",
       "      <td>left</td>\n",
       "      <td>21</td>\n",
       "    </tr>\n",
       "    <tr>\n",
       "      <th>subject_3</th>\n",
       "      <td>F</td>\n",
       "      <td>right</td>\n",
       "      <td>29</td>\n",
       "    </tr>\n",
       "    <tr>\n",
       "      <th>subject_4</th>\n",
       "      <td>F</td>\n",
       "      <td>left</td>\n",
       "      <td>23</td>\n",
       "    </tr>\n",
       "  </tbody>\n",
       "</table>\n",
       "</div>"
      ],
      "text/plain": [
       "          sex handedness  age\n",
       "subject_0   F       left   37\n",
       "subject_1   M      right   31\n",
       "subject_2   F       left   21\n",
       "subject_3   F      right   29\n",
       "subject_4   F       left   23"
      ]
     },
     "execution_count": 10,
     "metadata": {},
     "output_type": "execute_result"
    }
   ],
   "source": [
    "# Load the subjects dataframe from the csv file at the url:\n",
    "# https://raw.githubusercontent.com/vigji/python-cimec/main/practicals/data/subjects_df.csv\n",
    "\n",
    "subject_df = pd.read_csv(\"https://raw.githubusercontent.com/vigji/python-cimec/main/practicals/data/subjects_df.csv\",\n",
    "                         index_col=0)\n",
    "subject_df.head()"
   ]
  },
  {
   "cell_type": "code",
   "execution_count": 11,
   "id": "f5a1d632",
   "metadata": {},
   "outputs": [],
   "source": [
    "# Now use boolean indexing on the subject dataframe to include only left-handed males \n",
    "# above 30 years in the analysis.\n",
    "# Plot the reaction time as a function of the trial difficulty level for this subpopulation:\n"
   ]
  },
  {
   "cell_type": "code",
   "execution_count": 13,
   "id": "1ad5720b",
   "metadata": {},
   "outputs": [],
   "source": [
    "# Select the data for subject 0, and plot the reaction time as a function of the trial difficulty level:\n"
   ]
  },
  {
   "cell_type": "code",
   "execution_count": null,
   "id": "7ea21004",
   "metadata": {},
   "outputs": [],
   "source": []
  }
 ],
 "metadata": {
  "kernelspec": {
   "display_name": "course-env",
   "language": "python",
   "name": "course-env"
  },
  "language_info": {
   "codemirror_mode": {
    "name": "ipython",
    "version": 3
   },
   "file_extension": ".py",
   "mimetype": "text/x-python",
   "name": "python",
   "nbconvert_exporter": "python",
   "pygments_lexer": "ipython3",
   "version": "3.10.13"
  }
 },
 "nbformat": 4,
 "nbformat_minor": 5
}
