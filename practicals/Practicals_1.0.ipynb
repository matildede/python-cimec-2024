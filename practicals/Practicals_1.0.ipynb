{
 "cells": [
  {
   "cell_type": "markdown",
   "id": "03a44e75",
   "metadata": {},
   "source": [
    "# Practicals for lecture 1.0\n",
    "\n",
    "[![Open In Colab](https://colab.research.google.com/assets/colab-badge.svg)](https://colab.research.google.com/github/vigji/python-cimec-2024/blob/main/practicals/Practicals_1.0.ipynb)"
   ]
  },
  {
   "cell_type": "markdown",
   "id": "2d2a4f38",
   "metadata": {},
   "source": [
    "## Introduction to `numpy`"
   ]
  },
  {
   "cell_type": "markdown",
   "id": "99d801e0",
   "metadata": {},
   "source": [
    "#### 1.0.0 Creating numpy arrays"
   ]
  },
  {
   "cell_type": "code",
   "execution_count": 2,
   "id": "3be7ff9f",
   "metadata": {},
   "outputs": [],
   "source": [
    "import numpy as np"
   ]
  },
  {
   "cell_type": "code",
   "execution_count": 3,
   "id": "7d604249",
   "metadata": {},
   "outputs": [],
   "source": [
    "# Create a numpy array from this list:\n",
    "\n",
    "my_list = [3,2,4,5,6,1]\n"
   ]
  },
  {
   "cell_type": "code",
   "execution_count": 5,
   "id": "e2943acb",
   "metadata": {},
   "outputs": [
    {
     "data": {
      "text/plain": [
       "(3, 2, 10)"
      ]
     },
     "execution_count": 5,
     "metadata": {},
     "output_type": "execute_result"
    }
   ],
   "source": [
    "# Initialize a 3D numpy array full of zeros of shape (3, 2, 10). \n",
    "# Check its  `ndim` and `shape` attributes to make sure it is correct!\n",
    "\n",
    "my_array = np.zeros((3, 2, 10))\n",
    "my_array.ndim\n",
    "my_array.shape"
   ]
  },
  {
   "cell_type": "code",
   "execution_count": 6,
   "id": "0e68980b",
   "metadata": {},
   "outputs": [],
   "source": [
    "# Initialize a numpy array full of ones of shape (3, 2, 10). Make it of data type np.uint16!\n",
    "# Bonus: check its size in memory and compare it with the size of the zeros array we defined above\n",
    "\n",
    "my_array = np.ones((3, 2, 10), dtype=np.uint16)\n"
   ]
  },
  {
   "cell_type": "code",
   "execution_count": 9,
   "id": "097ed893",
   "metadata": {},
   "outputs": [],
   "source": [
    "# Initialize an array of shape (3, 2, 10) full of nans:\n",
    "\n",
    "my_array = np.ones((3, 2, 10))\n",
    "my_array[:] = np.nan"
   ]
  },
  {
   "cell_type": "code",
   "execution_count": 11,
   "id": "261247fb",
   "metadata": {},
   "outputs": [
    {
     "data": {
      "text/plain": [
       "array([  0,   2,   4,   6,   8,  10,  12,  14,  16,  18,  20,  22,  24,\n",
       "        26,  28,  30,  32,  34,  36,  38,  40,  42,  44,  46,  48,  50,\n",
       "        52,  54,  56,  58,  60,  62,  64,  66,  68,  70,  72,  74,  76,\n",
       "        78,  80,  82,  84,  86,  88,  90,  92,  94,  96,  98, 100])"
      ]
     },
     "execution_count": 11,
     "metadata": {},
     "output_type": "execute_result"
    }
   ],
   "source": [
    "# Initialize an array containing all even numbers from 0 to 100:\n",
    "np.arange(0, 101, 2)"
   ]
  },
  {
   "cell_type": "code",
   "execution_count": 15,
   "id": "a6737560",
   "metadata": {},
   "outputs": [
    {
     "data": {
      "text/plain": [
       "array([[[ 0.49671415, -0.1382643 ],\n",
       "        [ 0.64768854,  1.52302986],\n",
       "        [-0.23415337, -0.23413696],\n",
       "        [ 1.57921282,  0.76743473],\n",
       "        [-0.46947439,  0.54256004]],\n",
       "\n",
       "       [[-0.46341769, -0.46572975],\n",
       "        [ 0.24196227, -1.91328024],\n",
       "        [-1.72491783, -0.56228753],\n",
       "        [-1.01283112,  0.31424733],\n",
       "        [-0.90802408, -1.4123037 ]],\n",
       "\n",
       "       [[ 1.46564877, -0.2257763 ],\n",
       "        [ 0.0675282 , -1.42474819],\n",
       "        [-0.54438272,  0.11092259],\n",
       "        [-1.15099358,  0.37569802],\n",
       "        [-0.60063869, -0.29169375]],\n",
       "\n",
       "       [[-0.60170661,  1.85227818],\n",
       "        [-0.01349722, -1.05771093],\n",
       "        [ 0.82254491, -1.22084365],\n",
       "        [ 0.2088636 , -1.95967012],\n",
       "        [-1.32818605,  0.19686124]]])"
      ]
     },
     "execution_count": 15,
     "metadata": {},
     "output_type": "execute_result"
    }
   ],
   "source": [
    "# Google (or ask chatGPT) how to use np.random to generate normally distributed values. \n",
    "# Then, create an array of normally distributed values and shape (4,5,2) called random_matrix.\n",
    "\n",
    "np.random.seed(42)  # with this line, we make sure the result is random but always the same when we run!\n",
    "\n",
    "np.random.normal(0, 1, (4,5,2))"
   ]
  },
  {
   "cell_type": "code",
   "execution_count": null,
   "id": "77402a0a",
   "metadata": {},
   "outputs": [],
   "source": [
    "# [Advanced]: \n",
    "# 1) Another useful np.random function is shuffle, to change the order of elements in a list/array. \n",
    "# try it out! Does it return anything or does it work inplace?\n",
    "\n",
    "# 2) try initializing arrays of float type of different sizes; check their size in memory\n",
    "# and try to figure out how much memory is required to store each number of the array, \n",
    "# and how much memory is allocated as an overhead just to initialize the array \n",
    "\n",
    "# 3) From the exercise above, you can imagine that sometimes using u/int8 or u/int16 can spare a lot of space\n",
    "# when working with arrays. However, those types can only store integers. Can you imagine what you could do\n",
    "# to store float values between 0 and 1 in a compressed format using uint16? write a function that takes\n",
    "# as input an array of floats between 0 and 1 and convert it in uint16 format maintaning as much information\n",
    "# as possible. Write also a function to transform the array back to the original float form.\n",
    "\n",
    "# 4) Can you calculate how much error you are introducing when compressing an array in this way? "
   ]
  },
  {
   "cell_type": "markdown",
   "id": "4c7a5116",
   "metadata": {},
   "source": [
    "#### 1.0.1 Indexing and plotting"
   ]
  },
  {
   "cell_type": "code",
   "execution_count": null,
   "id": "57b9def5",
   "metadata": {},
   "outputs": [],
   "source": [
    "np.random.seed(42)\n",
    "\n",
    "random_matrix = np.random.normal(0, 1, (4, 5))"
   ]
  },
  {
   "cell_type": "code",
   "execution_count": null,
   "id": "5f372c03",
   "metadata": {},
   "outputs": [],
   "source": [
    "# use numpy indexing to address the element (0, 1) (first row, second column) from random_matrix above:\n"
   ]
  },
  {
   "cell_type": "code",
   "execution_count": null,
   "id": "63bb4bab",
   "metadata": {},
   "outputs": [],
   "source": [
    "# use numpy indexing to select all values in the second row from random_matrix above:\n",
    "\n"
   ]
  },
  {
   "cell_type": "code",
   "execution_count": null,
   "id": "9da177f7",
   "metadata": {},
   "outputs": [],
   "source": [
    "# Set to np.nan all the negative entries of the matrix below:\n",
    "np.random.seed(42)\n",
    "random_matrix = np.random.normal(0, 1, (3,2))\n",
    "\n"
   ]
  },
  {
   "cell_type": "code",
   "execution_count": 20,
   "id": "fc40fecf",
   "metadata": {},
   "outputs": [
    {
     "name": "stdout",
     "output_type": "stream",
     "text": [
      "(145, 484)\n"
     ]
    },
    {
     "ename": "TypeError",
     "evalue": "Value after * must be an iterable, not int",
     "output_type": "error",
     "traceback": [
      "\u001b[0;31m---------------------------------------------------------------------------\u001b[0m",
      "\u001b[0;31mTypeError\u001b[0m                                 Traceback (most recent call last)",
      "Cell \u001b[0;32mIn[20], line 39\u001b[0m\n\u001b[1;32m     35\u001b[0m \u001b[38;5;28mprint\u001b[39m(img\u001b[38;5;241m.\u001b[39mshape)\n\u001b[1;32m     37\u001b[0m \u001b[38;5;28;01mfrom\u001b[39;00m \u001b[38;5;21;01mmatplotlib\u001b[39;00m \u001b[38;5;28;01mimport\u001b[39;00m pyplot \u001b[38;5;28;01mas\u001b[39;00m plt\n\u001b[0;32m---> 39\u001b[0m plt\u001b[38;5;241m.\u001b[39mmatshow(np\u001b[38;5;241m.\u001b[39mstack([img[:, :, \u001b[38;5;28;01mNone\u001b[39;00m],\u001b[38;5;241m*\u001b[39m\u001b[38;5;241m3\u001b[39m]), cmap\u001b[38;5;241m=\u001b[39m\u001b[38;5;124m\"\u001b[39m\u001b[38;5;124mgray\u001b[39m\u001b[38;5;124m\"\u001b[39m)\n",
      "\u001b[0;31mTypeError\u001b[0m: Value after * must be an iterable, not int"
     ]
    }
   ],
   "source": [
    "# Images are just arrays! This is one of the reasons working with arrays is so important!\n",
    "# (Usually images are H x W x 3 arrays, with the third dimension storing the values\n",
    "# for each of the RGB channels. Here the image will be grayscale and only 2D).\n",
    "\n",
    "# Use the function below to download an image, and print the shape of the array to know the number of pixels. \n",
    "# Then, use plt.matshow to visualize it.\n",
    "\n",
    "def fetch_image():\n",
    "    \"\"\"Fetch exercise data from github repo. \n",
    "    \n",
    "    Returns:\n",
    "        np.ndarray\n",
    "            Array with the exercise data.\n",
    "    \n",
    "    \"\"\"\n",
    "    \n",
    "    # You should never import stuff in a function! I'm doing it here\n",
    "    # just to keep together all the code that you don't really need to read now.\n",
    "    import numpy as np\n",
    "    import requests\n",
    "    from io import BytesIO\n",
    "\n",
    "    # URL of the .npy file on GitHub:\n",
    "    URL = \"https://github.com/vigji/python-cimec/raw/main/practicals/data/corrupted_img.npy\"\n",
    "\n",
    "    response = requests.get(URL)\n",
    "    \n",
    "    return np.load(BytesIO(response.content))\n",
    "\n",
    "\n",
    "# Tip 1: remember to import matplotlib.pyplot first - and give it an alias! (\"import ... as ...\")\n",
    "# Tip 2: to make the image grayscale, you can pass the cmap=\"gray\" argument to the matshow() function!\n",
    "\n",
    "img = fetch_image()\n",
    "print(img.shape)\n",
    "\n",
    "from matplotlib import pyplot as plt"
   ]
  },
  {
   "cell_type": "code",
   "execution_count": 1,
   "id": "11c9a982",
   "metadata": {},
   "outputs": [],
   "source": [
    "# It looks like the image got corrupted with some noise! \n",
    "# To understand the noise pattern, you can try to look closer to it.\n",
    "# Zoom in the image: plot it again, but selecting a small region using indexing \n",
    "# (e.g., im_corr[10:80, 70:130])\n"
   ]
  },
  {
   "cell_type": "code",
   "execution_count": 2,
   "id": "9bc78853",
   "metadata": {},
   "outputs": [],
   "source": [
    "# Can you understand what is going on? Can you think of an indexing strategy \n",
    "# that would filter out the noise? (maybe excluding some entries...)\n",
    "# Try to retrieve the uncorrupted image with an indexing operation, and plot it!\n"
   ]
  },
  {
   "cell_type": "code",
   "execution_count": null,
   "id": "0dddce28",
   "metadata": {},
   "outputs": [],
   "source": [
    "# [Advanced]\n",
    "# 1) check the type of the image array. Then, check its maximum. Is this data represented efficiently?\n",
    "#   If not, convert it to the format that would preserve information with the maximum memory efficiency\n",
    "\n",
    "# 2) As we mentioned, color images are just (w, h, 3) arrays where the third dimension correspond to color.\n",
    "# Color is represented by triplets of numbers indicating the load over the Red, the Blue, and the Green axis.\n",
    "# Let's make a colored version of the image, where the left side of the image appears red, the center blue,\n",
    "# and the right green!\n",
    "# To do so, initialize an empty (w,h,3) array and use indexing to fill with the image values the correct\n",
    "# channels in different parts of the image. Bonus points: do it with a loop.\n",
    "# After you have done it, consider this question: were you working inplace or on copies?\n"
   ]
  }
 ],
 "metadata": {
  "kernelspec": {
   "display_name": "Python 3 (ipykernel)",
   "language": "python",
   "name": "python3"
  },
  "language_info": {
   "codemirror_mode": {
    "name": "ipython",
    "version": 3
   },
   "file_extension": ".py",
   "mimetype": "text/x-python",
   "name": "python",
   "nbconvert_exporter": "python",
   "pygments_lexer": "ipython3",
   "version": "3.11.6"
  }
 },
 "nbformat": 4,
 "nbformat_minor": 5
}
