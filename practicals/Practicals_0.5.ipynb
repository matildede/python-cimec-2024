{
 "cells": [
  {
   "cell_type": "markdown",
   "id": "622aecef",
   "metadata": {},
   "source": [
    "# Practicals for lecture 0.5\n",
    "\n",
    "[![Open In Colab](https://colab.research.google.com/assets/colab-badge.svg)](https://colab.research.google.com/github/vigji/python-cimec-2024/blob/main/practicals/Practicals_0.5.ipynb)"
   ]
  },
  {
   "cell_type": "markdown",
   "id": "99d801e0",
   "metadata": {},
   "source": [
    "#### 0.5.0 Intro to objects"
   ]
  },
  {
   "cell_type": "code",
   "execution_count": 2,
   "id": "c750891d",
   "metadata": {},
   "outputs": [],
   "source": [
    "# Here is code implementing the definition of a Book class.\n",
    "# You do not have to look at this code for now (unless you want to read the docs).\n",
    "# Go to the exercises below!\n",
    "\n",
    "class Book:\n",
    "    \"\"\"Class representing a book.\n",
    "    \n",
    "    Arguments\n",
    "    =========\n",
    "    title : str\n",
    "       The title of the book\n",
    "    author : str\n",
    "       The author of the book\n",
    "    pages : int\n",
    "       The number of pages\n",
    "    \n",
    "    Methods\n",
    "    =======\n",
    "    \n",
    "    open_book: change the is_open status of the book to True\n",
    "    \n",
    "    close_book: change the is_open status of the book to False\n",
    "    \n",
    "    read_page: move current_page bookmark after having checked is_open status\n",
    "    \n",
    "    go_to_page: go to a given page of the book\n",
    "    \n",
    "    \"\"\"\n",
    "    def __init__(self, title, author, pages):\n",
    "        self.title = title\n",
    "        self.author = author\n",
    "        self.pages = pages\n",
    "        self.is_open = False\n",
    "        self.current_page = 1\n",
    "\n",
    "    def open_book(self):\n",
    "        \"\"\"Open the book by setting the is_open flag to true.\n",
    "        \"\"\"\n",
    "        self.is_open = True\n",
    "        print(f\"The book '{self.title}' is now open.\")\n",
    "\n",
    "    def close_book(self):\n",
    "        \"\"\"Close the book by setting the is_open flag to false.\n",
    "        \"\"\"\n",
    "        self.is_open = False\n",
    "        print(f\"The book '{self.title}' has been closed.\")\n",
    "\n",
    "    def read_page(self):\n",
    "        \"\"\"Read a page and advance by 1 in the page count.\n",
    "        \"\"\"\n",
    "        if not self.is_open:\n",
    "            print(f\"You need to open the book '{self.title}' first!\")\n",
    "            return\n",
    "        print(f\"Reading page {self.current_page} of '{self.title}'.\")\n",
    "        self.current_page += 1\n",
    "        if self.current_page > self.pages:\n",
    "            print(\"You have finished the book!\")\n",
    "            self.close_book()\n",
    "            \n",
    "    def go_to_page(self, new_current_page):\n",
    "        \"\"\"Go to new page\"\"\"\n",
    "        if not self.is_open:\n",
    "            print(f\"You need to open the book '{self.title}' first!\")\n",
    "            return\n",
    "        self.current_page = new_current_page"
   ]
  },
  {
   "cell_type": "code",
   "execution_count": 3,
   "id": "38581149",
   "metadata": {},
   "outputs": [],
   "source": [
    "# Instantiate an object from the book class! Let's say, lord_of_the_rings.\n",
    "# You can check out the docs with ?Book to know what you should be passing to it:\n"
   ]
  },
  {
   "cell_type": "code",
   "execution_count": null,
   "id": "cb7169e5",
   "metadata": {},
   "outputs": [],
   "source": [
    "# Print out the value of the `is_open` attribute for the object:\n"
   ]
  },
  {
   "cell_type": "code",
   "execution_count": null,
   "id": "b7e1cdf6",
   "metadata": {},
   "outputs": [],
   "source": [
    "# Print out all attributes of the book object:\n"
   ]
  },
  {
   "cell_type": "code",
   "execution_count": 1,
   "id": "c6c895ee",
   "metadata": {},
   "outputs": [],
   "source": [
    "# Create a second Book object of your choice with different arguments. \n",
    "# [Bonus]: This time, try to pass the arguments for the instantiation by keyword \n",
    "# Did this operation change the attributes of the first object you created above? \n"
   ]
  },
  {
   "cell_type": "code",
   "execution_count": null,
   "id": "897fb8fd",
   "metadata": {},
   "outputs": [],
   "source": [
    "# Find in the documentation what are the methods that you can call from this object:\n"
   ]
  },
  {
   "cell_type": "code",
   "execution_count": null,
   "id": "6791b58c",
   "metadata": {},
   "outputs": [],
   "source": [
    "# Call the open_book method from the lord_of_the_rings object:\n"
   ]
  },
  {
   "cell_type": "code",
   "execution_count": null,
   "id": "a58cca3e",
   "metadata": {},
   "outputs": [],
   "source": [
    "# Print out the value of the is_open attribute for the object now: has it changed?\n"
   ]
  },
  {
   "cell_type": "code",
   "execution_count": null,
   "id": "a79b7cb6",
   "metadata": {},
   "outputs": [],
   "source": [
    "# Note on step above: with objects, it is actually common to modify attributes inplace!"
   ]
  },
  {
   "cell_type": "code",
   "execution_count": null,
   "id": "12a2de39",
   "metadata": {},
   "outputs": [],
   "source": [
    "# Write out a for loop that iterates for the number of pages that the book has \n",
    "# and at every loop entry calls the read_page method. \n",
    "# Every 100 pages you read, print out the current page number.\n",
    "\n",
    "# At the end of the loop, print the value of the current_page and the is_open attributes"
   ]
  },
  {
   "cell_type": "code",
   "execution_count": 9,
   "id": "da8ba2e0",
   "metadata": {},
   "outputs": [],
   "source": [
    "# [ADVANCED] try to follow up what is happening in the class definition! (We will dig\n",
    "# into class definition during the next part of the lecture)\n",
    "# Can you find the methods? Can you trace down what code is executed during the methods calls?\n",
    "# When is the code in __init__ executed?\n"
   ]
  },
  {
   "cell_type": "code",
   "execution_count": 5,
   "id": "2766faa5",
   "metadata": {},
   "outputs": [],
   "source": [
    "# [ADVANCED] You can use the dir() functions to list all attributes and methods of an object.\n",
    "# 1) Try it to list all attributes and methods of lord_of_the_rings!\n"
   ]
  },
  {
   "cell_type": "code",
   "execution_count": null,
   "id": "a366a5a5",
   "metadata": {},
   "outputs": [],
   "source": [
    "# [ADVANCED] \n",
    "# 2) dir() returns a list of strings; each string is the name of a method or an attribute.\n",
    "#    you can use the getattr(object_name, attribute_name) function to retrieve the value of \n",
    "#    an attribute given its name. Try it out in a loop over the results of getattr!"
   ]
  },
  {
   "cell_type": "code",
   "execution_count": null,
   "id": "7432a293",
   "metadata": {},
   "outputs": [],
   "source": [
    "# [ADVANCED]\n",
    "# 3) In the loop above, you might have noticed that both attributes and methods can be retrieved.\n",
    "#    This is because methods are just special attributes that can be called with attributes!\n",
    "#    In the same way, functions are just special variables that can be called.\n",
    "#    You can check out what is callable and what is not with the callable() function.\n",
    "#    Try it out over all the results of getattr() in the previous loop!\n"
   ]
  },
  {
   "cell_type": "code",
   "execution_count": null,
   "id": "a143602d",
   "metadata": {},
   "outputs": [],
   "source": [
    "# [ADVANCED, philosophical]\n",
    "#    As all other variables, functions are objects as well! \n",
    "\n",
    "# Explore a function of your choice with the dir() function (yes, you can do this on the dir function itself!).\n",
    "# Can you create a variable function_documentation with the docstring for that function?\n"
   ]
  },
  {
   "cell_type": "markdown",
   "id": "a6487189",
   "metadata": {},
   "source": [
    "#### 0.5.1 Creating objects"
   ]
  },
  {
   "cell_type": "code",
   "execution_count": null,
   "id": "9a6ebc55",
   "metadata": {},
   "outputs": [],
   "source": [
    "class ParticipantRtData:\n",
    "    \"\"\"\n",
    "    Represent reaction times data from an experimental subject.\n",
    "    \n",
    "    Attributes:\n",
    "    ===========\n",
    "    reaction_times: list or reaction times\n",
    "    participant_id: ID of the participant.\n",
    "    age: Age of the participant.\n",
    "    condition: Experimental condition.\n",
    "    experiment_name: Name of the experiment.\n",
    "    \n",
    "    \n",
    "    Methods:\n",
    "    =======\n",
    "    get_data_path: Generates a file path for participant data.\n",
    "    \n",
    "    get_exp_data: Loads dummy data for the participant.\n",
    "    \n",
    "    get_exp_metadata: Returns participant metadata.\n",
    "\n",
    "    \"\"\"\n",
    "    def __init__(self, reaction_times, participant_id, age, condition):\n",
    "        self.participant_id = participant_id\n",
    "        self.age = age\n",
    "        self.condition = condition\n",
    "        self.base_path = base_path\n",
    "        self.experiment_name = \"Experiment 1\"\n",
    "        self.reaction_times = reaction_times\n",
    "\n",
    "    def get_exp_metadata(self):\n",
    "        \"\"\"Return participant metadata.\"\"\"\n",
    "        return {\n",
    "            \"id\": self.participant_id,\n",
    "            \"age\": self.age,\n",
    "            \"condition\": self.condition,\n",
    "            \"sex\": self.sex,  # Include the new attribute in the metadata\n",
    "        }\n",
    "    \n",
    "    def get_exp_data(self):\n",
    "        \"\"\"This is very similar to just call self.reaction_times in your code.\n",
    "        However, it leaves the option to implement some checks (e.g.,\n",
    "        quality checks) before returning the values, or to add some filter.\n",
    "        \"\"\"\n",
    "        return self.reaction_times\n",
    "    \n",
    "    \n",
    "    def filter_data(self, threshold):\n",
    "        \"\"\"Filters measurements greater than a specified threshold.\"\"\"\n",
    "        raise NotImplementedError(\"This method needs to be implemented.\")\n",
    "    \n",
    "    def add_measurement(self, new_measurement):\n",
    "        \"\"\"Adds a new measurement to the measurements list.\"\"\"\n",
    "        raise NotImplementedError(\"This method needs to be implemented.\")"
   ]
  },
  {
   "cell_type": "code",
   "execution_count": null,
   "id": "670da09f",
   "metadata": {},
   "outputs": [],
   "source": [
    "# Try to create a new ParticipantRtData object passing all the required arguments\n",
    "# for the object instantiation (read them from the __init__!)\n"
   ]
  },
  {
   "cell_type": "code",
   "execution_count": null,
   "id": "cd1837e8",
   "metadata": {},
   "outputs": [],
   "source": [
    "# Add a new sex attribute in the class definition!\n",
    "# Then, create a new object from the ParticipantRtData class to test your new attribute.\n",
    "# Print out the sex for the subject:\n"
   ]
  },
  {
   "cell_type": "code",
   "execution_count": 8,
   "id": "eec94c08",
   "metadata": {},
   "outputs": [
    {
     "data": {
      "text/plain": [
       "2"
      ]
     },
     "execution_count": 8,
     "metadata": {},
     "output_type": "execute_result"
    }
   ],
   "source": [
    "# For consistency, we might want sex to be either \"M\" or \"F\".\n",
    "# One way of enforcing some values in the inputs, is by using `assert`:\n",
    "# assert false_statement will raise an AssertionError and the program will stop.\n",
    "\n",
    "# For example, if we want a function to take only positive values, we can write:\n",
    "def example_function(a):\n",
    "    assert a >= 0\n",
    "    return 2**a\n",
    "\n",
    "example_function(1)  # this will raise an error with negative inputs.\n",
    "\n",
    "\n",
    "# Ad an `assert` in the init above to check that the specified sex is \n",
    "# either the \"M\" or \"F\" string! Then test it out creating an object with a wrong\n",
    "# sex input:\n"
   ]
  },
  {
   "cell_type": "markdown",
   "id": "c8c8fcab",
   "metadata": {},
   "source": [
    "#### 0.5.2 Creating methods"
   ]
  },
  {
   "cell_type": "code",
   "execution_count": null,
   "id": "b1aa7666",
   "metadata": {},
   "outputs": [],
   "source": [
    "# In the class above, implement a get_rt_average() method with no arguments that calculates \n",
    "# the average of self.reaction_times. Then, try it out with an object data:\n"
   ]
  },
  {
   "cell_type": "code",
   "execution_count": null,
   "id": "c8e290d5",
   "metadata": {},
   "outputs": [],
   "source": [
    "# Implement a method with arguments that filters self.reaction_times smaller \n",
    "# than a threshold and returns the filtered list. Then, return the filtered list:\n"
   ]
  },
  {
   "cell_type": "code",
   "execution_count": null,
   "id": "1219084d",
   "metadata": {},
   "outputs": [],
   "source": [
    "# Implement a method that adds a new measurement to self.reaction_times.\n"
   ]
  },
  {
   "cell_type": "markdown",
   "id": "65c17d9d",
   "metadata": {},
   "source": [
    "#### Bonus tracks"
   ]
  },
  {
   "cell_type": "code",
   "execution_count": null,
   "id": "7fcce74f",
   "metadata": {},
   "outputs": [],
   "source": [
    "# [Advanced] (check out bonus track slides before)\n",
    "\n",
    "# 1) Implement the __eq__ default method in a way that returns True if two\n",
    "# objects have the same participant_id attribute value but raises a warning\n",
    "# (either printing a message or using the warnings library) if they have different data\n",
    "\n",
    "# 2) Implement the __str__ default method in a way that prints out info\n",
    "# on subject metadata when we print a participant object\n",
    "\n",
    "# 3) Implement the __getitem__ default method so that the index passed \n",
    "#    to getitem is used to index the data list returned by self.get_exp_data()\n",
    "\n",
    "\n",
    "# 5) Write a subclass AdvancedParticipantRtData that accept an additional\n",
    "#    argument for experiment notes. use super().__init__ to\n",
    "#    initialize all other attributes of AdvancedParticipantRtData\n",
    "\n",
    "# 6) Write a n_measurements property to RtParticipantData that computes on the fly the\n",
    "#    number of datapoints we have in our class, and returns it\n",
    "\n",
    "# 7) Convert reaction_times to a protected attribute and define a reaction_times property\n",
    "#    with a setter value to add new datapoints, controlling that they are not negative"
   ]
  }
 ],
 "metadata": {
  "kernelspec": {
   "display_name": "Python 3 (ipykernel)",
   "language": "python",
   "name": "python3"
  },
  "language_info": {
   "codemirror_mode": {
    "name": "ipython",
    "version": 3
   },
   "file_extension": ".py",
   "mimetype": "text/x-python",
   "name": "python",
   "nbconvert_exporter": "python",
   "pygments_lexer": "ipython3",
   "version": "3.11.6"
  }
 },
 "nbformat": 4,
 "nbformat_minor": 5
}
