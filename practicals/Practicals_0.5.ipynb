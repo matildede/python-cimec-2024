{
 "cells": [
  {
   "cell_type": "markdown",
   "id": "622aecef",
   "metadata": {},
   "source": [
    "# Practicals for lecture 0.5\n",
    "\n",
    "[![Open In Colab](https://colab.research.google.com/assets/colab-badge.svg)](https://colab.research.google.com/github/vigji/python-cimec-2024/blob/main/practicals/Practicals_0.5.ipynb)"
   ]
  },
  {
   "cell_type": "markdown",
   "id": "99d801e0",
   "metadata": {},
   "source": [
    "#### 0.5.0 Intro to objects"
   ]
  },
  {
   "cell_type": "code",
   "execution_count": 2,
   "id": "c750891d",
   "metadata": {},
   "outputs": [],
   "source": [
    "# Here is code implementing the definition of a Book class.\n",
    "# You do not have to look at it now - we will talk about class definition\n",
    "# in the next lecture!\n",
    "\n",
    "class Book:\n",
    "    \"\"\"Class representing a book.\n",
    "    \n",
    "    Arguments\n",
    "    =========\n",
    "    title : str\n",
    "       The title of the book\n",
    "    author : str\n",
    "       The author of the book\n",
    "    pages : int\n",
    "       The number of pages\n",
    "    \n",
    "    Methods\n",
    "    =======\n",
    "    \n",
    "    open_book: change the is_open status of the book to True\n",
    "    \n",
    "    close_book: change the is_open status of the book to False\n",
    "    \n",
    "    read_page: move current_page bookmark after having checked is_open status\n",
    "    \n",
    "    \"\"\"\n",
    "    def __init__(self, title, author, pages):\n",
    "        self.title = title\n",
    "        self.author = author\n",
    "        self.pages = pages\n",
    "        self.is_open = False\n",
    "        self.current_page = 1\n",
    "\n",
    "    def open_book(self):\n",
    "        self.is_open = True\n",
    "        print(f\"The book '{self.title}' is now open.\")\n",
    "\n",
    "    def close_book(self):\n",
    "        self.is_open = False\n",
    "        print(f\"The book '{self.title}' has been closed.\")\n",
    "\n",
    "    def read_page(self):\n",
    "        if not self.is_open:\n",
    "            print(f\"You need to open the book '{self.title}' first!\")\n",
    "            return\n",
    "        print(f\"Reading page {self.current_page} of '{self.title}'.\")\n",
    "        self.current_page += 1\n",
    "        if self.current_page > self.pages:\n",
    "            print(\"You have finished the book!\")\n",
    "            self.close_book()"
   ]
  },
  {
   "cell_type": "code",
   "execution_count": 3,
   "id": "38581149",
   "metadata": {},
   "outputs": [],
   "source": [
    "# Instantiate an object from the book class! Let's say, lord_of_the_rings.\n",
    "# You can check out the docs with ?Book to know what you should be passing to it:\n"
   ]
  },
  {
   "cell_type": "code",
   "execution_count": null,
   "id": "b7e1cdf6",
   "metadata": {},
   "outputs": [],
   "source": [
    "# Print out all attributes of the book object:\n"
   ]
  },
  {
   "cell_type": "code",
   "execution_count": null,
   "id": "ee22c4d5",
   "metadata": {},
   "outputs": [],
   "source": [
    "# Print out the value of the `is_open` attribute for the object:\n"
   ]
  },
  {
   "cell_type": "code",
   "execution_count": null,
   "id": "c6c895ee",
   "metadata": {},
   "outputs": [],
   "source": [
    "# Create a second Book object of your choice with different inputs. \n",
    "# Has this changed the attributes of the first object you created above? If yes, why? If no, why?\n"
   ]
  },
  {
   "cell_type": "code",
   "execution_count": null,
   "id": "897fb8fd",
   "metadata": {},
   "outputs": [],
   "source": [
    "# Find in the documentation what are the methods you can call from this object:\n"
   ]
  },
  {
   "cell_type": "code",
   "execution_count": null,
   "id": "6791b58c",
   "metadata": {},
   "outputs": [],
   "source": [
    "# Call the open_book method from the lord_of_the_rings object:\n"
   ]
  },
  {
   "cell_type": "code",
   "execution_count": null,
   "id": "a58cca3e",
   "metadata": {},
   "outputs": [],
   "source": [
    "# Print out the value of the is_open attribute for the object now: has it changed?\n",
    "# With objects, it is actually common to modify attributes inplace!"
   ]
  },
  {
   "cell_type": "code",
   "execution_count": null,
   "id": "12a2de39",
   "metadata": {},
   "outputs": [],
   "source": [
    "# Write out a for loop that iterates for the number of pages that the book has and at every\n",
    "# loop entry call the read_page method. Every 100 pages you read, print out the current page number\n",
    "# in the loop. At the end of the loop, print the value of the current_page and the is_open attributes"
   ]
  },
  {
   "cell_type": "code",
   "execution_count": 9,
   "id": "da8ba2e0",
   "metadata": {},
   "outputs": [],
   "source": [
    "# [ADVANCED] try to follow up what is happening in the class definition! (We will dig\n",
    "# into class definition during the next lecture)\n"
   ]
  },
  {
   "cell_type": "code",
   "execution_count": 5,
   "id": "2766faa5",
   "metadata": {},
   "outputs": [],
   "source": [
    "# [ADVANCED] You can use the dir() functions to list all attributes and methods of an object.\n",
    "# 1) Try it to list all attributes and methods of lord_of_the_rings!\n"
   ]
  },
  {
   "cell_type": "code",
   "execution_count": null,
   "id": "a366a5a5",
   "metadata": {},
   "outputs": [],
   "source": [
    "# [ADVANCED] \n",
    "# 2) dir() returns a list of strings; each string is the name of a method or an attribute.\n",
    "#    you can use the getattr(object_name, attribute_name) function to retrieve the value of \n",
    "#    an attribute given its name. Try it out in a loop over the results of getattr!"
   ]
  },
  {
   "cell_type": "code",
   "execution_count": null,
   "id": "7432a293",
   "metadata": {},
   "outputs": [],
   "source": [
    "# [ADVANCED]\n",
    "# 3) In the loop above, you might have noticed that both attributes and methods can be retrieved.\n",
    "#    This is because methods are just special attributes that can be called with attributes!\n",
    "#    In the same way, functions are just special variables that can be called.\n",
    "#    You can check out what is callable and what is not with the callable() function.\n",
    "#    Try it out over all the results of getattr() in the previous loop!\n"
   ]
  },
  {
   "cell_type": "code",
   "execution_count": null,
   "id": "a143602d",
   "metadata": {},
   "outputs": [],
   "source": [
    "# [ADVANCED, philosophical]\n",
    "#    As all other variables, functions are objects as well! \n",
    "\n",
    "# Explore a function of your choice with the dir() function (yes, you can do this on the dir function itself!).\n",
    "# Can you create a variable function_documentation with the docstring for that function?\n"
   ]
  }
 ],
 "metadata": {
  "kernelspec": {
   "display_name": "Python 3 (ipykernel)",
   "language": "python",
   "name": "python3"
  },
  "language_info": {
   "codemirror_mode": {
    "name": "ipython",
    "version": 3
   },
   "file_extension": ".py",
   "mimetype": "text/x-python",
   "name": "python",
   "nbconvert_exporter": "python",
   "pygments_lexer": "ipython3",
   "version": "3.11.6"
  }
 },
 "nbformat": 4,
 "nbformat_minor": 5
}
