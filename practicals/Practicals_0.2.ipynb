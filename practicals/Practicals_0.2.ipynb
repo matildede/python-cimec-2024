{
 "cells": [
  {
   "cell_type": "markdown",
   "id": "03a44e75",
   "metadata": {},
   "source": [
    "# Practicals for lecture 0.2\n",
    "\n",
    "[![Open In Colab](https://colab.research.google.com/assets/colab-badge.svg)](https://colab.research.google.com/github/vigji/python-cimec-2024/blob/main/practicals/Practicals_0.2.ipynb)"
   ]
  },
  {
   "cell_type": "markdown",
   "id": "2d2a4f38",
   "metadata": {},
   "source": [
    "## Flow control"
   ]
  },
  {
   "cell_type": "markdown",
   "id": "5066fd11",
   "metadata": {},
   "source": [
    "#### 0.2.0 Conditionals with `if`"
   ]
  },
  {
   "cell_type": "code",
   "execution_count": null,
   "id": "01da4096",
   "metadata": {},
   "outputs": [],
   "source": [
    "# Write a program that prints out if a given number is even or odd (tip: use the modulo operator %)\n",
    "\n",
    "number_to_test = 30  # change the value of this variable to test other cases\n",
    "\n",
    "if ...:\n",
    "    ..."
   ]
  },
  {
   "cell_type": "code",
   "execution_count": null,
   "id": "021d9f83",
   "metadata": {},
   "outputs": [],
   "source": [
    "# Write code that checks out if a string is a palindrome, and if it is, prints \"{word} is palindrome!\"\n",
    "# Hint: you can revert a word with an indexing operation specifying negative steps: `[::-1]`\n",
    "\n",
    "word = \"kayak\""
   ]
  },
  {
   "cell_type": "code",
   "execution_count": 7,
   "id": "7c86051e",
   "metadata": {},
   "outputs": [],
   "source": [
    "# The code below gives you electrophysiological data \n",
    "# consisting of a list of 0s and 1s, where the ones \n",
    "# correspond to the occurrence of action potentials. \n",
    "# The trace is 1 second long.\n",
    "# (you do not care about the function content right now)\n",
    "def generate_trace(seed=1, trace_len=1000, firing_rate=5):\n",
    "    \"\"\"Generate a list with action potential occurrencies.\"\"\"\n",
    "    import random\n",
    "    random.seed(seed)\n",
    "\n",
    "    return [int(random.randint(0, 1000) < firing_rate) for _ in range(trace_len)]\n",
    "\n",
    "neuron_trace = generate_trace()\n",
    "    \n",
    "# Compute the firing rate i.e. the number of action potentials per second for the neuron:\n",
    "firing_rate = ..."
   ]
  },
  {
   "cell_type": "code",
   "execution_count": 8,
   "id": "deb396af",
   "metadata": {},
   "outputs": [],
   "source": [
    "# Now print \"high firing rate\" if rate is > 10 Hz, \n",
    "# \"medium firing rate\" if rate is between 5 and 10 Hz, and\n",
    "# \"low firing rate\" if rate is lower than 5 Hz:\n",
    "\n"
   ]
  },
  {
   "cell_type": "code",
   "execution_count": 9,
   "id": "af22a93e",
   "metadata": {},
   "outputs": [
    {
     "data": {
      "text/plain": [
       "Ellipsis"
      ]
     },
     "execution_count": 9,
     "metadata": {},
     "output_type": "execute_result"
    }
   ],
   "source": [
    "# bonus question: update the above palyndromes exercise to check out the palindromy of full sentences.\n",
    "# Remember to make them lowercase and to first remove the whitespaces.\n",
    "#         You can do this by replacing whitespaces (\" \") with no character (\"\"),\n",
    "#         using the string.replace()\n",
    "\n",
    "sentence = \"Madam in Eden, I'm Adam\"\n",
    "\n",
    "..."
   ]
  },
  {
   "cell_type": "markdown",
   "id": "8bc85d05",
   "metadata": {},
   "source": [
    "#### 0.2.1 Iterations with for"
   ]
  },
  {
   "cell_type": "code",
   "execution_count": 13,
   "id": "1e1d414f",
   "metadata": {},
   "outputs": [],
   "source": [
    "# Split the words of this long sentence in a list:\n",
    "a_sentence = \"Any person could, if they were so inclined, be the sculptor of their own brain.\"\n",
    "\n",
    "# now initialize an empty list and append to it only the words that are longer than 3 characters:\n",
    "long_words = []"
   ]
  },
  {
   "cell_type": "code",
   "execution_count": 14,
   "id": "fdd086e1",
   "metadata": {},
   "outputs": [],
   "source": [
    "# Can you do the same operation in one line with a list comprehension?\n",
    "long_words = ..."
   ]
  },
  {
   "cell_type": "code",
   "execution_count": 12,
   "id": "f7eed002",
   "metadata": {},
   "outputs": [
    {
     "data": {
      "text/plain": [
       "[7, 4, 5, 3, 5, 7, 8, 7, 3, 3]"
      ]
     },
     "execution_count": 12,
     "metadata": {},
     "output_type": "execute_result"
    }
   ],
   "source": [
    "# Here we use the function defined above to generate a list of traces for 10 neurons:\n",
    "neurons_traces = [generate_trace(seed=i) for i in range(10)]\n",
    "\n",
    "# Now compute the firing rate for each neuron and put it in a list:\n"
   ]
  },
  {
   "cell_type": "code",
   "execution_count": null,
   "id": "b9d71cae",
   "metadata": {},
   "outputs": [],
   "source": [
    "# Next, compute the average firing rate across all neurons:\n"
   ]
  },
  {
   "cell_type": "code",
   "execution_count": null,
   "id": "75e38951",
   "metadata": {},
   "outputs": [],
   "source": [
    "# Can you do the above operations in one line using a list comprehension?\n"
   ]
  },
  {
   "cell_type": "code",
   "execution_count": null,
   "id": "491d3ed6",
   "metadata": {},
   "outputs": [],
   "source": [
    "# Now store firing rates in a dictionary with keys going from \"neuron_0\" to \"neuron_9\"\n",
    "# You can either use a for loop (after initializing an empty dictionary) \n",
    "# or a dictionary comprehension. \n",
    "# Hint: you can use the `enumerate` function to get both the index and the value of a list.\n",
    "\n"
   ]
  },
  {
   "cell_type": "code",
   "execution_count": null,
   "id": "02e9a149",
   "metadata": {},
   "outputs": [],
   "source": [
    "# Iter over the dictionary keys and values and create a list with the neurons that have a firing rate > 5 Hz:"
   ]
  },
  {
   "cell_type": "code",
   "execution_count": null,
   "id": "9432f913",
   "metadata": {},
   "outputs": [],
   "source": [
    "# The code below is piece of code from a real electrophysiological data analysis script. \n",
    "# Can you understand what it is doing?\n",
    "\n",
    "for "
   ]
  },
  {
   "cell_type": "markdown",
   "id": "58874096",
   "metadata": {},
   "source": [
    "#### 0.2.2 Iterations with `while`"
   ]
  },
  {
   "cell_type": "code",
   "execution_count": null,
   "id": "2398af5f",
   "metadata": {},
   "outputs": [],
   "source": [
    "# Write a while loop over integer numbers that terminates when you encounter a multiple of both 10 and 12."
   ]
  },
  {
   "cell_type": "code",
   "execution_count": 15,
   "id": "5672c982",
   "metadata": {},
   "outputs": [
    {
     "name": "stdout",
     "output_type": "stream",
     "text": [
      "A random int: 10\n"
     ]
    }
   ],
   "source": [
    "# For the next exercise, we will need to generate random numbers. You can create random numbers with the\n",
    "# `random` library, after importing it (we will see `import` in details in the future).\n",
    "import random\n",
    "\n",
    "# To generate random integers between min_val and max_val, we can write:\n",
    "min_val = 2  # number will be >= than min\n",
    "max_val = 10  # number will be <= than max\n",
    "\n",
    "random_int = random.randint(min_val, max_val)\n",
    "print(f\"A random int: {random_int}\")"
   ]
  },
  {
   "cell_type": "code",
   "execution_count": 16,
   "id": "eca1662c",
   "metadata": {},
   "outputs": [
    {
     "name": "stdout",
     "output_type": "stream",
     "text": [
      "A random float: 6.195372263369883\n"
     ]
    }
   ],
   "source": [
    "# To generate random floats between min_val and max_val, we can write:\n",
    "random_float = random.uniform(min_val, max_val)\n",
    "print(f\"A random float: {random_float}\")"
   ]
  },
  {
   "cell_type": "code",
   "execution_count": 17,
   "id": "d0c106bb",
   "metadata": {},
   "outputs": [],
   "source": [
    "# Use random number generators with uniform probability and if conditional to write \n",
    "# a program that prints \"heads\" with probability 1/3 and \"tail\" with probability 2/3:\n"
   ]
  },
  {
   "cell_type": "code",
   "execution_count": null,
   "id": "899b5706",
   "metadata": {},
   "outputs": [],
   "source": [
    "# Create a Netflix session simulator using a while loop and conditionals.\n",
    "\n",
    "# While you are in the binging stream, you\n",
    "#   1) start watching a new episode! Use random.randint to generate a random rating from 1 to 10\n",
    "#   2) If it is a really crappy episode (score < 3 out of 10), you quit the binging loop\n",
    "\n",
    "# Note that the series could potientially have an infinite number of episodes, and you will stop watching\n",
    "# only if the episode is crappy.\n",
    "\n",
    "# At the end, print out the number of episodes watched in a session!\n",
    "\n",
    "\n"
   ]
  },
  {
   "cell_type": "code",
   "execution_count": null,
   "id": "35703d6b",
   "metadata": {},
   "outputs": [],
   "source": [
    "# Now we will improve the simulator adding a cliffhanger effect.\n",
    "# if the episode is really crappy, but there's an big cliffhanger\n",
    "# (probability of a cliffhanger: 1 out of 5), you keep watching anyway!\n",
    "\n",
    "# Rewrite below the while loop, but now define a cliffhanger variable\n",
    "# that is True with probability 1/5 and can make you stay in the loop:"
   ]
  },
  {
   "cell_type": "code",
   "execution_count": null,
   "id": "cc41ec3f",
   "metadata": {},
   "outputs": [],
   "source": [
    "# Use a for loop to run the simulator many times (like, 100? 1000?).\n",
    "# Each time, append to a list the result of the session (the number of episodes watched).\n",
    "n_simulations = 100000\n",
    "\n",
    "n_watched_episodes_list = []\n",
    "\n",
    "\n",
    "for session in range(n_simulations):\n",
    "    ...\n",
    "\n",
    "\n",
    "# Then, use this results list to estimate the probability of watching\n",
    "# more than 15 episodes in a session:"
   ]
  },
  {
   "cell_type": "code",
   "execution_count": null,
   "id": "d84c121c",
   "metadata": {},
   "outputs": [],
   "source": []
  }
 ],
 "metadata": {
  "kernelspec": {
   "display_name": "Python 3 (ipykernel)",
   "language": "python",
   "name": "python3"
  },
  "language_info": {
   "codemirror_mode": {
    "name": "ipython",
    "version": 3
   },
   "file_extension": ".py",
   "mimetype": "text/x-python",
   "name": "python",
   "nbconvert_exporter": "python",
   "pygments_lexer": "ipython3",
   "version": "3.11.6"
  }
 },
 "nbformat": 4,
 "nbformat_minor": 5
}
