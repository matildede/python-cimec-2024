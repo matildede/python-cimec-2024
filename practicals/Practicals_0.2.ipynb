{
 "cells": [
  {
   "cell_type": "markdown",
   "id": "03a44e75",
   "metadata": {},
   "source": [
    "# Practicals for lecture 0.2\n",
    "\n",
    "[![Open In Colab](https://colab.research.google.com/assets/colab-badge.svg)](https://colab.research.google.com/github/vigji/python-cimec-2024/blob/main/practicals/Practicals_0.2.ipynb)"
   ]
  },
  {
   "cell_type": "markdown",
   "id": "2d2a4f38",
   "metadata": {},
   "source": [
    "## Flow control"
   ]
  },
  {
   "cell_type": "markdown",
   "id": "5066fd11",
   "metadata": {},
   "source": [
    "#### 0.2.0 Conditionals with `if`"
   ]
  },
  {
   "cell_type": "code",
   "execution_count": 2,
   "id": "01da4096",
   "metadata": {},
   "outputs": [
    {
     "name": "stdout",
     "output_type": "stream",
     "text": [
      "even\n"
     ]
    }
   ],
   "source": [
    "# Write a program that prints out if a given number is even or odd (tip: use the modulo operator %)\n",
    "\n",
    "number_to_test = 30  # change the value of this variable to test other cases\n",
    "\n",
    "if number_to_test % 2 == 0:\n",
    "    print(\"even\")\n",
    "else:\n",
    "    print(\"odd\")"
   ]
  },
  {
   "cell_type": "code",
   "execution_count": 5,
   "id": "021d9f83",
   "metadata": {},
   "outputs": [
    {
     "name": "stdout",
     "output_type": "stream",
     "text": [
      "Palindrome\n"
     ]
    }
   ],
   "source": [
    "# Write code that checks out if a string is a palindrome, and if it is, prints \"{word} is palindrome!\"\n",
    "# Hint: you can revert a word with an indexing operation specifying negative steps: `[::-1]`\n",
    "\n",
    "word = \"kayak\"\n",
    "\n",
    "if word == word[::-1]:\n",
    "    print(\"Palindrome\")"
   ]
  },
  {
   "cell_type": "code",
   "execution_count": 7,
   "id": "7c86051e",
   "metadata": {},
   "outputs": [],
   "source": [
    "# The code below gives you electrophysiological data \n",
    "# consisting of a list of 0s and 1s, where the ones \n",
    "# correspond to the occurrence of action potentials. \n",
    "# The trace is 1 second long.\n",
    "# (you do not care about the function content right now)\n",
    "def generate_trace(seed=1, trace_len=1000, firing_rate=5):\n",
    "    \"\"\"Generate a list with action potential occurrencies.\"\"\"\n",
    "    import random\n",
    "    random.seed(seed)\n",
    "\n",
    "    return [int(random.randint(0, 1000) < firing_rate) for _ in range(trace_len)]\n",
    "\n",
    "neuron_trace = generate_trace()\n",
    "    \n",
    "# Compute the firing rate i.e. the number of action potentials per second for the neuron:\n",
    "firing_rate = sum(neuron_trace)"
   ]
  },
  {
   "cell_type": "code",
   "execution_count": 13,
   "id": "157f22ff",
   "metadata": {},
   "outputs": [
    {
     "data": {
      "text/plain": [
       "True"
      ]
     },
     "execution_count": 13,
     "metadata": {},
     "output_type": "execute_result"
    }
   ],
   "source": [
    "firing_rate = 6\n",
    "5 < firing_rate < 10"
   ]
  },
  {
   "cell_type": "code",
   "execution_count": 48,
   "id": "deb396af",
   "metadata": {},
   "outputs": [
    {
     "name": "stdout",
     "output_type": "stream",
     "text": [
      "Low firing rate\n"
     ]
    }
   ],
   "source": [
    "# Now print \"high firing rate\" if rate is > 10 Hz, \n",
    "# \"medium firing rate\" if rate is between 5 and 10 Hz, and\n",
    "# \"low firing rate\" if rate is lower than 5 Hz:\n",
    "\n",
    "if firing_rate < 5:\n",
    "    print(\"Low firing rate\")\n",
    "elif firing_rate < 10:  # here we just need one check; if it were < 5 we would not be here in the first place!\n",
    "    print(\"Medium firing rate\")\n",
    "else:\n",
    "    print(\"High firing rate\")"
   ]
  },
  {
   "cell_type": "code",
   "execution_count": 52,
   "id": "af22a93e",
   "metadata": {},
   "outputs": [
    {
     "name": "stdout",
     "output_type": "stream",
     "text": [
      "'Madam in Eden, I'm Adam' is palindrome\n"
     ]
    }
   ],
   "source": [
    "# bonus question: update the above palyndromes exercise to check out the palindromy of full sentences.\n",
    "# Remember to make them lowercase and to first remove the whitespaces.\n",
    "#         You can do this by replacing whitespaces (\" \") with no character (\"\"),\n",
    "#         using the string.replace()\n",
    "\n",
    "sentence = \"Madam in Eden, I'm Adam\"\n",
    "\n",
    "sentence_clean = sentence.lower()  # make all lowercase\n",
    "\n",
    "# Replace white spaces and punctuation in a loop:\n",
    "for punctuation_to_eliminate in [\" \", \",\", \"'\", \".\", \"!\", \"?\"]:\n",
    "    sentence_clean = sentence_clean.replace(punctuation_to_eliminate, \"\")\n",
    "    \n",
    "if sentence_clean == sentence_clean[::-1]:\n",
    "    print(f\"'{sentence}' is palindrome\")"
   ]
  },
  {
   "cell_type": "markdown",
   "id": "8bc85d05",
   "metadata": {},
   "source": [
    "#### 0.2.1 Iterations with for"
   ]
  },
  {
   "cell_type": "code",
   "execution_count": 21,
   "id": "1e1d414f",
   "metadata": {},
   "outputs": [
    {
     "name": "stdout",
     "output_type": "stream",
     "text": [
      "0 Any\n",
      "1 person\n",
      "2 could,\n",
      "3 if\n",
      "4 they\n",
      "5 were\n",
      "6 so\n",
      "7 inclined,\n",
      "8 be\n",
      "9 the\n",
      "10 sculptor\n",
      "11 of\n",
      "12 their\n",
      "13 own\n",
      "14 brain.\n"
     ]
    }
   ],
   "source": [
    "# Split the words of this long sentence in a list:\n",
    "a_sentence = \"Any person could, if they were so inclined, be the sculptor of their own brain.\"\n",
    "word_list = a_sentence.split()\n",
    "\n",
    "# now initialize an empty list and append to it only the words that are longer than 3 characters:\n",
    "long_words = []\n",
    "\n",
    "for i, word in enumerate(word_list):\n",
    "    print(i, word)"
   ]
  },
  {
   "cell_type": "code",
   "execution_count": 22,
   "id": "fdd086e1",
   "metadata": {},
   "outputs": [],
   "source": [
    "# Can you do the same operation in one line with a list comprehension?\n",
    "long_words = [a for a in word_list if len(a) > 3]"
   ]
  },
  {
   "cell_type": "code",
   "execution_count": 33,
   "id": "f7eed002",
   "metadata": {},
   "outputs": [
    {
     "data": {
      "text/plain": [
       "{0, 1}"
      ]
     },
     "execution_count": 33,
     "metadata": {},
     "output_type": "execute_result"
    }
   ],
   "source": [
    "# Here we use the function defined above to generate a list of traces for 10 neurons:\n",
    "neuron_traces = [generate_trace(seed=i) for i in range(10)]\n",
    "\n",
    "# Now compute the firing rate for each neuron and put it in a list:\n",
    "set(neurons_traces[0])"
   ]
  },
  {
   "cell_type": "code",
   "execution_count": 35,
   "id": "b9d71cae",
   "metadata": {},
   "outputs": [
    {
     "data": {
      "text/plain": [
       "5.2"
      ]
     },
     "execution_count": 35,
     "metadata": {},
     "output_type": "execute_result"
    }
   ],
   "source": [
    "# Next, compute the average firing rate across all neurons:\n",
    "firing_rates = []\n",
    "for neuron_trace in neuron_traces:\n",
    "    firing_rates.append(sum(neuron_trace))\n",
    "\n",
    "sum(firing_rates) / len(firing_rates)"
   ]
  },
  {
   "cell_type": "code",
   "execution_count": 37,
   "id": "75e38951",
   "metadata": {},
   "outputs": [
    {
     "data": {
      "text/plain": [
       "5.2"
      ]
     },
     "execution_count": 37,
     "metadata": {},
     "output_type": "execute_result"
    }
   ],
   "source": [
    "# Can you do the above operations in one line using a list comprehension?\n",
    "firing_rates = [sum(neuron_trace) for neuron_trace in neuron_traces]\n",
    "sum(firing_rates) / len(firing_rates)"
   ]
  },
  {
   "cell_type": "code",
   "execution_count": 40,
   "id": "491d3ed6",
   "metadata": {},
   "outputs": [],
   "source": [
    "# Now store firing rates in a dictionary with keys going from \"neuron_0\" to \"neuron_9\"\n",
    "# You can either use a for loop (after initializing an empty dictionary) \n",
    "# or a dictionary comprehension. \n",
    "# Hint: you can use the `enumerate` function to get both the index and the value of a list.\n",
    "\n",
    "firing_rates_dict = {}\n",
    "\n",
    "for i, neuron_trace in enumerate(neuron_traces):\n",
    "    key = \"neuron_\" + str(i)  # f\"neuron_{i}\"\n",
    "    firing_rates_dict[key] = sum(neuron_trace)\n",
    "firing_rates_dict\n",
    "\n",
    "firing_rates_dict = {f\"neuron_{i}\": sum(neuron_trace) \n",
    "                       for i, neuron_trace in enumerate(neuron_traces)}"
   ]
  },
  {
   "cell_type": "code",
   "execution_count": 44,
   "id": "02e9a149",
   "metadata": {},
   "outputs": [
    {
     "data": {
      "text/plain": [
       "True"
      ]
     },
     "execution_count": 44,
     "metadata": {},
     "output_type": "execute_result"
    }
   ],
   "source": [
    "# Iter over the dictionary keys and values and create a list with the neurons that have a firing rate > 5 Hz:\n",
    "\n",
    "high_firing_rate_list = []\n",
    "for neuron_id, firing_rate in firing_rates_dict.items():\n",
    "    if firing_rate > 5:\n",
    "        high_firing_rate_list.append(neuron_id)\n",
    "\n",
    "high_firing_rate_list\n",
    "# Check if neuron_5 is in that list:\n",
    "\n",
    "\"neuron_5\" in high_firing_rate_list"
   ]
  }
 ],
 "metadata": {
  "kernelspec": {
   "display_name": "Python 3 (ipykernel)",
   "language": "python",
   "name": "python3"
  },
  "language_info": {
   "codemirror_mode": {
    "name": "ipython",
    "version": 3
   },
   "file_extension": ".py",
   "mimetype": "text/x-python",
   "name": "python",
   "nbconvert_exporter": "python",
   "pygments_lexer": "ipython3",
   "version": "3.11.6"
  }
 },
 "nbformat": 4,
 "nbformat_minor": 5
}
