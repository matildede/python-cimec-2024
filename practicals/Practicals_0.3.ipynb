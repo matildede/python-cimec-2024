{
 "cells": [
  {
   "cell_type": "markdown",
   "id": "03a44e75",
   "metadata": {},
   "source": [
    "# Practicals for lecture 0.3\n",
    "\n",
    "[![Open In Colab](https://colab.research.google.com/assets/colab-badge.svg)](https://colab.research.google.com/github/vigji/python-cimec-2024/blob/main/practicals/Practicals_0.3.ipynb)"
   ]
  },
  {
   "cell_type": "markdown",
   "id": "2d2a4f38",
   "metadata": {},
   "source": [
    "## Control structures"
   ]
  },
  {
   "cell_type": "markdown",
   "id": "58874096",
   "metadata": {},
   "source": [
    "#### 0.2.2 Iterations with `while`"
   ]
  },
  {
   "cell_type": "code",
   "execution_count": null,
   "id": "2398af5f",
   "metadata": {},
   "outputs": [],
   "source": [
    "# Write a while loop over integer numbers incrementing the i \n",
    "# variably by one at every iteration, and stop when i\n",
    "# is a multiple of both 10 and 12:"
   ]
  },
  {
   "cell_type": "code",
   "execution_count": null,
   "id": "5672c982",
   "metadata": {},
   "outputs": [],
   "source": [
    "# For the next exercise, we will need to generate random numbers. \n",
    "# You can produce random numbers with the `random` library, \n",
    "# after importing it (we will see `import` in details in the future).\n",
    "import random\n",
    "\n",
    "min_val = 2  # generated number will be >= than this min_val\n",
    "max_val = 10  # generated number will be <= than this max_val\n",
    "\n",
    "# To generate random integers between min_val and max_val, we can write:\n",
    "random_int = random.randint(min_val, max_val)\n",
    "print(f\"A random int: {random_int}\")\n",
    "\n",
    "# To generate random floats between min_val and max_val, we can write:\n",
    "random_float = random.uniform(min_val, max_val)\n",
    "print(f\"A random float: {random_float}\")"
   ]
  },
  {
   "cell_type": "code",
   "execution_count": null,
   "id": "d0c106bb",
   "metadata": {},
   "outputs": [],
   "source": [
    "# Use random number generators with uniform probability and if conditional to write \n",
    "# a program that prints \"heads\" with probability 1/3 and \"tail\" with probability 2/3:\n"
   ]
  },
  {
   "cell_type": "code",
   "execution_count": null,
   "id": "899b5706",
   "metadata": {},
   "outputs": [],
   "source": [
    "# Create a Netflix session simulator using a while loop and conditionals.\n",
    "\n",
    "# While you are in the binging stream, you\n",
    "#   1) start watching a new episode! Use random.randint to generate a random rating from 1 to 10\n",
    "#   2) If it is a really crappy episode (score < 3 out of 10), you quit the binging loop\n",
    "\n",
    "# Note that the series could potientially have an infinite number of episodes, and you will stop watching\n",
    "# only if the episode is crappy.\n",
    "\n",
    "# At the end, print out the number of episodes watched in a session!\n",
    "\n",
    "\n"
   ]
  },
  {
   "cell_type": "code",
   "execution_count": null,
   "id": "35703d6b",
   "metadata": {},
   "outputs": [],
   "source": [
    "# Now we will improve the simulator adding a cliffhanger effect.\n",
    "# if the episode is really crappy, but there's an big cliffhanger\n",
    "# (probability of a cliffhanger: 1 out of 5), you keep watching anyway!\n",
    "\n",
    "# Rewrite below the while loop, but now define a cliffhanger variable.\n",
    "# that is True with probability 1/5 and can make you stay in the loop:"
   ]
  },
  {
   "cell_type": "code",
   "execution_count": null,
   "id": "cc41ec3f",
   "metadata": {},
   "outputs": [],
   "source": [
    "# Use a for loop to run the simulator many times (like, 100? 1000?)\n",
    "# Each time, append to a list the result of the session (the number of episodes watched).\n",
    "n_simulations = 1000\n",
    "\n",
    "n_watched_episodes_list = []\n",
    "\n",
    "\n",
    "for session in range(n_simulations):\n",
    "    ...\n",
    "\n",
    "\n",
    "# Then, use this results list to estimate the probability of watching\n",
    "# more than 15 episodes in a session:"
   ]
  },
  {
   "cell_type": "markdown",
   "id": "290245a9",
   "metadata": {},
   "source": [
    "#### 0.3.1 Functions"
   ]
  },
  {
   "cell_type": "code",
   "execution_count": null,
   "id": "a1e0f179",
   "metadata": {},
   "outputs": [],
   "source": [
    "# Write a function that calculates the perimeter of an arbitrary polygon!\n",
    "# We can describe any polygon with a list of the coordinates of its vertices.\n",
    "\n",
    "# Write a function that takes as input a list of coordinates (each element\n",
    "# should be a list - or tuple! - containing two numbers, position over x and y),\n",
    "# and returns the perimeter of the polygon described by those vertices!\n",
    "# Hint: divide this operation over two functions: one to calculate the distances \n",
    "# between a polygon's vertices, the other to...\"   \n",
    "\n",
    "# Test it on a simple shape like a square to check if the solution is correct.\n",
    "\n",
    "square_coordinates = [(0, 0), (1, 0), (1, 1), (0, 1), (0, 0)]\n",
    "\n",
    "\n",
    "def pairwise_distance(point1, point2):\n",
    "    ...\n",
    "\n",
    "\n",
    "def polygon_perimeter(coordinates):\n",
    "    ...\n",
    "...\n"
   ]
  },
  {
   "cell_type": "code",
   "execution_count": null,
   "id": "2b00072d-df45-4cb7-8e0a-7b68e3e4605d",
   "metadata": {
    "tags": []
   },
   "outputs": [],
   "source": [
    "# ADVANCED: if you finished early all exercises below, and want a further challenge, you can try to:\n",
    "# 1) Write another function to calculate the polygon's area\n",
    "\n",
    "# 2) Apply the concept of distance to something more complex than plain geometry. \n",
    "#    Can you write a function that computes pairwise distances between points in spaces of an arbitrary \n",
    "#    number of dimensions?\n",
    "\n",
    "# 3) Write a function that returns the pairwise distance matrix across all pairs of points\n",
    "#    in a list of points that is passed as the argument. Make sure it works for points in spaces\n",
    "#    with an arbitrary number of dimensions.\n"
   ]
  },
  {
   "cell_type": "code",
   "execution_count": null,
   "id": "25918a37",
   "metadata": {
    "tags": []
   },
   "outputs": [],
   "source": [
    "# Write a function that takes as input a list, and returnes a Z-scored version of it\n",
    "# (z-scoring means trasforming so to have mean 0 and standard dev. 1).\n",
    "# Do not import functions from modules! \n",
    "# To do so, we will split the code over multiple functions:\n",
    "\n",
    "data_list = [2.1, 1.3, 4, 0.5, 2.7, 3.1]\n",
    "\n",
    "\n",
    "def mean(a_list):\n",
    "    \"\"\"Compute the mean of a list.\"\"\"\n",
    "    ...\n",
    "\n",
    "\n",
    "def std(a_list):\n",
    "    \"\"\"Compute the standard dev of a list.\"\"\"\n",
    "    ...\n",
    "\n",
    "\n",
    "def z_score(a_list):\n",
    "    \"\"\"Z-score a list.\"\"\"\n",
    "    ...\n"
   ]
  },
  {
   "cell_type": "code",
   "execution_count": null,
   "id": "c281f5bc-0ed4-4720-8aa1-9ec079618008",
   "metadata": {},
   "outputs": [],
   "source": [
    "# ADVANCED: if you finished early all exercises below, and want a further challenge, you can try to:\n",
    "# 1) Write another function to generate a list of random data points \n",
    "# (i.e., fill up the 'data_list' variable above\n",
    "#    with random values instead of manually inserted values)\n",
    "\n",
    "\n",
    "# 2) Write another function that generates random values from one of \n",
    "# several distributions (e.g., Normal, uniform, etc.), depending on \n",
    "# an input you provide it with (imagine it being a string with the distribution name,\n",
    "# and maybe the number of datapoints you want to generate).\n",
    "# Make sure you generate the right number of random values and return them in some data container form"
   ]
  },
  {
   "cell_type": "code",
   "execution_count": null,
   "id": "ab241ffd",
   "metadata": {},
   "outputs": [],
   "source": [
    "# Write a function that takes a string as an argument, \n",
    "# and returns a new list\n",
    "# where all words that are longer than 6 characters \n",
    "# are replaced with \"###\".\n",
    "# Hint: remember what we did in the practical \n",
    "# 0.1.4 to preprocess the string!\n",
    "\n",
    "# !! Important: make sure you do not change the original \n",
    "# string when calling the function!\n",
    "\n",
    "example_input = \"Like the entomologist in search of colorful butterflies, my attention has chased in the gardens of the grey matter cells with delicate and elegant shapes, the mysterious butterflies of the soul, whose beating of wings may one day reveal to us the secrets of the mind.\"\n",
    "\n",
    "\n",
    "def redact_long_words(text):\n",
    "    \"\"\"Redact long words out of a piece of text.\n",
    "\n",
    "    Parameters:\n",
    "        text : str\n",
    "            The text to redact\n",
    "\n",
    "    Returns:\n",
    "        str : The redacted text\n",
    "\n",
    "    \"\"\"\n",
    "\n",
    "    ...\n",
    "\n"
   ]
  },
  {
   "cell_type": "code",
   "execution_count": null,
   "id": "8d1d81fa",
   "metadata": {},
   "outputs": [],
   "source": [
    "# Encapsulate the Netflix session generator\n",
    "# (just the code to simulate a single session)\n",
    "# inside a function that takes as arguments \n",
    "# all the parameters (probability, cliffhanger probability, etc.)\n",
    "# and returns the number of watched episodes.\n",
    "\n",
    "# Define it in a way that the cliffhanger effect can be inactivated in\n",
    "# the simulation if the cliffhanger_prob argument is set to None:\n",
    "\n",
    "import random\n",
    "\n",
    "\n",
    "def netflix_simulator(\n",
    "    episodes_n=15, max_score=10, crappiness_threshold=3, cliffhanger_prob=0.2\n",
    "):\n",
    "    \"\"\"Simulate a session of Netflix binging.\n",
    "    \"\"\"\n",
    "    ...\n",
    "\n",
    "\n",
    "netflix_simulator()"
   ]
  },
  {
   "cell_type": "code",
   "execution_count": null,
   "id": "58e9ce9d",
   "metadata": {},
   "outputs": [],
   "source": [
    "# Go over all the previously defined functions and \n",
    "# make sure they stick to the principles we have\n",
    "# been introducing:\n",
    "#  - meaningful variable names\n",
    "#  - no magic numbers\n",
    "#  - non-duplicated, readable code\n",
    "#\n",
    "# Make also sure all functions have an informative docstring \n",
    "# that describes parameters and output!"
   ]
  }
 ],
 "metadata": {
  "kernelspec": {
   "display_name": "Python 3 (ipykernel)",
   "language": "python",
   "name": "python3"
  },
  "language_info": {
   "codemirror_mode": {
    "name": "ipython",
    "version": 3
   },
   "file_extension": ".py",
   "mimetype": "text/x-python",
   "name": "python",
   "nbconvert_exporter": "python",
   "pygments_lexer": "ipython3",
   "version": "3.11.6"
  }
 },
 "nbformat": 4,
 "nbformat_minor": 5
}
