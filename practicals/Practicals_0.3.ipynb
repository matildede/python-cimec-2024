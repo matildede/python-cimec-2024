{
 "cells": [
  {
   "cell_type": "markdown",
   "id": "03a44e75",
   "metadata": {},
   "source": [
    "# Practicals for lecture 0.3\n",
    "\n",
    "[![Open In Colab](https://colab.research.google.com/assets/colab-badge.svg)](https://colab.research.google.com/github/vigji/python-cimec-2024/blob/main/practicals/Practicals_0.3.ipynb)"
   ]
  },
  {
   "cell_type": "markdown",
   "id": "2d2a4f38",
   "metadata": {},
   "source": [
    "## Control structures"
   ]
  },
  {
   "cell_type": "markdown",
   "id": "58874096",
   "metadata": {},
   "source": [
    "#### 0.2.2 Iterations with `while`"
   ]
  },
  {
   "cell_type": "code",
   "execution_count": null,
   "id": "2398af5f",
   "metadata": {},
   "outputs": [],
   "source": [
    "# Write a while loop over integer numbers incrementing the i \n",
    "# variably by one at every iteration, and stop when i\n",
    "# is a multiple of both 10 and 12:"
   ]
  },
  {
   "cell_type": "code",
   "execution_count": 2,
   "id": "5672c982",
   "metadata": {},
   "outputs": [
    {
     "name": "stdout",
     "output_type": "stream",
     "text": [
      "A random int: 6\n",
      "A random float: 7.205662869270972\n"
     ]
    }
   ],
   "source": [
    "# For the next exercise, we will need to generate random numbers. \n",
    "# You can produce random numbers with the `random` library, \n",
    "# after importing it (we will see `import` in details in the future).\n",
    "import random\n",
    "\n",
    "min_val = 2  # generated number will be >= than this min_val\n",
    "max_val = 10  # generated number will be <= than this max_val\n",
    "\n",
    "# To generate random integers between min_val and max_val, we can write:\n",
    "random_int = random.randint(min_val, max_val)\n",
    "print(f\"A random int: {random_int}\")\n",
    "\n",
    "# To generate random floats between min_val and max_val, we can write:\n",
    "random_float = random.uniform(min_val, max_val)\n",
    "print(f\"A random float: {random_float}\")"
   ]
  },
  {
   "cell_type": "code",
   "execution_count": 3,
   "id": "d0c106bb",
   "metadata": {},
   "outputs": [
    {
     "name": "stdout",
     "output_type": "stream",
     "text": [
      "tail\n"
     ]
    }
   ],
   "source": [
    "# Use random number generators with uniform probability and if conditional to write \n",
    "# a program that prints \"heads\" with probability 1/3 and \"tail\" with probability 2/3:\n",
    "\n",
    "p_heads = 1/3\n",
    "random_num = random.uniform(0, 1)\n",
    "\n",
    "if random_num < p_heads:\n",
    "    print(\"heads\")\n",
    "else:\n",
    "    print(\"tail\")"
   ]
  },
  {
   "cell_type": "code",
   "execution_count": 13,
   "id": "899b5706",
   "metadata": {},
   "outputs": [
    {
     "name": "stdout",
     "output_type": "stream",
     "text": [
      "2\n"
     ]
    }
   ],
   "source": [
    "# Create a Netflix session simulator using a while loop and conditionals.\n",
    "\n",
    "# While you are in the binging stream, you\n",
    "#   1) start watching a new episode! Use random.randint to generate a random rating from 1 to 10\n",
    "#   2) If it is a really crappy episode (score < 3 out of 10), you quit the binging loop\n",
    "\n",
    "# Note that the series could potientially have an infinite number of episodes, and you will stop watching\n",
    "# only if the episode is crappy.\n",
    "\n",
    "# At the end, print out the number of episodes watched in a session!\n",
    "crappiness_thr = 3\n",
    "episodes_count = 0\n",
    "while True:\n",
    "    episodes_count += 1 # add one to the count\n",
    "    episode_rating = random.randint(0, 10)\n",
    "    \n",
    "    if episode_rating < crappiness_thr:\n",
    "        break\n",
    "        \n",
    "print(episodes_count)\n"
   ]
  },
  {
   "cell_type": "code",
   "execution_count": 22,
   "id": "35703d6b",
   "metadata": {},
   "outputs": [
    {
     "name": "stdout",
     "output_type": "stream",
     "text": [
      "3\n"
     ]
    }
   ],
   "source": [
    "# Now we will improve the simulator adding a cliffhanger effect.\n",
    "# if the episode is really crappy, but there's an big cliffhanger\n",
    "# (probability of a cliffhanger: 1 out of 5), you keep watching anyway!\n",
    "\n",
    "# Rewrite below the while loop, but now define a cliffhanger variable.\n",
    "# that is True with probability 1/5 and can make you stay in the loop:\n",
    "\n",
    "crappiness_thr = 3\n",
    "cliffhanger_p = 1/5\n",
    "episodes_count = 0\n",
    "while True:\n",
    "    episodes_count += 1 # add one to the count\n",
    "    episode_rating = random.randint(0, 10)\n",
    "    cliffhanger = random.uniform(0, 1) < cliffhanger_p  # this is True with p < 1/5 (see exercise above)\n",
    "    if episode_rating < crappiness_thr and not cliffhanger:\n",
    "        break\n",
    "        \n",
    "print(episodes_count)"
   ]
  },
  {
   "cell_type": "code",
   "execution_count": 36,
   "id": "cc41ec3f",
   "metadata": {},
   "outputs": [
    {
     "data": {
      "text/plain": [
       "0.029"
      ]
     },
     "execution_count": 36,
     "metadata": {},
     "output_type": "execute_result"
    }
   ],
   "source": [
    "# Use a for loop to run the simulator many times (like, 100? 1000?)\n",
    "# Each time, append to a list the result of the session (the number of episodes watched).\n",
    "n_simulations = 1000\n",
    "crappiness_thr = 3\n",
    "cliffhanger_p = 1/5\n",
    "\n",
    "n_watched_episodes_list = []\n",
    "\n",
    "\n",
    "for session in range(n_simulations):\n",
    "    episodes_count = 0\n",
    "    while True:\n",
    "        episodes_count += 1 # add one to the count\n",
    "        episode_rating = random.randint(0, 10)\n",
    "        cliffhanger = random.uniform(0, 1) < cliffhanger_p  # this is True with p < 1/5 (see exercise above)\n",
    "        if episode_rating < crappiness_thr and not cliffhanger:\n",
    "            break\n",
    "            \n",
    "    n_watched_episodes_list.append(episodes_count)\n",
    "\n",
    "\n",
    "# Then, use this results list to estimate the probability of watching\n",
    "# more than 15 episodes in a session:\n",
    "p = sum([count > 15 for count in n_watched_episodes_list]) / len(n_watched_episodes_list)\n",
    "p"
   ]
  },
  {
   "cell_type": "code",
   "execution_count": null,
   "id": "95443cab",
   "metadata": {},
   "outputs": [],
   "source": []
  }
 ],
 "metadata": {
  "kernelspec": {
   "display_name": "Python 3 (ipykernel)",
   "language": "python",
   "name": "python3"
  },
  "language_info": {
   "codemirror_mode": {
    "name": "ipython",
    "version": 3
   },
   "file_extension": ".py",
   "mimetype": "text/x-python",
   "name": "python",
   "nbconvert_exporter": "python",
   "pygments_lexer": "ipython3",
   "version": "3.11.6"
  }
 },
 "nbformat": 4,
 "nbformat_minor": 5
}
