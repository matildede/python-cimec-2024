{
 "cells": [
  {
   "cell_type": "markdown",
   "id": "03a44e75",
   "metadata": {},
   "source": [
    "# Practicals for lecture 0.3\n",
    "\n",
    "[![Open In Colab](https://colab.research.google.com/assets/colab-badge.svg)](https://colab.research.google.com/github/vigji/python-cimec-2024/blob/main/practicals/Practicals_0.3.ipynb)"
   ]
  },
  {
   "cell_type": "markdown",
   "id": "2d2a4f38",
   "metadata": {},
   "source": [
    "## Control structures"
   ]
  },
  {
   "cell_type": "markdown",
   "id": "58874096",
   "metadata": {},
   "source": [
    "#### 0.2.2 Iterations with `while`"
   ]
  },
  {
   "cell_type": "code",
   "execution_count": null,
   "id": "2398af5f",
   "metadata": {},
   "outputs": [],
   "source": [
    "# Write a while loop over integer numbers incrementing the i \n",
    "# variably by one at every iteration, and stop when i\n",
    "# is a multiple of both 10 and 12:"
   ]
  },
  {
   "cell_type": "code",
   "execution_count": 2,
   "id": "5672c982",
   "metadata": {},
   "outputs": [
    {
     "name": "stdout",
     "output_type": "stream",
     "text": [
      "A random int: 4\n"
     ]
    }
   ],
   "source": [
    "# For the next exercise, we will need to generate random numbers. \n",
    "# You can produce random numbers with the `random` library, \n",
    "# after importing it (we will see `import` in details in the future).\n",
    "import random\n",
    "\n",
    "min_val = 2  # generated number will be >= than this min_val\n",
    "max_val = 10  # generated number will be <= than this max_val\n",
    "\n",
    "# To generate random integers between min_val and max_val, we can write:\n",
    "random_int = random.randint(min_val, max_val)\n",
    "print(f\"A random int: {random_int}\")\n",
    "\n",
    "# To generate random floats between min_val and max_val, we can write:\n",
    "random_float = random.uniform(min_val, max_val)\n",
    "print(f\"A random float: {random_float}\")"
   ]
  },
  {
   "cell_type": "code",
   "execution_count": 17,
   "id": "d0c106bb",
   "metadata": {},
   "outputs": [],
   "source": [
    "# Use random number generators with uniform probability and if conditional to write \n",
    "# a program that prints \"heads\" with probability 1/3 and \"tail\" with probability 2/3:\n"
   ]
  },
  {
   "cell_type": "code",
   "execution_count": null,
   "id": "899b5706",
   "metadata": {},
   "outputs": [],
   "source": [
    "# Create a Netflix session simulator using a while loop and conditionals.\n",
    "\n",
    "# While you are in the binging stream, you\n",
    "#   1) start watching a new episode! Use random.randint to generate a random rating from 1 to 10\n",
    "#   2) If it is a really crappy episode (score < 3 out of 10), you quit the binging loop\n",
    "\n",
    "# Note that the series could potientially have an infinite number of episodes, and you will stop watching\n",
    "# only if the episode is crappy.\n",
    "\n",
    "# At the end, print out the number of episodes watched in a session!\n",
    "\n",
    "\n"
   ]
  },
  {
   "cell_type": "code",
   "execution_count": null,
   "id": "35703d6b",
   "metadata": {},
   "outputs": [],
   "source": [
    "# Now we will improve the simulator adding a cliffhanger effect.\n",
    "# if the episode is really crappy, but there's an big cliffhanger\n",
    "# (probability of a cliffhanger: 1 out of 5), you keep watching anyway!\n",
    "\n",
    "# Rewrite below the while loop, but now define a cliffhanger variable.\n",
    "# that is True with probability 1/5 and can make you stay in the loop:"
   ]
  },
  {
   "cell_type": "code",
   "execution_count": null,
   "id": "cc41ec3f",
   "metadata": {},
   "outputs": [],
   "source": [
    "# Use a for loop to run the simulator many times (like, 100? 1000?)\n",
    "# Each time, append to a list the result of the session (the number of episodes watched).\n",
    "n_simulations = 1000\n",
    "\n",
    "n_watched_episodes_list = []\n",
    "\n",
    "\n",
    "for session in range(n_simulations):\n",
    "    ...\n",
    "\n",
    "\n",
    "# Then, use this results list to estimate the probability of watching\n",
    "# more than 15 episodes in a session:"
   ]
  },
  {
   "cell_type": "markdown",
   "id": "290245a9",
   "metadata": {},
   "source": [
    "#### 0.3.1 Functions"
   ]
  },
  {
   "cell_type": "code",
   "execution_count": null,
   "id": "a1e0f179",
   "metadata": {},
   "outputs": [],
   "source": [
    "# Write a function that calculates the perimeter of an arbitrary polygon!\n",
    "# We can describe any polygon with a list of the coordinates of its vertices.\n",
    "\n",
    "# Write a function that takes as input a list of coordinates (each element\n",
    "# should be a list - or tuple! - containing two numbers, position over x and y),\n",
    "# and returns the perimeter of the polygon described by those vertices!\n",
    "# Hint: devide this operation over two functions: one to calculate pairwise distances,\n",
    "# the other for getting the perimeter.\n",
    "\n",
    "################################################################ MATTEO'S TIP #############################################################################\n",
    "# I think \"pairwise distances\" is confusing because it suggests that you want the distances between all pairs in the set of coordinates, \n",
    "# while you actually want the distances that make geometrical sense for a polygon's perimeter (i.e., you don't want to calculate diagonals).\n",
    "# I would change this into \"divide this operation over two functions: one to calculate the distances between a polygon's vertices, the other to...\"   \n",
    "# \n",
    "# Also, last year you proposed this solution:\n",
    "#\n",
    "# def polygon_perimeter(coordinates):\n",
    "#   side_lengths = []\n",
    "#   for point1, point2 in zip(coordinates[::-1], coordinates):                    \n",
    "#     side_length = ( (point2[0]-point1[0])**2 + (point2[1]-point1[1])**2 )**(1/2)\n",
    "#     side_lengths.append(side_length)\n",
    "#   perimeter = sum(side_lengths)\n",
    "#   return perimeter\n",
    "# \n",
    "# But I think it calculates the length of the same side twice. This is OK for a square or rhombus (where all sides are equal), but it doesn't work for any\n",
    "# other polygon (correct me if I'm wrong). The following solution is certainly less pythonic, but more generalisable. No?\n",
    "#\n",
    "# def polygon_perimeter(coordinates):\n",
    "#   side_lengths = []\n",
    "#   for side_number, _ in enumerate(coordinates):\n",
    "#     try:\n",
    "#       x1 = coordinates[side_number][0]    # at every iteration, (x1,y1) is the currently visited element, while (x2,y2) is the one after it\n",
    "#       y1 = coordinates[side_number][1]\n",
    "#       x2 = coordinates[side_number+1][0]\n",
    "#       y2 = coordinates[side_number+1][1]\n",
    "#     except IndexError:                    # this will break at the last iteration, so let (x2,y2) be the first element \n",
    "#       x1 = coordinates[side_number][0]\n",
    "#       y1 = coordinates[side_number][1] \n",
    "#       x2 = coordinates[0][0]\n",
    "#       y2 = coordinates[0][1]\n",
    "#     side_length = ( (x2-x1)**2 + (y2-y1)**2 )**(1/2)\n",
    "#     side_lengths.append(side_length)\n",
    "#   perimeter = sum(side_lengths)\n",
    "#   return perimeter\n",
    "# \n",
    "# If I'm right, you could either propose the more \"cumbersome\" solution rightaway, or propose your pythonic solution for the square/rhombus case, then\n",
    "# propose an ADVANCED exercise where you ask people to write something that works for arbitrary polygons.\n",
    "#############################################################################################################################################################\n",
    "\n",
    "# Test it on a simple shape like a square to check if the solution is correct.\n",
    "\n",
    "square_coordinates = [(0, 0), (1, 0), (1, 1), (0, 1), (0, 0)]\n",
    "\n",
    "\n",
    "def pairwise_distance(point1, point2):\n",
    "    ...\n",
    "\n",
    "\n",
    "def polygon_perimeter(coordinates):\n",
    "    ...\n",
    "...\n",
    "\n",
    "############################################################## MATTEO'S PROPOSAL ###############################################################\n",
    "\n",
    "# ADVANCED: if you finished early and want a further challenge, you can try to:\n",
    "# 1) Write another function to calculate the polygon's area\n",
    "# 2) Apply the concept of distance to something more complex than plain geometry. \n",
    "#    For example, you could think of (x,y) as points of a neuroscience dataset, where x is a subject's age and \n",
    "#    y is her hippocampal volume. \n",
    "#    Let's assume that there exists an optimal hippocampal volume for any given age, which you can define arbitrarily.\n",
    "#    For each subject in your dataset, calculate the distance from the optimal hippocampal volume at her age, then print \"Healthy\" if the \n",
    "#    distance is smaller than an arbitrary threshold, \"Probably pathological\" otherwise\n",
    "# 3) Write a function to generate arbitrary coordinates for a polygon. When doing so, keep in mind that:\n",
    "#    3.1) the function should return a list of (x,y) tuples, as in the 'square_coordinates' variable above\n",
    "#    3.2) in principle, coordinates could be random\n",
    "#    3.3) however, coordinates cannot have any possible value. ask yourself:\n",
    "#           - can they be negative? (answer: yes)\n",
    "#           - can they be non-integer? (answer:  no)\n",
    "#           - in any (x,y) pair, is it admissible that x=y? (answer: yes)\n",
    "#           - given two pairs of coordinates, (x1,y1) and (x2,y2), is it admissible that x1=x2 and/or y1=y2? yes/no (answer: either x1=x2 or y1=y2)\n",
    "#    3.4) in practice, would random coordinates violate any of the above constraints, e.g., could you end up \n",
    "#         with a non-integer coordinate or with two equal coordinate pairs? \n",
    "#         answer: depends on the distribution you draw from. if you draw integers uniformly (e.g., from 'random.randint()') the chances are so low\n",
    "#         they're not worth the worry. this question is just for the sake of thinking about what 'random' methods do and pushing people to read the\n",
    "#         docs "
   ]
  },
  {
   "cell_type": "code",
   "execution_count": null,
   "id": "25918a37",
   "metadata": {},
   "outputs": [],
   "source": [
    "# Write a function that takes as input a list, and returnes a Z-scored version of it\n",
    "# (z-scoring means trasforming so to have mean 0 and standard dev. 1).\n",
    "# Do not import functions from modules! \n",
    "# To do so, we will split the code over multiple functions:\n",
    "\n",
    "data_list = [2.1, 1.3, 4, 0.5, 2.7, 3.1]\n",
    "\n",
    "\n",
    "def mean(a_list):\n",
    "    \"\"\"Compute the mean of a list.\"\"\"\n",
    "    ...\n",
    "\n",
    "\n",
    "def std(a_list):\n",
    "    \"\"\"Compute the standard dev of a list.\"\"\"\n",
    "    ...\n",
    "\n",
    "\n",
    "def z_score(a_list):\n",
    "    \"\"\"Z-score a list.\"\"\"\n",
    "    ...\n",
    "\n",
    "########################################################### MATTEO'S PROPOSAL ############################################################ \n",
    "\n",
    "# ADVANCED: if you finished early and want a further challenge, you can try to:\n",
    "# 1) Write another function to generate a list of random data points (i.e., fill up the 'data_list' variable\n",
    "#    with random values instead of manually inserted values)\n",
    "# 2) Write another function that generates random values from one of several distributions (e.g., Normal, uniform, etc.), depending on \n",
    "#    the input you provide it with. Make sure you generate many random values and store them in some container that you could use for \n",
    "#    later analyses, as if you were simulating data that you could test actual analysis code on"
   ]
  },
  {
   "cell_type": "code",
   "execution_count": null,
   "id": "ab241ffd",
   "metadata": {},
   "outputs": [],
   "source": [
    "# Write a function that takes a string as an argument, \n",
    "# and returns a new list\n",
    "# where all words that are longer than 6 characters \n",
    "# are replaced with \"###\".\n",
    "# Hint: remember what we did in the practical \n",
    "# 0.1.4 to preprocess the string!\n",
    "\n",
    "# !! Important: make sure you do not change the original \n",
    "# string when calling the function!\n",
    "\n",
    "example_input = \"Like the entomologist in search of colorful butterflies, my attention has chased in the gardens of the grey matter cells with delicate and elegant shapes, the mysterious butterflies of the soul, whose beating of wings may one day reveal to us the secrets of the mind.\"\n",
    "\n",
    "\n",
    "def redact_long_words(text):\n",
    "    \"\"\"Redact long words out of a piece of text.\n",
    "\n",
    "    Parameters:\n",
    "        text : str\n",
    "            The text to redact\n",
    "\n",
    "    Returns:\n",
    "        str : The redacted text\n",
    "\n",
    "    \"\"\"\n",
    "\n",
    "    ...\n",
    "\n"
   ]
  },
  {
   "cell_type": "code",
   "execution_count": null,
   "id": "8d1d81fa",
   "metadata": {},
   "outputs": [],
   "source": [
    "# Encapsulate the Netflix session generator\n",
    "# (just the code to simulate a single session)\n",
    "# inside a function that takes as arguments \n",
    "# all the parameters (probability, cliffhanger probability, etc.)\n",
    "# and returns the number of watched episodes.\n",
    "\n",
    "# Define it in a way that the cliffhanger effect can be inactivated in\n",
    "# the simulation if the cliffhanger_prob argument is set to None:\n",
    "\n",
    "import random\n",
    "\n",
    "\n",
    "def netflix_simulator(\n",
    "    episodes_n=15, max_score=10, crappiness_threshold=3, cliffhanger_prob=0.2\n",
    "):\n",
    "    \"\"\"Simulate a session of Netflix binging.\n",
    "    \"\"\"\n",
    "    ...\n",
    "\n",
    "\n",
    "netflix_simulator()"
   ]
  },
  {
   "cell_type": "code",
   "execution_count": null,
   "id": "58e9ce9d",
   "metadata": {},
   "outputs": [],
   "source": [
    "# Go over all the previously defined functions and \n",
    "# make sure they stick to the principles we have\n",
    "# been introducing:\n",
    "#  - meaningful variable names\n",
    "#  - no magic numbers\n",
    "#  - non-duplicated, readable code\n",
    "#\n",
    "# Make also sure all functions have an informative docstring \n",
    "# that describes parameters and output!"
   ]
  }
 ],
 "metadata": {
  "kernelspec": {
   "display_name": "Python 3 (ipykernel)",
   "language": "python",
   "name": "python3"
  },
  "language_info": {
   "codemirror_mode": {
    "name": "ipython",
    "version": 3
   },
   "file_extension": ".py",
   "mimetype": "text/x-python",
   "name": "python",
   "nbconvert_exporter": "python",
   "pygments_lexer": "ipython3",
   "version": "3.9.18"
  }
 },
 "nbformat": 4,
 "nbformat_minor": 5
}
